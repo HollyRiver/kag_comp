{
 "cells": [
  {
   "cell_type": "markdown",
   "id": "992706d4-fe3b-4647-b595-a077fbe7f219",
   "metadata": {},
   "source": [
    "## 1. Imports"
   ]
  },
  {
   "cell_type": "code",
   "execution_count": 1,
   "id": "634b5eef-78c5-418b-8be9-a9af71afe668",
   "metadata": {},
   "outputs": [],
   "source": [
    "import pandas as pd\n",
    "import numpy as np\n",
    "import numba as nb\n",
    "import polars as pl\n",
    "\n",
    "import pickle\n",
    "import gc\n",
    "\n",
    "import catboost\n",
    "from sklearn.model_selection import KFold, cross_val_score\n",
    "\n",
    "import warnings\n",
    "warnings.filterwarnings('ignore')"
   ]
  },
  {
   "cell_type": "markdown",
   "id": "6794a350-8c73-4967-a17a-a1b4c53c1a2a",
   "metadata": {},
   "source": [
    "## 2. Data"
   ]
  },
  {
   "cell_type": "code",
   "execution_count": 2,
   "id": "0901fda7-11fe-4fb3-8442-972828c476e0",
   "metadata": {},
   "outputs": [],
   "source": [
    "df_train = pd.read_csv(\"/root/kag_comp/UM_MCTS/Data/train.csv\")\n",
    "df_test = pd.read_csv(\"/root/kag_comp/UM_MCTS/Data/test.csv\")\n",
    "df_concepts = pd.read_csv(\"/root/kag_comp/UM_MCTS/Data/concepts.csv\")"
   ]
  },
  {
   "cell_type": "code",
   "execution_count": 3,
   "id": "0155bd14-a616-4ffa-9cfb-b2f83e1011cd",
   "metadata": {},
   "outputs": [],
   "source": [
    "agent1 = df_train.agent1.str.split('-', expand = True).drop(0, axis = 1).rename({1:\"Selection1\", 2:\"EXPLORATION_CONST1\", 3:\"PLAYOUT1\", 4:\"SCORE_BOUNDS1\"}, axis = 1).assign(SCORE_BOUNDS1 = lambda _df : _df.SCORE_BOUNDS1.map(lambda x : 0 if x == \"false\" else 1).astype(int))\n",
    "agent2 = df_train.agent2.str.split('-', expand = True).drop(0, axis = 1).rename({1:\"Selection2\", 2:\"EXPLORATION_CONST2\", 3:\"PLAYOUT2\", 4:\"SCORE_BOUNDS2\"}, axis = 1).assign(SCORE_BOUNDS2 = lambda _df : _df.SCORE_BOUNDS2.map(lambda x : 0 if x == \"false\" else 1).astype(int))\n",
    "\n",
    "df_preprocessed = pd.concat([df_train.drop([\"Id\", \"agent1\", \"agent2\", \"num_wins_agent1\", \"num_draws_agent1\", \"num_losses_agent1\"], axis = 1), agent1, agent2], axis = 1)"
   ]
  },
  {
   "cell_type": "code",
   "execution_count": 4,
   "id": "cbb81621-e2f0-4f8c-bd58-c7ed0cbdd0bc",
   "metadata": {},
   "outputs": [],
   "source": [
    "target = \"utility_agent1\"\n",
    "y = df_train[target]"
   ]
  },
  {
   "cell_type": "code",
   "execution_count": 5,
   "id": "3da8830c-e192-4ea8-aaa1-28a7a960df5f",
   "metadata": {},
   "outputs": [
    {
     "data": {
      "text/plain": [
       "39"
      ]
     },
     "execution_count": 5,
     "metadata": {},
     "output_type": "execute_result"
    }
   ],
   "source": [
    "del df_train\n",
    "gc.collect()"
   ]
  },
  {
   "cell_type": "markdown",
   "id": "9236e944-83aa-4a87-87ce-a515fcc454c1",
   "metadata": {},
   "source": [
    "## 3. Classifier : 확률값을 안먹는뎁쇼?"
   ]
  },
  {
   "cell_type": "code",
   "execution_count": null,
   "id": "2910691e-54b4-4dcf-af54-654a309aa6ec",
   "metadata": {},
   "outputs": [],
   "source": [
    "categorical_features = [\"GameRulesetName\", \"Selection1\", \"Selection2\", \"EXPLORATION_CONST1\", \"EXPLORATION_CONST2\", \"PLAYOUT1\", \"PLAYOUT2\", \"EnglishRules\", \"LudRules\"]"
   ]
  },
  {
   "cell_type": "code",
   "execution_count": null,
   "id": "2471b45f-51ae-4740-ba5a-7998ae898358",
   "metadata": {},
   "outputs": [],
   "source": [
    "## data\n",
    "X = df_preprocessed.loc[:, lambda _df : _df.nunique() != 1]\n",
    "\n",
    "## model\n",
    "predictr = catboost.CatBoostClassifier(cat_features = categorical_features, verbose = 0, task_type = \"GPU\", devices = \"0\")\n",
    "predictr.fit(X, y)"
   ]
  },
  {
   "cell_type": "code",
   "execution_count": null,
   "id": "d19641d0-5238-4deb-9134-5d6d3b54527d",
   "metadata": {},
   "outputs": [],
   "source": [
    "pool = catboost.Pool(X, y, cat_features = categorical_features)\n",
    "SKF = StratifiedKFold(n_splits = 5, shuffle = True, random_state = 14107)"
   ]
  },
  {
   "cell_type": "code",
   "execution_count": null,
   "id": "64912121-a60c-434a-b0fd-62c961f62f48",
   "metadata": {},
   "outputs": [],
   "source": [
    "validatr = catboost.cv(catboost.Pool(X, y, cat_features = categorical_features), params = {'loss_function': 'RMSE', \"task_type\" : \"GPU\", \"devices\" : \"0\"}, fold_count = 5, verbose = 0)"
   ]
  },
  {
   "cell_type": "markdown",
   "id": "ad0cdb6b-e1b9-442e-ad57-07e69fd3a217",
   "metadata": {},
   "source": [
    "> 애초에 Regression으로 푸는 게, 목적에 부합할 듯"
   ]
  },
  {
   "cell_type": "markdown",
   "id": "5d74dbad-9060-408d-a2fd-f8404676a7f1",
   "metadata": {},
   "source": [
    "## 4. Regression"
   ]
  },
  {
   "cell_type": "markdown",
   "id": "9478521a-cfc0-46ff-9c72-fcf6803430bd",
   "metadata": {},
   "source": [
    "`-` GPU 써먹을 덴 다 써먹고, 나머지는 어쩔 수 없고..."
   ]
  },
  {
   "cell_type": "code",
   "execution_count": null,
   "id": "aaafde2b-b7b8-4712-99f0-c8c494b9d722",
   "metadata": {},
   "outputs": [],
   "source": [
    "## data\n",
    "X = df_preprocessed.loc[:, lambda _df : _df.nunique() != 1].drop(\"utility_agent1\", axis = 1)\n",
    "categorical_features = [\"GameRulesetName\", \"Selection1\", \"Selection2\", \"EXPLORATION_CONST1\", \"EXPLORATION_CONST2\", \"PLAYOUT1\", \"PLAYOUT2\", \"EnglishRules\", \"LudRules\"]\n",
    "\n",
    "## cv\n",
    "pool = catboost.Pool(X, y, cat_features = categorical_features)\n",
    "SKF = StratifiedKFold(n_splits = 5, shuffle = True, random_state = 14107)\n",
    "validatr = catboost.cv(catboost.Pool(X, y, cat_features = categorical_features), params = {'loss_function': 'RMSE', \"task_type\" : \"GPU\", \"devices\" : \"0\"}, folds = SKF, verbose = 0)"
   ]
  },
  {
   "cell_type": "code",
   "execution_count": null,
   "id": "ddc366b8-85cb-44d8-ba6f-8800398a600f",
   "metadata": {},
   "outputs": [],
   "source": [
    "fst_cat = list(df_concepts.loc[df_concepts.TaxonomyString.str.split(\".\", expand = True).rename({i:f\"Node{i}\" for i in range(9)}, axis = 1).Node0 == \"1\"].Name)"
   ]
  },
  {
   "cell_type": "markdown",
   "id": "0d0c4aed-1ba2-48ad-8c49-ab67636646b1",
   "metadata": {},
   "source": [
    "솔직히, 전진선택법은 미쳤다. 이건 제 시간안에 수행할 수 없는 것이다.\n",
    "\n",
    "-> 계층적 구조를 이용하여 선택하는 것이 정신건강에 좋을 것으로 판단된다."
   ]
  },
  {
   "cell_type": "code",
   "execution_count": null,
   "id": "5b5c874e-8cb8-46d1-baaf-ba5e1662549c",
   "metadata": {},
   "outputs": [],
   "source": [
    "node_form = df_concepts.TaxonomyString.str.split(\".\", expand = True).rename({i:f\"Node{i}\" for i in range(9)}, axis = 1)\n",
    "node_form.loc[node_form.Node0 == \"1\"]"
   ]
  },
  {
   "cell_type": "code",
   "execution_count": null,
   "id": "8c3b475b-c58c-4fe4-a41d-5145126a9c51",
   "metadata": {},
   "outputs": [],
   "source": [
    "## data\n",
    "X = df_preprocessed[[\"GameRulesetName\", \"Selection1\", \"Selection2\", \"EXPLORATION_CONST1\", \"EXPLORATION_CONST2\", \"PLAYOUT1\", \"PLAYOUT2\", \"SCORE_BOUNDS1\", \"SCORE_BOUNDS2\"]+fst_cat].loc[:, lambda _df : _df.nunique() != 1]\n",
    "categorical_features = [\"GameRulesetName\", \"Selection1\", \"Selection2\", \"EXPLORATION_CONST1\", \"EXPLORATION_CONST2\", \"PLAYOUT1\", \"PLAYOUT2\", \"EnglishRules\", \"LudRules\"]\n",
    "\n",
    "## validator\n",
    "SKF = StratifiedKFold(n_splits = 4, shuffle = True, random_state = 14107)\n",
    "additional_list = list(set(X.columns) - set([\"GameRulesetName\", \"Selection1\", \"Selection2\", \"EXPLORATION_CONST1\", \"EXPLORATION_CONST2\", \"PLAYOUT1\", \"PLAYOUT2\", \"SCORE_BOUNDS1\", \"SCORE_BOUNDS2\"]))\n",
    "\n",
    "for f in additional_list :\n",
    "    X_subset = X[[\"GameRulesetName\", \"Selection1\", \"Selection2\", \"EXPLORATION_CONST1\", \"EXPLORATION_CONST2\", \"PLAYOUT1\", \"PLAYOUT2\", \"SCORE_BOUNDS1\", \"SCORE_BOUNDS2\"] + f]\n",
    "\n",
    "model = catboost.CatBoostRegressor(cat_features = list(set(categorical_features) & set(X_subset.columns)), loss_function = \"RMSE\", task_type = \"GPU\", devices = \"0\")"
   ]
  },
  {
   "cell_type": "code",
   "execution_count": null,
   "id": "b6579c66-b846-444d-89f7-a363b140c62f",
   "metadata": {},
   "outputs": [],
   "source": [
    "cross_val_score(model, X_subset, y, cv=kf, scoring='neg_mean_absolute_error')"
   ]
  },
  {
   "cell_type": "markdown",
   "id": "f8816711-2ff8-4562-9af1-a0052c6c1383",
   "metadata": {},
   "source": [
    "내 생각에는, `feature_importances_`를 구해놓고, 이게 낮은 순서대로 정렬한 다음, 낮은 것부터 하나하나 빼가면서 모형이 개선되었으면 그거 아예 제거해버리고, 다시 중요도 계산하는 과정을 재귀적으로 반복하면 좋지 않을까라는 거임."
   ]
  },
  {
   "cell_type": "code",
   "execution_count": 27,
   "id": "463d1e28-132c-4b81-b78f-e8777650abff",
   "metadata": {},
   "outputs": [
    {
     "data": {
      "text/plain": [
       "<catboost.core.CatBoostRegressor at 0x7ef6841e1120>"
      ]
     },
     "execution_count": 27,
     "metadata": {},
     "output_type": "execute_result"
    }
   ],
   "source": [
    "## full model\n",
    "X = df_preprocessed.loc[:, lambda _df : _df.nunique() != 1].drop(\"utility_agent1\", axis = 1)\n",
    "categorical_features = [\"GameRulesetName\", \"Selection1\", \"Selection2\", \"EXPLORATION_CONST1\", \"EXPLORATION_CONST2\", \"PLAYOUT1\", \"PLAYOUT2\", \"EnglishRules\", \"LudRules\"]\n",
    "\n",
    "full_model = catboost.CatBoostRegressor(cat_features = categorical_features, learning_rate = 0.005, iterations = 6000, early_stopping_rounds = 50, loss_function = \"RMSE\", verbose = 0, task_type = \"GPU\", devices = \"0\")\n",
    "full_model.fit(X, y)"
   ]
  },
  {
   "cell_type": "code",
   "execution_count": 28,
   "id": "66e81ce9-2785-4f66-bdec-e7d4431f0158",
   "metadata": {},
   "outputs": [],
   "source": [
    "useful_features = [k for v, k in sorted(zip(full_model.feature_importances_, full_model.feature_names_)) if v > 0.0]"
   ]
  },
  {
   "cell_type": "code",
   "execution_count": 29,
   "id": "7ff62210-f21d-42b6-9d97-2d22e150831f",
   "metadata": {},
   "outputs": [
    {
     "data": {
      "text/plain": [
       "407"
      ]
     },
     "execution_count": 29,
     "metadata": {},
     "output_type": "execute_result"
    }
   ],
   "source": [
    "len(useful_features)"
   ]
  },
  {
   "cell_type": "markdown",
   "id": "3e501f41-5d43-467a-8021-1127a8675927",
   "metadata": {},
   "source": [
    "`-` interaction terms"
   ]
  },
  {
   "cell_type": "code",
   "execution_count": null,
   "id": "92e929b2-5664-4b9b-abf7-cc29c6ba7bb7",
   "metadata": {},
   "outputs": [],
   "source": [
    "interactions = full_model.get_feature_importance(fstr_type = \"Interaction\")\n",
    "df_interactions = pd.DataFrame(interactions).rename({0:\"A\", 1:\"B\", 2:\"Interaction\"}, axis = 1).assign(A = lambda _df : _df.A.astype(int)).assign(B = lambda _df : _df.B.astype(int))"
   ]
  },
  {
   "cell_type": "code",
   "execution_count": null,
   "id": "33e801b0-52bf-45be-9fac-285a14ab2920",
   "metadata": {},
   "outputs": [],
   "source": [
    "df_interactions.assign(A = lambda _df : _df.A.map(lambda x : X.columns[x])).assign(B = lambda _df : _df.B.map(lambda x : X.columns[x])).tail()"
   ]
  },
  {
   "cell_type": "markdown",
   "id": "cc5087a9-fd7e-460f-871d-ace6923a37a8",
   "metadata": {},
   "source": [
    "> 이걸 안다고 해서 뭐 달라지는 건 딱히 없지 않나...?"
   ]
  },
  {
   "cell_type": "markdown",
   "id": "f3ff97ec-d7e0-47c3-9311-dc4e48aaba25",
   "metadata": {},
   "source": [
    "`-` 일부만 사용한 것과 비교"
   ]
  },
  {
   "cell_type": "code",
   "execution_count": 30,
   "id": "2fb95b2c-f5de-4a60-8425-926d9a83907c",
   "metadata": {},
   "outputs": [],
   "source": [
    "cutting_features = [k for v, k in sorted(zip(full_model.feature_importances_, full_model.feature_names_)) if v > 0.001]"
   ]
  },
  {
   "cell_type": "code",
   "execution_count": 31,
   "id": "99832811-0ee3-463d-b2da-5e0b54bac97a",
   "metadata": {},
   "outputs": [
    {
     "data": {
      "text/plain": [
       "344"
      ]
     },
     "execution_count": 31,
     "metadata": {},
     "output_type": "execute_result"
    }
   ],
   "source": [
    "len(cutting_features)"
   ]
  },
  {
   "cell_type": "code",
   "execution_count": 32,
   "id": "b61fdb66-9ebf-48c4-8d13-5d29bd4f8b69",
   "metadata": {},
   "outputs": [],
   "source": [
    "## first scoring\n",
    "X = df_preprocessed.loc[:, useful_features]\n",
    "\n",
    "SKF = KFold(n_splits = 10, shuffle = True, random_state = 14107)\n",
    "model = catboost.CatBoostRegressor(cat_features = categorical_features, loss_function = \"RMSE\", verbose = 0, task_type = \"GPU\", devices = \"0\")\n",
    "full_score = np.mean(cross_val_score(model, X, y, cv = SKF, scoring = \"neg_root_mean_squared_error\"))"
   ]
  },
  {
   "cell_type": "code",
   "execution_count": 33,
   "id": "9638dcba-f6a4-4321-9c76-587e6a397202",
   "metadata": {},
   "outputs": [
    {
     "data": {
      "text/plain": [
       "-0.28124717493153223"
      ]
     },
     "execution_count": 33,
     "metadata": {},
     "output_type": "execute_result"
    }
   ],
   "source": [
    "full_score"
   ]
  },
  {
   "cell_type": "code",
   "execution_count": 38,
   "id": "87603f71-8208-40db-be85-61fc5e2734d5",
   "metadata": {},
   "outputs": [],
   "source": [
    "## second scoring\n",
    "X = df_preprocessed.loc[:, cutting_features]\n",
    "\n",
    "SKF = KFold(n_splits = 10, shuffle = True, random_state = 14107)\n",
    "model = catboost.CatBoostRegressor(cat_features = categorical_features, loss_function = \"RMSE\", verbose = 0, task_type = \"GPU\", devices = \"0\")\n",
    "second_score = np.mean(cross_val_score(model, X, y, cv = SKF, scoring = \"neg_root_mean_squared_error\"))"
   ]
  },
  {
   "cell_type": "code",
   "execution_count": 39,
   "id": "a4eaf08a-ad20-4c7a-a75e-300a4cc3b3be",
   "metadata": {},
   "outputs": [
    {
     "data": {
      "text/plain": [
       "-0.2809903094331911"
      ]
     },
     "execution_count": 39,
     "metadata": {},
     "output_type": "execute_result"
    }
   ],
   "source": [
    "second_score"
   ]
  },
  {
   "cell_type": "code",
   "execution_count": 6,
   "id": "4b2fc34b-47b6-44b7-9409-63fff635a808",
   "metadata": {},
   "outputs": [],
   "source": [
    "def features_selection(current_score, current_features, dump_features = []) :\n",
    "    X_subset = X[current_features]\n",
    "    cont = 0\n",
    "    \n",
    "    for f in current_features :\n",
    "        ## counting\n",
    "        cont += 1\n",
    "        \n",
    "        ## data\n",
    "        X_valid = X_subset.drop(f, axis = 1)\n",
    "\n",
    "        ## scoring\n",
    "        SKF = KFold(n_splits = 10, shuffle = True, random_state = 14107)\n",
    "        model = catboost.CatBoostRegressor(cat_features = list(set(categorical_features) & set(X_valid.columns)), loss_function = \"RMSE\", verbose = 0, task_type = \"GPU\", devices = \"0\")\n",
    "        score1 = np.mean(cross_val_score(model, X_valid, y, cv = SKF, scoring = \"neg_root_mean_squared_error\"))\n",
    "\n",
    "        if score1 >= current_score :\n",
    "            dumping = dump_features + [f]\n",
    "            print(f\"변수 {f}를 제거하여 성능이 향상됨 : score = {score1}, count = {cont}\")\n",
    "            score2 = np.mean(cross_val_score(model, X_valid, y, cv = SKF, scoring = \"neg_root_mean_squared_error\")) ## 폴드의 우연성을 줄이기 위해 한번 더 스코어링\n",
    "\n",
    "            ## 새로운 full model 적합 : importances 기반으로 중요 변수 재선발 및 정렬\n",
    "            model = catboost.CatBoostRegressor(cat_features = list(set(categorical_features) & set(X_valid.columns)), learning_rate = 0.01, iterations = 3000, loss_function = \"RMSE\", verbose = 0, task_type = \"GPU\", devices = \"0\")\n",
    "            model.fit(X_valid, y)\n",
    "\n",
    "            print(f\"이후 비교할 score : {(score1 + score2)/2}\")\n",
    "\n",
    "            dumping = list(set(dumping + list(set(X_valid.columns) - set([k for v, k in sorted(zip(model.feature_importances_, model.feature_names_)) if v > 0.0]))))\n",
    "\n",
    "            print(f\"현재 제거된 변수 : {dumping}\")\n",
    "            \n",
    "            break\n",
    "\n",
    "        elif f == current_features[-1] :\n",
    "            print(\"변수를 모두 제거해보았으나, 성능 향상이 없었음\")\n",
    "            print(f\"최종 선택 변수 : {current_features}\")\n",
    "\n",
    "            return\n",
    "\n",
    "    features_selection((score1+score2)/2, [k for v, k in sorted(zip(model.feature_importances_, model.feature_names_)) if v > 0.0], dumping) ## 재귀"
   ]
  },
  {
   "cell_type": "code",
   "execution_count": 177,
   "id": "ebba9e02-af9e-48e9-94bc-3cbea4058d28",
   "metadata": {},
   "outputs": [],
   "source": [
    "X = df_preprocessed.loc[:, lambda _df : _df.nunique() != 1].drop(\"utility_agent1\", axis = 1)\n",
    "useful_features = [k for v, k in sorted(zip(full_model.feature_importances_, full_model.feature_names_)) if v > 0.0]\n",
    "features_selection(full_score, useful_features)"
   ]
  },
  {
   "cell_type": "markdown",
   "id": "e01d1866-daf9-4e37-8ce8-bd5d7c6fd893",
   "metadata": {},
   "source": [
    "```\n",
    "변수 Style를 제거하여 성능이 향상됨 : count = 17\n",
    "현재 제거된 변수 : ['Style']\n",
    "변수 TwoSitesMoves를 제거하여 성능이 향상됨 : count = 3\n",
    "현재 제거된 변수 : ['Style', 'TwoSitesMoves']\n",
    "변수 NoOwnPiecesLossFrequency를 제거하여 성능이 향상됨 : count = 1\n",
    "현재 제거된 변수 : ['Style', 'TwoSitesMoves', 'NoOwnPiecesLossFrequency']\n",
    "변수 AnimalComponent를 제거하여 성능이 향상됨 : count = 14\n",
    "현재 제거된 변수 : ['Style', 'TwoSitesMoves', 'NoOwnPiecesLossFrequency', 'AnimalComponent']\n",
    "변수 FromToDecisionEnemyFrequency를 제거하여 성능이 향상됨 : count = 13\n",
    "현재 제거된 변수 : ['Style', 'TwoSitesMoves', 'NoOwnPiecesLossFrequency', 'AnimalComponent', 'FromToDecisionEnemyFrequency']\n",
    "변수 SquarePyramidalShape를 제거하여 성능이 향상됨 : count = 14\n",
    "현재 제거된 변수 : ['Style', 'TwoSitesMoves', 'NoOwnPiecesLossFrequency', 'AnimalComponent', 'FromToDecisionEnemyFrequency', 'SquarePyramidalShape']\n",
    "변수 ConcentricTiling를 제거하여 성능이 향상됨 : count = 6\n",
    "현재 제거된 변수 : ['Style', 'TwoSitesMoves', 'NoOwnPiecesLossFrequency', 'AnimalComponent', 'FromToDecisionEnemyFrequency', 'SquarePyramidalShape', 'ConcentricTiling']\n",
    "변수 SingleSiteMoves를 제거하여 성능이 향상됨 : count = 6\n",
    "현재 제거된 변수 : ['Style', 'TwoSitesMoves', 'NoOwnPiecesLossFrequency', 'AnimalComponent', 'FromToDecisionEnemyFrequency', 'SquarePyramidalShape', 'ConcentricTiling', 'SingleSiteMoves']\n",
    "```"
   ]
  },
  {
   "cell_type": "markdown",
   "id": "6b3f7125-e27b-4307-af6b-1360b5c19ee1",
   "metadata": {},
   "source": [
    "> 분산이 존재하다보니, scoring이 굉장히 빡세지는 것 같음. 따라서 주기적으로 모형을 갱신해줄 필요가 있어보임. 매회 갱신하는 것도 나쁘지 않고."
   ]
  },
  {
   "cell_type": "code",
   "execution_count": 44,
   "id": "71dea1b2-838f-414a-8e61-23e132cba3dc",
   "metadata": {},
   "outputs": [],
   "source": [
    "current_list = list(set(useful_features) - set(['Style', 'TwoSitesMoves', 'NoOwnPiecesLossFrequency', 'AnimalComponent', 'FromToDecisionEnemyFrequency', 'SquarePyramidalShape', 'ConcentricTiling', 'SingleSiteMoves']))"
   ]
  },
  {
   "cell_type": "code",
   "execution_count": 45,
   "id": "9746a5b3-dc56-4fef-97fc-0bf3bb712d28",
   "metadata": {},
   "outputs": [],
   "source": [
    "with open(\"validation_features.pkl\", \"wb\") as f :\n",
    "    pickle.dump(current_list, f)"
   ]
  },
  {
   "cell_type": "code",
   "execution_count": 46,
   "id": "f2b2f611-5b49-46b0-a45d-2f5c99ebfb23",
   "metadata": {},
   "outputs": [],
   "source": [
    "## second scoring\n",
    "X = df_preprocessed.loc[:, current_list]\n",
    "\n",
    "SKF = KFold(n_splits = 10, shuffle = True, random_state = 14107)\n",
    "model = catboost.CatBoostRegressor(cat_features = categorical_features, loss_function = \"RMSE\", verbose = 0, task_type = \"GPU\", devices = \"0\")\n",
    "current_score = np.mean([np.mean(cross_val_score(model, X, y, cv = SKF, scoring = \"neg_root_mean_squared_error\")) for i in range(2)])"
   ]
  },
  {
   "cell_type": "code",
   "execution_count": 47,
   "id": "c31ad16b-8267-46d1-92a9-1ec6b82bc734",
   "metadata": {},
   "outputs": [
    {
     "data": {
      "text/plain": [
       "-0.28123876715704277"
      ]
     },
     "execution_count": 47,
     "metadata": {},
     "output_type": "execute_result"
    }
   ],
   "source": [
    "current_score"
   ]
  },
  {
   "cell_type": "code",
   "execution_count": 1,
   "id": "017073b5-0b92-48fa-886c-5c73e199a08f",
   "metadata": {},
   "outputs": [],
   "source": [
    "# dump_list = ['Math', 'Region', 'KnightComponent', 'SurakartaStyle', 'SumDice', 'ThreeMensMorrisBoard', 'Start', 'NoTargetPieceEndFrequency', 'BranchingFactorChangeNumTimesn', 'Conditions', 'NoPieceNext', 'RemoveDecisionFrequency', 'RemoveEffect', 'MancalaCircular', 'IsEnemy', 'TerritoryWinFrequency', 'PassDecision', 'HopDecisionFriendToEnemyFrequency', 'OrthogonalDirection', 'PromotionEffectFrequency', 'Timeouts', 'SlideDecisionFrequency', 'SurroundCaptureFrequency', 'InitialRandomPlacement', 'ScoreDifferenceMedian', 'AdjacentDirection', 'SameDirection', 'Variable', 'LineOfSight', 'Checkmate', 'EncloseCapture', 'NumDice', 'TaflStyle', 'ConnectionEndFrequency', 'AlquerqueBoard', 'FromToDecisionFriendFrequency', 'NotEqual', 'HopCaptureMoreThanOne', 'NoMovesEnd', 'Minimum', 'NumOffDiagonalDirections', 'PieceState', 'NoMovesWinFrequency', 'SowCaptureFrequency', 'Draw', 'MovesDecision', 'LeftwardDirection', 'IsPieceAt', 'Addition', 'InitialScore', 'SetInternalCounter', 'AlquerqueBoardWithTwoTriangles', 'ChessStyle', 'DiagonalDirection', 'CheckmateFrequency', 'Threat', 'Operations', 'TriangleTiling', 'MoveDistanceMaxIncrease', 'MoveDistanceVariance', 'FillEndFrequency', 'SlideDecisionToEnemyFrequency', 'NoOwnPiecesEndFrequency', 'DirectionCapture', 'AlquerqueTiling', 'LesserThanOrEqual', 'SowCCW', 'PieceCount', 'ThreeMensMorrisBoardWithTwoTriangles', 'Tiling', 'MovesNonDecision', 'ShowPieceState', 'RectangleShape', 'Conjunction', 'MancalaStores', 'SowProperties', 'PatternWin', 'Comparison', 'HopEffect', 'Priority', 'ProposeEffectFrequency', 'Subtraction', 'NoMoves', 'Pattern', 'TableStyle', 'FromToDecisionEmptyFrequency', 'SowRemoveFrequency', 'SwapOption', 'PiecesPlacedOutsideBoard', 'DirectionCaptureFrequency', 'AddDecision', 'Hand', 'CheckmateWin', 'Then', 'SetSiteState', 'ForwardLeftDirection', 'AddEffect', 'NoMovesDrawFrequency', 'RemoveDecision', 'StepDecisionToEnemyFrequency', 'SwapPlayersDecision', 'ScoreDifferenceVariance', 'SiteState', 'SowBacktrackingFrequency', 'Visual', 'TaflComponent', 'Shape', 'AllDirections', 'Odd', 'HopDecisionFriendToEmptyFrequency', 'TrackOwned', 'FromToDecisionWithinBoardFrequency', 'MoveDistanceChangeNumTimes', 'IsEmpty', 'CheckmateWinFrequency', 'TriangleShape', 'BackwardsDirection', 'LineWin', 'PushEffectFrequency', 'ShibumiStyle', 'CaptureEnd', 'ConditionalStatement', 'SlideDecisionToEmpty', 'SpaceEnd', 'LeapDecisionToEnemyFrequency', 'SowOriginFirst', 'EliminatePiecesWin', 'SpaceConditions', 'CircleShape', 'Logic', 'OpeningContract', 'IsFriend', 'RightwardDirection', 'MoveConditions', 'ControlFlowStatement', 'ReplacementCapture', 'ComponentStyle', 'Intersection', 'LeapDecisionFrequency', 'SCORE_BOUNDS2', 'DiscComponent', 'FairyChessComponent', 'CustodialCapture', 'StackState', 'HexShape', 'Maximum', 'PatternWinFrequency', 'NoTargetPiece', 'NoProgressDrawFrequency', 'Algorithmics', 'Directions', 'SowCW', 'ScoringWinFrequency', 'HexTiling', 'HopDecisionMoreThanOne', 'ScoringEndFrequency', 'Moves', 'Stochastic', 'AlquerqueBoardWithFourTriangles', 'TrackLoop', 'MovesEffects', 'SlideDecisionToEnemy', 'DiamondShape', 'PlayerValue', 'NoPiece', 'NoMovesMover', 'RaceEnd', 'TerritoryEndFrequency', 'RelativeDirections', 'Union', 'PenAndPaperStyle', 'Piece', 'SetCountFrequency', 'SetValueFrequency', 'SowRemove', 'FillWinFrequency', 'AddEffectFrequency', 'PieceConditions', 'NumLeftSites', 'Set', 'Cell', 'EncloseCaptureFrequency', 'PatternEndFrequency', 'NumPhasesBoard', 'MoveDistanceMaxDecrease', 'ForEachPiece', 'ForgetValues', 'Distance', 'SetVar', 'Misere', 'Roll', 'MoveAgain', 'StateType', 'StepEffect', 'Multiplication', 'Symbols', 'Arithmetic', 'NoMovesWin', 'CheckersComponent', 'ScoreDifferenceMaximum', 'Negation', 'HopCapture', 'MancalaTwoRows', 'ForwardDirection', 'SlideDecisionToFriendFrequency', 'NoMovesNext', 'FromToDecision', 'HopDecisionFrequency', 'GreaterThan', 'Disjunction', 'PieceNumberMaxIncrease', 'SquareShape', 'Connection', 'ScoreDifferenceChangeLineBestFit', 'ProgressCheck', 'HopDecision', 'Phase']"
   ]
  },
  {
   "cell_type": "markdown",
   "id": "3f09dcdf-cdce-4a3b-9804-26440b4b6a51",
   "metadata": {},
   "source": [
    "> 해당 방법론은 CV를 할 때의 분산을 고려하지 않았다는 점에서 바람직하지 않음. 온전한 후진제거법이 아니므로, 아래 방법으로 개선할 수 있음\n",
    ">\n",
    "> * CV error가 단순히 감소한 게 아니라 특정 비율만큼 감소하면 변수를 제거.\n",
    ">\n",
    "> * CV error의 분산을 감안하여 2*se를 뺀 만큼 이상의 차이가 존재하면 변수를 제거."
   ]
  },
  {
   "cell_type": "code",
   "execution_count": 14,
   "id": "bdd14451-851b-4a21-b604-ae396680e711",
   "metadata": {},
   "outputs": [],
   "source": [
    "with open(\"validation_features.pkl\", \"rb\") as f :\n",
    "    current_list = pickle.load(f)\n",
    "\n",
    "X = df_preprocessed.loc[:, current_list]\n",
    "categorical_features = [\"GameRulesetName\", \"Selection1\", \"Selection2\", \"EXPLORATION_CONST1\", \"EXPLORATION_CONST2\", \"PLAYOUT1\", \"PLAYOUT2\", \"EnglishRules\", \"LudRules\"]"
   ]
  },
  {
   "cell_type": "code",
   "execution_count": 18,
   "id": "52dee735-c777-4a8d-9495-6512dade9577",
   "metadata": {},
   "outputs": [],
   "source": [
    "# new_set = list(set(current_list) - set(dump_list))\n",
    "\n",
    "# with open(\"validation_features2.pkl\", \"wb\") as f :\n",
    "#     pickle.dump(new_set, f)"
   ]
  },
  {
   "cell_type": "code",
   "execution_count": 15,
   "id": "e3b0203a-498c-49c9-b25a-90f61de4020f",
   "metadata": {},
   "outputs": [
    {
     "name": "stdout",
     "output_type": "stream",
     "text": [
      "변수 NoMovesNext를 제거하여 성능이 향상됨 : score = -0.2809771992545718, count = 1\n",
      "이후 비교할 score : -0.2809597656821487\n",
      "현재 제거된 변수 : ['Variable', 'MancalaCircular', 'Conditions', 'AddEffect', 'SurroundCaptureFrequency', 'ChessStyle', 'Draw', 'StackState', 'NoTargetPieceWin', 'StateType', 'FairyChessComponent', 'ForwardDirection', 'SowCCW', 'HopDecisionMoreThanOne', 'Shape', 'TaflComponent', 'Phase', 'Region', 'CustodialCapture', 'FortyStonesWithFourGapsBoard', 'Misere', 'NoMovesEnd', 'Union', 'DiamondShape', 'ProgressCheck', 'SetInternalCounter', 'InitialRandomPlacement', 'Threat', 'MoveAgain', 'InitialScore', 'Checkmate', 'MancalaStores', 'SetVar', 'NumOffDiagonalDirections', 'LineOfSight', 'Disjunction', 'SumDice', 'TaflStyle', 'ProposeEffectFrequency', 'ScoreDifferenceMedian', 'NoTargetPiece', 'FromToDecision', 'PenAndPaperStyle', 'MancalaTwoRows', 'RaceEnd', 'CircleShape', 'AlquerqueBoardWithFourTriangles', 'TableStyle', 'CaptureEnd', 'NoPieceNext', 'SowCW', 'ForwardLeftDirection', 'SlideDecisionToEnemy', 'CheckmateWin', 'IsPieceAt', 'ChessComponent', 'SlideDecisionToEmpty', 'Pattern', 'SowRemove', 'NoMovesNext', 'SetValueFrequency']\n",
      "변수 Exponentiation를 제거하여 성능이 향상됨 : score = -0.28095294093503514, count = 148\n",
      "이후 비교할 score : -0.28094358188891727\n",
      "현재 제거된 변수 : ['Variable', 'MancalaCircular', 'Conditions', 'AddEffect', 'SurroundCaptureFrequency', 'ChessStyle', 'Draw', 'Subtraction', 'StackState', 'NoTargetPieceWin', 'StateType', 'FairyChessComponent', 'ForwardDirection', 'SowCCW', 'HopDecisionMoreThanOne', 'Shape', 'TaflComponent', 'Phase', 'Region', 'CustodialCapture', 'FortyStonesWithFourGapsBoard', 'Misere', 'NoMovesEnd', 'Union', 'DiamondShape', 'ProgressCheck', 'SetInternalCounter', 'RemoveEffect', 'InitialRandomPlacement', 'Threat', 'MoveAgain', 'RectangleShape', 'InitialScore', 'Checkmate', 'MancalaStores', 'SetVar', 'NumOffDiagonalDirections', 'LineOfSight', 'Disjunction', 'SumDice', 'TaflStyle', 'ProposeEffectFrequency', 'Exponentiation', 'ScoreDifferenceMedian', 'NoTargetPiece', 'FromToDecision', 'PenAndPaperStyle', 'MancalaTwoRows', 'RaceEnd', 'CircleShape', 'SquareShape', 'AlquerqueBoardWithFourTriangles', 'TableStyle', 'IsEmpty', 'CaptureEnd', 'NoPieceNext', 'SowCW', 'ForwardLeftDirection', 'SlideDecisionToEnemy', 'CheckmateWin', 'IsPieceAt', 'ChessComponent', 'SlideDecisionToEmpty', 'OpeningContract', 'Pattern', 'ForgetValues', 'SowRemove', 'NoMovesNext', 'RightwardDirection', 'SetValueFrequency']\n",
      "변수 DirectionCaptureFrequency를 제거하여 성능이 향상됨 : score = -0.2808947061310679, count = 6\n",
      "이후 비교할 score : -0.28094907661894175\n",
      "현재 제거된 변수 : ['MancalaCircular', 'Subtraction', 'StackState', 'NoTargetPieceWin', 'CustodialCapture', 'Odd', 'NoMovesEnd', 'Union', 'SetInternalCounter', 'RemoveEffect', 'Threat', 'MoveAgain', 'TrackLoop', 'InitialScore', 'MovesDecision', 'Disjunction', 'Exponentiation', 'PenAndPaperStyle', 'CircleShape', 'AlquerqueBoardWithFourTriangles', 'CaptureEnd', 'SlideDecisionToEmpty', 'Pattern', 'SowRemove', 'NoMovesNext', 'SetValueFrequency', 'Conditions', 'AddEffect', 'ChessStyle', 'FairyChessComponent', 'Region', 'DiamondShape', 'RectangleShape', 'InitialRandomPlacement', 'Checkmate', 'SumDice', 'ProposeEffectFrequency', 'MancalaTwoRows', 'NoPieceNext', 'SowCW', 'ChessComponent', 'ForgetValues', 'DirectionCaptureFrequency', 'SquareShape', 'StateType', 'ForwardDirection', 'SowCCW', 'Shape', 'TaflComponent', 'Phase', 'Misere', 'MancalaStores', 'SetVar', 'LineOfSight', 'TaflStyle', 'NoTargetPiece', 'HexTiling', 'IsEmpty', 'ForwardLeftDirection', 'SlideDecisionToEnemy', 'CheckmateWin', 'OpeningContract', 'IsPieceAt', 'ScoringEndFrequency', 'ScoringWin', 'Variable', 'SurroundCaptureFrequency', 'Draw', 'HopDecisionMoreThanOne', 'FortyStonesWithFourGapsBoard', 'Then', 'ProgressCheck', 'NumOffDiagonalDirections', 'ScoreDifferenceMedian', 'FromToDecision', 'RaceEnd', 'TableStyle', 'RightwardDirection']\n",
      "변수 StepEffect를 제거하여 성능이 향상됨 : score = -0.28092100601511916, count = 1\n",
      "이후 비교할 score : -0.28091637822433735\n",
      "현재 제거된 변수 : ['MancalaCircular', 'Subtraction', 'StackState', 'NoTargetPieceWin', 'SowBacktrackingFrequency', 'CustodialCapture', 'Odd', 'NoMovesEnd', 'Union', 'SetInternalCounter', 'RemoveEffect', 'Threat', 'MoveAgain', 'TrackLoop', 'InitialScore', 'MovesDecision', 'Disjunction', 'Exponentiation', 'PenAndPaperStyle', 'CircleShape', 'AlquerqueBoardWithFourTriangles', 'CaptureEnd', 'SlideDecisionToEmpty', 'Pattern', 'StepEffect', 'SowRemove', 'NoMovesNext', 'SetValueFrequency', 'Conditions', 'AddEffect', 'ChessStyle', 'FairyChessComponent', 'Region', 'DiamondShape', 'RectangleShape', 'InitialRandomPlacement', 'Checkmate', 'SumDice', 'ProposeEffectFrequency', 'Visual', 'SowProperties', 'MancalaTwoRows', 'NoPieceNext', 'SowCW', 'ChessComponent', 'ForgetValues', 'DirectionCaptureFrequency', 'SquareShape', 'StateType', 'ForwardDirection', 'SowCCW', 'Shape', 'TaflComponent', 'Phase', 'Misere', 'MancalaStores', 'SetVar', 'LineOfSight', 'TaflStyle', 'NoTargetPiece', 'HexTiling', 'IsEmpty', 'ForwardLeftDirection', 'SlideDecisionToEnemy', 'CheckmateWin', 'OpeningContract', 'IsPieceAt', 'ScoringEndFrequency', 'Conjunction', 'ControlFlowStatement', 'ScoringWin', 'Variable', 'SurroundCaptureFrequency', 'Draw', 'HopDecisionMoreThanOne', 'FortyStonesWithFourGapsBoard', 'Then', 'ProgressCheck', 'BackwardsDirection', 'NumOffDiagonalDirections', 'ScoreDifferenceMedian', 'FromToDecision', 'RaceEnd', 'TableStyle', 'RightwardDirection']\n",
      "변수 MoveConditions를 제거하여 성능이 향상됨 : score = -0.280860723978886, count = 33\n",
      "이후 비교할 score : -0.28088819211197524\n",
      "현재 제거된 변수 : ['MancalaCircular', 'Subtraction', 'StackState', 'NoTargetPieceWin', 'SowBacktrackingFrequency', 'CustodialCapture', 'Odd', 'NoMovesEnd', 'Union', 'SetInternalCounter', 'SpaceEnd', 'RemoveEffect', 'Threat', 'MoveAgain', 'TrackLoop', 'InitialScore', 'MovesDecision', 'Disjunction', 'Exponentiation', 'PenAndPaperStyle', 'CircleShape', 'AlquerqueBoardWithFourTriangles', 'CaptureEnd', 'SlideDecisionToEmpty', 'Pattern', 'StepEffect', 'SowRemove', 'NoMovesNext', 'SetValueFrequency', 'Conditions', 'AddEffect', 'ChessStyle', 'FairyChessComponent', 'Region', 'DiamondShape', 'RectangleShape', 'InitialRandomPlacement', 'Checkmate', 'SumDice', 'ProposeEffectFrequency', 'Visual', 'SowProperties', 'MancalaTwoRows', 'NoPieceNext', 'SowCW', 'ChessComponent', 'ForgetValues', 'DirectionCaptureFrequency', 'SquareShape', 'StateType', 'ForwardDirection', 'SowCCW', 'Shape', 'TaflComponent', 'Phase', 'MoveConditions', 'Misere', 'ConditionalStatement', 'MancalaStores', 'SetVar', 'LineOfSight', 'TaflStyle', 'CheckersComponent', 'NoTargetPiece', 'HexTiling', 'IsEmpty', 'ForwardLeftDirection', 'SlideDecisionToEnemy', 'CheckmateWin', 'OpeningContract', 'IsPieceAt', 'ScoringEndFrequency', 'Conjunction', 'ControlFlowStatement', 'ScoringWin', 'ReplacementCapture', 'Variable', 'SurroundCaptureFrequency', 'Draw', 'HopDecisionMoreThanOne', 'FortyStonesWithFourGapsBoard', 'Then', 'ProgressCheck', 'NoMovesWinFrequency', 'BackwardsDirection', 'NumOffDiagonalDirections', 'ScoreDifferenceMedian', 'FromToDecision', 'RaceEnd', 'TableStyle', 'MoveDistanceMaxDecrease', 'RightwardDirection']\n",
      "변수 IsFriend를 제거하여 성능이 향상됨 : score = -0.28086066355764777, count = 91\n",
      "이후 비교할 score : -0.2809036120339288\n",
      "현재 제거된 변수 : ['MancalaCircular', 'Subtraction', 'StackState', 'NoTargetPieceWin', 'SowBacktrackingFrequency', 'CustodialCapture', 'Odd', 'NoMovesEnd', 'Union', 'SetInternalCounter', 'SpaceEnd', 'RemoveEffect', 'Threat', 'MoveAgain', 'TrackLoop', 'InitialScore', 'MovesDecision', 'Disjunction', 'Exponentiation', 'PenAndPaperStyle', 'LeftwardDirection', 'CircleShape', 'AlquerqueBoardWithFourTriangles', 'CaptureEnd', 'SlideDecisionToEmpty', 'Pattern', 'SowOriginFirst', 'StepEffect', 'SowRemove', 'NoMovesNext', 'SetValueFrequency', 'Conditions', 'AddEffect', 'ChessStyle', 'CheckmateFrequency', 'FairyChessComponent', 'Region', 'DiamondShape', 'RectangleShape', 'InitialRandomPlacement', 'Checkmate', 'Priority', 'SumDice', 'ProposeEffectFrequency', 'Visual', 'SowProperties', 'MancalaTwoRows', 'NoPieceNext', 'SowCW', 'ChessComponent', 'ForgetValues', 'DirectionCaptureFrequency', 'SquareShape', 'StateType', 'ForwardDirection', 'SowCCW', 'Shape', 'IsFriend', 'TaflComponent', 'Phase', 'MoveConditions', 'Misere', 'ConditionalStatement', 'MancalaStores', 'SetVar', 'LineOfSight', 'TaflStyle', 'CheckersComponent', 'NoTargetPiece', 'HexTiling', 'IsEmpty', 'ForwardLeftDirection', 'SlideDecisionToEnemy', 'CheckmateWin', 'OpeningContract', 'IsPieceAt', 'ScoringEndFrequency', 'Conjunction', 'ControlFlowStatement', 'ScoringWin', 'ReplacementCapture', 'Variable', 'SurroundCaptureFrequency', 'Draw', 'HopDecisionMoreThanOne', 'FortyStonesWithFourGapsBoard', 'Then', 'ProgressCheck', 'BackwardsDirection', 'NumOffDiagonalDirections', 'ScoreDifferenceMedian', 'FromToDecision', 'RaceEnd', 'MoveDistanceMaxDecrease', 'TableStyle', 'NoMovesWinFrequency', 'RightwardDirection']\n",
      "변수 SetNextPlayerFrequency를 제거하여 성능이 향상됨 : score = -0.2808840996762883, count = 212\n",
      "이후 비교할 score : -0.28088950916410793\n",
      "현재 제거된 변수 : ['MancalaCircular', 'Subtraction', 'StackState', 'NoTargetPieceWin', 'SowBacktrackingFrequency', 'CustodialCapture', 'Odd', 'NoMovesEnd', 'Union', 'SetInternalCounter', 'SpaceEnd', 'RemoveEffect', 'Threat', 'MoveAgain', 'TrackLoop', 'InitialScore', 'MovesDecision', 'Disjunction', 'Exponentiation', 'PenAndPaperStyle', 'LeftwardDirection', 'CircleShape', 'AlquerqueBoardWithFourTriangles', 'CaptureEnd', 'SlideDecisionToEmpty', 'Pattern', 'SowOriginFirst', 'StepEffect', 'SowRemove', 'NoMovesNext', 'SetValueFrequency', 'Conditions', 'AddEffect', 'ChessStyle', 'CheckmateFrequency', 'FairyChessComponent', 'Region', 'DiamondShape', 'RectangleShape', 'InitialRandomPlacement', 'Checkmate', 'Hand', 'Priority', 'SumDice', 'ProposeEffectFrequency', 'Visual', 'SowProperties', 'MancalaTwoRows', 'Operations', 'NoPieceNext', 'SowCW', 'ChessComponent', 'ForgetValues', 'DirectionCaptureFrequency', 'SquareShape', 'StateType', 'ForwardDirection', 'SowCCW', 'Shape', 'IsFriend', 'TaflComponent', 'Phase', 'MoveConditions', 'Misere', 'ConditionalStatement', 'MancalaStores', 'SetVar', 'LineOfSight', 'TaflStyle', 'CheckersComponent', 'NoTargetPiece', 'HexTiling', 'IsEmpty', 'ForwardLeftDirection', 'SlideDecisionToEnemy', 'CheckmateWin', 'OpeningContract', 'IsPieceAt', 'ScoringEndFrequency', 'Conjunction', 'ControlFlowStatement', 'ScoringWin', 'ReplacementCapture', 'Variable', 'SurroundCaptureFrequency', 'PieceCount', 'Draw', 'HopDecisionMoreThanOne', 'FortyStonesWithFourGapsBoard', 'Then', 'ProgressCheck', 'NoMovesWinFrequency', 'BackwardsDirection', 'SetNextPlayerFrequency', 'NumOffDiagonalDirections', 'ScoreDifferenceMedian', 'FromToDecision', 'RaceEnd', 'TableStyle', 'MoveDistanceMaxDecrease', 'RightwardDirection']\n"
     ]
    },
    {
     "ename": "KeyboardInterrupt",
     "evalue": "",
     "output_type": "error",
     "traceback": [
      "\u001b[0;31m---------------------------------------------------------------------------\u001b[0m",
      "\u001b[0;31mKeyboardInterrupt\u001b[0m                         Traceback (most recent call last)",
      "Cell \u001b[0;32mIn[15], line 1\u001b[0m\n\u001b[0;32m----> 1\u001b[0m \u001b[43mfeatures_selection\u001b[49m\u001b[43m(\u001b[49m\u001b[38;5;241;43m-\u001b[39;49m\u001b[38;5;241;43m0.28123876715704277\u001b[39;49m\u001b[43m,\u001b[49m\u001b[43m \u001b[49m\u001b[43mcurrent_list\u001b[49m\u001b[43m)\u001b[49m\n",
      "Cell \u001b[0;32mIn[6], line 40\u001b[0m, in \u001b[0;36mfeatures_selection\u001b[0;34m(current_score, current_features, dump_features)\u001b[0m\n\u001b[1;32m     36\u001b[0m         \u001b[38;5;28mprint\u001b[39m(\u001b[38;5;124mf\u001b[39m\u001b[38;5;124m\"\u001b[39m\u001b[38;5;124m최종 선택 변수 : \u001b[39m\u001b[38;5;132;01m{\u001b[39;00mcurrent_features\u001b[38;5;132;01m}\u001b[39;00m\u001b[38;5;124m\"\u001b[39m)\n\u001b[1;32m     38\u001b[0m         \u001b[38;5;28;01mreturn\u001b[39;00m\n\u001b[0;32m---> 40\u001b[0m \u001b[43mfeatures_selection\u001b[49m\u001b[43m(\u001b[49m\u001b[43m(\u001b[49m\u001b[43mscore1\u001b[49m\u001b[38;5;241;43m+\u001b[39;49m\u001b[43mscore2\u001b[49m\u001b[43m)\u001b[49m\u001b[38;5;241;43m/\u001b[39;49m\u001b[38;5;241;43m2\u001b[39;49m\u001b[43m,\u001b[49m\u001b[43m \u001b[49m\u001b[43m[\u001b[49m\u001b[43mk\u001b[49m\u001b[43m \u001b[49m\u001b[38;5;28;43;01mfor\u001b[39;49;00m\u001b[43m \u001b[49m\u001b[43mv\u001b[49m\u001b[43m,\u001b[49m\u001b[43m \u001b[49m\u001b[43mk\u001b[49m\u001b[43m \u001b[49m\u001b[38;5;129;43;01min\u001b[39;49;00m\u001b[43m \u001b[49m\u001b[38;5;28;43msorted\u001b[39;49m\u001b[43m(\u001b[49m\u001b[38;5;28;43mzip\u001b[39;49m\u001b[43m(\u001b[49m\u001b[43mmodel\u001b[49m\u001b[38;5;241;43m.\u001b[39;49m\u001b[43mfeature_importances_\u001b[49m\u001b[43m,\u001b[49m\u001b[43m \u001b[49m\u001b[43mmodel\u001b[49m\u001b[38;5;241;43m.\u001b[39;49m\u001b[43mfeature_names_\u001b[49m\u001b[43m)\u001b[49m\u001b[43m)\u001b[49m\u001b[43m \u001b[49m\u001b[38;5;28;43;01mif\u001b[39;49;00m\u001b[43m \u001b[49m\u001b[43mv\u001b[49m\u001b[43m \u001b[49m\u001b[38;5;241;43m>\u001b[39;49m\u001b[43m \u001b[49m\u001b[38;5;241;43m0.0\u001b[39;49m\u001b[43m]\u001b[49m\u001b[43m,\u001b[49m\u001b[43m \u001b[49m\u001b[43mdumping\u001b[49m\u001b[43m)\u001b[49m\n",
      "Cell \u001b[0;32mIn[6], line 40\u001b[0m, in \u001b[0;36mfeatures_selection\u001b[0;34m(current_score, current_features, dump_features)\u001b[0m\n\u001b[1;32m     36\u001b[0m         \u001b[38;5;28mprint\u001b[39m(\u001b[38;5;124mf\u001b[39m\u001b[38;5;124m\"\u001b[39m\u001b[38;5;124m최종 선택 변수 : \u001b[39m\u001b[38;5;132;01m{\u001b[39;00mcurrent_features\u001b[38;5;132;01m}\u001b[39;00m\u001b[38;5;124m\"\u001b[39m)\n\u001b[1;32m     38\u001b[0m         \u001b[38;5;28;01mreturn\u001b[39;00m\n\u001b[0;32m---> 40\u001b[0m \u001b[43mfeatures_selection\u001b[49m\u001b[43m(\u001b[49m\u001b[43m(\u001b[49m\u001b[43mscore1\u001b[49m\u001b[38;5;241;43m+\u001b[39;49m\u001b[43mscore2\u001b[49m\u001b[43m)\u001b[49m\u001b[38;5;241;43m/\u001b[39;49m\u001b[38;5;241;43m2\u001b[39;49m\u001b[43m,\u001b[49m\u001b[43m \u001b[49m\u001b[43m[\u001b[49m\u001b[43mk\u001b[49m\u001b[43m \u001b[49m\u001b[38;5;28;43;01mfor\u001b[39;49;00m\u001b[43m \u001b[49m\u001b[43mv\u001b[49m\u001b[43m,\u001b[49m\u001b[43m \u001b[49m\u001b[43mk\u001b[49m\u001b[43m \u001b[49m\u001b[38;5;129;43;01min\u001b[39;49;00m\u001b[43m \u001b[49m\u001b[38;5;28;43msorted\u001b[39;49m\u001b[43m(\u001b[49m\u001b[38;5;28;43mzip\u001b[39;49m\u001b[43m(\u001b[49m\u001b[43mmodel\u001b[49m\u001b[38;5;241;43m.\u001b[39;49m\u001b[43mfeature_importances_\u001b[49m\u001b[43m,\u001b[49m\u001b[43m \u001b[49m\u001b[43mmodel\u001b[49m\u001b[38;5;241;43m.\u001b[39;49m\u001b[43mfeature_names_\u001b[49m\u001b[43m)\u001b[49m\u001b[43m)\u001b[49m\u001b[43m \u001b[49m\u001b[38;5;28;43;01mif\u001b[39;49;00m\u001b[43m \u001b[49m\u001b[43mv\u001b[49m\u001b[43m \u001b[49m\u001b[38;5;241;43m>\u001b[39;49m\u001b[43m \u001b[49m\u001b[38;5;241;43m0.0\u001b[39;49m\u001b[43m]\u001b[49m\u001b[43m,\u001b[49m\u001b[43m \u001b[49m\u001b[43mdumping\u001b[49m\u001b[43m)\u001b[49m\n",
      "    \u001b[0;31m[... skipping similar frames: features_selection at line 40 (4 times)]\u001b[0m\n",
      "Cell \u001b[0;32mIn[6], line 40\u001b[0m, in \u001b[0;36mfeatures_selection\u001b[0;34m(current_score, current_features, dump_features)\u001b[0m\n\u001b[1;32m     36\u001b[0m         \u001b[38;5;28mprint\u001b[39m(\u001b[38;5;124mf\u001b[39m\u001b[38;5;124m\"\u001b[39m\u001b[38;5;124m최종 선택 변수 : \u001b[39m\u001b[38;5;132;01m{\u001b[39;00mcurrent_features\u001b[38;5;132;01m}\u001b[39;00m\u001b[38;5;124m\"\u001b[39m)\n\u001b[1;32m     38\u001b[0m         \u001b[38;5;28;01mreturn\u001b[39;00m\n\u001b[0;32m---> 40\u001b[0m \u001b[43mfeatures_selection\u001b[49m\u001b[43m(\u001b[49m\u001b[43m(\u001b[49m\u001b[43mscore1\u001b[49m\u001b[38;5;241;43m+\u001b[39;49m\u001b[43mscore2\u001b[49m\u001b[43m)\u001b[49m\u001b[38;5;241;43m/\u001b[39;49m\u001b[38;5;241;43m2\u001b[39;49m\u001b[43m,\u001b[49m\u001b[43m \u001b[49m\u001b[43m[\u001b[49m\u001b[43mk\u001b[49m\u001b[43m \u001b[49m\u001b[38;5;28;43;01mfor\u001b[39;49;00m\u001b[43m \u001b[49m\u001b[43mv\u001b[49m\u001b[43m,\u001b[49m\u001b[43m \u001b[49m\u001b[43mk\u001b[49m\u001b[43m \u001b[49m\u001b[38;5;129;43;01min\u001b[39;49;00m\u001b[43m \u001b[49m\u001b[38;5;28;43msorted\u001b[39;49m\u001b[43m(\u001b[49m\u001b[38;5;28;43mzip\u001b[39;49m\u001b[43m(\u001b[49m\u001b[43mmodel\u001b[49m\u001b[38;5;241;43m.\u001b[39;49m\u001b[43mfeature_importances_\u001b[49m\u001b[43m,\u001b[49m\u001b[43m \u001b[49m\u001b[43mmodel\u001b[49m\u001b[38;5;241;43m.\u001b[39;49m\u001b[43mfeature_names_\u001b[49m\u001b[43m)\u001b[49m\u001b[43m)\u001b[49m\u001b[43m \u001b[49m\u001b[38;5;28;43;01mif\u001b[39;49;00m\u001b[43m \u001b[49m\u001b[43mv\u001b[49m\u001b[43m \u001b[49m\u001b[38;5;241;43m>\u001b[39;49m\u001b[43m \u001b[49m\u001b[38;5;241;43m0.0\u001b[39;49m\u001b[43m]\u001b[49m\u001b[43m,\u001b[49m\u001b[43m \u001b[49m\u001b[43mdumping\u001b[49m\u001b[43m)\u001b[49m\n",
      "Cell \u001b[0;32mIn[6], line 15\u001b[0m, in \u001b[0;36mfeatures_selection\u001b[0;34m(current_score, current_features, dump_features)\u001b[0m\n\u001b[1;32m     13\u001b[0m SKF \u001b[38;5;241m=\u001b[39m KFold(n_splits \u001b[38;5;241m=\u001b[39m \u001b[38;5;241m10\u001b[39m, shuffle \u001b[38;5;241m=\u001b[39m \u001b[38;5;28;01mTrue\u001b[39;00m, random_state \u001b[38;5;241m=\u001b[39m \u001b[38;5;241m14107\u001b[39m)\n\u001b[1;32m     14\u001b[0m model \u001b[38;5;241m=\u001b[39m catboost\u001b[38;5;241m.\u001b[39mCatBoostRegressor(cat_features \u001b[38;5;241m=\u001b[39m \u001b[38;5;28mlist\u001b[39m(\u001b[38;5;28mset\u001b[39m(categorical_features) \u001b[38;5;241m&\u001b[39m \u001b[38;5;28mset\u001b[39m(X_valid\u001b[38;5;241m.\u001b[39mcolumns)), loss_function \u001b[38;5;241m=\u001b[39m \u001b[38;5;124m\"\u001b[39m\u001b[38;5;124mRMSE\u001b[39m\u001b[38;5;124m\"\u001b[39m, verbose \u001b[38;5;241m=\u001b[39m \u001b[38;5;241m0\u001b[39m, task_type \u001b[38;5;241m=\u001b[39m \u001b[38;5;124m\"\u001b[39m\u001b[38;5;124mGPU\u001b[39m\u001b[38;5;124m\"\u001b[39m, devices \u001b[38;5;241m=\u001b[39m \u001b[38;5;124m\"\u001b[39m\u001b[38;5;124m0\u001b[39m\u001b[38;5;124m\"\u001b[39m)\n\u001b[0;32m---> 15\u001b[0m score1 \u001b[38;5;241m=\u001b[39m np\u001b[38;5;241m.\u001b[39mmean(\u001b[43mcross_val_score\u001b[49m\u001b[43m(\u001b[49m\u001b[43mmodel\u001b[49m\u001b[43m,\u001b[49m\u001b[43m \u001b[49m\u001b[43mX_valid\u001b[49m\u001b[43m,\u001b[49m\u001b[43m \u001b[49m\u001b[43my\u001b[49m\u001b[43m,\u001b[49m\u001b[43m \u001b[49m\u001b[43mcv\u001b[49m\u001b[43m \u001b[49m\u001b[38;5;241;43m=\u001b[39;49m\u001b[43m \u001b[49m\u001b[43mSKF\u001b[49m\u001b[43m,\u001b[49m\u001b[43m \u001b[49m\u001b[43mscoring\u001b[49m\u001b[43m \u001b[49m\u001b[38;5;241;43m=\u001b[39;49m\u001b[43m \u001b[49m\u001b[38;5;124;43m\"\u001b[39;49m\u001b[38;5;124;43mneg_root_mean_squared_error\u001b[39;49m\u001b[38;5;124;43m\"\u001b[39;49m\u001b[43m)\u001b[49m)\n\u001b[1;32m     17\u001b[0m \u001b[38;5;28;01mif\u001b[39;00m score1 \u001b[38;5;241m>\u001b[39m\u001b[38;5;241m=\u001b[39m current_score :\n\u001b[1;32m     18\u001b[0m     dumping \u001b[38;5;241m=\u001b[39m dump_features \u001b[38;5;241m+\u001b[39m [f]\n",
      "File \u001b[0;32m~/anaconda3/envs/py/lib/python3.10/site-packages/sklearn/utils/_param_validation.py:213\u001b[0m, in \u001b[0;36mvalidate_params.<locals>.decorator.<locals>.wrapper\u001b[0;34m(*args, **kwargs)\u001b[0m\n\u001b[1;32m    207\u001b[0m \u001b[38;5;28;01mtry\u001b[39;00m:\n\u001b[1;32m    208\u001b[0m     \u001b[38;5;28;01mwith\u001b[39;00m config_context(\n\u001b[1;32m    209\u001b[0m         skip_parameter_validation\u001b[38;5;241m=\u001b[39m(\n\u001b[1;32m    210\u001b[0m             prefer_skip_nested_validation \u001b[38;5;129;01mor\u001b[39;00m global_skip_validation\n\u001b[1;32m    211\u001b[0m         )\n\u001b[1;32m    212\u001b[0m     ):\n\u001b[0;32m--> 213\u001b[0m         \u001b[38;5;28;01mreturn\u001b[39;00m \u001b[43mfunc\u001b[49m\u001b[43m(\u001b[49m\u001b[38;5;241;43m*\u001b[39;49m\u001b[43margs\u001b[49m\u001b[43m,\u001b[49m\u001b[43m \u001b[49m\u001b[38;5;241;43m*\u001b[39;49m\u001b[38;5;241;43m*\u001b[39;49m\u001b[43mkwargs\u001b[49m\u001b[43m)\u001b[49m\n\u001b[1;32m    214\u001b[0m \u001b[38;5;28;01mexcept\u001b[39;00m InvalidParameterError \u001b[38;5;28;01mas\u001b[39;00m e:\n\u001b[1;32m    215\u001b[0m     \u001b[38;5;66;03m# When the function is just a wrapper around an estimator, we allow\u001b[39;00m\n\u001b[1;32m    216\u001b[0m     \u001b[38;5;66;03m# the function to delegate validation to the estimator, but we replace\u001b[39;00m\n\u001b[1;32m    217\u001b[0m     \u001b[38;5;66;03m# the name of the estimator by the name of the function in the error\u001b[39;00m\n\u001b[1;32m    218\u001b[0m     \u001b[38;5;66;03m# message to avoid confusion.\u001b[39;00m\n\u001b[1;32m    219\u001b[0m     msg \u001b[38;5;241m=\u001b[39m re\u001b[38;5;241m.\u001b[39msub(\n\u001b[1;32m    220\u001b[0m         \u001b[38;5;124mr\u001b[39m\u001b[38;5;124m\"\u001b[39m\u001b[38;5;124mparameter of \u001b[39m\u001b[38;5;124m\\\u001b[39m\u001b[38;5;124mw+ must be\u001b[39m\u001b[38;5;124m\"\u001b[39m,\n\u001b[1;32m    221\u001b[0m         \u001b[38;5;124mf\u001b[39m\u001b[38;5;124m\"\u001b[39m\u001b[38;5;124mparameter of \u001b[39m\u001b[38;5;132;01m{\u001b[39;00mfunc\u001b[38;5;241m.\u001b[39m\u001b[38;5;18m__qualname__\u001b[39m\u001b[38;5;132;01m}\u001b[39;00m\u001b[38;5;124m must be\u001b[39m\u001b[38;5;124m\"\u001b[39m,\n\u001b[1;32m    222\u001b[0m         \u001b[38;5;28mstr\u001b[39m(e),\n\u001b[1;32m    223\u001b[0m     )\n",
      "File \u001b[0;32m~/anaconda3/envs/py/lib/python3.10/site-packages/sklearn/model_selection/_validation.py:719\u001b[0m, in \u001b[0;36mcross_val_score\u001b[0;34m(estimator, X, y, groups, scoring, cv, n_jobs, verbose, fit_params, params, pre_dispatch, error_score)\u001b[0m\n\u001b[1;32m    716\u001b[0m \u001b[38;5;66;03m# To ensure multimetric format is not supported\u001b[39;00m\n\u001b[1;32m    717\u001b[0m scorer \u001b[38;5;241m=\u001b[39m check_scoring(estimator, scoring\u001b[38;5;241m=\u001b[39mscoring)\n\u001b[0;32m--> 719\u001b[0m cv_results \u001b[38;5;241m=\u001b[39m \u001b[43mcross_validate\u001b[49m\u001b[43m(\u001b[49m\n\u001b[1;32m    720\u001b[0m \u001b[43m    \u001b[49m\u001b[43mestimator\u001b[49m\u001b[38;5;241;43m=\u001b[39;49m\u001b[43mestimator\u001b[49m\u001b[43m,\u001b[49m\n\u001b[1;32m    721\u001b[0m \u001b[43m    \u001b[49m\u001b[43mX\u001b[49m\u001b[38;5;241;43m=\u001b[39;49m\u001b[43mX\u001b[49m\u001b[43m,\u001b[49m\n\u001b[1;32m    722\u001b[0m \u001b[43m    \u001b[49m\u001b[43my\u001b[49m\u001b[38;5;241;43m=\u001b[39;49m\u001b[43my\u001b[49m\u001b[43m,\u001b[49m\n\u001b[1;32m    723\u001b[0m \u001b[43m    \u001b[49m\u001b[43mgroups\u001b[49m\u001b[38;5;241;43m=\u001b[39;49m\u001b[43mgroups\u001b[49m\u001b[43m,\u001b[49m\n\u001b[1;32m    724\u001b[0m \u001b[43m    \u001b[49m\u001b[43mscoring\u001b[49m\u001b[38;5;241;43m=\u001b[39;49m\u001b[43m{\u001b[49m\u001b[38;5;124;43m\"\u001b[39;49m\u001b[38;5;124;43mscore\u001b[39;49m\u001b[38;5;124;43m\"\u001b[39;49m\u001b[43m:\u001b[49m\u001b[43m \u001b[49m\u001b[43mscorer\u001b[49m\u001b[43m}\u001b[49m\u001b[43m,\u001b[49m\n\u001b[1;32m    725\u001b[0m \u001b[43m    \u001b[49m\u001b[43mcv\u001b[49m\u001b[38;5;241;43m=\u001b[39;49m\u001b[43mcv\u001b[49m\u001b[43m,\u001b[49m\n\u001b[1;32m    726\u001b[0m \u001b[43m    \u001b[49m\u001b[43mn_jobs\u001b[49m\u001b[38;5;241;43m=\u001b[39;49m\u001b[43mn_jobs\u001b[49m\u001b[43m,\u001b[49m\n\u001b[1;32m    727\u001b[0m \u001b[43m    \u001b[49m\u001b[43mverbose\u001b[49m\u001b[38;5;241;43m=\u001b[39;49m\u001b[43mverbose\u001b[49m\u001b[43m,\u001b[49m\n\u001b[1;32m    728\u001b[0m \u001b[43m    \u001b[49m\u001b[43mfit_params\u001b[49m\u001b[38;5;241;43m=\u001b[39;49m\u001b[43mfit_params\u001b[49m\u001b[43m,\u001b[49m\n\u001b[1;32m    729\u001b[0m \u001b[43m    \u001b[49m\u001b[43mparams\u001b[49m\u001b[38;5;241;43m=\u001b[39;49m\u001b[43mparams\u001b[49m\u001b[43m,\u001b[49m\n\u001b[1;32m    730\u001b[0m \u001b[43m    \u001b[49m\u001b[43mpre_dispatch\u001b[49m\u001b[38;5;241;43m=\u001b[39;49m\u001b[43mpre_dispatch\u001b[49m\u001b[43m,\u001b[49m\n\u001b[1;32m    731\u001b[0m \u001b[43m    \u001b[49m\u001b[43merror_score\u001b[49m\u001b[38;5;241;43m=\u001b[39;49m\u001b[43merror_score\u001b[49m\u001b[43m,\u001b[49m\n\u001b[1;32m    732\u001b[0m \u001b[43m\u001b[49m\u001b[43m)\u001b[49m\n\u001b[1;32m    733\u001b[0m \u001b[38;5;28;01mreturn\u001b[39;00m cv_results[\u001b[38;5;124m\"\u001b[39m\u001b[38;5;124mtest_score\u001b[39m\u001b[38;5;124m\"\u001b[39m]\n",
      "File \u001b[0;32m~/anaconda3/envs/py/lib/python3.10/site-packages/sklearn/utils/_param_validation.py:213\u001b[0m, in \u001b[0;36mvalidate_params.<locals>.decorator.<locals>.wrapper\u001b[0;34m(*args, **kwargs)\u001b[0m\n\u001b[1;32m    207\u001b[0m \u001b[38;5;28;01mtry\u001b[39;00m:\n\u001b[1;32m    208\u001b[0m     \u001b[38;5;28;01mwith\u001b[39;00m config_context(\n\u001b[1;32m    209\u001b[0m         skip_parameter_validation\u001b[38;5;241m=\u001b[39m(\n\u001b[1;32m    210\u001b[0m             prefer_skip_nested_validation \u001b[38;5;129;01mor\u001b[39;00m global_skip_validation\n\u001b[1;32m    211\u001b[0m         )\n\u001b[1;32m    212\u001b[0m     ):\n\u001b[0;32m--> 213\u001b[0m         \u001b[38;5;28;01mreturn\u001b[39;00m \u001b[43mfunc\u001b[49m\u001b[43m(\u001b[49m\u001b[38;5;241;43m*\u001b[39;49m\u001b[43margs\u001b[49m\u001b[43m,\u001b[49m\u001b[43m \u001b[49m\u001b[38;5;241;43m*\u001b[39;49m\u001b[38;5;241;43m*\u001b[39;49m\u001b[43mkwargs\u001b[49m\u001b[43m)\u001b[49m\n\u001b[1;32m    214\u001b[0m \u001b[38;5;28;01mexcept\u001b[39;00m InvalidParameterError \u001b[38;5;28;01mas\u001b[39;00m e:\n\u001b[1;32m    215\u001b[0m     \u001b[38;5;66;03m# When the function is just a wrapper around an estimator, we allow\u001b[39;00m\n\u001b[1;32m    216\u001b[0m     \u001b[38;5;66;03m# the function to delegate validation to the estimator, but we replace\u001b[39;00m\n\u001b[1;32m    217\u001b[0m     \u001b[38;5;66;03m# the name of the estimator by the name of the function in the error\u001b[39;00m\n\u001b[1;32m    218\u001b[0m     \u001b[38;5;66;03m# message to avoid confusion.\u001b[39;00m\n\u001b[1;32m    219\u001b[0m     msg \u001b[38;5;241m=\u001b[39m re\u001b[38;5;241m.\u001b[39msub(\n\u001b[1;32m    220\u001b[0m         \u001b[38;5;124mr\u001b[39m\u001b[38;5;124m\"\u001b[39m\u001b[38;5;124mparameter of \u001b[39m\u001b[38;5;124m\\\u001b[39m\u001b[38;5;124mw+ must be\u001b[39m\u001b[38;5;124m\"\u001b[39m,\n\u001b[1;32m    221\u001b[0m         \u001b[38;5;124mf\u001b[39m\u001b[38;5;124m\"\u001b[39m\u001b[38;5;124mparameter of \u001b[39m\u001b[38;5;132;01m{\u001b[39;00mfunc\u001b[38;5;241m.\u001b[39m\u001b[38;5;18m__qualname__\u001b[39m\u001b[38;5;132;01m}\u001b[39;00m\u001b[38;5;124m must be\u001b[39m\u001b[38;5;124m\"\u001b[39m,\n\u001b[1;32m    222\u001b[0m         \u001b[38;5;28mstr\u001b[39m(e),\n\u001b[1;32m    223\u001b[0m     )\n",
      "File \u001b[0;32m~/anaconda3/envs/py/lib/python3.10/site-packages/sklearn/model_selection/_validation.py:430\u001b[0m, in \u001b[0;36mcross_validate\u001b[0;34m(estimator, X, y, groups, scoring, cv, n_jobs, verbose, fit_params, params, pre_dispatch, return_train_score, return_estimator, return_indices, error_score)\u001b[0m\n\u001b[1;32m    427\u001b[0m \u001b[38;5;66;03m# We clone the estimator to make sure that all the folds are\u001b[39;00m\n\u001b[1;32m    428\u001b[0m \u001b[38;5;66;03m# independent, and that it is pickle-able.\u001b[39;00m\n\u001b[1;32m    429\u001b[0m parallel \u001b[38;5;241m=\u001b[39m Parallel(n_jobs\u001b[38;5;241m=\u001b[39mn_jobs, verbose\u001b[38;5;241m=\u001b[39mverbose, pre_dispatch\u001b[38;5;241m=\u001b[39mpre_dispatch)\n\u001b[0;32m--> 430\u001b[0m results \u001b[38;5;241m=\u001b[39m \u001b[43mparallel\u001b[49m\u001b[43m(\u001b[49m\n\u001b[1;32m    431\u001b[0m \u001b[43m    \u001b[49m\u001b[43mdelayed\u001b[49m\u001b[43m(\u001b[49m\u001b[43m_fit_and_score\u001b[49m\u001b[43m)\u001b[49m\u001b[43m(\u001b[49m\n\u001b[1;32m    432\u001b[0m \u001b[43m        \u001b[49m\u001b[43mclone\u001b[49m\u001b[43m(\u001b[49m\u001b[43mestimator\u001b[49m\u001b[43m)\u001b[49m\u001b[43m,\u001b[49m\n\u001b[1;32m    433\u001b[0m \u001b[43m        \u001b[49m\u001b[43mX\u001b[49m\u001b[43m,\u001b[49m\n\u001b[1;32m    434\u001b[0m \u001b[43m        \u001b[49m\u001b[43my\u001b[49m\u001b[43m,\u001b[49m\n\u001b[1;32m    435\u001b[0m \u001b[43m        \u001b[49m\u001b[43mscorer\u001b[49m\u001b[38;5;241;43m=\u001b[39;49m\u001b[43mscorers\u001b[49m\u001b[43m,\u001b[49m\n\u001b[1;32m    436\u001b[0m \u001b[43m        \u001b[49m\u001b[43mtrain\u001b[49m\u001b[38;5;241;43m=\u001b[39;49m\u001b[43mtrain\u001b[49m\u001b[43m,\u001b[49m\n\u001b[1;32m    437\u001b[0m \u001b[43m        \u001b[49m\u001b[43mtest\u001b[49m\u001b[38;5;241;43m=\u001b[39;49m\u001b[43mtest\u001b[49m\u001b[43m,\u001b[49m\n\u001b[1;32m    438\u001b[0m \u001b[43m        \u001b[49m\u001b[43mverbose\u001b[49m\u001b[38;5;241;43m=\u001b[39;49m\u001b[43mverbose\u001b[49m\u001b[43m,\u001b[49m\n\u001b[1;32m    439\u001b[0m \u001b[43m        \u001b[49m\u001b[43mparameters\u001b[49m\u001b[38;5;241;43m=\u001b[39;49m\u001b[38;5;28;43;01mNone\u001b[39;49;00m\u001b[43m,\u001b[49m\n\u001b[1;32m    440\u001b[0m \u001b[43m        \u001b[49m\u001b[43mfit_params\u001b[49m\u001b[38;5;241;43m=\u001b[39;49m\u001b[43mrouted_params\u001b[49m\u001b[38;5;241;43m.\u001b[39;49m\u001b[43mestimator\u001b[49m\u001b[38;5;241;43m.\u001b[39;49m\u001b[43mfit\u001b[49m\u001b[43m,\u001b[49m\n\u001b[1;32m    441\u001b[0m \u001b[43m        \u001b[49m\u001b[43mscore_params\u001b[49m\u001b[38;5;241;43m=\u001b[39;49m\u001b[43mrouted_params\u001b[49m\u001b[38;5;241;43m.\u001b[39;49m\u001b[43mscorer\u001b[49m\u001b[38;5;241;43m.\u001b[39;49m\u001b[43mscore\u001b[49m\u001b[43m,\u001b[49m\n\u001b[1;32m    442\u001b[0m \u001b[43m        \u001b[49m\u001b[43mreturn_train_score\u001b[49m\u001b[38;5;241;43m=\u001b[39;49m\u001b[43mreturn_train_score\u001b[49m\u001b[43m,\u001b[49m\n\u001b[1;32m    443\u001b[0m \u001b[43m        \u001b[49m\u001b[43mreturn_times\u001b[49m\u001b[38;5;241;43m=\u001b[39;49m\u001b[38;5;28;43;01mTrue\u001b[39;49;00m\u001b[43m,\u001b[49m\n\u001b[1;32m    444\u001b[0m \u001b[43m        \u001b[49m\u001b[43mreturn_estimator\u001b[49m\u001b[38;5;241;43m=\u001b[39;49m\u001b[43mreturn_estimator\u001b[49m\u001b[43m,\u001b[49m\n\u001b[1;32m    445\u001b[0m \u001b[43m        \u001b[49m\u001b[43merror_score\u001b[49m\u001b[38;5;241;43m=\u001b[39;49m\u001b[43merror_score\u001b[49m\u001b[43m,\u001b[49m\n\u001b[1;32m    446\u001b[0m \u001b[43m    \u001b[49m\u001b[43m)\u001b[49m\n\u001b[1;32m    447\u001b[0m \u001b[43m    \u001b[49m\u001b[38;5;28;43;01mfor\u001b[39;49;00m\u001b[43m \u001b[49m\u001b[43mtrain\u001b[49m\u001b[43m,\u001b[49m\u001b[43m \u001b[49m\u001b[43mtest\u001b[49m\u001b[43m \u001b[49m\u001b[38;5;129;43;01min\u001b[39;49;00m\u001b[43m \u001b[49m\u001b[43mindices\u001b[49m\n\u001b[1;32m    448\u001b[0m \u001b[43m\u001b[49m\u001b[43m)\u001b[49m\n\u001b[1;32m    450\u001b[0m _warn_or_raise_about_fit_failures(results, error_score)\n\u001b[1;32m    452\u001b[0m \u001b[38;5;66;03m# For callable scoring, the return type is only know after calling. If the\u001b[39;00m\n\u001b[1;32m    453\u001b[0m \u001b[38;5;66;03m# return type is a dictionary, the error scores can now be inserted with\u001b[39;00m\n\u001b[1;32m    454\u001b[0m \u001b[38;5;66;03m# the correct key.\u001b[39;00m\n",
      "File \u001b[0;32m~/anaconda3/envs/py/lib/python3.10/site-packages/sklearn/utils/parallel.py:67\u001b[0m, in \u001b[0;36mParallel.__call__\u001b[0;34m(self, iterable)\u001b[0m\n\u001b[1;32m     62\u001b[0m config \u001b[38;5;241m=\u001b[39m get_config()\n\u001b[1;32m     63\u001b[0m iterable_with_config \u001b[38;5;241m=\u001b[39m (\n\u001b[1;32m     64\u001b[0m     (_with_config(delayed_func, config), args, kwargs)\n\u001b[1;32m     65\u001b[0m     \u001b[38;5;28;01mfor\u001b[39;00m delayed_func, args, kwargs \u001b[38;5;129;01min\u001b[39;00m iterable\n\u001b[1;32m     66\u001b[0m )\n\u001b[0;32m---> 67\u001b[0m \u001b[38;5;28;01mreturn\u001b[39;00m \u001b[38;5;28;43msuper\u001b[39;49m\u001b[43m(\u001b[49m\u001b[43m)\u001b[49m\u001b[38;5;241;43m.\u001b[39;49m\u001b[38;5;21;43m__call__\u001b[39;49m\u001b[43m(\u001b[49m\u001b[43miterable_with_config\u001b[49m\u001b[43m)\u001b[49m\n",
      "File \u001b[0;32m~/anaconda3/envs/py/lib/python3.10/site-packages/joblib/parallel.py:1918\u001b[0m, in \u001b[0;36mParallel.__call__\u001b[0;34m(self, iterable)\u001b[0m\n\u001b[1;32m   1916\u001b[0m     output \u001b[38;5;241m=\u001b[39m \u001b[38;5;28mself\u001b[39m\u001b[38;5;241m.\u001b[39m_get_sequential_output(iterable)\n\u001b[1;32m   1917\u001b[0m     \u001b[38;5;28mnext\u001b[39m(output)\n\u001b[0;32m-> 1918\u001b[0m     \u001b[38;5;28;01mreturn\u001b[39;00m output \u001b[38;5;28;01mif\u001b[39;00m \u001b[38;5;28mself\u001b[39m\u001b[38;5;241m.\u001b[39mreturn_generator \u001b[38;5;28;01melse\u001b[39;00m \u001b[38;5;28;43mlist\u001b[39;49m\u001b[43m(\u001b[49m\u001b[43moutput\u001b[49m\u001b[43m)\u001b[49m\n\u001b[1;32m   1920\u001b[0m \u001b[38;5;66;03m# Let's create an ID that uniquely identifies the current call. If the\u001b[39;00m\n\u001b[1;32m   1921\u001b[0m \u001b[38;5;66;03m# call is interrupted early and that the same instance is immediately\u001b[39;00m\n\u001b[1;32m   1922\u001b[0m \u001b[38;5;66;03m# re-used, this id will be used to prevent workers that were\u001b[39;00m\n\u001b[1;32m   1923\u001b[0m \u001b[38;5;66;03m# concurrently finalizing a task from the previous call to run the\u001b[39;00m\n\u001b[1;32m   1924\u001b[0m \u001b[38;5;66;03m# callback.\u001b[39;00m\n\u001b[1;32m   1925\u001b[0m \u001b[38;5;28;01mwith\u001b[39;00m \u001b[38;5;28mself\u001b[39m\u001b[38;5;241m.\u001b[39m_lock:\n",
      "File \u001b[0;32m~/anaconda3/envs/py/lib/python3.10/site-packages/joblib/parallel.py:1847\u001b[0m, in \u001b[0;36mParallel._get_sequential_output\u001b[0;34m(self, iterable)\u001b[0m\n\u001b[1;32m   1845\u001b[0m \u001b[38;5;28mself\u001b[39m\u001b[38;5;241m.\u001b[39mn_dispatched_batches \u001b[38;5;241m+\u001b[39m\u001b[38;5;241m=\u001b[39m \u001b[38;5;241m1\u001b[39m\n\u001b[1;32m   1846\u001b[0m \u001b[38;5;28mself\u001b[39m\u001b[38;5;241m.\u001b[39mn_dispatched_tasks \u001b[38;5;241m+\u001b[39m\u001b[38;5;241m=\u001b[39m \u001b[38;5;241m1\u001b[39m\n\u001b[0;32m-> 1847\u001b[0m res \u001b[38;5;241m=\u001b[39m \u001b[43mfunc\u001b[49m\u001b[43m(\u001b[49m\u001b[38;5;241;43m*\u001b[39;49m\u001b[43margs\u001b[49m\u001b[43m,\u001b[49m\u001b[43m \u001b[49m\u001b[38;5;241;43m*\u001b[39;49m\u001b[38;5;241;43m*\u001b[39;49m\u001b[43mkwargs\u001b[49m\u001b[43m)\u001b[49m\n\u001b[1;32m   1848\u001b[0m \u001b[38;5;28mself\u001b[39m\u001b[38;5;241m.\u001b[39mn_completed_tasks \u001b[38;5;241m+\u001b[39m\u001b[38;5;241m=\u001b[39m \u001b[38;5;241m1\u001b[39m\n\u001b[1;32m   1849\u001b[0m \u001b[38;5;28mself\u001b[39m\u001b[38;5;241m.\u001b[39mprint_progress()\n",
      "File \u001b[0;32m~/anaconda3/envs/py/lib/python3.10/site-packages/sklearn/utils/parallel.py:129\u001b[0m, in \u001b[0;36m_FuncWrapper.__call__\u001b[0;34m(self, *args, **kwargs)\u001b[0m\n\u001b[1;32m    127\u001b[0m     config \u001b[38;5;241m=\u001b[39m {}\n\u001b[1;32m    128\u001b[0m \u001b[38;5;28;01mwith\u001b[39;00m config_context(\u001b[38;5;241m*\u001b[39m\u001b[38;5;241m*\u001b[39mconfig):\n\u001b[0;32m--> 129\u001b[0m     \u001b[38;5;28;01mreturn\u001b[39;00m \u001b[38;5;28;43mself\u001b[39;49m\u001b[38;5;241;43m.\u001b[39;49m\u001b[43mfunction\u001b[49m\u001b[43m(\u001b[49m\u001b[38;5;241;43m*\u001b[39;49m\u001b[43margs\u001b[49m\u001b[43m,\u001b[49m\u001b[43m \u001b[49m\u001b[38;5;241;43m*\u001b[39;49m\u001b[38;5;241;43m*\u001b[39;49m\u001b[43mkwargs\u001b[49m\u001b[43m)\u001b[49m\n",
      "File \u001b[0;32m~/anaconda3/envs/py/lib/python3.10/site-packages/sklearn/model_selection/_validation.py:895\u001b[0m, in \u001b[0;36m_fit_and_score\u001b[0;34m(estimator, X, y, scorer, train, test, verbose, parameters, fit_params, score_params, return_train_score, return_parameters, return_n_test_samples, return_times, return_estimator, split_progress, candidate_progress, error_score)\u001b[0m\n\u001b[1;32m    893\u001b[0m         estimator\u001b[38;5;241m.\u001b[39mfit(X_train, \u001b[38;5;241m*\u001b[39m\u001b[38;5;241m*\u001b[39mfit_params)\n\u001b[1;32m    894\u001b[0m     \u001b[38;5;28;01melse\u001b[39;00m:\n\u001b[0;32m--> 895\u001b[0m         \u001b[43mestimator\u001b[49m\u001b[38;5;241;43m.\u001b[39;49m\u001b[43mfit\u001b[49m\u001b[43m(\u001b[49m\u001b[43mX_train\u001b[49m\u001b[43m,\u001b[49m\u001b[43m \u001b[49m\u001b[43my_train\u001b[49m\u001b[43m,\u001b[49m\u001b[43m \u001b[49m\u001b[38;5;241;43m*\u001b[39;49m\u001b[38;5;241;43m*\u001b[39;49m\u001b[43mfit_params\u001b[49m\u001b[43m)\u001b[49m\n\u001b[1;32m    897\u001b[0m \u001b[38;5;28;01mexcept\u001b[39;00m \u001b[38;5;167;01mException\u001b[39;00m:\n\u001b[1;32m    898\u001b[0m     \u001b[38;5;66;03m# Note fit time as time until error\u001b[39;00m\n\u001b[1;32m    899\u001b[0m     fit_time \u001b[38;5;241m=\u001b[39m time\u001b[38;5;241m.\u001b[39mtime() \u001b[38;5;241m-\u001b[39m start_time\n",
      "File \u001b[0;32m~/anaconda3/envs/py/lib/python3.10/site-packages/catboost/core.py:5873\u001b[0m, in \u001b[0;36mCatBoostRegressor.fit\u001b[0;34m(self, X, y, cat_features, text_features, embedding_features, graph, sample_weight, baseline, use_best_model, eval_set, verbose, logging_level, plot, plot_file, column_description, verbose_eval, metric_period, silent, early_stopping_rounds, save_snapshot, snapshot_file, snapshot_interval, init_model, callbacks, log_cout, log_cerr)\u001b[0m\n\u001b[1;32m   5871\u001b[0m \u001b[38;5;28;01mif\u001b[39;00m \u001b[38;5;124m'\u001b[39m\u001b[38;5;124mloss_function\u001b[39m\u001b[38;5;124m'\u001b[39m \u001b[38;5;129;01min\u001b[39;00m params:\n\u001b[1;32m   5872\u001b[0m     CatBoostRegressor\u001b[38;5;241m.\u001b[39m_check_is_compatible_loss(params[\u001b[38;5;124m'\u001b[39m\u001b[38;5;124mloss_function\u001b[39m\u001b[38;5;124m'\u001b[39m])\n\u001b[0;32m-> 5873\u001b[0m \u001b[38;5;28;01mreturn\u001b[39;00m \u001b[38;5;28;43mself\u001b[39;49m\u001b[38;5;241;43m.\u001b[39;49m\u001b[43m_fit\u001b[49m\u001b[43m(\u001b[49m\u001b[43mX\u001b[49m\u001b[43m,\u001b[49m\u001b[43m \u001b[49m\u001b[43my\u001b[49m\u001b[43m,\u001b[49m\u001b[43m \u001b[49m\u001b[43mcat_features\u001b[49m\u001b[43m,\u001b[49m\u001b[43m \u001b[49m\u001b[43mtext_features\u001b[49m\u001b[43m,\u001b[49m\u001b[43m \u001b[49m\u001b[43membedding_features\u001b[49m\u001b[43m,\u001b[49m\u001b[43m \u001b[49m\u001b[38;5;28;43;01mNone\u001b[39;49;00m\u001b[43m,\u001b[49m\u001b[43m \u001b[49m\u001b[43mgraph\u001b[49m\u001b[43m,\u001b[49m\u001b[43m \u001b[49m\u001b[43msample_weight\u001b[49m\u001b[43m,\u001b[49m\u001b[43m \u001b[49m\u001b[38;5;28;43;01mNone\u001b[39;49;00m\u001b[43m,\u001b[49m\u001b[43m \u001b[49m\u001b[38;5;28;43;01mNone\u001b[39;49;00m\u001b[43m,\u001b[49m\u001b[43m \u001b[49m\u001b[38;5;28;43;01mNone\u001b[39;49;00m\u001b[43m,\u001b[49m\u001b[43m \u001b[49m\u001b[38;5;28;43;01mNone\u001b[39;49;00m\u001b[43m,\u001b[49m\u001b[43m \u001b[49m\u001b[43mbaseline\u001b[49m\u001b[43m,\u001b[49m\n\u001b[1;32m   5874\u001b[0m \u001b[43m                 \u001b[49m\u001b[43muse_best_model\u001b[49m\u001b[43m,\u001b[49m\u001b[43m \u001b[49m\u001b[43meval_set\u001b[49m\u001b[43m,\u001b[49m\u001b[43m \u001b[49m\u001b[43mverbose\u001b[49m\u001b[43m,\u001b[49m\u001b[43m \u001b[49m\u001b[43mlogging_level\u001b[49m\u001b[43m,\u001b[49m\u001b[43m \u001b[49m\u001b[43mplot\u001b[49m\u001b[43m,\u001b[49m\u001b[43m \u001b[49m\u001b[43mplot_file\u001b[49m\u001b[43m,\u001b[49m\u001b[43m \u001b[49m\u001b[43mcolumn_description\u001b[49m\u001b[43m,\u001b[49m\n\u001b[1;32m   5875\u001b[0m \u001b[43m                 \u001b[49m\u001b[43mverbose_eval\u001b[49m\u001b[43m,\u001b[49m\u001b[43m \u001b[49m\u001b[43mmetric_period\u001b[49m\u001b[43m,\u001b[49m\u001b[43m \u001b[49m\u001b[43msilent\u001b[49m\u001b[43m,\u001b[49m\u001b[43m \u001b[49m\u001b[43mearly_stopping_rounds\u001b[49m\u001b[43m,\u001b[49m\n\u001b[1;32m   5876\u001b[0m \u001b[43m                 \u001b[49m\u001b[43msave_snapshot\u001b[49m\u001b[43m,\u001b[49m\u001b[43m \u001b[49m\u001b[43msnapshot_file\u001b[49m\u001b[43m,\u001b[49m\u001b[43m \u001b[49m\u001b[43msnapshot_interval\u001b[49m\u001b[43m,\u001b[49m\u001b[43m \u001b[49m\u001b[43minit_model\u001b[49m\u001b[43m,\u001b[49m\u001b[43m \u001b[49m\u001b[43mcallbacks\u001b[49m\u001b[43m,\u001b[49m\u001b[43m \u001b[49m\u001b[43mlog_cout\u001b[49m\u001b[43m,\u001b[49m\u001b[43m \u001b[49m\u001b[43mlog_cerr\u001b[49m\u001b[43m)\u001b[49m\n",
      "File \u001b[0;32m~/anaconda3/envs/py/lib/python3.10/site-packages/catboost/core.py:2410\u001b[0m, in \u001b[0;36mCatBoost._fit\u001b[0;34m(self, X, y, cat_features, text_features, embedding_features, pairs, graph, sample_weight, group_id, group_weight, subgroup_id, pairs_weight, baseline, use_best_model, eval_set, verbose, logging_level, plot, plot_file, column_description, verbose_eval, metric_period, silent, early_stopping_rounds, save_snapshot, snapshot_file, snapshot_interval, init_model, callbacks, log_cout, log_cerr)\u001b[0m\n\u001b[1;32m   2407\u001b[0m allow_clear_pool \u001b[38;5;241m=\u001b[39m train_params[\u001b[38;5;124m\"\u001b[39m\u001b[38;5;124mallow_clear_pool\u001b[39m\u001b[38;5;124m\"\u001b[39m]\n\u001b[1;32m   2409\u001b[0m \u001b[38;5;28;01mwith\u001b[39;00m plot_wrapper(plot, plot_file, \u001b[38;5;124m'\u001b[39m\u001b[38;5;124mTraining plots\u001b[39m\u001b[38;5;124m'\u001b[39m, [_get_train_dir(\u001b[38;5;28mself\u001b[39m\u001b[38;5;241m.\u001b[39mget_params())]):\n\u001b[0;32m-> 2410\u001b[0m     \u001b[38;5;28;43mself\u001b[39;49m\u001b[38;5;241;43m.\u001b[39;49m\u001b[43m_train\u001b[49m\u001b[43m(\u001b[49m\n\u001b[1;32m   2411\u001b[0m \u001b[43m        \u001b[49m\u001b[43mtrain_pool\u001b[49m\u001b[43m,\u001b[49m\n\u001b[1;32m   2412\u001b[0m \u001b[43m        \u001b[49m\u001b[43mtrain_params\u001b[49m\u001b[43m[\u001b[49m\u001b[38;5;124;43m\"\u001b[39;49m\u001b[38;5;124;43meval_sets\u001b[39;49m\u001b[38;5;124;43m\"\u001b[39;49m\u001b[43m]\u001b[49m\u001b[43m,\u001b[49m\n\u001b[1;32m   2413\u001b[0m \u001b[43m        \u001b[49m\u001b[43mparams\u001b[49m\u001b[43m,\u001b[49m\n\u001b[1;32m   2414\u001b[0m \u001b[43m        \u001b[49m\u001b[43mallow_clear_pool\u001b[49m\u001b[43m,\u001b[49m\n\u001b[1;32m   2415\u001b[0m \u001b[43m        \u001b[49m\u001b[43mtrain_params\u001b[49m\u001b[43m[\u001b[49m\u001b[38;5;124;43m\"\u001b[39;49m\u001b[38;5;124;43minit_model\u001b[39;49m\u001b[38;5;124;43m\"\u001b[39;49m\u001b[43m]\u001b[49m\n\u001b[1;32m   2416\u001b[0m \u001b[43m    \u001b[49m\u001b[43m)\u001b[49m\n\u001b[1;32m   2418\u001b[0m \u001b[38;5;66;03m# Have property feature_importance possibly set\u001b[39;00m\n\u001b[1;32m   2419\u001b[0m loss \u001b[38;5;241m=\u001b[39m \u001b[38;5;28mself\u001b[39m\u001b[38;5;241m.\u001b[39m_object\u001b[38;5;241m.\u001b[39m_get_loss_function_name()\n",
      "File \u001b[0;32m~/anaconda3/envs/py/lib/python3.10/site-packages/catboost/core.py:1790\u001b[0m, in \u001b[0;36m_CatBoostBase._train\u001b[0;34m(self, train_pool, test_pool, params, allow_clear_pool, init_model)\u001b[0m\n\u001b[1;32m   1789\u001b[0m \u001b[38;5;28;01mdef\u001b[39;00m \u001b[38;5;21m_train\u001b[39m(\u001b[38;5;28mself\u001b[39m, train_pool, test_pool, params, allow_clear_pool, init_model):\n\u001b[0;32m-> 1790\u001b[0m     \u001b[38;5;28;43mself\u001b[39;49m\u001b[38;5;241;43m.\u001b[39;49m\u001b[43m_object\u001b[49m\u001b[38;5;241;43m.\u001b[39;49m\u001b[43m_train\u001b[49m\u001b[43m(\u001b[49m\u001b[43mtrain_pool\u001b[49m\u001b[43m,\u001b[49m\u001b[43m \u001b[49m\u001b[43mtest_pool\u001b[49m\u001b[43m,\u001b[49m\u001b[43m \u001b[49m\u001b[43mparams\u001b[49m\u001b[43m,\u001b[49m\u001b[43m \u001b[49m\u001b[43mallow_clear_pool\u001b[49m\u001b[43m,\u001b[49m\u001b[43m \u001b[49m\u001b[43minit_model\u001b[49m\u001b[38;5;241;43m.\u001b[39;49m\u001b[43m_object\u001b[49m\u001b[43m \u001b[49m\u001b[38;5;28;43;01mif\u001b[39;49;00m\u001b[43m \u001b[49m\u001b[43minit_model\u001b[49m\u001b[43m \u001b[49m\u001b[38;5;28;43;01melse\u001b[39;49;00m\u001b[43m \u001b[49m\u001b[38;5;28;43;01mNone\u001b[39;49;00m\u001b[43m)\u001b[49m\n\u001b[1;32m   1791\u001b[0m     \u001b[38;5;28mself\u001b[39m\u001b[38;5;241m.\u001b[39m_set_trained_model_attributes()\n",
      "File \u001b[0;32m_catboost.pyx:5017\u001b[0m, in \u001b[0;36m_catboost._CatBoost._train\u001b[0;34m()\u001b[0m\n",
      "File \u001b[0;32m_catboost.pyx:5066\u001b[0m, in \u001b[0;36m_catboost._CatBoost._train\u001b[0;34m()\u001b[0m\n",
      "\u001b[0;31mKeyboardInterrupt\u001b[0m: "
     ]
    }
   ],
   "source": [
    "features_selection(-0.28123876715704277, current_list)"
   ]
  },
  {
   "cell_type": "code",
   "execution_count": null,
   "id": "92290933-3c34-4494-969b-b9920b702887",
   "metadata": {},
   "outputs": [],
   "source": []
  }
 ],
 "metadata": {
  "kernelspec": {
   "display_name": "Python 3 (ipykernel)",
   "language": "python",
   "name": "python3"
  },
  "language_info": {
   "codemirror_mode": {
    "name": "ipython",
    "version": 3
   },
   "file_extension": ".py",
   "mimetype": "text/x-python",
   "name": "python",
   "nbconvert_exporter": "python",
   "pygments_lexer": "ipython3",
   "version": "3.10.14"
  }
 },
 "nbformat": 4,
 "nbformat_minor": 5
}
