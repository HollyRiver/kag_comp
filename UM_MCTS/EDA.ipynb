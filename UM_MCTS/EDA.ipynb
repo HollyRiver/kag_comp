{
 "cells": [
  {
   "cell_type": "markdown",
   "id": "b7947936-0c42-4d02-b106-1b4bcee6013c",
   "metadata": {},
   "source": [
    "### **남은 Task : GameRulesetName 변수 파악, agent1, agent2 변수 파악 등**"
   ]
  },
  {
   "cell_type": "markdown",
   "id": "99b14382-b90d-4efa-b9d7-42620f44fd4c",
   "metadata": {},
   "source": [
    "## UM - Game-playing Strength of MCTS variants"
   ]
  },
  {
   "cell_type": "markdown",
   "id": "63a13f6a-3077-43f3-a51a-79632a0537ab",
   "metadata": {},
   "source": [
    "### **1. Imports**\n",
    "\n",
    "---"
   ]
  },
  {
   "cell_type": "code",
   "execution_count": 5,
   "id": "a94a3613-81f6-4d72-8db4-a4dbd5b8a5aa",
   "metadata": {},
   "outputs": [],
   "source": [
    "import pandas as pd\n",
    "import numpy as np\n",
    "import torch"
   ]
  },
  {
   "cell_type": "markdown",
   "id": "9f193c4f-3c16-4f99-a197-dcf82b362e4f",
   "metadata": {},
   "source": [
    "### **2. Data**\n",
    "\n",
    "---\n",
    "\n"
   ]
  },
  {
   "cell_type": "code",
   "execution_count": 6,
   "id": "83326130-b64c-41bd-bc5b-333a2afde3e9",
   "metadata": {},
   "outputs": [
    {
     "ename": "ParserError",
     "evalue": "Error tokenizing data. C error: Calling read(nbytes) on source failed. Try engine='python'.",
     "output_type": "error",
     "traceback": [
      "\u001b[0;31m---------------------------------------------------------------------------\u001b[0m",
      "\u001b[0;31mParserError\u001b[0m                               Traceback (most recent call last)",
      "Cell \u001b[0;32mIn[6], line 1\u001b[0m\n\u001b[0;32m----> 1\u001b[0m df_train \u001b[38;5;241m=\u001b[39m \u001b[43mpd\u001b[49m\u001b[38;5;241;43m.\u001b[39;49m\u001b[43mread_csv\u001b[49m\u001b[43m(\u001b[49m\u001b[38;5;124;43m\"\u001b[39;49m\u001b[38;5;124;43m/root/kag_comp/UM_MCTS/Data/train.csv\u001b[39;49m\u001b[38;5;124;43m\"\u001b[39;49m\u001b[43m)\u001b[49m\n\u001b[1;32m      2\u001b[0m df_test \u001b[38;5;241m=\u001b[39m pd\u001b[38;5;241m.\u001b[39mread_csv(\u001b[38;5;124m\"\u001b[39m\u001b[38;5;124m/root/kag_comp/UM_MCTS/Data/test.csv\u001b[39m\u001b[38;5;124m\"\u001b[39m)\n\u001b[1;32m      3\u001b[0m df_concepts \u001b[38;5;241m=\u001b[39m pd\u001b[38;5;241m.\u001b[39mread_csv(\u001b[38;5;124m\"\u001b[39m\u001b[38;5;124m/root/kag_comp/UM_MCTS/Data/concepts.csv\u001b[39m\u001b[38;5;124m\"\u001b[39m)\n",
      "File \u001b[0;32m~/anaconda3/envs/py/lib/python3.10/site-packages/pandas/io/parsers/readers.py:1026\u001b[0m, in \u001b[0;36mread_csv\u001b[0;34m(filepath_or_buffer, sep, delimiter, header, names, index_col, usecols, dtype, engine, converters, true_values, false_values, skipinitialspace, skiprows, skipfooter, nrows, na_values, keep_default_na, na_filter, verbose, skip_blank_lines, parse_dates, infer_datetime_format, keep_date_col, date_parser, date_format, dayfirst, cache_dates, iterator, chunksize, compression, thousands, decimal, lineterminator, quotechar, quoting, doublequote, escapechar, comment, encoding, encoding_errors, dialect, on_bad_lines, delim_whitespace, low_memory, memory_map, float_precision, storage_options, dtype_backend)\u001b[0m\n\u001b[1;32m   1013\u001b[0m kwds_defaults \u001b[38;5;241m=\u001b[39m _refine_defaults_read(\n\u001b[1;32m   1014\u001b[0m     dialect,\n\u001b[1;32m   1015\u001b[0m     delimiter,\n\u001b[0;32m   (...)\u001b[0m\n\u001b[1;32m   1022\u001b[0m     dtype_backend\u001b[38;5;241m=\u001b[39mdtype_backend,\n\u001b[1;32m   1023\u001b[0m )\n\u001b[1;32m   1024\u001b[0m kwds\u001b[38;5;241m.\u001b[39mupdate(kwds_defaults)\n\u001b[0;32m-> 1026\u001b[0m \u001b[38;5;28;01mreturn\u001b[39;00m \u001b[43m_read\u001b[49m\u001b[43m(\u001b[49m\u001b[43mfilepath_or_buffer\u001b[49m\u001b[43m,\u001b[49m\u001b[43m \u001b[49m\u001b[43mkwds\u001b[49m\u001b[43m)\u001b[49m\n",
      "File \u001b[0;32m~/anaconda3/envs/py/lib/python3.10/site-packages/pandas/io/parsers/readers.py:626\u001b[0m, in \u001b[0;36m_read\u001b[0;34m(filepath_or_buffer, kwds)\u001b[0m\n\u001b[1;32m    623\u001b[0m     \u001b[38;5;28;01mreturn\u001b[39;00m parser\n\u001b[1;32m    625\u001b[0m \u001b[38;5;28;01mwith\u001b[39;00m parser:\n\u001b[0;32m--> 626\u001b[0m     \u001b[38;5;28;01mreturn\u001b[39;00m \u001b[43mparser\u001b[49m\u001b[38;5;241;43m.\u001b[39;49m\u001b[43mread\u001b[49m\u001b[43m(\u001b[49m\u001b[43mnrows\u001b[49m\u001b[43m)\u001b[49m\n",
      "File \u001b[0;32m~/anaconda3/envs/py/lib/python3.10/site-packages/pandas/io/parsers/readers.py:1923\u001b[0m, in \u001b[0;36mTextFileReader.read\u001b[0;34m(self, nrows)\u001b[0m\n\u001b[1;32m   1916\u001b[0m nrows \u001b[38;5;241m=\u001b[39m validate_integer(\u001b[38;5;124m\"\u001b[39m\u001b[38;5;124mnrows\u001b[39m\u001b[38;5;124m\"\u001b[39m, nrows)\n\u001b[1;32m   1917\u001b[0m \u001b[38;5;28;01mtry\u001b[39;00m:\n\u001b[1;32m   1918\u001b[0m     \u001b[38;5;66;03m# error: \"ParserBase\" has no attribute \"read\"\u001b[39;00m\n\u001b[1;32m   1919\u001b[0m     (\n\u001b[1;32m   1920\u001b[0m         index,\n\u001b[1;32m   1921\u001b[0m         columns,\n\u001b[1;32m   1922\u001b[0m         col_dict,\n\u001b[0;32m-> 1923\u001b[0m     ) \u001b[38;5;241m=\u001b[39m \u001b[38;5;28;43mself\u001b[39;49m\u001b[38;5;241;43m.\u001b[39;49m\u001b[43m_engine\u001b[49m\u001b[38;5;241;43m.\u001b[39;49m\u001b[43mread\u001b[49m\u001b[43m(\u001b[49m\u001b[43m  \u001b[49m\u001b[38;5;66;43;03m# type: ignore[attr-defined]\u001b[39;49;00m\n\u001b[1;32m   1924\u001b[0m \u001b[43m        \u001b[49m\u001b[43mnrows\u001b[49m\n\u001b[1;32m   1925\u001b[0m \u001b[43m    \u001b[49m\u001b[43m)\u001b[49m\n\u001b[1;32m   1926\u001b[0m \u001b[38;5;28;01mexcept\u001b[39;00m \u001b[38;5;167;01mException\u001b[39;00m:\n\u001b[1;32m   1927\u001b[0m     \u001b[38;5;28mself\u001b[39m\u001b[38;5;241m.\u001b[39mclose()\n",
      "File \u001b[0;32m~/anaconda3/envs/py/lib/python3.10/site-packages/pandas/io/parsers/c_parser_wrapper.py:234\u001b[0m, in \u001b[0;36mCParserWrapper.read\u001b[0;34m(self, nrows)\u001b[0m\n\u001b[1;32m    232\u001b[0m \u001b[38;5;28;01mtry\u001b[39;00m:\n\u001b[1;32m    233\u001b[0m     \u001b[38;5;28;01mif\u001b[39;00m \u001b[38;5;28mself\u001b[39m\u001b[38;5;241m.\u001b[39mlow_memory:\n\u001b[0;32m--> 234\u001b[0m         chunks \u001b[38;5;241m=\u001b[39m \u001b[38;5;28;43mself\u001b[39;49m\u001b[38;5;241;43m.\u001b[39;49m\u001b[43m_reader\u001b[49m\u001b[38;5;241;43m.\u001b[39;49m\u001b[43mread_low_memory\u001b[49m\u001b[43m(\u001b[49m\u001b[43mnrows\u001b[49m\u001b[43m)\u001b[49m\n\u001b[1;32m    235\u001b[0m         \u001b[38;5;66;03m# destructive to chunks\u001b[39;00m\n\u001b[1;32m    236\u001b[0m         data \u001b[38;5;241m=\u001b[39m _concatenate_chunks(chunks)\n",
      "File \u001b[0;32mparsers.pyx:838\u001b[0m, in \u001b[0;36mpandas._libs.parsers.TextReader.read_low_memory\u001b[0;34m()\u001b[0m\n",
      "File \u001b[0;32mparsers.pyx:905\u001b[0m, in \u001b[0;36mpandas._libs.parsers.TextReader._read_rows\u001b[0;34m()\u001b[0m\n",
      "File \u001b[0;32mparsers.pyx:874\u001b[0m, in \u001b[0;36mpandas._libs.parsers.TextReader._tokenize_rows\u001b[0;34m()\u001b[0m\n",
      "File \u001b[0;32mparsers.pyx:891\u001b[0m, in \u001b[0;36mpandas._libs.parsers.TextReader._check_tokenize_status\u001b[0;34m()\u001b[0m\n",
      "File \u001b[0;32mparsers.pyx:2061\u001b[0m, in \u001b[0;36mpandas._libs.parsers.raise_parser_error\u001b[0;34m()\u001b[0m\n",
      "\u001b[0;31mParserError\u001b[0m: Error tokenizing data. C error: Calling read(nbytes) on source failed. Try engine='python'."
     ]
    }
   ],
   "source": [
    "df_train = pd.read_csv(\"/root/kag_comp/UM_MCTS/Data/train.csv\")\n",
    "df_test = pd.read_csv(\"/root/kag_comp/UM_MCTS/Data/test.csv\")\n",
    "df_concepts = pd.read_csv(\"/root/kag_comp/UM_MCTS/Data/concepts.csv\")"
   ]
  },
  {
   "cell_type": "markdown",
   "id": "e37fa1b9-9263-4a70-86af-04539d433005",
   "metadata": {},
   "source": [
    "`-` 컬럼 정보 확인"
   ]
  },
  {
   "cell_type": "code",
   "execution_count": 4,
   "id": "f81d5859-8c3c-4d44-8337-0b304ae94ceb",
   "metadata": {},
   "outputs": [
    {
     "name": "stdout",
     "output_type": "stream",
     "text": [
      "DF shape : (233234, 814)\n",
      "Columns : Index(['Id', 'GameRulesetName', 'agent1', 'agent2', 'Properties', 'Format',\n",
      "       'Time', 'Discrete', 'Realtime', 'Turns',\n",
      "       ...\n",
      "       'DoLudeme', 'Trigger', 'PlayoutsPerSecond', 'MovesPerSecond',\n",
      "       'EnglishRules', 'LudRules', 'num_wins_agent1', 'num_draws_agent1',\n",
      "       'num_losses_agent1', 'utility_agent1'],\n",
      "      dtype='object', length=814)\n",
      "Rules count : 1328\n",
      "Lud Rule count : 1373\n"
     ]
    }
   ],
   "source": [
    "print(f\"DF shape : {df_train.shape}\")\n",
    "print(f\"Columns : {df_train.columns}\")\n",
    "print(f\"Rules count : {df_train.EnglishRules.nunique()}\") ## Natural Language\n",
    "print(f\"Lud Rule count : {df_train.LudRules.nunique()}\")  ## Ludii에서의 게임 언어로 설명"
   ]
  },
  {
   "cell_type": "code",
   "execution_count": 5,
   "id": "f3adc868-1256-4561-9b68-53e6a642df57",
   "metadata": {},
   "outputs": [
    {
     "data": {
      "text/plain": [
       "Id                     int64\n",
       "GameRulesetName       object\n",
       "agent1                object\n",
       "agent2                object\n",
       "Properties             int64\n",
       "                      ...   \n",
       "LudRules              object\n",
       "num_wins_agent1        int64\n",
       "num_draws_agent1       int64\n",
       "num_losses_agent1      int64\n",
       "utility_agent1       float64\n",
       "Length: 814, dtype: object"
      ]
     },
     "execution_count": 5,
     "metadata": {},
     "output_type": "execute_result"
    }
   ],
   "source": [
    "df_train.dtypes"
   ]
  },
  {
   "cell_type": "code",
   "execution_count": 6,
   "id": "79cc20a1-f2dc-4767-8ab4-158f830c3d5f",
   "metadata": {},
   "outputs": [],
   "source": [
    "nlst = []\n",
    "\n",
    "for i in range(4, 806) :\n",
    "    nlst.append(df_train.iloc[:,i].nunique())"
   ]
  },
  {
   "cell_type": "markdown",
   "id": "2a144fcb-42e4-45dc-ae36-c45a68ffd44d",
   "metadata": {},
   "source": [
    "`-` Descriptions of the each columns"
   ]
  },
  {
   "cell_type": "code",
   "execution_count": 7,
   "id": "88460584-2278-4391-9205-9a61081d3a8b",
   "metadata": {},
   "outputs": [
    {
     "name": "stdout",
     "output_type": "stream",
     "text": [
      "[1, 1, 1, 1, 1, 1, 1, 1, 2, 1, 1, 2, 1, 1, 1, 2, 1, 2, 1, 1, 1, 1, 1, 1, 2, 2, 2, 1, 1, 1, 1, 1, 1, 1, 2, 2, 2, 2, 2, 2, 2, 2, 1, 2, 1, 2, 1, 2, 2, 1, 2, 2, 2, 2, 1, 2, 1, 2, 1, 2, 2, 2, 2, 2, 2, 2, 2, 2, 2, 2, 2, 2, 2, 2, 2, 2, 2, 2, 2, 2, 2, 2, 2, 2, 2, 2, 1, 2, 2, 1, 2, 2, 2, 127, 35, 31, 32, 225, 171, 149, 217, 6, 56, 82, 4, 181, 110, 132, 56, 26, 26, 21, 21, 11, 26, 18, 5, 2, 4, 146, 1, 2, 2, 2, 2, 2, 2, 1, 2, 2, 1, 1, 1, 2, 2, 26, 21, 8, 1, 2, 2, 2, 2, 2, 1, 2, 1, 2, 2, 2, 2, 2, 2, 1, 1, 2, 77, 47, 84, 77, 47, 84, 1, 2, 2, 2, 1, 1, 2, 1, 2, 2, 1, 1, 2, 56, 2, 3, 2, 2, 49, 2, 7, 2, 31, 2, 2, 2, 2, 91, 2, 90, 2, 10, 2, 18, 2, 74, 2, 76, 2, 15, 2, 3, 2, 27, 2, 30, 1, 1, 2, 8, 2, 54, 2, 52, 2, 44, 2, 20, 1, 1, 1, 3, 2, 4, 2, 5, 2, 6, 1, 87, 1, 68, 2, 97, 2, 30, 2, 45, 2, 12, 2, 2, 2, 2, 1, 1, 2, 1, 2, 1, 1, 1, 2, 1, 2, 44, 2, 3, 2, 48, 2, 45, 2, 2, 43, 2, 18, 2, 16, 2, 2, 2, 2, 2, 2, 12, 2, 67, 2, 4, 2, 4, 2, 2, 89, 2, 89, 2, 16, 2, 4, 1, 1, 1, 1, 1, 1, 2, 2, 2, 1, 2, 1, 2, 1, 2, 1, 2, 1, 1, 1, 1, 1, 2, 2, 2, 2, 2, 2, 2, 33, 2, 39, 2, 44, 2, 3, 2, 7, 2, 10, 2, 4, 2, 4, 2, 12, 1, 2, 2, 2, 2, 2, 2, 2, 2, 2, 2, 2, 2, 2, 2, 2, 2, 2, 2, 2, 2, 2, 2, 2, 2, 2, 2, 2, 2, 2, 2, 2, 2, 2, 2, 2, 2, 2, 2, 2, 1, 2, 2, 2, 2, 2, 2, 2, 2, 2, 2, 2, 2, 2, 2, 2, 2, 2, 1, 1, 1, 1, 1, 1, 1, 1, 2, 8, 2, 2, 2, 1, 2, 2, 21, 2, 25, 2, 7, 2, 1, 2, 7, 2, 11, 2, 3, 1, 1, 2, 4, 2, 3, 2, 1, 2, 1, 2, 3, 2, 3, 2, 1, 1, 1, 2, 3, 2, 3, 1, 1, 1, 1, 2, 1, 2, 1, 2, 1, 1, 1, 2, 2, 2, 2, 1, 1, 1, 1, 2, 2, 44, 2, 44, 1, 1, 1, 1, 2, 16, 2, 6, 1, 1, 1, 1, 2, 49, 2, 41, 2, 4, 2, 6, 2, 2, 17, 2, 16, 2, 3, 1, 1, 2, 6, 2, 5, 1, 1, 1, 1, 2, 23, 2, 10, 2, 2, 2, 3, 2, 19, 2, 22, 2, 3, 2, 1, 2, 40, 2, 35, 2, 4, 2, 5, 2, 15, 1, 1, 1, 1, 2, 15, 2, 95, 1, 2, 0, 0, 1, 1, 0, 1361, 1338, 1310, 1260, 1295, 0, 91, 1343, 522, 0, 80, 67, 83, 0, 97, 76, 92, 92, 82, 102, 0, 0, 1, 1, 0, 1, 1, 1, 1, 0, 1, 1, 1, 1, 1, 1, 1, 1, 1, 1, 1, 0, 1, 1, 1, 1, 1, 1, 1, 1, 1, 1, 1, 0, 1, 1, 1, 1, 1, 1, 1, 1, 1, 1, 1, 0, 95, 95, 101, 1, 13, 24, 150, 23, 6, 67, 66, 0, 1026, 953, 859, 1, 1144, 217, 113, 198, 9, 1027, 1016, 0, 998, 958, 859, 1, 1118, 215, 112, 199, 14, 1007, 1012, 0, 268, 207, 354, 1, 308, 39, 28, 33, 19, 362, 359, 0, 976, 922, 421, 1, 1028, 194, 152, 184, 6, 57, 302, 0, 121, 82, 208, 1, 183, 50, 18, 36, 1, 187, 79, 2, 2, 2, 2, 2, 2, 2, 2, 2, 1, 1, 1, 1, 2, 1, 1, 2, 2, 2, 2, 2, 2, 2, 2, 2, 2, 2, 2, 2, 2, 2, 1, 2, 2, 2, 2, 2, 2, 2, 2, 1, 2, 2, 2, 2, 2, 2, 2, 2, 2, 2, 2, 2, 2, 2, 2, 2, 2, 2, 2, 2, 2, 2, 2, 2, 2, 2, 2, 2, 2, 2, 2, 2, 1, 2, 2, 2, 2, 2, 2, 2, 2, 2, 2, 2, 2, 2, 2, 2, 2, 2, 2, 2, 2, 2, 2, 2, 2, 2, 2, 1, 1, 1, 1, 1, 1, 1, 1, 2, 2, 2, 2, 2, 2]\n"
     ]
    }
   ],
   "source": [
    "print(nlst)"
   ]
  },
  {
   "cell_type": "code",
   "execution_count": 8,
   "id": "e1a5cd54-5073-4a04-a244-31f339dd88cb",
   "metadata": {},
   "outputs": [
    {
     "name": "stdout",
     "output_type": "stream",
     "text": [
      "Id                   809\n",
      "Name                 809\n",
      "Description          793\n",
      "TypeId                12\n",
      "DataTypeId             3\n",
      "ComputationTypeId      2\n",
      "TaxonomyString       809\n",
      "LeafNode               2\n",
      "ShowOnWebsite          2\n",
      "dtype: int64\n"
     ]
    },
    {
     "data": {
      "text/html": [
       "<div>\n",
       "<style scoped>\n",
       "    .dataframe tbody tr th:only-of-type {\n",
       "        vertical-align: middle;\n",
       "    }\n",
       "\n",
       "    .dataframe tbody tr th {\n",
       "        vertical-align: top;\n",
       "    }\n",
       "\n",
       "    .dataframe thead th {\n",
       "        text-align: right;\n",
       "    }\n",
       "</style>\n",
       "<table border=\"1\" class=\"dataframe\">\n",
       "  <thead>\n",
       "    <tr style=\"text-align: right;\">\n",
       "      <th></th>\n",
       "      <th>Id</th>\n",
       "      <th>Name</th>\n",
       "      <th>Description</th>\n",
       "      <th>TypeId</th>\n",
       "      <th>DataTypeId</th>\n",
       "      <th>ComputationTypeId</th>\n",
       "      <th>TaxonomyString</th>\n",
       "      <th>LeafNode</th>\n",
       "      <th>ShowOnWebsite</th>\n",
       "    </tr>\n",
       "  </thead>\n",
       "  <tbody>\n",
       "    <tr>\n",
       "      <th>0</th>\n",
       "      <td>1</td>\n",
       "      <td>Properties</td>\n",
       "      <td>General properties of the game.</td>\n",
       "      <td>1</td>\n",
       "      <td>1</td>\n",
       "      <td>1</td>\n",
       "      <td>1</td>\n",
       "      <td>0</td>\n",
       "      <td>0</td>\n",
       "    </tr>\n",
       "    <tr>\n",
       "      <th>1</th>\n",
       "      <td>2</td>\n",
       "      <td>Format</td>\n",
       "      <td>Format of the game.</td>\n",
       "      <td>1</td>\n",
       "      <td>1</td>\n",
       "      <td>1</td>\n",
       "      <td>1.1</td>\n",
       "      <td>0</td>\n",
       "      <td>0</td>\n",
       "    </tr>\n",
       "    <tr>\n",
       "      <th>2</th>\n",
       "      <td>3</td>\n",
       "      <td>Time</td>\n",
       "      <td>Time model.</td>\n",
       "      <td>1</td>\n",
       "      <td>1</td>\n",
       "      <td>1</td>\n",
       "      <td>1.1.1</td>\n",
       "      <td>0</td>\n",
       "      <td>0</td>\n",
       "    </tr>\n",
       "    <tr>\n",
       "      <th>3</th>\n",
       "      <td>4</td>\n",
       "      <td>Discrete</td>\n",
       "      <td>Players move at discrete intervals.</td>\n",
       "      <td>1</td>\n",
       "      <td>1</td>\n",
       "      <td>1</td>\n",
       "      <td>1.1.1.1</td>\n",
       "      <td>1</td>\n",
       "      <td>1</td>\n",
       "    </tr>\n",
       "    <tr>\n",
       "      <th>4</th>\n",
       "      <td>5</td>\n",
       "      <td>Realtime</td>\n",
       "      <td>Moves not discrete.</td>\n",
       "      <td>1</td>\n",
       "      <td>1</td>\n",
       "      <td>1</td>\n",
       "      <td>1.1.1.2</td>\n",
       "      <td>1</td>\n",
       "      <td>1</td>\n",
       "    </tr>\n",
       "    <tr>\n",
       "      <th>5</th>\n",
       "      <td>6</td>\n",
       "      <td>Turns</td>\n",
       "      <td>Player turns.</td>\n",
       "      <td>1</td>\n",
       "      <td>1</td>\n",
       "      <td>1</td>\n",
       "      <td>1.1.2</td>\n",
       "      <td>0</td>\n",
       "      <td>0</td>\n",
       "    </tr>\n",
       "    <tr>\n",
       "      <th>6</th>\n",
       "      <td>7</td>\n",
       "      <td>Alternating</td>\n",
       "      <td>Players take turns moving.</td>\n",
       "      <td>1</td>\n",
       "      <td>1</td>\n",
       "      <td>1</td>\n",
       "      <td>1.1.2.1</td>\n",
       "      <td>1</td>\n",
       "      <td>1</td>\n",
       "    </tr>\n",
       "    <tr>\n",
       "      <th>7</th>\n",
       "      <td>8</td>\n",
       "      <td>Simultaneous</td>\n",
       "      <td>Players can move at the same time.</td>\n",
       "      <td>1</td>\n",
       "      <td>1</td>\n",
       "      <td>1</td>\n",
       "      <td>1.1.2.2</td>\n",
       "      <td>1</td>\n",
       "      <td>1</td>\n",
       "    </tr>\n",
       "    <tr>\n",
       "      <th>8</th>\n",
       "      <td>9</td>\n",
       "      <td>Stochastic</td>\n",
       "      <td>Game involves chance elements.</td>\n",
       "      <td>1</td>\n",
       "      <td>1</td>\n",
       "      <td>1</td>\n",
       "      <td>1.1.3</td>\n",
       "      <td>1</td>\n",
       "      <td>1</td>\n",
       "    </tr>\n",
       "    <tr>\n",
       "      <th>9</th>\n",
       "      <td>10</td>\n",
       "      <td>HiddenInformation</td>\n",
       "      <td>Game involves hidden information.</td>\n",
       "      <td>1</td>\n",
       "      <td>1</td>\n",
       "      <td>1</td>\n",
       "      <td>1.1.4</td>\n",
       "      <td>1</td>\n",
       "      <td>1</td>\n",
       "    </tr>\n",
       "  </tbody>\n",
       "</table>\n",
       "</div>"
      ],
      "text/plain": [
       "   Id               Name                          Description  TypeId  \\\n",
       "0   1         Properties      General properties of the game.       1   \n",
       "1   2             Format                  Format of the game.       1   \n",
       "2   3               Time                          Time model.       1   \n",
       "3   4           Discrete  Players move at discrete intervals.       1   \n",
       "4   5           Realtime                  Moves not discrete.       1   \n",
       "5   6              Turns                        Player turns.       1   \n",
       "6   7        Alternating           Players take turns moving.       1   \n",
       "7   8       Simultaneous   Players can move at the same time.       1   \n",
       "8   9         Stochastic       Game involves chance elements.       1   \n",
       "9  10  HiddenInformation    Game involves hidden information.       1   \n",
       "\n",
       "   DataTypeId  ComputationTypeId TaxonomyString  LeafNode  ShowOnWebsite  \n",
       "0           1                  1              1         0              0  \n",
       "1           1                  1            1.1         0              0  \n",
       "2           1                  1          1.1.1         0              0  \n",
       "3           1                  1        1.1.1.1         1              1  \n",
       "4           1                  1        1.1.1.2         1              1  \n",
       "5           1                  1          1.1.2         0              0  \n",
       "6           1                  1        1.1.2.1         1              1  \n",
       "7           1                  1        1.1.2.2         1              1  \n",
       "8           1                  1          1.1.3         1              1  \n",
       "9           1                  1          1.1.4         1              1  "
      ]
     },
     "metadata": {},
     "output_type": "display_data"
    }
   ],
   "source": [
    "print(df_concepts.nunique())\n",
    "display(df_concepts.head(10))"
   ]
  },
  {
   "cell_type": "markdown",
   "id": "eda6e9d4-fb7b-4dd9-83eb-cc39c4d069c8",
   "metadata": {},
   "source": [
    "> 리프 노드에 해당하는 열만 유의미할 것으로 판단됨. 다른 열 정보는 필요 없음(아마도)\n",
    ">\n",
    "> 단, TypeId 별로 변수들을 구분하는 것은 필요할듯."
   ]
  },
  {
   "cell_type": "markdown",
   "id": "2cfe2eb2-9adb-47a1-9d58-f342bf852f02",
   "metadata": {},
   "source": [
    "* 리프노드라고 해도 값이 하나밖에 없는 경우도 있으며, 리프노드가 아니라고 해도 값이 여러개인 경우도 있음."
   ]
  },
  {
   "cell_type": "code",
   "execution_count": 9,
   "id": "ec16f902",
   "metadata": {},
   "outputs": [],
   "source": [
    "# ## LeafNode의 수 : 568\n",
    "# list(np.array(df_concepts.Name[df_concepts.LeafNode == 1]))[:564]\n",
    "\n",
    "# ## 나머지 : 241\n",
    "# list(np.array(df_concepts.Name[df_concepts.LeafNode == 0]))[:-1]"
   ]
  },
  {
   "cell_type": "code",
   "execution_count": 10,
   "id": "f73c3934",
   "metadata": {},
   "outputs": [
    {
     "data": {
      "text/plain": [
       "1"
      ]
     },
     "execution_count": 10,
     "metadata": {},
     "output_type": "execute_result"
    }
   ],
   "source": [
    "## 모든 게임의 플레이어는 2명\n",
    "df_train.TwoPlayer.nunique()"
   ]
  },
  {
   "cell_type": "code",
   "execution_count": 11,
   "id": "db201666",
   "metadata": {},
   "outputs": [
    {
     "data": {
      "text/plain": [
       "Discrete                1\n",
       "Realtime                1\n",
       "Alternating             1\n",
       "Simultaneous            1\n",
       "Stochastic              2\n",
       "HiddenInformation       1\n",
       "Match                   1\n",
       "AsymmetricPlayRules     1\n",
       "AsymmetricEndRules      1\n",
       "AsymmetricSetup         1\n",
       "AsymmetricPiecesType    2\n",
       "Simulation              1\n",
       "Solitaire               1\n",
       "TwoPlayer               1\n",
       "Multiplayer             1\n",
       "Team                    2\n",
       "Coalition               1\n",
       "DeductionPuzzle         1\n",
       "PlanningPuzzle          1\n",
       "SquareShape             2\n",
       "dtype: int64"
      ]
     },
     "execution_count": 11,
     "metadata": {},
     "output_type": "execute_result"
    }
   ],
   "source": [
    "df_train.loc[:, list(np.array(df_concepts.Name[df_concepts.LeafNode == 1]))[:564]].nunique()[0:20]\n",
    "# df_train.loc[:, list(np.array(df_concepts.Name[df_concepts.LeafNode == 0]))[:-1]].nunique()[0:20]"
   ]
  },
  {
   "cell_type": "code",
   "execution_count": 12,
   "id": "3735cd43",
   "metadata": {},
   "outputs": [
    {
     "data": {
      "text/plain": [
       "Properties              1\n",
       "Format                  1\n",
       "Time                    1\n",
       "Turns                   1\n",
       "Asymmetric              2\n",
       "                       ..\n",
       "InternalCounter         2\n",
       "SetHidden               1\n",
       "Efficiency              2\n",
       "AlquerqueBoard          2\n",
       "ThreeMensMorrisBoard    2\n",
       "Length: 240, dtype: int64"
      ]
     },
     "execution_count": 12,
     "metadata": {},
     "output_type": "execute_result"
    }
   ],
   "source": [
    "df_train.loc[:, list(np.array(df_concepts.Name[df_concepts.LeafNode == 1]))[:564]].nunique()\n",
    "df_train.loc[:, list(np.array(df_concepts.Name[df_concepts.LeafNode == 0]))[:-1]].nunique()"
   ]
  },
  {
   "cell_type": "code",
   "execution_count": 13,
   "id": "25d3334f",
   "metadata": {},
   "outputs": [
    {
     "data": {
      "text/plain": [
       "array([0, 1])"
      ]
     },
     "execution_count": 13,
     "metadata": {},
     "output_type": "execute_result"
    }
   ],
   "source": [
    "df_train.loc[:, list(np.array(df_concepts.Name[df_concepts.LeafNode == 0]))[:-1]].Asymmetric.unique()"
   ]
  },
  {
   "cell_type": "code",
   "execution_count": 14,
   "id": "72c14bf3",
   "metadata": {},
   "outputs": [
    {
     "data": {
      "text/html": [
       "<div>\n",
       "<style scoped>\n",
       "    .dataframe tbody tr th:only-of-type {\n",
       "        vertical-align: middle;\n",
       "    }\n",
       "\n",
       "    .dataframe tbody tr th {\n",
       "        vertical-align: top;\n",
       "    }\n",
       "\n",
       "    .dataframe thead th {\n",
       "        text-align: right;\n",
       "    }\n",
       "</style>\n",
       "<table border=\"1\" class=\"dataframe\">\n",
       "  <thead>\n",
       "    <tr style=\"text-align: right;\">\n",
       "      <th></th>\n",
       "      <th>Id</th>\n",
       "      <th>Name</th>\n",
       "      <th>Description</th>\n",
       "      <th>TypeId</th>\n",
       "      <th>DataTypeId</th>\n",
       "      <th>ComputationTypeId</th>\n",
       "      <th>TaxonomyString</th>\n",
       "      <th>LeafNode</th>\n",
       "      <th>ShowOnWebsite</th>\n",
       "    </tr>\n",
       "  </thead>\n",
       "  <tbody>\n",
       "    <tr>\n",
       "      <th>15</th>\n",
       "      <td>16</td>\n",
       "      <td>AsymmetricForces</td>\n",
       "      <td>Players have different forces.</td>\n",
       "      <td>1</td>\n",
       "      <td>1</td>\n",
       "      <td>1</td>\n",
       "      <td>1.1.6.2</td>\n",
       "      <td>0</td>\n",
       "      <td>1</td>\n",
       "    </tr>\n",
       "  </tbody>\n",
       "</table>\n",
       "</div>"
      ],
      "text/plain": [
       "    Id              Name                     Description  TypeId  DataTypeId  \\\n",
       "15  16  AsymmetricForces  Players have different forces.       1           1   \n",
       "\n",
       "    ComputationTypeId TaxonomyString  LeafNode  ShowOnWebsite  \n",
       "15                  1        1.1.6.2         0              1  "
      ]
     },
     "execution_count": 14,
     "metadata": {},
     "output_type": "execute_result"
    }
   ],
   "source": [
    "df_concepts.loc[(df_concepts.Name == 'AsymmetricForces'),:]"
   ]
  },
  {
   "cell_type": "code",
   "execution_count": 15,
   "id": "2fe8a225",
   "metadata": {},
   "outputs": [
    {
     "data": {
      "text/plain": [
       "0"
      ]
     },
     "execution_count": 15,
     "metadata": {},
     "output_type": "execute_result"
    }
   ],
   "source": [
    "df_train.loc[:, list(np.array(df_concepts.Name[df_concepts.LeafNode == 0]))[:-1]].nunique().map(lambda x : True if x > 2 else False).sum()"
   ]
  },
  {
   "cell_type": "markdown",
   "id": "fe1275f4",
   "metadata": {},
   "source": [
    "> 리프 노드만 유의미한 값을 가지는 것은 아닌가봄, 단, 리프 노드가 아닌 것에서는 최소한 값이 바이너리를 넘어가지 않았음."
   ]
  },
  {
   "cell_type": "code",
   "execution_count": 16,
   "id": "dc804765-2797-4565-9dc1-d29a40698abe",
   "metadata": {},
   "outputs": [
    {
     "data": {
      "text/html": [
       "<div>\n",
       "<style scoped>\n",
       "    .dataframe tbody tr th:only-of-type {\n",
       "        vertical-align: middle;\n",
       "    }\n",
       "\n",
       "    .dataframe tbody tr th {\n",
       "        vertical-align: top;\n",
       "    }\n",
       "\n",
       "    .dataframe thead th {\n",
       "        text-align: right;\n",
       "    }\n",
       "</style>\n",
       "<table border=\"1\" class=\"dataframe\">\n",
       "  <thead>\n",
       "    <tr style=\"text-align: right;\">\n",
       "      <th></th>\n",
       "      <th>num_wins_agent1</th>\n",
       "      <th>num_draws_agent1</th>\n",
       "      <th>num_losses_agent1</th>\n",
       "      <th>utility_agent1</th>\n",
       "    </tr>\n",
       "  </thead>\n",
       "  <tbody>\n",
       "    <tr>\n",
       "      <th>0</th>\n",
       "      <td>4</td>\n",
       "      <td>0</td>\n",
       "      <td>11</td>\n",
       "      <td>-0.466667</td>\n",
       "    </tr>\n",
       "    <tr>\n",
       "      <th>1</th>\n",
       "      <td>5</td>\n",
       "      <td>0</td>\n",
       "      <td>10</td>\n",
       "      <td>-0.333333</td>\n",
       "    </tr>\n",
       "    <tr>\n",
       "      <th>2</th>\n",
       "      <td>7</td>\n",
       "      <td>0</td>\n",
       "      <td>8</td>\n",
       "      <td>-0.066667</td>\n",
       "    </tr>\n",
       "    <tr>\n",
       "      <th>3</th>\n",
       "      <td>5</td>\n",
       "      <td>0</td>\n",
       "      <td>10</td>\n",
       "      <td>-0.333333</td>\n",
       "    </tr>\n",
       "    <tr>\n",
       "      <th>4</th>\n",
       "      <td>5</td>\n",
       "      <td>0</td>\n",
       "      <td>10</td>\n",
       "      <td>-0.333333</td>\n",
       "    </tr>\n",
       "    <tr>\n",
       "      <th>...</th>\n",
       "      <td>...</td>\n",
       "      <td>...</td>\n",
       "      <td>...</td>\n",
       "      <td>...</td>\n",
       "    </tr>\n",
       "    <tr>\n",
       "      <th>233229</th>\n",
       "      <td>2</td>\n",
       "      <td>0</td>\n",
       "      <td>13</td>\n",
       "      <td>-0.733333</td>\n",
       "    </tr>\n",
       "    <tr>\n",
       "      <th>233230</th>\n",
       "      <td>9</td>\n",
       "      <td>1</td>\n",
       "      <td>5</td>\n",
       "      <td>0.266667</td>\n",
       "    </tr>\n",
       "    <tr>\n",
       "      <th>233231</th>\n",
       "      <td>11</td>\n",
       "      <td>3</td>\n",
       "      <td>1</td>\n",
       "      <td>0.666667</td>\n",
       "    </tr>\n",
       "    <tr>\n",
       "      <th>233232</th>\n",
       "      <td>24</td>\n",
       "      <td>2</td>\n",
       "      <td>4</td>\n",
       "      <td>0.666667</td>\n",
       "    </tr>\n",
       "    <tr>\n",
       "      <th>233233</th>\n",
       "      <td>9</td>\n",
       "      <td>1</td>\n",
       "      <td>5</td>\n",
       "      <td>0.266667</td>\n",
       "    </tr>\n",
       "  </tbody>\n",
       "</table>\n",
       "<p>233234 rows × 4 columns</p>\n",
       "</div>"
      ],
      "text/plain": [
       "        num_wins_agent1  num_draws_agent1  num_losses_agent1  utility_agent1\n",
       "0                     4                 0                 11       -0.466667\n",
       "1                     5                 0                 10       -0.333333\n",
       "2                     7                 0                  8       -0.066667\n",
       "3                     5                 0                 10       -0.333333\n",
       "4                     5                 0                 10       -0.333333\n",
       "...                 ...               ...                ...             ...\n",
       "233229                2                 0                 13       -0.733333\n",
       "233230                9                 1                  5        0.266667\n",
       "233231               11                 3                  1        0.666667\n",
       "233232               24                 2                  4        0.666667\n",
       "233233                9                 1                  5        0.266667\n",
       "\n",
       "[233234 rows x 4 columns]"
      ]
     },
     "execution_count": 16,
     "metadata": {},
     "output_type": "execute_result"
    }
   ],
   "source": [
    "df_train.iloc[:, -4:]"
   ]
  },
  {
   "cell_type": "markdown",
   "id": "fa881e84-19b2-41d0-a93a-342b643f10cd",
   "metadata": {},
   "source": [
    "> 그리고 마지막 3열은 승리와 패배에 대한 것임. 즉, 이들의 선형 결합으로 타겟이 구성됨."
   ]
  },
  {
   "cell_type": "markdown",
   "id": "6b60ae37-389d-4457-a7f6-a336dbf6a2d0",
   "metadata": {},
   "source": [
    "`-` Test data 분석\n",
    "\n",
    "* 훈련 데이터가 테스트 데이터의 범위를 포함하는지 여부를 확인"
   ]
  },
  {
   "cell_type": "code",
   "execution_count": 21,
   "id": "4cbc896f-50ac-41db-b671-f23dc384099f",
   "metadata": {},
   "outputs": [
    {
     "data": {
      "text/html": [
       "<div>\n",
       "<style scoped>\n",
       "    .dataframe tbody tr th:only-of-type {\n",
       "        vertical-align: middle;\n",
       "    }\n",
       "\n",
       "    .dataframe tbody tr th {\n",
       "        vertical-align: top;\n",
       "    }\n",
       "\n",
       "    .dataframe thead th {\n",
       "        text-align: right;\n",
       "    }\n",
       "</style>\n",
       "<table border=\"1\" class=\"dataframe\">\n",
       "  <thead>\n",
       "    <tr style=\"text-align: right;\">\n",
       "      <th></th>\n",
       "      <th>Id</th>\n",
       "      <th>GameRulesetName</th>\n",
       "      <th>agent1</th>\n",
       "      <th>agent2</th>\n",
       "      <th>Properties</th>\n",
       "      <th>Format</th>\n",
       "      <th>Time</th>\n",
       "      <th>Discrete</th>\n",
       "      <th>Realtime</th>\n",
       "      <th>Turns</th>\n",
       "      <th>...</th>\n",
       "      <th>Efficiency</th>\n",
       "      <th>CopyContext</th>\n",
       "      <th>Then</th>\n",
       "      <th>ForEachPiece</th>\n",
       "      <th>DoLudeme</th>\n",
       "      <th>Trigger</th>\n",
       "      <th>PlayoutsPerSecond</th>\n",
       "      <th>MovesPerSecond</th>\n",
       "      <th>EnglishRules</th>\n",
       "      <th>LudRules</th>\n",
       "    </tr>\n",
       "  </thead>\n",
       "  <tbody>\n",
       "    <tr>\n",
       "      <th>0</th>\n",
       "      <td>233234</td>\n",
       "      <td>00Y</td>\n",
       "      <td>MCTS-UCB1-0.6-NST-false</td>\n",
       "      <td>MCTS-ProgressiveHistory-0.1-MAST-true</td>\n",
       "      <td>1</td>\n",
       "      <td>1</td>\n",
       "      <td>1</td>\n",
       "      <td>1</td>\n",
       "      <td>0</td>\n",
       "      <td>1</td>\n",
       "      <td>...</td>\n",
       "      <td>1</td>\n",
       "      <td>0</td>\n",
       "      <td>1</td>\n",
       "      <td>0</td>\n",
       "      <td>0</td>\n",
       "      <td>1</td>\n",
       "      <td>298.07</td>\n",
       "      <td>18877.17</td>\n",
       "      <td>Goal: Connect all three edge colors with a sin...</td>\n",
       "      <td>(game \"00'Y'\" (players 2) (equipment { (board ...</td>\n",
       "    </tr>\n",
       "    <tr>\n",
       "      <th>1</th>\n",
       "      <td>233235</td>\n",
       "      <td>00Y</td>\n",
       "      <td>MCTS-ProgressiveHistory-0.1-MAST-true</td>\n",
       "      <td>MCTS-UCB1-0.6-NST-false</td>\n",
       "      <td>1</td>\n",
       "      <td>1</td>\n",
       "      <td>1</td>\n",
       "      <td>1</td>\n",
       "      <td>0</td>\n",
       "      <td>1</td>\n",
       "      <td>...</td>\n",
       "      <td>1</td>\n",
       "      <td>0</td>\n",
       "      <td>1</td>\n",
       "      <td>0</td>\n",
       "      <td>0</td>\n",
       "      <td>1</td>\n",
       "      <td>298.07</td>\n",
       "      <td>18877.17</td>\n",
       "      <td>Goal: Connect all three edge colors with a sin...</td>\n",
       "      <td>(game \"00'Y'\" (players 2) (equipment { (board ...</td>\n",
       "    </tr>\n",
       "    <tr>\n",
       "      <th>2</th>\n",
       "      <td>233236</td>\n",
       "      <td>00Y</td>\n",
       "      <td>MCTS-UCB1Tuned-0.1-Random200-true</td>\n",
       "      <td>MCTS-ProgressiveHistory-0.1-MAST-true</td>\n",
       "      <td>1</td>\n",
       "      <td>1</td>\n",
       "      <td>1</td>\n",
       "      <td>1</td>\n",
       "      <td>0</td>\n",
       "      <td>1</td>\n",
       "      <td>...</td>\n",
       "      <td>1</td>\n",
       "      <td>0</td>\n",
       "      <td>1</td>\n",
       "      <td>0</td>\n",
       "      <td>0</td>\n",
       "      <td>1</td>\n",
       "      <td>298.07</td>\n",
       "      <td>18877.17</td>\n",
       "      <td>Goal: Connect all three edge colors with a sin...</td>\n",
       "      <td>(game \"00'Y'\" (players 2) (equipment { (board ...</td>\n",
       "    </tr>\n",
       "  </tbody>\n",
       "</table>\n",
       "<p>3 rows × 810 columns</p>\n",
       "</div>"
      ],
      "text/plain": [
       "       Id GameRulesetName                                 agent1  \\\n",
       "0  233234             00Y                MCTS-UCB1-0.6-NST-false   \n",
       "1  233235             00Y  MCTS-ProgressiveHistory-0.1-MAST-true   \n",
       "2  233236             00Y      MCTS-UCB1Tuned-0.1-Random200-true   \n",
       "\n",
       "                                  agent2  Properties  Format  Time  Discrete  \\\n",
       "0  MCTS-ProgressiveHistory-0.1-MAST-true           1       1     1         1   \n",
       "1                MCTS-UCB1-0.6-NST-false           1       1     1         1   \n",
       "2  MCTS-ProgressiveHistory-0.1-MAST-true           1       1     1         1   \n",
       "\n",
       "   Realtime  Turns  ...  Efficiency  CopyContext  Then  ForEachPiece  \\\n",
       "0         0      1  ...           1            0     1             0   \n",
       "1         0      1  ...           1            0     1             0   \n",
       "2         0      1  ...           1            0     1             0   \n",
       "\n",
       "   DoLudeme  Trigger  PlayoutsPerSecond  MovesPerSecond  \\\n",
       "0         0        1             298.07        18877.17   \n",
       "1         0        1             298.07        18877.17   \n",
       "2         0        1             298.07        18877.17   \n",
       "\n",
       "                                        EnglishRules  \\\n",
       "0  Goal: Connect all three edge colors with a sin...   \n",
       "1  Goal: Connect all three edge colors with a sin...   \n",
       "2  Goal: Connect all three edge colors with a sin...   \n",
       "\n",
       "                                            LudRules  \n",
       "0  (game \"00'Y'\" (players 2) (equipment { (board ...  \n",
       "1  (game \"00'Y'\" (players 2) (equipment { (board ...  \n",
       "2  (game \"00'Y'\" (players 2) (equipment { (board ...  \n",
       "\n",
       "[3 rows x 810 columns]"
      ]
     },
     "execution_count": 21,
     "metadata": {},
     "output_type": "execute_result"
    }
   ],
   "source": [
    "df_test ## 뭐임, 애초에 세개밖에 없네?"
   ]
  },
  {
   "cell_type": "code",
   "execution_count": 25,
   "id": "ddd52bac-2694-4ba0-80e3-d3dc4e7abeae",
   "metadata": {},
   "outputs": [],
   "source": [
    "tmp = pd.concat([pd.DataFrame(df_train.nunique()), pd.DataFrame(df_test.nunique())], axis = 1)\n",
    "tmp.columns = ['train', 'test']"
   ]
  },
  {
   "cell_type": "code",
   "execution_count": 76,
   "id": "c3e53aca-daa3-4c4c-9eb3-20525d89dd5f",
   "metadata": {},
   "outputs": [
    {
     "data": {
      "text/plain": [
       "Index(['Id', 'GameRulesetName', 'agent1', 'agent2', 'Stochastic', 'Asymmetric',\n",
       "       'AsymmetricForces', 'AsymmetricPiecesType', 'PlayersWithDirections',\n",
       "       'Cooperation',\n",
       "       ...\n",
       "       'DoLudeme', 'Trigger', 'PlayoutsPerSecond', 'MovesPerSecond',\n",
       "       'EnglishRules', 'LudRules', 'num_wins_agent1', 'num_draws_agent1',\n",
       "       'num_losses_agent1', 'utility_agent1'],\n",
       "      dtype='object', length=598)"
      ]
     },
     "execution_count": 76,
     "metadata": {},
     "output_type": "execute_result"
    }
   ],
   "source": [
    "tmp.index[(tmp.assign(minus = lambda _df : _df.train - _df.test) != 0.0).minus]"
   ]
  },
  {
   "cell_type": "code",
   "execution_count": 85,
   "id": "39b12859-6c52-4fdc-b1cf-b7c8d6b34885",
   "metadata": {},
   "outputs": [],
   "source": [
    "# [set(df_test[i].unique()) - set(df_train[i].unique()) for i in df_test]"
   ]
  },
  {
   "cell_type": "markdown",
   "id": "f53e71a2-a7ed-43b7-98b4-7e09a81678cd",
   "metadata": {},
   "source": [
    "> 도메인이 다른가 확인했는데, 다르지 않음. 일단 테스트 데이터는 학습 데이터와 도메인이 같다고 가정할 수 있을듯. 추가적인 처리 필요 없음."
   ]
  },
  {
   "cell_type": "markdown",
   "id": "b82a1c68-cf4d-4dcf-ae11-3e1b32c22a15",
   "metadata": {},
   "source": [
    "`-` 쓸모없는 행들(결측치만 존재)"
   ]
  },
  {
   "cell_type": "code",
   "execution_count": 64,
   "id": "a3422058-3ee4-45ff-b005-da448906b07a",
   "metadata": {},
   "outputs": [
    {
     "data": {
      "text/plain": [
       "{'Behaviour',\n",
       " 'BoardCoverage',\n",
       " 'BoardSitesOccupied',\n",
       " 'BranchingFactor',\n",
       " 'Clarity',\n",
       " 'Complexity',\n",
       " 'DecisionFactor',\n",
       " 'Decisiveness',\n",
       " 'Drama',\n",
       " 'Duration',\n",
       " 'GameOutcome',\n",
       " 'MoveDistance',\n",
       " 'MoveEvaluation',\n",
       " 'PieceNumber',\n",
       " 'ScoreDifference',\n",
       " 'StateEvaluation',\n",
       " 'StateEvaluationDifference',\n",
       " 'StateRepetition'}"
      ]
     },
     "execution_count": 64,
     "metadata": {},
     "output_type": "execute_result"
    }
   ],
   "source": [
    "set(df_train.columns[df_train.isna().sum() != 0])"
   ]
  },
  {
   "cell_type": "code",
   "execution_count": 63,
   "id": "dc2b697f-bef5-40b0-88c6-e9c1befa4519",
   "metadata": {},
   "outputs": [
    {
     "data": {
      "text/plain": [
       "set()"
      ]
     },
     "execution_count": 63,
     "metadata": {},
     "output_type": "execute_result"
    }
   ],
   "source": [
    "set(df_test.columns[df_test.isna().sum() != 0]) - set(df_train.columns[df_train.isna().sum() != 0])"
   ]
  },
  {
   "cell_type": "code",
   "execution_count": 61,
   "id": "c111afb8-4b53-40d7-a9ff-c55f85bb0c6c",
   "metadata": {
    "scrolled": true
   },
   "outputs": [
    {
     "data": {
      "text/plain": [
       "set()"
      ]
     },
     "execution_count": 61,
     "metadata": {},
     "output_type": "execute_result"
    }
   ],
   "source": [
    "set(df_train.columns[df_train.isna().sum() != 0]) - set(df_test.columns[df_test.isna().sum() != 0])"
   ]
  },
  {
   "cell_type": "markdown",
   "id": "efcf1063-ec63-4128-b752-8e69425fcf3f",
   "metadata": {},
   "source": [
    "### **3. 무지성 catboost**\n",
    "\n",
    "---"
   ]
  },
  {
   "cell_type": "code",
   "execution_count": 26,
   "id": "0074c63c-42ff-4c11-9382-4119b293d0ed",
   "metadata": {},
   "outputs": [],
   "source": [
    "import catboost"
   ]
  },
  {
   "cell_type": "code",
   "execution_count": 30,
   "id": "ebb89bc4-b994-4ff7-9500-30feebffb985",
   "metadata": {},
   "outputs": [
    {
     "data": {
      "text/plain": [
       "Index(['Id', 'GameRulesetName', 'agent1', 'agent2', 'Properties', 'Format',\n",
       "       'Time', 'Discrete', 'Realtime', 'Turns',\n",
       "       ...\n",
       "       'DoLudeme', 'Trigger', 'PlayoutsPerSecond', 'MovesPerSecond',\n",
       "       'EnglishRules', 'LudRules', 'num_wins_agent1', 'num_draws_agent1',\n",
       "       'num_losses_agent1', 'utility_agent1'],\n",
       "      dtype='object', length=814)"
      ]
     },
     "execution_count": 30,
     "metadata": {},
     "output_type": "execute_result"
    }
   ],
   "source": [
    "df_train.columns"
   ]
  },
  {
   "cell_type": "code",
   "execution_count": 56,
   "id": "5d060401-b5ca-4ff2-9bf2-e0cd9255b160",
   "metadata": {},
   "outputs": [
    {
     "data": {
      "text/plain": [
       "array([-0.46666667, -0.33333333, -0.06666667,  0.06666667,  0.2       ,\n",
       "       -0.2       , -0.73333333,  0.6       ,  0.46666667,  0.33333333,\n",
       "       -0.6       ,  0.4       ,  0.13333333,  0.26666667,  0.53333333,\n",
       "        0.73333333,  1.        ,  0.8       ,  0.93333333,  0.86666667,\n",
       "       -0.13333333, -1.        ,  0.66666667, -0.26666667, -0.53333333,\n",
       "        0.        , -0.4       ,  0.36666667, -0.86666667, -0.93333333,\n",
       "       -0.66666667, -0.8       ,  0.28888889,  0.03333333, -0.96666667,\n",
       "        0.56666667,  0.9       , -0.83333333, -0.43333333, -0.16666667,\n",
       "        0.1       ,  0.3       , -0.5       , -0.56666667,  0.76666667,\n",
       "       -0.7       ,  0.23333333, -0.76666667,  0.16666667, -0.1       ,\n",
       "       -0.23333333,  0.96666667,  0.83333333, -0.63333333, -0.03333333,\n",
       "        0.95555556, -0.95555556, -0.36666667, -0.3       ,  0.5       ,\n",
       "        0.7       ,  0.63333333,  0.43333333, -0.9       ,  0.02222222,\n",
       "        0.24444444,  0.44444444, -0.44444444])"
      ]
     },
     "execution_count": 56,
     "metadata": {},
     "output_type": "execute_result"
    }
   ],
   "source": [
    "df_train.utility_agent1.unique()"
   ]
  },
  {
   "cell_type": "code",
   "execution_count": 58,
   "id": "3f61958c-c0c6-4c43-be78-a64e0eee492c",
   "metadata": {},
   "outputs": [
    {
     "data": {
      "text/plain": [
       "-9.556913962256155"
      ]
     },
     "execution_count": 58,
     "metadata": {},
     "output_type": "execute_result"
    }
   ],
   "source": [
    "## 하이퍼볼릭 탄젠트 시그모이드를 사용하는 것이 좋을듯. 일단 대충 끼워넣어보자.\n",
    "df_train.utility_agent1.map(lambda x : 1/2*np.log((1+x)/(1-x)) if (x > -0.99999) & (x < 0.99999) else 1/2*np.log(0.00000001/2) if x > -0.99999 else 1/2*np.log(1.99999999/0.00000001)) ## 대충 -10에서 10정도로 변환"
   ]
  },
  {
   "cell_type": "code",
   "execution_count": 86,
   "id": "6c8f73e1-d362-4869-963d-900678ace60d",
   "metadata": {},
   "outputs": [
    {
     "data": {
      "text/plain": [
       "0.99999999"
      ]
     },
     "execution_count": 86,
     "metadata": {},
     "output_type": "execute_result"
    }
   ],
   "source": [
    "df_train.utility_agent1.map(lambda x : 1/2*np.log((1+x)/(1-x)) if (x > -0.99999) & (x < 0.99999) else 1/2*np.log(0.00000001/2) if x > -0.99999 else 1/2*np.log(1.99999999/0.00000001))\\\n",
    ".map(lambda x : (np.exp(2*x) - 1)/(np.exp(2*x)+1))"
   ]
  },
  {
   "cell_type": "code",
   "execution_count": 166,
   "id": "e4277426-ab07-49ae-83fd-de3294e77af9",
   "metadata": {},
   "outputs": [],
   "source": [
    "X = df_train.drop([\"num_wins_agent1\", \"num_draws_agent1\", \"num_losses_agent1\",\"utility_agent1\"], axis = 1)\n",
    "y = df_train.utility_agent1.map(lambda x : 1/2*np.log((1+x)/(1-x)) if (x > -0.99999) & (x < 0.99999) else 1/2*np.log(0.00000001/2) if x > -0.99999 else 1/2*np.log(1.99999999/0.00000001))\n",
    "\n",
    "predictr = catboost.CatBoostRegressor(cat_features = [\"GameRulesetName\", \"agent1\", \"agent2\", \"EnglishRules\", \"LudRules\"])\n",
    "predictr.fit(X, y)"
   ]
  },
  {
   "cell_type": "code",
   "execution_count": 91,
   "id": "92e655b2-d9b6-4e4a-88d1-525c63371f4c",
   "metadata": {},
   "outputs": [
    {
     "data": {
      "text/plain": [
       "0.4591380819549907"
      ]
     },
     "execution_count": 91,
     "metadata": {},
     "output_type": "execute_result"
    }
   ],
   "source": [
    "np.mean(abs(df_train.utility_agent1 - [(np.exp(2*x) - 1)/(np.exp(2*x)+1) for x in predictr.predict(X)]))"
   ]
  },
  {
   "cell_type": "code",
   "execution_count": 92,
   "id": "98711fda-8d6f-43fc-b93f-15969fcf44aa",
   "metadata": {},
   "outputs": [],
   "source": [
    "import polars as pl"
   ]
  },
  {
   "cell_type": "code",
   "execution_count": null,
   "id": "390a4df6-b1ed-4e52-bd38-8ac4691b2145",
   "metadata": {},
   "outputs": [],
   "source": [
    "def predict(test, submission):  \n",
    "    test_transformed = enc.transform(test[obj_cols])\n",
    "    for e, c in enumerate(obj_cols):\n",
    "        test = test.with_columns(pl.Series(c, test_transformed[:, e]))\n",
    "    return submission.with_columns(pl.Series(target, rf.predict(test)))"
   ]
  },
  {
   "cell_type": "markdown",
   "id": "9d957e38-95f7-4197-8521-9144d5fc3667",
   "metadata": {},
   "source": [
    "### **4. 무지성 제출**"
   ]
  },
  {
   "cell_type": "code",
   "execution_count": null,
   "id": "7bafb88a-7bae-41ad-9fac-e0506544481a",
   "metadata": {},
   "outputs": [],
   "source": [
    "pl.read_csv()"
   ]
  },
  {
   "cell_type": "code",
   "execution_count": 135,
   "id": "f3dbcf14-2423-4de0-a0de-573f02a2ea6c",
   "metadata": {},
   "outputs": [
    {
     "data": {
      "text/plain": [
       "(233234, 814)"
      ]
     },
     "execution_count": 135,
     "metadata": {},
     "output_type": "execute_result"
    }
   ],
   "source": [
    "df_train.shape"
   ]
  },
  {
   "cell_type": "code",
   "execution_count": 134,
   "id": "9aac335a-240e-4966-a274-71076881363d",
   "metadata": {},
   "outputs": [
    {
     "data": {
      "text/plain": [
       "(3, 810)"
      ]
     },
     "execution_count": 134,
     "metadata": {},
     "output_type": "execute_result"
    }
   ],
   "source": [
    "df_test.shape"
   ]
  },
  {
   "cell_type": "code",
   "execution_count": 147,
   "id": "d190cba0-32aa-4ddf-bb4c-4af40c20281d",
   "metadata": {},
   "outputs": [
    {
     "data": {
      "text/html": [
       "<div>\n",
       "<style scoped>\n",
       "    .dataframe tbody tr th:only-of-type {\n",
       "        vertical-align: middle;\n",
       "    }\n",
       "\n",
       "    .dataframe tbody tr th {\n",
       "        vertical-align: top;\n",
       "    }\n",
       "\n",
       "    .dataframe thead th {\n",
       "        text-align: right;\n",
       "    }\n",
       "</style>\n",
       "<table border=\"1\" class=\"dataframe\">\n",
       "  <thead>\n",
       "    <tr style=\"text-align: right;\">\n",
       "      <th></th>\n",
       "      <th>Id</th>\n",
       "      <th>GameRulesetName</th>\n",
       "      <th>agent1</th>\n",
       "      <th>agent2</th>\n",
       "      <th>Properties</th>\n",
       "      <th>Format</th>\n",
       "      <th>Time</th>\n",
       "      <th>Discrete</th>\n",
       "      <th>Realtime</th>\n",
       "      <th>Turns</th>\n",
       "      <th>...</th>\n",
       "      <th>DoLudeme</th>\n",
       "      <th>Trigger</th>\n",
       "      <th>PlayoutsPerSecond</th>\n",
       "      <th>MovesPerSecond</th>\n",
       "      <th>EnglishRules</th>\n",
       "      <th>LudRules</th>\n",
       "      <th>num_wins_agent1</th>\n",
       "      <th>num_draws_agent1</th>\n",
       "      <th>num_losses_agent1</th>\n",
       "      <th>utility_agent1</th>\n",
       "    </tr>\n",
       "  </thead>\n",
       "  <tbody>\n",
       "    <tr>\n",
       "      <th>0</th>\n",
       "      <td>0</td>\n",
       "      <td>00Y</td>\n",
       "      <td>MCTS-ProgressiveHistory-0.1-MAST-false</td>\n",
       "      <td>MCTS-ProgressiveHistory-0.6-Random200-false</td>\n",
       "      <td>1</td>\n",
       "      <td>1</td>\n",
       "      <td>1</td>\n",
       "      <td>1</td>\n",
       "      <td>0</td>\n",
       "      <td>1</td>\n",
       "      <td>...</td>\n",
       "      <td>0</td>\n",
       "      <td>1</td>\n",
       "      <td>298.07</td>\n",
       "      <td>18877.17</td>\n",
       "      <td>Goal: Connect all three edge colors with a sin...</td>\n",
       "      <td>(game \"00'Y'\" (players 2) (equipment { (board ...</td>\n",
       "      <td>4</td>\n",
       "      <td>0</td>\n",
       "      <td>11</td>\n",
       "      <td>-0.466667</td>\n",
       "    </tr>\n",
       "    <tr>\n",
       "      <th>1</th>\n",
       "      <td>1</td>\n",
       "      <td>00Y</td>\n",
       "      <td>MCTS-ProgressiveHistory-0.1-MAST-false</td>\n",
       "      <td>MCTS-UCB1GRAVE-0.6-NST-true</td>\n",
       "      <td>1</td>\n",
       "      <td>1</td>\n",
       "      <td>1</td>\n",
       "      <td>1</td>\n",
       "      <td>0</td>\n",
       "      <td>1</td>\n",
       "      <td>...</td>\n",
       "      <td>0</td>\n",
       "      <td>1</td>\n",
       "      <td>298.07</td>\n",
       "      <td>18877.17</td>\n",
       "      <td>Goal: Connect all three edge colors with a sin...</td>\n",
       "      <td>(game \"00'Y'\" (players 2) (equipment { (board ...</td>\n",
       "      <td>5</td>\n",
       "      <td>0</td>\n",
       "      <td>10</td>\n",
       "      <td>-0.333333</td>\n",
       "    </tr>\n",
       "    <tr>\n",
       "      <th>2</th>\n",
       "      <td>2</td>\n",
       "      <td>00Y</td>\n",
       "      <td>MCTS-ProgressiveHistory-0.1-MAST-true</td>\n",
       "      <td>MCTS-UCB1-0.1-NST-false</td>\n",
       "      <td>1</td>\n",
       "      <td>1</td>\n",
       "      <td>1</td>\n",
       "      <td>1</td>\n",
       "      <td>0</td>\n",
       "      <td>1</td>\n",
       "      <td>...</td>\n",
       "      <td>0</td>\n",
       "      <td>1</td>\n",
       "      <td>298.07</td>\n",
       "      <td>18877.17</td>\n",
       "      <td>Goal: Connect all three edge colors with a sin...</td>\n",
       "      <td>(game \"00'Y'\" (players 2) (equipment { (board ...</td>\n",
       "      <td>7</td>\n",
       "      <td>0</td>\n",
       "      <td>8</td>\n",
       "      <td>-0.066667</td>\n",
       "    </tr>\n",
       "    <tr>\n",
       "      <th>3</th>\n",
       "      <td>3</td>\n",
       "      <td>00Y</td>\n",
       "      <td>MCTS-ProgressiveHistory-0.1-MAST-true</td>\n",
       "      <td>MCTS-UCB1-0.6-NST-false</td>\n",
       "      <td>1</td>\n",
       "      <td>1</td>\n",
       "      <td>1</td>\n",
       "      <td>1</td>\n",
       "      <td>0</td>\n",
       "      <td>1</td>\n",
       "      <td>...</td>\n",
       "      <td>0</td>\n",
       "      <td>1</td>\n",
       "      <td>298.07</td>\n",
       "      <td>18877.17</td>\n",
       "      <td>Goal: Connect all three edge colors with a sin...</td>\n",
       "      <td>(game \"00'Y'\" (players 2) (equipment { (board ...</td>\n",
       "      <td>5</td>\n",
       "      <td>0</td>\n",
       "      <td>10</td>\n",
       "      <td>-0.333333</td>\n",
       "    </tr>\n",
       "    <tr>\n",
       "      <th>4</th>\n",
       "      <td>4</td>\n",
       "      <td>00Y</td>\n",
       "      <td>MCTS-ProgressiveHistory-0.1-MAST-true</td>\n",
       "      <td>MCTS-UCB1GRAVE-1.41421356237-NST-false</td>\n",
       "      <td>1</td>\n",
       "      <td>1</td>\n",
       "      <td>1</td>\n",
       "      <td>1</td>\n",
       "      <td>0</td>\n",
       "      <td>1</td>\n",
       "      <td>...</td>\n",
       "      <td>0</td>\n",
       "      <td>1</td>\n",
       "      <td>298.07</td>\n",
       "      <td>18877.17</td>\n",
       "      <td>Goal: Connect all three edge colors with a sin...</td>\n",
       "      <td>(game \"00'Y'\" (players 2) (equipment { (board ...</td>\n",
       "      <td>5</td>\n",
       "      <td>0</td>\n",
       "      <td>10</td>\n",
       "      <td>-0.333333</td>\n",
       "    </tr>\n",
       "  </tbody>\n",
       "</table>\n",
       "<p>5 rows × 814 columns</p>\n",
       "</div>"
      ],
      "text/plain": [
       "   Id GameRulesetName                                  agent1  \\\n",
       "0   0             00Y  MCTS-ProgressiveHistory-0.1-MAST-false   \n",
       "1   1             00Y  MCTS-ProgressiveHistory-0.1-MAST-false   \n",
       "2   2             00Y   MCTS-ProgressiveHistory-0.1-MAST-true   \n",
       "3   3             00Y   MCTS-ProgressiveHistory-0.1-MAST-true   \n",
       "4   4             00Y   MCTS-ProgressiveHistory-0.1-MAST-true   \n",
       "\n",
       "                                        agent2  Properties  Format  Time  \\\n",
       "0  MCTS-ProgressiveHistory-0.6-Random200-false           1       1     1   \n",
       "1                  MCTS-UCB1GRAVE-0.6-NST-true           1       1     1   \n",
       "2                      MCTS-UCB1-0.1-NST-false           1       1     1   \n",
       "3                      MCTS-UCB1-0.6-NST-false           1       1     1   \n",
       "4       MCTS-UCB1GRAVE-1.41421356237-NST-false           1       1     1   \n",
       "\n",
       "   Discrete  Realtime  Turns  ...  DoLudeme  Trigger  PlayoutsPerSecond  \\\n",
       "0         1         0      1  ...         0        1             298.07   \n",
       "1         1         0      1  ...         0        1             298.07   \n",
       "2         1         0      1  ...         0        1             298.07   \n",
       "3         1         0      1  ...         0        1             298.07   \n",
       "4         1         0      1  ...         0        1             298.07   \n",
       "\n",
       "   MovesPerSecond                                       EnglishRules  \\\n",
       "0        18877.17  Goal: Connect all three edge colors with a sin...   \n",
       "1        18877.17  Goal: Connect all three edge colors with a sin...   \n",
       "2        18877.17  Goal: Connect all three edge colors with a sin...   \n",
       "3        18877.17  Goal: Connect all three edge colors with a sin...   \n",
       "4        18877.17  Goal: Connect all three edge colors with a sin...   \n",
       "\n",
       "                                            LudRules  num_wins_agent1  \\\n",
       "0  (game \"00'Y'\" (players 2) (equipment { (board ...                4   \n",
       "1  (game \"00'Y'\" (players 2) (equipment { (board ...                5   \n",
       "2  (game \"00'Y'\" (players 2) (equipment { (board ...                7   \n",
       "3  (game \"00'Y'\" (players 2) (equipment { (board ...                5   \n",
       "4  (game \"00'Y'\" (players 2) (equipment { (board ...                5   \n",
       "\n",
       "   num_draws_agent1  num_losses_agent1  utility_agent1  \n",
       "0                 0                 11       -0.466667  \n",
       "1                 0                 10       -0.333333  \n",
       "2                 0                  8       -0.066667  \n",
       "3                 0                 10       -0.333333  \n",
       "4                 0                 10       -0.333333  \n",
       "\n",
       "[5 rows x 814 columns]"
      ]
     },
     "execution_count": 147,
     "metadata": {},
     "output_type": "execute_result"
    }
   ],
   "source": [
    "df_train.head()"
   ]
  },
  {
   "cell_type": "code",
   "execution_count": 145,
   "id": "1f6a3343-b731-48c7-9a6e-9edf000fe5b6",
   "metadata": {},
   "outputs": [
    {
     "data": {
      "text/plain": [
       "{'num_draws_agent1', 'num_losses_agent1', 'num_wins_agent1', 'utility_agent1'}"
      ]
     },
     "execution_count": 145,
     "metadata": {},
     "output_type": "execute_result"
    }
   ],
   "source": [
    "set(df_train.columns) - set(df_test.columns)"
   ]
  },
  {
   "cell_type": "code",
   "execution_count": 129,
   "id": "f34b2c5f-0723-4468-adf2-37067ed03263",
   "metadata": {},
   "outputs": [],
   "source": [
    "df_test = pd.read_csv(\"/root/kag_comp/UM_MCTS/Data/test.csv\")"
   ]
  },
  {
   "cell_type": "code",
   "execution_count": null,
   "id": "be3e4d3c-3b08-445a-a508-4378b4dc55d6",
   "metadata": {},
   "outputs": [],
   "source": [
    "import os\n",
    "import polars as pl\n",
    "import numpy as np\n",
    "import pandas as pd\n",
    "import catboost\n",
    "import kaggle_evaluation.mcts_inference_server\n",
    "\n",
    "target = 'utility_agent1'\n",
    "counter = 0  # 첫 번째 호출 확인용 변수\n",
    "\n",
    "def train_model():\n",
    "    global predictr\n",
    "    df_train = pd.read_csv(\"/root/kag_comp/UM_MCTS/Data/train.csv\")\n",
    "    \n",
    "    X = df_train.drop([\"num_wins_agent1\", \"num_draws_agent1\", \"num_losses_agent1\", target], axis = 1)\n",
    "    y = df_train[target]\n",
    "\n",
    "    predictr = catboost.CatBoostRegressor(cat_features=[\"GameRulesetName\", \"agent1\", \"agent2\", \"EnglishRules\", \"LudRules\"], verbose = 0)\n",
    "    predictr.fit(X, y)\n",
    "\n",
    "def predict(test: pl.DataFrame, sample_sub: pl.DataFrame):\n",
    "    global counter\n",
    "    if counter == 0:  # 첫 번째 호출 시에만 모델을 학습하거나 로드\n",
    "        train_model()\n",
    "        counter += 1\n",
    "    \n",
    "    predictions = predictr.predict(test.to_pandas())\n",
    "    return sample_sub.with_columns(pl.Series('utility_agent1', predictions))\n",
    "\n",
    "# 인퍼런스 서버 설정\n",
    "inference_server = kaggle_evaluation.mcts_inference_server.MCTSInferenceServer(predict)\n",
    "\n",
    "if os.getenv('KAGGLE_IS_COMPETITION_RERUN'):\n",
    "    inference_server.serve()\n",
    "else:\n",
    "    inference_server.run_local_gateway(\n",
    "        (\n",
    "            '/root/kag_comp/UM_MCTS/Data/test.csv',\n",
    "            '/root/kag_comp/UM_MCTS/Data/sample_submission.csv'\n",
    "        )\n",
    ")"
   ]
  },
  {
   "cell_type": "markdown",
   "id": "94b8d601-9438-4917-861d-d1f4549e3cb0",
   "metadata": {},
   "source": [
    "`-` for model submission"
   ]
  },
  {
   "cell_type": "code",
   "execution_count": 15,
   "id": "1271aeca-362b-465d-b976-2cf38299d14d",
   "metadata": {},
   "outputs": [
    {
     "name": "stdout",
     "output_type": "stream",
     "text": [
      "Requirement already satisfied: grpcio in /root/anaconda3/envs/py/lib/python3.10/site-packages (1.67.1)\n",
      "\u001b[33mWARNING: Running pip as the 'root' user can result in broken permissions and conflicting behaviour with the system package manager, possibly rendering your system unusable.It is recommended to use a virtual environment instead: https://pip.pypa.io/warnings/venv. Use the --root-user-action option if you know what you are doing and want to suppress this warning.\u001b[0m\u001b[33m\n",
      "\u001b[0mNote: you may need to restart the kernel to use updated packages.\n",
      "Requirement already satisfied: polars in /root/anaconda3/envs/py/lib/python3.10/site-packages (1.12.0)\n",
      "\u001b[33mWARNING: Running pip as the 'root' user can result in broken permissions and conflicting behaviour with the system package manager, possibly rendering your system unusable.It is recommended to use a virtual environment instead: https://pip.pypa.io/warnings/venv. Use the --root-user-action option if you know what you are doing and want to suppress this warning.\u001b[0m\u001b[33m\n",
      "\u001b[0mNote: you may need to restart the kernel to use updated packages.\n",
      "Collecting google-cloud\n",
      "  Downloading google_cloud-0.34.0-py2.py3-none-any.whl.metadata (2.7 kB)\n",
      "Downloading google_cloud-0.34.0-py2.py3-none-any.whl (1.8 kB)\n",
      "Installing collected packages: google-cloud\n",
      "Successfully installed google-cloud-0.34.0\n",
      "\u001b[33mWARNING: Running pip as the 'root' user can result in broken permissions and conflicting behaviour with the system package manager, possibly rendering your system unusable.It is recommended to use a virtual environment instead: https://pip.pypa.io/warnings/venv. Use the --root-user-action option if you know what you are doing and want to suppress this warning.\u001b[0m\u001b[33m\n",
      "\u001b[0mNote: you may need to restart the kernel to use updated packages.\n",
      "Collecting google-cloud-vision\n",
      "  Downloading google_cloud_vision-3.8.0-py2.py3-none-any.whl.metadata (5.3 kB)\n",
      "Collecting google-api-core!=2.0.*,!=2.1.*,!=2.10.*,!=2.2.*,!=2.3.*,!=2.4.*,!=2.5.*,!=2.6.*,!=2.7.*,!=2.8.*,!=2.9.*,<3.0.0dev,>=1.34.1 (from google-api-core[grpc]!=2.0.*,!=2.1.*,!=2.10.*,!=2.2.*,!=2.3.*,!=2.4.*,!=2.5.*,!=2.6.*,!=2.7.*,!=2.8.*,!=2.9.*,<3.0.0dev,>=1.34.1->google-cloud-vision)\n",
      "  Downloading google_api_core-2.22.0-py3-none-any.whl.metadata (2.9 kB)\n",
      "Collecting google-auth!=2.24.0,!=2.25.0,<3.0.0dev,>=2.14.1 (from google-cloud-vision)\n",
      "  Downloading google_auth-2.35.0-py2.py3-none-any.whl.metadata (4.7 kB)\n",
      "Collecting proto-plus<2.0.0dev,>=1.22.3 (from google-cloud-vision)\n",
      "  Downloading proto_plus-1.25.0-py3-none-any.whl.metadata (2.2 kB)\n",
      "Collecting protobuf!=4.21.0,!=4.21.1,!=4.21.2,!=4.21.3,!=4.21.4,!=4.21.5,<6.0.0dev,>=3.20.2 (from google-cloud-vision)\n",
      "  Downloading protobuf-5.28.3-cp38-abi3-manylinux2014_x86_64.whl.metadata (592 bytes)\n",
      "Collecting googleapis-common-protos<2.0.dev0,>=1.56.2 (from google-api-core!=2.0.*,!=2.1.*,!=2.10.*,!=2.2.*,!=2.3.*,!=2.4.*,!=2.5.*,!=2.6.*,!=2.7.*,!=2.8.*,!=2.9.*,<3.0.0dev,>=1.34.1->google-api-core[grpc]!=2.0.*,!=2.1.*,!=2.10.*,!=2.2.*,!=2.3.*,!=2.4.*,!=2.5.*,!=2.6.*,!=2.7.*,!=2.8.*,!=2.9.*,<3.0.0dev,>=1.34.1->google-cloud-vision)\n",
      "  Downloading googleapis_common_protos-1.65.0-py2.py3-none-any.whl.metadata (1.5 kB)\n",
      "Requirement already satisfied: requests<3.0.0.dev0,>=2.18.0 in /root/anaconda3/envs/py/lib/python3.10/site-packages (from google-api-core!=2.0.*,!=2.1.*,!=2.10.*,!=2.2.*,!=2.3.*,!=2.4.*,!=2.5.*,!=2.6.*,!=2.7.*,!=2.8.*,!=2.9.*,<3.0.0dev,>=1.34.1->google-api-core[grpc]!=2.0.*,!=2.1.*,!=2.10.*,!=2.2.*,!=2.3.*,!=2.4.*,!=2.5.*,!=2.6.*,!=2.7.*,!=2.8.*,!=2.9.*,<3.0.0dev,>=1.34.1->google-cloud-vision) (2.32.3)\n",
      "Requirement already satisfied: grpcio<2.0dev,>=1.33.2 in /root/anaconda3/envs/py/lib/python3.10/site-packages (from google-api-core[grpc]!=2.0.*,!=2.1.*,!=2.10.*,!=2.2.*,!=2.3.*,!=2.4.*,!=2.5.*,!=2.6.*,!=2.7.*,!=2.8.*,!=2.9.*,<3.0.0dev,>=1.34.1->google-cloud-vision) (1.67.1)\n",
      "Collecting grpcio-status<2.0.dev0,>=1.33.2 (from google-api-core[grpc]!=2.0.*,!=2.1.*,!=2.10.*,!=2.2.*,!=2.3.*,!=2.4.*,!=2.5.*,!=2.6.*,!=2.7.*,!=2.8.*,!=2.9.*,<3.0.0dev,>=1.34.1->google-cloud-vision)\n",
      "  Downloading grpcio_status-1.67.1-py3-none-any.whl.metadata (1.1 kB)\n",
      "Collecting cachetools<6.0,>=2.0.0 (from google-auth!=2.24.0,!=2.25.0,<3.0.0dev,>=2.14.1->google-cloud-vision)\n",
      "  Downloading cachetools-5.5.0-py3-none-any.whl.metadata (5.3 kB)\n",
      "Collecting pyasn1-modules>=0.2.1 (from google-auth!=2.24.0,!=2.25.0,<3.0.0dev,>=2.14.1->google-cloud-vision)\n",
      "  Downloading pyasn1_modules-0.4.1-py3-none-any.whl.metadata (3.5 kB)\n",
      "Collecting rsa<5,>=3.1.4 (from google-auth!=2.24.0,!=2.25.0,<3.0.0dev,>=2.14.1->google-cloud-vision)\n",
      "  Downloading rsa-4.9-py3-none-any.whl.metadata (4.2 kB)\n",
      "Collecting pyasn1<0.7.0,>=0.4.6 (from pyasn1-modules>=0.2.1->google-auth!=2.24.0,!=2.25.0,<3.0.0dev,>=2.14.1->google-cloud-vision)\n",
      "  Downloading pyasn1-0.6.1-py3-none-any.whl.metadata (8.4 kB)\n",
      "Requirement already satisfied: charset-normalizer<4,>=2 in /root/anaconda3/envs/py/lib/python3.10/site-packages (from requests<3.0.0.dev0,>=2.18.0->google-api-core!=2.0.*,!=2.1.*,!=2.10.*,!=2.2.*,!=2.3.*,!=2.4.*,!=2.5.*,!=2.6.*,!=2.7.*,!=2.8.*,!=2.9.*,<3.0.0dev,>=1.34.1->google-api-core[grpc]!=2.0.*,!=2.1.*,!=2.10.*,!=2.2.*,!=2.3.*,!=2.4.*,!=2.5.*,!=2.6.*,!=2.7.*,!=2.8.*,!=2.9.*,<3.0.0dev,>=1.34.1->google-cloud-vision) (3.3.2)\n",
      "Requirement already satisfied: idna<4,>=2.5 in /root/anaconda3/envs/py/lib/python3.10/site-packages (from requests<3.0.0.dev0,>=2.18.0->google-api-core!=2.0.*,!=2.1.*,!=2.10.*,!=2.2.*,!=2.3.*,!=2.4.*,!=2.5.*,!=2.6.*,!=2.7.*,!=2.8.*,!=2.9.*,<3.0.0dev,>=1.34.1->google-api-core[grpc]!=2.0.*,!=2.1.*,!=2.10.*,!=2.2.*,!=2.3.*,!=2.4.*,!=2.5.*,!=2.6.*,!=2.7.*,!=2.8.*,!=2.9.*,<3.0.0dev,>=1.34.1->google-cloud-vision) (3.7)\n",
      "Requirement already satisfied: urllib3<3,>=1.21.1 in /root/anaconda3/envs/py/lib/python3.10/site-packages (from requests<3.0.0.dev0,>=2.18.0->google-api-core!=2.0.*,!=2.1.*,!=2.10.*,!=2.2.*,!=2.3.*,!=2.4.*,!=2.5.*,!=2.6.*,!=2.7.*,!=2.8.*,!=2.9.*,<3.0.0dev,>=1.34.1->google-api-core[grpc]!=2.0.*,!=2.1.*,!=2.10.*,!=2.2.*,!=2.3.*,!=2.4.*,!=2.5.*,!=2.6.*,!=2.7.*,!=2.8.*,!=2.9.*,<3.0.0dev,>=1.34.1->google-cloud-vision) (2.2.3)\n",
      "Requirement already satisfied: certifi>=2017.4.17 in /root/anaconda3/envs/py/lib/python3.10/site-packages (from requests<3.0.0.dev0,>=2.18.0->google-api-core!=2.0.*,!=2.1.*,!=2.10.*,!=2.2.*,!=2.3.*,!=2.4.*,!=2.5.*,!=2.6.*,!=2.7.*,!=2.8.*,!=2.9.*,<3.0.0dev,>=1.34.1->google-api-core[grpc]!=2.0.*,!=2.1.*,!=2.10.*,!=2.2.*,!=2.3.*,!=2.4.*,!=2.5.*,!=2.6.*,!=2.7.*,!=2.8.*,!=2.9.*,<3.0.0dev,>=1.34.1->google-cloud-vision) (2024.8.30)\n",
      "Downloading google_cloud_vision-3.8.0-py2.py3-none-any.whl (488 kB)\n",
      "Downloading google_api_core-2.22.0-py3-none-any.whl (156 kB)\n",
      "Downloading google_auth-2.35.0-py2.py3-none-any.whl (208 kB)\n",
      "Downloading proto_plus-1.25.0-py3-none-any.whl (50 kB)\n",
      "Downloading protobuf-5.28.3-cp38-abi3-manylinux2014_x86_64.whl (316 kB)\n",
      "Downloading cachetools-5.5.0-py3-none-any.whl (9.5 kB)\n",
      "Downloading googleapis_common_protos-1.65.0-py2.py3-none-any.whl (220 kB)\n",
      "Downloading grpcio_status-1.67.1-py3-none-any.whl (14 kB)\n",
      "Downloading pyasn1_modules-0.4.1-py3-none-any.whl (181 kB)\n",
      "Downloading rsa-4.9-py3-none-any.whl (34 kB)\n",
      "Downloading pyasn1-0.6.1-py3-none-any.whl (83 kB)\n",
      "Installing collected packages: pyasn1, protobuf, cachetools, rsa, pyasn1-modules, proto-plus, googleapis-common-protos, grpcio-status, google-auth, google-api-core, google-cloud-vision\n",
      "Successfully installed cachetools-5.5.0 google-api-core-2.22.0 google-auth-2.35.0 google-cloud-vision-3.8.0 googleapis-common-protos-1.65.0 grpcio-status-1.67.1 proto-plus-1.25.0 protobuf-5.28.3 pyasn1-0.6.1 pyasn1-modules-0.4.1 rsa-4.9\n",
      "\u001b[33mWARNING: Running pip as the 'root' user can result in broken permissions and conflicting behaviour with the system package manager, possibly rendering your system unusable.It is recommended to use a virtual environment instead: https://pip.pypa.io/warnings/venv. Use the --root-user-action option if you know what you are doing and want to suppress this warning.\u001b[0m\u001b[33m\n",
      "\u001b[0mNote: you may need to restart the kernel to use updated packages.\n"
     ]
    }
   ],
   "source": [
    "%pip install grpcio\n",
    "%pip install polars\n",
    "%pip install google-cloud\n",
    "%pip install google-cloud-vision\n",
    "import kaggle_evaluation.mcts_inference_server"
   ]
  },
  {
   "cell_type": "markdown",
   "id": "8481906c-346f-4d96-bb14-9e95c83997ec",
   "metadata": {},
   "source": [
    "### **6. 자연어, 약속어**\n",
    "\n",
    "---"
   ]
  },
  {
   "cell_type": "markdown",
   "id": "56ef4b3b-ca9c-4232-b5f0-ded473e32ff0",
   "metadata": {},
   "source": [
    "`-` 무지성 토큰화 이후 변수 추가"
   ]
  },
  {
   "cell_type": "code",
   "execution_count": 2,
   "id": "39f04d86-133e-42d4-bafd-84eddff3dd01",
   "metadata": {},
   "outputs": [],
   "source": [
    "## 문서를 벡터 표현으로 인스턴스화\n",
    "from sklearn.feature_extraction.text import CountVectorizer\n",
    "from sklearn.feature_extraction.text import TfidfTransformer\n",
    "from sklearn.pipeline import Pipeline\n",
    "import string\n",
    "from nltk.corpus import stopwords\n",
    "\n",
    "# import nltk\n",
    "# nltk.download('stopwords')"
   ]
  },
  {
   "cell_type": "markdown",
   "id": "bfb8b1f0-672d-4e67-b920-72602653d1c9",
   "metadata": {},
   "source": [
    "* 일단 자연어는 `EnglishRules`, `LudRules`이거 두개임. 하지만 `LudRules`은 약간 정련된 단어들로 이뤄져 있으므로 조금 분석이 더 필요함. 따라서 `EnglishRules`만 먼저 넣어보자.\n",
    "\n",
    "> 라곤 했지만 그냥 무지성으로 때려박아보자!"
   ]
  },
  {
   "cell_type": "markdown",
   "id": "5ba94af7-4b8b-4ea4-ab62-3313d64a4da5",
   "metadata": {},
   "source": [
    "`-` 전처리 과정 : 함수화 또는 파이프라인 필요"
   ]
  },
  {
   "cell_type": "code",
   "execution_count": 3,
   "id": "d72d97f3-eca2-4c44-beb8-3ade9a7f84ed",
   "metadata": {},
   "outputs": [
    {
     "ename": "NameError",
     "evalue": "name 'df_train' is not defined",
     "output_type": "error",
     "traceback": [
      "\u001b[0;31m---------------------------------------------------------------------------\u001b[0m",
      "\u001b[0;31mNameError\u001b[0m                                 Traceback (most recent call last)",
      "Cell \u001b[0;32mIn[3], line 1\u001b[0m\n\u001b[0;32m----> 1\u001b[0m nl \u001b[38;5;241m=\u001b[39m \u001b[43mdf_train\u001b[49m[[\u001b[38;5;124m'\u001b[39m\u001b[38;5;124mEnglishRules\u001b[39m\u001b[38;5;124m'\u001b[39m,\u001b[38;5;124m'\u001b[39m\u001b[38;5;124mLudRules\u001b[39m\u001b[38;5;124m'\u001b[39m]]\n",
      "\u001b[0;31mNameError\u001b[0m: name 'df_train' is not defined"
     ]
    }
   ],
   "source": [
    "nl = df_train[['EnglishRules','LudRules']]"
   ]
  },
  {
   "cell_type": "code",
   "execution_count": 97,
   "id": "44c2b149-43fb-45de-8b26-155c7a91e916",
   "metadata": {},
   "outputs": [
    {
     "data": {
      "text/plain": [
       "count                 233234\n",
       "unique                  1328\n",
       "top       Hares start first.\n",
       "freq                    3874\n",
       "Name: EnglishRules, dtype: object"
      ]
     },
     "metadata": {},
     "output_type": "display_data"
    },
    {
     "data": {
      "text/plain": [
       "count                                                233234\n",
       "unique                                                 1373\n",
       "top       (game \"Ludus Coriovalli\" (players 2) (equipmen...\n",
       "freq                                                    370\n",
       "Name: LudRules, dtype: object"
      ]
     },
     "metadata": {},
     "output_type": "display_data"
    }
   ],
   "source": [
    "display(nl.EnglishRules.describe())\n",
    "display(nl.LudRules.describe())"
   ]
  },
  {
   "cell_type": "code",
   "execution_count": 223,
   "id": "f8b2fe2a-0488-4abc-ae73-72357fbf1312",
   "metadata": {},
   "outputs": [],
   "source": [
    "## 구두점 제거 함수\n",
    "def text_process(mess) :\n",
    "    STOPWORDS = stopwords.words('english')\n",
    "    nopunc = [ch for ch in mess if ch not in string.punctuation]\n",
    "    nopunc = ''.join(nopunc)\n",
    "\n",
    "    return ' '.join([w for w in nopunc.split() if w.lower() not in STOPWORDS])\n",
    "\n",
    "## 구두점 제거 작업\n",
    "nl_list = [\"EnglishRules\", \"LudRules\"]\n",
    "\n",
    "for i in nl_list :\n",
    "    nl[i] = nl[i].apply(text_process)\n",
    "\n",
    "## 벡터라이징\n",
    "vect_list = [CountVectorizer() for i in range(len(nl_list))]\n",
    "nl_vect_list = []\n",
    "\n",
    "for i, vect in enumerate(vect_list) :\n",
    "    nl_vect_list.append(vect.fit_transform(nl[nl_list[i]]))\n",
    "\n",
    "## TF-IDF로 변환\n",
    "tfidf_list = [TfidfTransformer() for i in range(len(nl_list))]\n",
    "nl_tfidf_list = []\n",
    "\n",
    "for i, tfidf in enumerate(tfidf_list) :\n",
    "    nl_tfidf_list.append(tfidf.fit_transform(nl_vect_list[i]).toarray())"
   ]
  },
  {
   "cell_type": "markdown",
   "id": "89270a87-c723-4645-859a-978a92df8216",
   "metadata": {},
   "source": [
    "* 정리"
   ]
  },
  {
   "cell_type": "code",
   "execution_count": 172,
   "id": "c09c2b6f-69ad-4f1d-a8b0-5c5683fc42b3",
   "metadata": {},
   "outputs": [],
   "source": [
    "df_test = pl.read_csv(\"/root/kag_comp/UM_MCTS/Data/test.csv\")"
   ]
  },
  {
   "cell_type": "code",
   "execution_count": 222,
   "id": "314d8044-9b37-455a-aae4-830d31add7b1",
   "metadata": {},
   "outputs": [
    {
     "name": "stderr",
     "output_type": "stream",
     "text": [
      "/tmp/ipykernel_899814/798260045.py:6: MapWithoutReturnDtypeWarning: Calling `map_elements` without specifying `return_dtype` can lead to unpredictable results. Specify `return_dtype` to silence this warning.\n",
      "  nl_test = nl_test.drop(l).insert_column(i, nl_test[l].map_elements(text_process))\n"
     ]
    }
   ],
   "source": [
    "nl_list = [\"EnglishRules\", \"LudRules\"]\n",
    "nl_test = df_test[nl_list]\n",
    "\n",
    "## 구두점 제거\n",
    "for i, l in enumerate(nl_list) :\n",
    "    nl_test = nl_test.drop(l).insert_column(i, nl_test[l].map_elements(text_process))\n",
    "\n",
    "processed_nl_test = []\n",
    "\n",
    "for i, l in enumerate(nl_list) :\n",
    "    processed_nl_test.append(tfidf_list[i].transform(vect_list[i].transform(nl_test[l])).toarray())\n",
    "\n",
    "tfid_nl_test = pl.DataFrame(np.concatenate(processed_nl_test, axis = 1))\n",
    "\n",
    "XX = pl.concat([df_test.drop(nl_list), tfid_nl_test], how = 'horizontal')"
   ]
  },
  {
   "cell_type": "markdown",
   "id": "7a9c311d-ffa3-42c9-8e1c-8fea6291e266",
   "metadata": {},
   "source": [
    "`-` 그래서 이거 어떻게 분석함? 그냥 각 열 사용해서 쓰면 되는거임?(그런듯)"
   ]
  },
  {
   "cell_type": "code",
   "execution_count": 151,
   "id": "238a4de4-eb47-469e-9db3-2b1423126675",
   "metadata": {},
   "outputs": [],
   "source": [
    "import polars as pl"
   ]
  },
  {
   "cell_type": "code",
   "execution_count": null,
   "id": "0fa088ff-61cf-4264-9cb5-7360a50abc44",
   "metadata": {},
   "outputs": [],
   "source": [
    "pl_train = pl.DataFrame(df_train)"
   ]
  },
  {
   "cell_type": "code",
   "execution_count": 161,
   "id": "feb577cb-5431-4d24-be52-3124a7c3ff74",
   "metadata": {},
   "outputs": [],
   "source": [
    "tfid_nl = pl.DataFrame(np.concatenate([tfid_eng.toarray(), tfid_lud.toarray()], axis = 1))"
   ]
  },
  {
   "cell_type": "code",
   "execution_count": 170,
   "id": "57acc960-2f00-4885-a05d-7f113016a620",
   "metadata": {},
   "outputs": [],
   "source": [
    "target = 'utility_agent1'\n",
    "\n",
    "X = pl.concat([pl_train.drop([\"EnglishRules\", \"LudRules\"]), tfid_nl], how = 'horizontal').drop(target)\n",
    "y = pl_train[target]"
   ]
  },
  {
   "cell_type": "code",
   "execution_count": 145,
   "id": "b29ceb03-5b30-431f-81fe-0fdcd9092e7b",
   "metadata": {},
   "outputs": [
    {
     "data": {
      "text/plain": [
       "(233234, 3841)"
      ]
     },
     "execution_count": 145,
     "metadata": {},
     "output_type": "execute_result"
    }
   ],
   "source": [
    "df_train.drop([\"EnglishRules\", \"LudRules\"], axis = 1).\n",
    "np.concatenate([tfid_eng.toarray(), tfid_lud.toarray()], axis = 1)"
   ]
  },
  {
   "cell_type": "code",
   "execution_count": 150,
   "id": "dc8cdbbd-fe69-43ca-bfe1-b2405ce7b47f",
   "metadata": {},
   "outputs": [
    {
     "data": {
      "text/plain": [
       "(233234, 8633)"
      ]
     },
     "execution_count": 150,
     "metadata": {},
     "output_type": "execute_result"
    }
   ],
   "source": [
    "np.concatenate([tfid_eng.toarray(), tfid_lud.toarray()], axis = 1).shape"
   ]
  },
  {
   "cell_type": "markdown",
   "id": "001af7c9-dc20-4f63-9d2c-45d27808f497",
   "metadata": {},
   "source": [
    "**모형 돌려보자!**"
   ]
  },
  {
   "cell_type": "code",
   "execution_count": 249,
   "id": "317d373c-b076-442d-bd37-d4fbd2d3e1ac",
   "metadata": {},
   "outputs": [],
   "source": [
    "X = pd.DataFrame(X)\n",
    "y = pd.Series(y)"
   ]
  },
  {
   "cell_type": "code",
   "execution_count": 257,
   "id": "4044e47a-4bc0-4857-b19a-6389a22a8210",
   "metadata": {},
   "outputs": [
    {
     "data": {
      "text/plain": [
       "<catboost.core.CatBoostRegressor at 0x7ff85d0b35e0>"
      ]
     },
     "execution_count": 257,
     "metadata": {},
     "output_type": "execute_result"
    }
   ],
   "source": [
    "predictr = catboost.CatBoostRegressor(cat_features = [1, 2, 3], verbose = 0)\n",
    "predictr.fit(X, y)"
   ]
  },
  {
   "cell_type": "code",
   "execution_count": 1,
   "id": "50e5b732-58c9-498f-a16f-c1db93e637c9",
   "metadata": {},
   "outputs": [
    {
     "ename": "NameError",
     "evalue": "name 'predictr' is not defined",
     "output_type": "error",
     "traceback": [
      "\u001b[0;31m---------------------------------------------------------------------------\u001b[0m",
      "\u001b[0;31mNameError\u001b[0m                                 Traceback (most recent call last)",
      "Cell \u001b[0;32mIn[1], line 1\u001b[0m\n\u001b[0;32m----> 1\u001b[0m yhat \u001b[38;5;241m=\u001b[39m \u001b[43mpredictr\u001b[49m\u001b[38;5;241m.\u001b[39mpredict(X)\n",
      "\u001b[0;31mNameError\u001b[0m: name 'predictr' is not defined"
     ]
    }
   ],
   "source": [
    "yhat = predictr.predict(X)"
   ]
  },
  {
   "cell_type": "code",
   "execution_count": null,
   "id": "8d22e8b3-f89f-474d-9feb-77cfac580e8f",
   "metadata": {},
   "outputs": [],
   "source": [
    "X = df_train.drop([\"num_wins_agent1\", \"num_draws_agent1\", \"num_losses_agent1\",\"utility_agent1\"], axis = 1)\n",
    "y = df_train.utility_agent1.map(lambda x : 1/2*np.log((1+x)/(1-x)) if (x > -0.99999) & (x < 0.99999) else 1/2*np.log(0.00000001/2) if x > -0.99999 else 1/2*np.log(1.99999999/0.00000001))\n",
    "\n",
    "predictr = catboost.CatBoostRegressor(cat_features = [\"GameRulesetName\", \"agent1\", \"agent2\", \"EnglishRules\", \"LudRules\"])\n",
    "predictr.fit(X, y)\n",
    "\n",
    "np.mean(abs(df_train.utility_agent1 - [(np.exp(2*x) - 1)/(np.exp(2*x)+1) for x in predictr.predict(X)]))"
   ]
  },
  {
   "cell_type": "code",
   "execution_count": null,
   "id": "ca83ed72-2893-42e8-85bb-d5740d25922c",
   "metadata": {},
   "outputs": [],
   "source": [
    "import os\n",
    "import polars as pl\n",
    "import numpy as np\n",
    "import pandas as pd\n",
    "import catboost\n",
    "import kaggle_evaluation.mcts_inference_server\n",
    "\n",
    "target = 'utility_agent1'\n",
    "counter = 0  # 첫 번째 호출 확인용 변수\n",
    "\n",
    "def train_model():\n",
    "    global predictr\n",
    "    df_train = pd.read_csv(\"/root/kag_comp/UM_MCTS/Data/train.csv\")\n",
    "    \n",
    "    X = df_train.drop([\"num_wins_agent1\", \"num_draws_agent1\", \"num_losses_agent1\", target], axis = 1)\n",
    "    y = df_train[target]\n",
    "\n",
    "    predictr = catboost.CatBoostRegressor(cat_features=[\"GameRulesetName\", \"agent1\", \"agent2\", \"EnglishRules\", \"LudRules\"], verbose = 0)\n",
    "    predictr.fit(X, y)\n",
    "\n",
    "def predict(test: pl.DataFrame, sample_sub: pl.DataFrame):\n",
    "    global counter\n",
    "    if counter == 0:  # 첫 번째 호출 시에만 모델을 학습하거나 로드\n",
    "        train_model()\n",
    "        counter += 1\n",
    "    \n",
    "    predictions = predictr.predict(test.to_pandas())\n",
    "    return sample_sub.with_columns(pl.Series('utility_agent1', predictions))\n",
    "\n",
    "# 인퍼런스 서버 설정\n",
    "inference_server = kaggle_evaluation.mcts_inference_server.MCTSInferenceServer(predict)\n",
    "\n",
    "if os.getenv('KAGGLE_IS_COMPETITION_RERUN'):\n",
    "    inference_server.serve()\n",
    "else:\n",
    "    inference_server.run_local_gateway(\n",
    "        (\n",
    "            '/root/kag_comp/UM_MCTS/Data/test.csv',\n",
    "            '/root/kag_comp/UM_MCTS/Data/sample_submission.csv'\n",
    "        )\n",
    ")"
   ]
  }
 ],
 "metadata": {
  "kernelspec": {
   "display_name": "py",
   "language": "python",
   "name": "python3"
  },
  "language_info": {
   "codemirror_mode": {
    "name": "ipython",
    "version": 3
   },
   "file_extension": ".py",
   "mimetype": "text/x-python",
   "name": "python",
   "nbconvert_exporter": "python",
   "pygments_lexer": "ipython3",
   "version": "3.10.14"
  }
 },
 "nbformat": 4,
 "nbformat_minor": 5
}
