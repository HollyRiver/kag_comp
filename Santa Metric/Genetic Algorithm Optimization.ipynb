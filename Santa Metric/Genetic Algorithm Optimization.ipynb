{
 "cells": [
  {
   "cell_type": "markdown",
   "metadata": {},
   "source": [
    "## sample 2 optimization"
   ]
  },
  {
   "cell_type": "code",
   "execution_count": 1,
   "metadata": {},
   "outputs": [
    {
     "data": {
      "application/vnd.jupyter.widget-view+json": {
       "model_id": "9a1f9ad012c64330aeacc186a4de1c6f",
       "version_major": 2,
       "version_minor": 0
      },
      "text/plain": [
       "Loading checkpoint shards:   0%|          | 0/8 [00:00<?, ?it/s]"
      ]
     },
     "metadata": {},
     "output_type": "display_data"
    },
    {
     "name": "stdout",
     "output_type": "stream",
     "text": [
      "parents perplexities : [2520.04301549 1570.85447204 2672.11346981 1887.42500899 2172.41286899\n",
      " 1297.2069732  4371.2858952  1058.7494749  1894.81218161 1698.49866226\n",
      " 1322.79208821 1096.63315843 1435.87722781 3124.01714781 2172.41286899\n",
      " 1430.27927301 1962.61147384 2017.01706802 2934.74251711  990.725497\n",
      "  603.25726649  821.34028514  874.31218242  909.1408203   909.1408203\n",
      "  952.77139924  960.24407794  975.36572185  975.36572185  990.725497\n",
      " 1002.40385566 1002.40385566 1006.32715342 1010.26580654 1030.19151414\n",
      " 1030.19151414 1034.22356973 1038.27140633 1038.27140633 1050.51022112]\n"
     ]
    },
    {
     "data": {
      "application/vnd.jupyter.widget-view+json": {
       "model_id": "7e2bfc8470e8409b9de7da1267a74e08",
       "version_major": 2,
       "version_minor": 0
      },
      "text/plain": [
       "Loading checkpoint shards:   0%|          | 0/8 [00:00<?, ?it/s]"
      ]
     },
     "metadata": {},
     "output_type": "display_data"
    },
    {
     "name": "stdout",
     "output_type": "stream",
     "text": [
      "best genome : [np.str_('sleigh yuletide jingle grinch carol holiday holly cheer chimney naughty nice nutcracker magi gifts stocking workshop decorations polar ornament beard'), np.float64(522.0756496064025)]\n",
      "parents perplexities : [ 796.07030117 1348.8818244   629.74344104  834.2745126   786.79580124\n",
      "  857.40145401 1149.26168255 1447.13895249  960.24407794  990.725497\n",
      "  994.60308696 1058.7494749  1272.11671911  691.6378635  1252.39437742\n",
      " 1464.19736852 1725.24612423  854.05876253 1633.43020034  934.34313221\n",
      "  522.07564961  522.07564961  526.17033968  532.37266914  532.37266914\n",
      "  536.54811973  538.6481097   538.6481097   538.6481097   540.75631879\n",
      "  540.75631879  542.87277918  542.87277918  542.87277918  542.87277918\n",
      "  551.42178151  555.74663614  555.74663614  555.74663614  560.10541103]\n"
     ]
    },
    {
     "data": {
      "application/vnd.jupyter.widget-view+json": {
       "model_id": "5c824734c735495da17da2e2a42c29b2",
       "version_major": 2,
       "version_minor": 0
      },
      "text/plain": [
       "Loading checkpoint shards:   0%|          | 0/8 [00:00<?, ?it/s]"
      ]
     },
     "metadata": {},
     "output_type": "display_data"
    },
    {
     "name": "stdout",
     "output_type": "stream",
     "text": [
      "best genome : [np.str_('sleigh yuletide jingle grinch holiday holly cheer chimney naughty nice nutcracker gifts stocking magi carol polar beard workshop decorations ornament'), np.float64(421.1414445251494)]\n",
      "parents perplexities : [1185.74316446  774.59766297  649.73364371  577.88506534  967.77536558\n",
      " 1297.2069732  1209.12985283  629.74344104  540.75631879  719.18958379\n",
      " 1282.0940542   596.22910645 1209.12985283  847.41242451  941.67127622\n",
      "  964.002367    649.73364371  589.28282696  912.69909686  702.52957502\n",
      "  421.14144453  431.12852607  432.81591542  437.91781247  437.91781247\n",
      "  437.91781247  439.63177432  439.63177432  439.63177432  439.63177432\n",
      "  441.35244444  441.35244444  441.35244444  444.81401456  444.81401456\n",
      "  446.55496739  446.55496739  446.55496739  446.55496739  448.30273412]\n"
     ]
    },
    {
     "data": {
      "application/vnd.jupyter.widget-view+json": {
       "model_id": "471d5a7882e24faaa55d5b217c1d757a",
       "version_major": 2,
       "version_minor": 0
      },
      "text/plain": [
       "Loading checkpoint shards:   0%|          | 0/8 [00:00<?, ?it/s]"
      ]
     },
     "metadata": {},
     "output_type": "display_data"
    },
    {
     "name": "stdout",
     "output_type": "stream",
     "text": [
      "best genome : [np.str_('sleigh yuletide jingle grinch holiday holly cheer carol naughty nice chimney workshop nutcracker polar beard stocking magi gifts decorations ornament'), np.float64(376.03698390417554)]\n",
      "parents perplexities : [ 515.99328406  482.84104495  847.41242451  736.24467328  938.00004783\n",
      "  624.8427387   759.61558796  566.70775638  515.99328406  834.2745126\n",
      "  532.37266914  431.12852607  802.31395793  482.84104495  482.84104495\n",
      " 1237.80354097 1038.27140633  637.16665745  547.13058316  582.41747408\n",
      "  376.0369839   376.0369839   380.46958888  381.95870474  381.95870474\n",
      "  384.95444399  386.46111309  392.54699008  392.54699008  395.62577428\n",
      "  395.62577428  395.62577428  397.17420978  397.17420978  400.28928571\n",
      "  400.28928571  400.28928571  400.28928571  400.28928571  400.28928571]\n"
     ]
    },
    {
     "data": {
      "application/vnd.jupyter.widget-view+json": {
       "model_id": "48d8765451b44263bf005592705d8718",
       "version_major": 2,
       "version_minor": 0
      },
      "text/plain": [
       "Loading checkpoint shards:   0%|          | 0/8 [00:00<?, ?it/s]"
      ]
     },
     "metadata": {},
     "output_type": "display_data"
    },
    {
     "name": "stdout",
     "output_type": "stream",
     "text": [
      "best genome : [np.str_('sleigh yuletide jingle grinch carol holiday cheer holly naughty nice chimney workshop nutcracker polar beard ornament decorations gifts stocking magi'), np.float64(357.4181017943673)]\n",
      "parents perplexities : [ 473.50205375  562.29760163  547.13058316  652.27662929  659.96545979\n",
      "  477.21577639  518.01282467  513.98161688  504.0403125   479.08354613\n",
      "  627.28830404 1267.15720604  466.16108483  624.8427387   400.28928571\n",
      "  490.44468502  486.6280142   675.61608965  437.91781247  446.55496739\n",
      "  357.41810179  357.41810179  358.81699669  363.04661791  363.04661791\n",
      "  363.04661791  363.04661791  364.46754219  365.89402782  365.89402782\n",
      "  365.89402782  365.89402782  365.89402782  368.76377025  368.76377025\n",
      "  368.76377025  370.20707084  370.20707084  370.20707084  370.20707084]\n"
     ]
    },
    {
     "data": {
      "application/vnd.jupyter.widget-view+json": {
       "model_id": "45e9046c9dab40e89bca5c54425364ff",
       "version_major": 2,
       "version_minor": 0
      },
      "text/plain": [
       "Loading checkpoint shards:   0%|          | 0/8 [00:00<?, ?it/s]"
      ]
     },
     "metadata": {},
     "output_type": "display_data"
    },
    {
     "name": "stdout",
     "output_type": "stream",
     "text": [
      "best genome : [np.str_('sleigh yuletide grinch holiday carol cheer holly jingle naughty nice chimney workshop nutcracker polar beard ornament decorations gifts stocking magi'), np.float64(339.72110446147576)]\n",
      "parents perplexities : [426.10572661 662.54849157 466.16108483 427.77345727 577.88506534\n",
      " 439.63177432 553.57998534 536.54811973 528.22971216 724.8302576\n",
      " 446.55496739 448.30273412 457.14471327 392.54699008 513.98161688\n",
      " 874.31218242 429.44771524 560.10541103 479.08354613 507.99354967\n",
      " 339.72110446 346.42150286 350.50500992 350.50500992 350.50500992\n",
      " 356.02466067 356.02466067 356.02466067 357.41810179 357.41810179\n",
      " 357.41810179 357.41810179 357.41810179 357.41810179 357.41810179\n",
      " 357.41810179 358.81699669 358.81699669 358.81699669 358.81699669]\n"
     ]
    },
    {
     "data": {
      "application/vnd.jupyter.widget-view+json": {
       "model_id": "75caa3e2273847f880a0560b4bf63b05",
       "version_major": 2,
       "version_minor": 0
      },
      "text/plain": [
       "Loading checkpoint shards:   0%|          | 0/8 [00:00<?, ?it/s]"
      ]
     },
     "metadata": {},
     "output_type": "display_data"
    },
    {
     "name": "stdout",
     "output_type": "stream",
     "text": [
      "best genome : [np.str_('sleigh yuletide carol grinch holiday cheer holly jingle naughty nice polar workshop chimney beard nutcracker ornament decorations gifts stocking magi'), np.float64(322.9003462251159)]\n",
      "parents perplexities : [ 705.27919804  436.21053271 1046.4146699   496.22589177  490.44468502\n",
      "  439.63177432  371.65602034  432.81591542  530.2971448   441.35244444\n",
      "  538.6481097   598.5626812   622.40670773  814.94856433  441.35244444\n",
      "  582.41747408  600.90538929  432.81591542  688.94142301  386.46111309\n",
      "  322.90034623  322.90034623  325.43288503  326.70659333  326.70659333\n",
      "  331.85147355  334.45421692  335.76323371  335.76323371  337.07737385\n",
      "  337.07737385  339.72110446  339.72110446  339.72110446  339.72110446\n",
      "  339.72110446  339.72110446  339.72110446  341.05073527  342.38557011]\n"
     ]
    },
    {
     "data": {
      "application/vnd.jupyter.widget-view+json": {
       "model_id": "e62d1e1907f44baebcff4947e62fe02c",
       "version_major": 2,
       "version_minor": 0
      },
      "text/plain": [
       "Loading checkpoint shards:   0%|          | 0/8 [00:00<?, ?it/s]"
      ]
     },
     "metadata": {},
     "output_type": "display_data"
    },
    {
     "name": "stdout",
     "output_type": "stream",
     "text": [
      "best genome : [np.str_('sleigh yuletide carol grinch holiday cheer holly jingle naughty nice ornament decorations gifts stocking magi nutcracker polar beard workshop chimney'), np.float64(319.1384432445317)]\n",
      "parents perplexities : [378.98627852 473.50205375 460.73014369 509.98178021 365.89402782\n",
      " 394.08337556 498.16806499 429.44771524 540.75631879 357.41810179\n",
      " 547.13058316 419.49956963 665.14163304 450.05734141 649.73364371\n",
      " 439.63177432 453.58718489 500.11783967 411.38571347 376.0369839\n",
      " 319.13844324 322.90034623 322.90034623 325.43288503 325.43288503\n",
      " 326.70659333 326.70659333 326.70659333 326.70659333 326.70659333\n",
      " 327.98528678 327.98528678 327.98528678 329.2689849  331.85147355\n",
      " 331.85147355 331.85147355 331.85147355 331.85147355 331.85147355]\n"
     ]
    },
    {
     "data": {
      "application/vnd.jupyter.widget-view+json": {
       "model_id": "2e0616556d014d9a95e8dcd30b87e05c",
       "version_major": 2,
       "version_minor": 0
      },
      "text/plain": [
       "Loading checkpoint shards:   0%|          | 0/8 [00:00<?, ?it/s]"
      ]
     },
     "metadata": {},
     "output_type": "display_data"
    },
    {
     "name": "stdout",
     "output_type": "stream",
     "text": [
      "parents perplexities : [553.57998534 444.81401456 371.65602034 536.54811973 598.5626812\n",
      " 486.6280142  551.42178151 540.75631879 622.40670773 426.10572661\n",
      " 473.50205375 361.63123328 473.50205375 506.01307051 479.08354613\n",
      " 555.74663614 365.89402782 403.42879349 538.6481097  555.74663614\n",
      " 319.13844324 322.90034623 322.90034623 322.90034623 322.90034623\n",
      " 325.43288503 325.43288503 325.43288503 325.43288503 326.70659333\n",
      " 326.70659333 326.70659333 326.70659333 326.70659333 326.70659333\n",
      " 326.70659333 327.98528678 327.98528678 327.98528678 327.98528678]\n"
     ]
    },
    {
     "data": {
      "application/vnd.jupyter.widget-view+json": {
       "model_id": "1f6b6526a4824e80a7ed6669d3217a0c",
       "version_major": 2,
       "version_minor": 0
      },
      "text/plain": [
       "Loading checkpoint shards:   0%|          | 0/8 [00:00<?, ?it/s]"
      ]
     },
     "metadata": {},
     "output_type": "display_data"
    },
    {
     "name": "stdout",
     "output_type": "stream",
     "text": [
      "parents perplexities : [371.65602034 515.99328406 627.28830404 528.22971216 905.59641614\n",
      " 530.2971448  477.21577639 522.07564961 482.84104495 421.14144453\n",
      " 589.28282696 750.7657983  453.58718489 464.343695   814.94856433\n",
      " 395.62577428 551.42178151 457.14471327 446.55496739 365.89402782\n",
      " 319.13844324 321.64147708 322.90034623 322.90034623 322.90034623\n",
      " 322.90034623 325.43288503 325.43288503 325.43288503 325.43288503\n",
      " 326.70659333 326.70659333 326.70659333 326.70659333 326.70659333\n",
      " 326.70659333 326.70659333 326.70659333 326.70659333 327.98528678]\n"
     ]
    },
    {
     "data": {
      "application/vnd.jupyter.widget-view+json": {
       "model_id": "bc25030507ce4ecd9404efd27fe5be03",
       "version_major": 2,
       "version_minor": 0
      },
      "text/plain": [
       "Loading checkpoint shards:   0%|          | 0/8 [00:00<?, ?it/s]"
      ]
     },
     "metadata": {},
     "output_type": "display_data"
    },
    {
     "name": "stdout",
     "output_type": "stream",
     "text": [
      "parents perplexities : [441.35244444 504.0403125  381.95870474 799.18603224 387.97367912\n",
      " 586.98543094 596.22910645 386.46111309 426.10572661 564.49837222\n",
      " 586.98543094 457.14471327 444.81401456 414.61225161 365.89402782\n",
      " 526.17033968 441.35244444 619.98017393 902.06583031 504.0403125\n",
      " 319.13844324 321.64147708 322.90034623 322.90034623 322.90034623\n",
      " 322.90034623 325.43288503 325.43288503 325.43288503 325.43288503\n",
      " 325.43288503 326.70659333 326.70659333 326.70659333 326.70659333\n",
      " 326.70659333 326.70659333 326.70659333 326.70659333 326.70659333]\n"
     ]
    },
    {
     "data": {
      "application/vnd.jupyter.widget-view+json": {
       "model_id": "b00c4fc8951d4982adf7009c8e0888ff",
       "version_major": 2,
       "version_minor": 0
      },
      "text/plain": [
       "Loading checkpoint shards:   0%|          | 0/8 [00:00<?, ?it/s]"
      ]
     },
     "metadata": {},
     "output_type": "display_data"
    },
    {
     "name": "stdout",
     "output_type": "stream",
     "text": [
      "best genome : [np.str_('sleigh yuletide carol cheer holly jingle naughty nice holiday ornament decorations gifts stocking magi nutcracker grinch polar beard workshop chimney'), np.float64(312.9657469853004)]\n",
      "parents perplexities : [532.37266914 612.75718612 498.16806499 401.85597368 507.99354967\n",
      " 713.59280604 381.95870474 365.89402782 432.81591542 513.98161688\n",
      " 363.04661791 441.35244444 542.87277918 444.81401456 432.81591542\n",
      " 584.69699162 756.65412744 466.16108483 432.81591542 847.41242451\n",
      " 312.96574699 319.13844324 321.64147708 322.90034623 322.90034623\n",
      " 322.90034623 322.90034623 325.43288503 325.43288503 325.43288503\n",
      " 325.43288503 325.43288503 325.43288503 326.70659333 326.70659333\n",
      " 326.70659333 326.70659333 326.70659333 326.70659333 326.70659333]\n"
     ]
    },
    {
     "data": {
      "application/vnd.jupyter.widget-view+json": {
       "model_id": "625baf2e5c774da1b1b4caff64494420",
       "version_major": 2,
       "version_minor": 0
      },
      "text/plain": [
       "Loading checkpoint shards:   0%|          | 0/8 [00:00<?, ?it/s]"
      ]
     },
     "metadata": {},
     "output_type": "display_data"
    },
    {
     "name": "stdout",
     "output_type": "stream",
     "text": [
      "parents perplexities : [509.98178021 562.29760163 469.81723153 629.74344104 457.14471327\n",
      " 482.84104495 520.04026954 387.97367912 394.08337556 455.36247493\n",
      " 719.18958379 417.8640958  421.14144453 394.08337556 490.44468502\n",
      " 460.73014369 532.37266914 450.05734141 573.38792808 542.87277918\n",
      " 312.96574699 319.13844324 320.3875158  321.64147708 322.90034623\n",
      " 322.90034623 322.90034623 322.90034623 325.43288503 325.43288503\n",
      " 325.43288503 325.43288503 325.43288503 325.43288503 326.70659333\n",
      " 326.70659333 326.70659333 326.70659333 326.70659333 326.70659333]\n"
     ]
    },
    {
     "data": {
      "application/vnd.jupyter.widget-view+json": {
       "model_id": "1c503de69a434e89a23582b1bd06e0a6",
       "version_major": 2,
       "version_minor": 0
      },
      "text/plain": [
       "Loading checkpoint shards:   0%|          | 0/8 [00:00<?, ?it/s]"
      ]
     },
     "metadata": {},
     "output_type": "display_data"
    },
    {
     "name": "stdout",
     "output_type": "stream",
     "text": [
      "parents perplexities : [458.93392709 486.6280142  691.6378635  437.91781247 486.6280142\n",
      " 634.68258006 486.6280142  384.95444399 694.34485756 431.12852607\n",
      " 824.55492013 547.13058316 377.50875105 439.63177432 627.28830404\n",
      " 603.25726649 759.61558796 397.17420978 446.55496739 353.25405478\n",
      " 312.96574699 319.13844324 320.3875158  320.3875158  321.64147708\n",
      " 322.90034623 322.90034623 322.90034623 322.90034623 325.43288503\n",
      " 325.43288503 325.43288503 325.43288503 325.43288503 325.43288503\n",
      " 326.70659333 326.70659333 326.70659333 326.70659333 326.70659333]\n"
     ]
    },
    {
     "data": {
      "application/vnd.jupyter.widget-view+json": {
       "model_id": "4a4f5c4226ba4e65b8023cb5368b33db",
       "version_major": 2,
       "version_minor": 0
      },
      "text/plain": [
       "Loading checkpoint shards:   0%|          | 0/8 [00:00<?, ?it/s]"
      ]
     },
     "metadata": {},
     "output_type": "display_data"
    },
    {
     "name": "stdout",
     "output_type": "stream",
     "text": [
      "parents perplexities : [659.96545979 448.30273412 562.29760163 532.37266914 436.21053271\n",
      " 448.30273412 417.8640958  494.29129036 964.002367   818.13818283\n",
      " 361.63123328 387.97367912 464.343695   912.69909686 412.99583163\n",
      " 458.93392709 358.81699669 473.50205375 694.34485756 422.78974553\n",
      " 312.96574699 319.13844324 320.3875158  320.3875158  321.64147708\n",
      " 322.90034623 322.90034623 322.90034623 322.90034623 325.43288503\n",
      " 325.43288503 325.43288503 325.43288503 325.43288503 325.43288503\n",
      " 326.70659333 326.70659333 326.70659333 326.70659333 326.70659333]\n"
     ]
    },
    {
     "data": {
      "application/vnd.jupyter.widget-view+json": {
       "model_id": "96841889f1b24ccfb7f1b8bd3e3a1139",
       "version_major": 2,
       "version_minor": 0
      },
      "text/plain": [
       "Loading checkpoint shards:   0%|          | 0/8 [00:00<?, ?it/s]"
      ]
     },
     "metadata": {},
     "output_type": "display_data"
    },
    {
     "name": "stdout",
     "output_type": "stream",
     "text": [
      "parents perplexities : [429.44771524 436.21053271 549.27199172 467.98558773 422.78974553\n",
      " 670.35840353 455.36247493 482.84104495 484.73083137 596.22910645\n",
      " 575.63210498 504.0403125  439.63177432 765.57332685 494.29129036\n",
      " 414.61225161 575.63210498 333.1503035  422.78974553 460.73014369\n",
      " 312.96574699 319.13844324 320.3875158  320.3875158  321.64147708\n",
      " 322.90034623 322.90034623 322.90034623 322.90034623 325.43288503\n",
      " 325.43288503 325.43288503 325.43288503 325.43288503 325.43288503\n",
      " 326.70659333 326.70659333 326.70659333 326.70659333 326.70659333]\n"
     ]
    },
    {
     "data": {
      "application/vnd.jupyter.widget-view+json": {
       "model_id": "1c2ca572a52442998d35a2781fe6fcaa",
       "version_major": 2,
       "version_minor": 0
      },
      "text/plain": [
       "Loading checkpoint shards:   0%|          | 0/8 [00:00<?, ?it/s]"
      ]
     },
     "metadata": {},
     "output_type": "display_data"
    },
    {
     "name": "stdout",
     "output_type": "stream",
     "text": [
      "parents perplexities : [401.85597368 370.20707084 542.87277918 403.42879349 667.74492379\n",
      " 376.0369839  496.22589177 486.6280142  490.44468502 460.73014369\n",
      " 724.8302576  591.58921474 652.27662929 765.57332685 530.2971448\n",
      " 469.81723153 484.73083137 426.10572661 575.63210498 515.99328406\n",
      " 312.96574699 319.13844324 320.3875158  320.3875158  321.64147708\n",
      " 322.90034623 322.90034623 322.90034623 322.90034623 325.43288503\n",
      " 325.43288503 325.43288503 325.43288503 325.43288503 325.43288503\n",
      " 326.70659333 326.70659333 326.70659333 326.70659333 326.70659333]\n"
     ]
    },
    {
     "data": {
      "application/vnd.jupyter.widget-view+json": {
       "model_id": "fbb4f06892e4435c95b9bebe66257046",
       "version_major": 2,
       "version_minor": 0
      },
      "text/plain": [
       "Loading checkpoint shards:   0%|          | 0/8 [00:00<?, ?it/s]"
      ]
     },
     "metadata": {},
     "output_type": "display_data"
    },
    {
     "name": "stdout",
     "output_type": "stream",
     "text": [
      "parents perplexities : [389.49216517 627.28830404 469.81723153 412.99583163 895.04589832\n",
      " 469.81723153 358.81699669 500.11783967 339.72110446 553.57998534\n",
      " 547.13058316 441.35244444 457.14471327 624.8427387  460.73014369\n",
      " 441.35244444 432.81591542 378.98627852 397.17420978 654.82956784\n",
      " 312.96574699 319.13844324 320.3875158  320.3875158  321.64147708\n",
      " 322.90034623 322.90034623 322.90034623 322.90034623 325.43288503\n",
      " 325.43288503 325.43288503 325.43288503 325.43288503 325.43288503\n",
      " 325.43288503 326.70659333 326.70659333 326.70659333 326.70659333]\n"
     ]
    },
    {
     "data": {
      "application/vnd.jupyter.widget-view+json": {
       "model_id": "eedc5757226e4bee87105f9db420092b",
       "version_major": 2,
       "version_minor": 0
      },
      "text/plain": [
       "Loading checkpoint shards:   0%|          | 0/8 [00:00<?, ?it/s]"
      ]
     },
     "metadata": {},
     "output_type": "display_data"
    },
    {
     "name": "stdout",
     "output_type": "stream",
     "text": [
      "parents perplexities : [ 573.38792808  575.63210498  506.01307051  591.58921474 1046.4146699\n",
      "  341.05073527  363.04661791  458.93392709  675.61608965  453.58718489\n",
      "  439.63177432  639.66045724  384.95444399  339.72110446  427.77345727\n",
      "  513.98161688  622.40670773  384.95444399  386.46111309  528.22971216\n",
      "  312.96574699  319.13844324  320.3875158   320.3875158   321.64147708\n",
      "  322.90034623  322.90034623  322.90034623  322.90034623  325.43288503\n",
      "  325.43288503  325.43288503  325.43288503  325.43288503  325.43288503\n",
      "  325.43288503  326.70659333  326.70659333  326.70659333  326.70659333]\n"
     ]
    },
    {
     "data": {
      "application/vnd.jupyter.widget-view+json": {
       "model_id": "acaf3870ad64402a88b2c2114cccd75c",
       "version_major": 2,
       "version_minor": 0
      },
      "text/plain": [
       "Loading checkpoint shards:   0%|          | 0/8 [00:00<?, ?it/s]"
      ]
     },
     "metadata": {},
     "output_type": "display_data"
    },
    {
     "name": "stdout",
     "output_type": "stream",
     "text": [
      "parents perplexities : [400.28928571 566.70775638 365.89402782 426.10572661 475.35528839\n",
      " 363.04661791 549.27199172 532.37266914 538.6481097  488.53262239\n",
      " 479.08354613 509.98178021 573.38792808 498.16806499 553.57998534\n",
      " 457.14471327 528.22971216 591.58921474 436.21053271 547.13058316\n",
      " 312.96574699 319.13844324 320.3875158  320.3875158  321.64147708\n",
      " 322.90034623 322.90034623 322.90034623 322.90034623 325.43288503\n",
      " 325.43288503 325.43288503 325.43288503 325.43288503 325.43288503\n",
      " 325.43288503 326.70659333 326.70659333 326.70659333 326.70659333]\n"
     ]
    },
    {
     "data": {
      "application/vnd.jupyter.widget-view+json": {
       "model_id": "83b442407ad34e2c9297ad234dc23da7",
       "version_major": 2,
       "version_minor": 0
      },
      "text/plain": [
       "Loading checkpoint shards:   0%|          | 0/8 [00:00<?, ?it/s]"
      ]
     },
     "metadata": {},
     "output_type": "display_data"
    },
    {
     "name": "stdout",
     "output_type": "stream",
     "text": [
      "parents perplexities : [384.95444399 831.02198452 507.99354967 498.16806499 426.10572661\n",
      " 455.36247493 591.58921474 771.57779288 589.28282696 378.98627852\n",
      " 373.11064088 513.98161688 389.49216517 498.16806499 837.53977072\n",
      " 513.98161688 432.81591542 612.75718612 509.98178021 494.29129036\n",
      " 312.96574699 319.13844324 320.3875158  320.3875158  321.64147708\n",
      " 322.90034623 322.90034623 322.90034623 322.90034623 325.43288503\n",
      " 325.43288503 325.43288503 325.43288503 325.43288503 325.43288503\n",
      " 325.43288503 326.70659333 326.70659333 326.70659333 326.70659333]\n"
     ]
    },
    {
     "data": {
      "application/vnd.jupyter.widget-view+json": {
       "model_id": "6d6d62ccb69e465c8b20140677f2ed18",
       "version_major": 2,
       "version_minor": 0
      },
      "text/plain": [
       "Loading checkpoint shards:   0%|          | 0/8 [00:00<?, ?it/s]"
      ]
     },
     "metadata": {},
     "output_type": "display_data"
    }
   ],
   "source": [
    "import pandas as pd\n",
    "import numpy as np\n",
    "import pickle\n",
    "import os\n",
    "\n",
    "from algorithm import genetic\n",
    "\n",
    "df_sample = pd.read_csv(\"sample_submission.csv\", index_col = 0)\n",
    "sample = df_sample.text.to_list()[2]\n",
    "\n",
    "optimizr = genetic(sample, initial_times = 10000, cross_size = 100, max_stack = 10, crossover_method = \"mixture\", parent_size = 40, mutation_chances = 2, batch_size = 512)\n",
    "best_genome = optimizr.reputation(rep_times = 200)\n",
    "\n",
    "with open(\"sample2.pkl\", \"wb\") as f :\n",
    "    pickle.dump(best_genome, f)"
   ]
  },
  {
   "cell_type": "markdown",
   "metadata": {},
   "source": [
    "## submission 2"
   ]
  },
  {
   "cell_type": "code",
   "execution_count": null,
   "metadata": {},
   "outputs": [],
   "source": [
    "df_submission = pd.read_csv(\"sample1_genetic.csv\", index_col = 0)\n",
    "df_submission.iloc[2, 1] = 'sleigh yuletide carol cheer holly jingle naughty nice holiday ornament decorations gifts stocking magi nutcracker grinch polar beard workshop chimney'\n",
    "\n",
    "df_submission.to_csv(\"sample2_genetic.csv\")\n",
    "\n",
    "os.system(\"kaggle competitions submit -c santa-2024 -f sample2_genetic.csv -m .\")"
   ]
  },
  {
   "cell_type": "markdown",
   "metadata": {},
   "source": [
    "## Sample 3 optimization"
   ]
  },
  {
   "cell_type": "code",
   "execution_count": 1,
   "metadata": {},
   "outputs": [
    {
     "data": {
      "application/vnd.jupyter.widget-view+json": {
       "model_id": "beb7ba8d480d491b8453c2d1feee8578",
       "version_major": 2,
       "version_minor": 0
      },
      "text/plain": [
       "Loading checkpoint shards:   0%|          | 0/8 [00:00<?, ?it/s]"
      ]
     },
     "metadata": {},
     "output_type": "display_data"
    },
    {
     "name": "stdout",
     "output_type": "stream",
     "text": [
      "parents perplexities : [4011.31741996 2339.78073273 1962.61147384 1872.73695105 2155.50701792\n",
      " 3027.90124473 1181.12038996 2232.63437208 1397.14688934 3148.51911797\n",
      " 2620.4301168  3738.95896479 1589.37120748 2367.36132761 3377.86793167\n",
      " 3223.18409717 1786.97808229 2001.32051667 1786.97808229 3273.94186105\n",
      "  994.60308696 1018.18941946 1088.09909148 1096.63315843 1127.03294941\n",
      " 1158.27545364 1190.38403199 1223.38269292 1223.38269292 1257.29611042\n",
      " 1257.29611042 1262.21702827 1262.21702827 1272.11671911 1307.38109359\n",
      " 1317.63501059 1322.79208821 1322.79208821 1322.79208821 1343.62303254]\n"
     ]
    },
    {
     "data": {
      "application/vnd.jupyter.widget-view+json": {
       "model_id": "5f56a10876dc4f5b93d1b2cd260f7317",
       "version_major": 2,
       "version_minor": 0
      },
      "text/plain": [
       "Loading checkpoint shards:   0%|          | 0/8 [00:00<?, ?it/s]"
      ]
     },
     "metadata": {},
     "output_type": "display_data"
    },
    {
     "name": "stdout",
     "output_type": "stream",
     "text": [
      "best genome : [np.str_('sleigh the holiday of carol grinch yuletide holly polar workshop nutcracker unwrap and relax sing jingle beard cheer gifts decorations naughty nice eat stocking cheer chimney is visit ornament magi'), np.float64(659.9654597903282)]\n",
      "parents perplexities : [2822.31429683 1487.255122   1993.5181074  1498.91980849 2471.30097133\n",
      " 1018.18941946 1435.87722781 1292.14964249 2294.52527673 1083.85699515\n",
      " 1504.78641475 1088.09909148 1322.79208821 1257.29611042 1458.48900396\n",
      " 1646.24135218 2640.98240493 1354.16119859 1614.40016209 1272.11671911\n",
      "  659.96545979  672.98211214  705.27919804  719.18958379  730.51517177\n",
      "  733.37432732  739.12625345  747.83883984  750.7657983   750.7657983\n",
      "  756.65412744  759.61558796  759.61558796  762.58863931  771.57779288\n",
      "  771.57779288  771.57779288  774.59766297  777.62935251  777.62935251]\n"
     ]
    },
    {
     "data": {
      "application/vnd.jupyter.widget-view+json": {
       "model_id": "5b04219f547a401c9e7f9cb05054de8a",
       "version_major": 2,
       "version_minor": 0
      },
      "text/plain": [
       "Loading checkpoint shards:   0%|          | 0/8 [00:00<?, ?it/s]"
      ]
     },
     "metadata": {},
     "output_type": "display_data"
    },
    {
     "name": "stdout",
     "output_type": "stream",
     "text": [
      "best genome : [np.str_('sleigh magi the of carol grinch yuletide holly polar workshop nutcracker unwrap and relax sing cheer jingle beard gifts decorations naughty nice eat stocking ornament visit is chimney cheer holiday'), np.float64(511.9777924614019)]\n",
      "parents perplexities : [1391.69992982 1759.27355503  919.8574846  1213.86225327  912.69909686\n",
      " 1149.26168255  864.12613696 1282.0940542   949.05689557 1026.17517805\n",
      "  938.00004783 1359.46123567 1149.26168255  967.77536558 1577.00262261\n",
      " 2155.50701792 1018.18941946 1419.14875141  605.61834867 3680.99177894\n",
      "  511.97779246  532.37266914  538.6481097   542.87277918  551.42178151\n",
      "  555.74663614  555.74663614  557.92176698  557.92176698  562.29760163\n",
      "  564.49837222  568.92578782  568.92578782  573.38792808  573.38792808\n",
      "  573.38792808  575.63210498  575.63210498  577.88506534  577.88506534]\n"
     ]
    },
    {
     "data": {
      "application/vnd.jupyter.widget-view+json": {
       "model_id": "e88a6f8f11e14da8a1d109e275f2bd8d",
       "version_major": 2,
       "version_minor": 0
      },
      "text/plain": [
       "Loading checkpoint shards:   0%|          | 0/8 [00:00<?, ?it/s]"
      ]
     },
     "metadata": {},
     "output_type": "display_data"
    },
    {
     "name": "stdout",
     "output_type": "stream",
     "text": [
      "best genome : [np.str_('sleigh magi the of carol grinch yuletide holly polar workshop nutcracker unwrap and relax sing cheer jingle beard gifts decorations naughty nice eat chimney stocking ornament visit is holiday cheer'), np.float64(448.3027341176846)]\n",
      "parents perplexities : [ 986.86302433  639.66045724 1516.58860087  864.12613696  864.12613696\n",
      " 1171.92883816 1504.78641475  818.13818283 1620.71874567 1096.63315843\n",
      " 1058.7494749  1343.62303254  808.60658429 1725.24612423 1026.17517805\n",
      "  967.77536558 1058.7494749  1380.86963505 1075.42235309 1118.26230941\n",
      "  448.30273412  451.81881604  453.58718489  455.36247493  457.14471327\n",
      "  457.14471327  458.93392709  460.73014369  462.53339049  462.53339049\n",
      "  464.343695    464.343695    464.343695    464.343695    464.343695\n",
      "  469.81723153  471.65604419  471.65604419  471.65604419  473.50205375]\n"
     ]
    },
    {
     "data": {
      "application/vnd.jupyter.widget-view+json": {
       "model_id": "13cc4846b1794e87915f3b025f2cf509",
       "version_major": 2,
       "version_minor": 0
      },
      "text/plain": [
       "Loading checkpoint shards:   0%|          | 0/8 [00:00<?, ?it/s]"
      ]
     },
     "metadata": {},
     "output_type": "display_data"
    },
    {
     "name": "stdout",
     "output_type": "stream",
     "text": [
      "best genome : [np.str_('sleigh magi the of carol grinch yuletide holly polar workshop nutcracker unwrap and relax sing cheer jingle beard gifts decorations naughty nice is chimney stocking ornament visit eat holiday cheer'), np.float64(414.6122516103204)]\n",
      "parents perplexities : [ 827.78213684  484.73083137 1190.38403199 1731.99854664  783.72837511\n",
      "  750.7657983   683.58003832 1058.7494749   624.8427387   575.63210498\n",
      "  774.59766297  637.16665745  844.10867656  683.58003832  544.99752316\n",
      "  513.98161688  762.58863931  482.84104495  619.98017393 2367.36132761\n",
      "  414.61225161  416.23499808  417.8640958   417.8640958   419.49956963\n",
      "  421.14144453  424.44449781  426.10572661  426.10572661  426.10572661\n",
      "  426.10572661  426.10572661  427.77345727  429.44771524  429.44771524\n",
      "  429.44771524  429.44771524  429.44771524  429.44771524  429.44771524]\n"
     ]
    },
    {
     "data": {
      "application/vnd.jupyter.widget-view+json": {
       "model_id": "a9fb3b678b934ed289c64ab4f3036bd5",
       "version_major": 2,
       "version_minor": 0
      },
      "text/plain": [
       "Loading checkpoint shards:   0%|          | 0/8 [00:00<?, ?it/s]"
      ]
     },
     "metadata": {},
     "output_type": "display_data"
    },
    {
     "name": "stdout",
     "output_type": "stream",
     "text": [
      "best genome : [np.str_('sleigh magi the of carol grinch yuletide holly polar workshop nutcracker unwrap and relax sing cheer jingle beard gifts is naughty nice eat holiday cheer ornament decorations visit chimney stocking'), np.float64(392.54699007778345)]\n",
      "parents perplexities : [ 542.87277918  705.27919804  593.90462946  458.93392709  593.90462946\n",
      "  513.98161688 1218.6131758   522.07564961  750.7657983  2385.92877262\n",
      "  480.95862611  612.75718612  584.69699162  443.07984907  509.98178021\n",
      " 1054.62180187  639.66045724  408.18428445 1272.11671911  460.73014369\n",
      "  392.54699008  394.08337556  394.08337556  398.72870568  398.72870568\n",
      "  398.72870568  398.72870568  398.72870568  398.72870568  398.72870568\n",
      "  398.72870568  398.72870568  401.85597368  401.85597368  401.85597368\n",
      "  403.42879349  403.42879349  403.42879349  403.42879349  403.42879349]\n"
     ]
    },
    {
     "data": {
      "application/vnd.jupyter.widget-view+json": {
       "model_id": "b404c577c9b34f9ca676ba7050da1c08",
       "version_major": 2,
       "version_minor": 0
      },
      "text/plain": [
       "Loading checkpoint shards:   0%|          | 0/8 [00:00<?, ?it/s]"
      ]
     },
     "metadata": {},
     "output_type": "display_data"
    },
    {
     "name": "stdout",
     "output_type": "stream",
     "text": [
      "best genome : [np.str_('sleigh magi the of carol grinch yuletide holly polar workshop nutcracker unwrap and relax eat sing cheer jingle beard is naughty nice holiday cheer decorations ornament gifts visit chimney stocking'), np.float64(378.98627852215554)]\n",
      "parents perplexities : [667.74492379 498.16806499 520.04026954 484.73083137 659.96545979\n",
      " 637.16665745 930.70047355 654.82956784 831.02198452 466.16108483\n",
      " 494.29129036 615.15544994 615.15544994 589.28282696 727.66716302\n",
      " 607.98867187 593.90462946 455.36247493 437.91781247 419.49956963\n",
      " 378.98627852 378.98627852 381.95870474 381.95870474 383.45364885\n",
      " 383.45364885 383.45364885 383.45364885 383.45364885 384.95444399\n",
      " 384.95444399 384.95444399 384.95444399 386.46111309 386.46111309\n",
      " 386.46111309 386.46111309 386.46111309 387.97367912 387.97367912]\n"
     ]
    },
    {
     "data": {
      "application/vnd.jupyter.widget-view+json": {
       "model_id": "c02b95305b5846f998ca1837c811f968",
       "version_major": 2,
       "version_minor": 0
      },
      "text/plain": [
       "Loading checkpoint shards:   0%|          | 0/8 [00:00<?, ?it/s]"
      ]
     },
     "metadata": {},
     "output_type": "display_data"
    },
    {
     "name": "stdout",
     "output_type": "stream",
     "text": [
      "best genome : [np.str_('sleigh magi the of beard grinch yuletide holly polar workshop nutcracker unwrap and relax eat sing cheer jingle carol visit naughty is nice chimney stocking ornament decorations gifts holiday cheer'), np.float64(365.89402781973274)]\n",
      "parents perplexities : [450.05734141 783.72837511 441.35244444 705.27919804 733.37432732\n",
      " 467.98558773 617.5631003  480.95862611 482.84104495 524.11899593\n",
      " 617.5631003  762.58863931 573.38792808 699.79067177 509.98178021\n",
      " 549.27199172 530.2971448  710.81077135 509.98178021 598.5626812\n",
      " 365.89402782 368.76377025 370.20707084 370.20707084 370.20707084\n",
      " 373.11064088 373.11064088 374.57095464 374.57095464 374.57095464\n",
      " 374.57095464 374.57095464 374.57095464 374.57095464 376.0369839\n",
      " 376.0369839  376.0369839  377.50875105 377.50875105 378.98627852]\n"
     ]
    },
    {
     "data": {
      "application/vnd.jupyter.widget-view+json": {
       "model_id": "beeff1e0ecf54b4bb9e68980d23a5745",
       "version_major": 2,
       "version_minor": 0
      },
      "text/plain": [
       "Loading checkpoint shards:   0%|          | 0/8 [00:00<?, ?it/s]"
      ]
     },
     "metadata": {},
     "output_type": "display_data"
    },
    {
     "name": "stdout",
     "output_type": "stream",
     "text": [
      "best genome : [np.str_('sleigh magi the of workshop grinch yuletide holly nutcracker polar unwrap and relax sing carol holiday jingle beard gifts is naughty nice eat cheer cheer decorations ornament visit chimney stocking'), np.float64(341.05073527023916)]\n",
      "parents perplexities : [844.10867656 528.22971216 455.36247493 439.63177432 431.12852607\n",
      " 759.61558796 632.20818718 436.21053271 783.72837511 432.81591542\n",
      " 477.21577639 429.44771524 542.87277918 429.44771524 805.45412597\n",
      " 568.92578782 610.36827225 750.7657983  532.37266914 431.12852607\n",
      " 341.05073527 356.02466067 356.02466067 356.02466067 357.41810179\n",
      " 360.22136671 360.22136671 360.22136671 360.22136671 360.22136671\n",
      " 361.63123328 361.63123328 361.63123328 361.63123328 361.63123328\n",
      " 361.63123328 363.04661791 363.04661791 363.04661791 363.04661791]\n"
     ]
    },
    {
     "data": {
      "application/vnd.jupyter.widget-view+json": {
       "model_id": "7e11093b725c4af189cc8d9600072c33",
       "version_major": 2,
       "version_minor": 0
      },
      "text/plain": [
       "Loading checkpoint shards:   0%|          | 0/8 [00:00<?, ?it/s]"
      ]
     },
     "metadata": {},
     "output_type": "display_data"
    },
    {
     "name": "stdout",
     "output_type": "stream",
     "text": [
      "best genome : [np.str_('sleigh magi the of beard grinch yuletide holly polar unwrap gifts and relax eat cheer jingle sing carol is naughty nice visit workshop chimney stocking ornament nutcracker decorations holiday cheer'), np.float64(329.26898489707213)]\n",
      "parents perplexities : [466.16108483 502.07524555 466.16108483 354.63665206 534.45631685\n",
      " 477.21577639 524.11899593 591.58921474 386.46111309 490.44468502\n",
      " 699.79067177 526.17033968 409.78187257 542.87277918 557.92176698\n",
      " 593.90462946 419.49956963 560.10541103 444.81401456 492.36423124\n",
      " 329.2689849  333.1503035  333.1503035  334.45421692 337.07737385\n",
      " 337.07737385 338.39665739 338.39665739 338.39665739 339.72110446\n",
      " 339.72110446 339.72110446 339.72110446 339.72110446 341.05073527\n",
      " 341.05073527 341.05073527 341.05073527 341.05073527 341.05073527]\n"
     ]
    },
    {
     "data": {
      "application/vnd.jupyter.widget-view+json": {
       "model_id": "5911ba133c8142e59a05c17696802de1",
       "version_major": 2,
       "version_minor": 0
      },
      "text/plain": [
       "Loading checkpoint shards:   0%|          | 0/8 [00:00<?, ?it/s]"
      ]
     },
     "metadata": {},
     "output_type": "display_data"
    },
    {
     "name": "stdout",
     "output_type": "stream",
     "text": [
      "best genome : [np.str_('sleigh magi the of beard grinch yuletide holly polar unwrap gifts and relax eat cheer jingle sing carol is naughty nice visit workshop chimney stocking decorations ornament nutcracker holiday cheer'), np.float64(324.16414244755515)]\n",
      "parents perplexities : [397.17420978 398.72870568 549.27199172 450.05734141 406.59292474\n",
      " 381.95870474 400.28928571 522.07564961 416.23499808 451.81881604\n",
      " 443.07984907 644.67737638 622.40670773 627.28830404 654.82956784\n",
      " 426.10572661 560.10541103 414.61225161 384.95444399 555.74663614\n",
      " 324.16414245 325.43288503 326.70659333 329.2689849  329.2689849\n",
      " 329.2689849  329.2689849  330.55770727 330.55770727 330.55770727\n",
      " 331.85147355 331.85147355 331.85147355 331.85147355 331.85147355\n",
      " 331.85147355 331.85147355 333.1503035  333.1503035  333.1503035 ]\n"
     ]
    },
    {
     "data": {
      "application/vnd.jupyter.widget-view+json": {
       "model_id": "c69c2fda87a24efe9b430e2180a0365f",
       "version_major": 2,
       "version_minor": 0
      },
      "text/plain": [
       "Loading checkpoint shards:   0%|          | 0/8 [00:00<?, ?it/s]"
      ]
     },
     "metadata": {},
     "output_type": "display_data"
    },
    {
     "name": "stdout",
     "output_type": "stream",
     "text": [
      "best genome : [np.str_('sleigh magi the of beard grinch yuletide holly polar unwrap gifts eat cheer and relax sing carol jingle is naughty nice visit workshop chimney stocking decorations ornament nutcracker holiday cheer'), np.float64(309.31958559164264)]\n",
      "parents perplexities : [ 498.16806499  498.16806499  368.76377025  747.83883984  960.24407794\n",
      "  460.73014369  403.42879349  549.27199172  450.05734141  357.41810179\n",
      "  930.70047355  544.99752316 1006.32715342  414.61225161  414.61225161\n",
      "  792.96671719  450.05734141  429.44771524  460.73014369  564.49837222\n",
      "  309.31958559  311.74560917  312.96574699  312.96574699  314.19066029\n",
      "  314.19066029  316.65488818  316.65488818  316.65488818  317.89424037\n",
      "  317.89424037  317.89424037  319.13844324  319.13844324  319.13844324\n",
      "  320.3875158   320.3875158   320.3875158   321.64147708  321.64147708]\n"
     ]
    },
    {
     "data": {
      "application/vnd.jupyter.widget-view+json": {
       "model_id": "71b31a9eddfd47dfafe88cbcfbc86f3d",
       "version_major": 2,
       "version_minor": 0
      },
      "text/plain": [
       "Loading checkpoint shards:   0%|          | 0/8 [00:00<?, ?it/s]"
      ]
     },
     "metadata": {},
     "output_type": "display_data"
    },
    {
     "name": "stdout",
     "output_type": "stream",
     "text": [
      "best genome : [np.str_('sleigh of the magi beard grinch yuletide holly polar unwrap gifts and eat cheer jingle relax sing carol is naughty nice visit workshop chimney stocking decorations ornament nutcracker holiday cheer'), np.float64(305.71590326490076)]\n",
      "parents perplexities : [317.89424037 506.01307051 488.53262239 657.3924983  373.11064088\n",
      " 672.98211214 363.04661791 356.02466067 356.02466067 361.63123328\n",
      " 422.78974553 492.36423124 346.42150286 439.63177432 406.59292474\n",
      " 477.21577639 747.83883984 469.81723153 364.46754219 378.98627852\n",
      " 305.71590326 308.11366281 308.11366281 309.31958559 309.31958559\n",
      " 309.31958559 309.31958559 310.53022822 311.74560917 311.74560917\n",
      " 311.74560917 312.96574699 312.96574699 312.96574699 312.96574699\n",
      " 312.96574699 312.96574699 312.96574699 312.96574699 312.96574699]\n"
     ]
    },
    {
     "data": {
      "application/vnd.jupyter.widget-view+json": {
       "model_id": "bf0395606d214d328c76a1527efc9467",
       "version_major": 2,
       "version_minor": 0
      },
      "text/plain": [
       "Loading checkpoint shards:   0%|          | 0/8 [00:00<?, ?it/s]"
      ]
     },
     "metadata": {},
     "output_type": "display_data"
    },
    {
     "name": "stdout",
     "output_type": "stream",
     "text": [
      "best genome : [np.str_('sleigh of the magi beard is grinch yuletide holly polar unwrap gifts and eat cheer jingle relax sing carol naughty nice visit workshop chimney stocking ornament nutcracker decorations holiday cheer'), np.float64(277.272284523134)]\n",
      "parents perplexities : [367.32609655 346.42150286 482.84104495 398.72870568 451.81881604\n",
      " 471.65604419 412.99583163 412.99583163 573.38792808 432.81591542\n",
      " 374.57095464 373.11064088 371.65602034 437.91781247 436.21053271\n",
      " 353.25405478 453.58718489 477.21577639 417.8640958  343.72562934\n",
      " 277.27228452 287.19351304 294.00411093 295.15481049 295.15481049\n",
      " 299.80282243 300.9762175  302.15420511 303.33680323 305.71590326\n",
      " 305.71590326 306.91244148 308.11366281 308.11366281 308.11366281\n",
      " 308.11366281 308.11366281 308.11366281 308.11366281 308.11366281]\n"
     ]
    },
    {
     "data": {
      "application/vnd.jupyter.widget-view+json": {
       "model_id": "a1f5daed2400483aadb6779ed3ecb093",
       "version_major": 2,
       "version_minor": 0
      },
      "text/plain": [
       "Loading checkpoint shards:   0%|          | 0/8 [00:00<?, ?it/s]"
      ]
     },
     "metadata": {},
     "output_type": "display_data"
    },
    {
     "name": "stdout",
     "output_type": "stream",
     "text": [
      "best genome : [np.str_('sleigh of the magi beard is grinch yuletide holly jingle unwrap gifts and relax eat cheer carol sing naughty nice visit workshop chimney stocking decorations ornament nutcracker polar holiday cheer'), np.float64(271.90935307537654)]\n",
      "parents perplexities : [ 466.16108483  408.18428445  805.45412597  612.75718612  339.72110446\n",
      "  612.75718612  364.46754219  426.10572661  376.0369839   624.8427387\n",
      "  644.67737638  320.3875158   448.30273412  443.07984907 1034.22356973\n",
      "  384.95444399  498.16806499  377.50875105  329.2689849   353.25405478\n",
      "  271.90935308  272.97357619  274.04196456  275.11453449  275.11453449\n",
      "  275.11453449  276.19130233  277.27228452  277.27228452  278.35749756\n",
      "  278.35749756  278.35749756  279.446958    280.54068247  280.54068247\n",
      "  280.54068247  280.54068247  281.63868766  281.63868766  281.63868766]\n"
     ]
    },
    {
     "data": {
      "application/vnd.jupyter.widget-view+json": {
       "model_id": "adc7b20a96ae4494a4daf5316b1f2ad2",
       "version_major": 2,
       "version_minor": 0
      },
      "text/plain": [
       "Loading checkpoint shards:   0%|          | 0/8 [00:00<?, ?it/s]"
      ]
     },
     "metadata": {},
     "output_type": "display_data"
    },
    {
     "name": "stdout",
     "output_type": "stream",
     "text": [
      "best genome : [np.str_('sleigh of the magi beard is grinch yuletide holly unwrap gifts and eat cheer jingle relax sing carol naughty nice visit polar workshop chimney stocking decorations ornament nutcracker holiday cheer'), np.float64(253.44738569742526)]\n",
      "parents perplexities : [ 370.20707084  319.13844324  305.71590326  378.98627852  678.26037626\n",
      "  391.0165944   367.32609655  414.61225161  455.36247493  705.27919804\n",
      " 1109.55992308  486.6280142  1292.14964249  536.54811973  312.96574699\n",
      "  281.63868766  289.44599968  652.27662929  443.07984907  498.16806499\n",
      "  253.4473857   253.4473857   256.43494328  256.43494328  260.47320604\n",
      "  260.47320604  260.47320604  261.49266934  262.51612271  262.51612271\n",
      "  263.54358177  263.54358177  264.57506218  264.57506218  264.57506218\n",
      "  264.57506218  264.57506218  264.57506218  265.6105797   265.6105797 ]\n"
     ]
    },
    {
     "data": {
      "application/vnd.jupyter.widget-view+json": {
       "model_id": "30d15d63e5964d069ab2627289cc02a6",
       "version_major": 2,
       "version_minor": 0
      },
      "text/plain": [
       "Loading checkpoint shards:   0%|          | 0/8 [00:00<?, ?it/s]"
      ]
     },
     "metadata": {},
     "output_type": "display_data"
    },
    {
     "name": "stdout",
     "output_type": "stream",
     "text": [
      "best genome : [np.str_('sleigh of the magi beard is grinch yuletide holly unwrap gifts and eat cheer cheer jingle relax sing carol naughty nice visit polar workshop chimney stocking ornament nutcracker holiday decorations'), np.float64(248.54526950703038)]\n",
      "parents perplexities : [ 464.343695    333.1503035   306.91244148  277.27228452 1633.43020034\n",
      "  654.82956784  560.10541103  419.49956963  511.97779246  306.91244148\n",
      "  462.53339049  486.6280142   351.87684774  448.30273412  808.60658429\n",
      "  724.8302576   342.38557011  511.97779246  317.89424037  492.36423124\n",
      "  248.54526951  253.4473857   253.4473857   254.43935072  254.43935072\n",
      "  254.43935072  255.43519818  255.43519818  255.43519818  255.43519818\n",
      "  256.43494328  256.43494328  256.43494328  257.43860127  257.43860127\n",
      "  258.44618747  258.44618747  258.44618747  258.44618747  258.44618747]\n"
     ]
    },
    {
     "data": {
      "application/vnd.jupyter.widget-view+json": {
       "model_id": "148418ec62d540199bf4d13118d508dc",
       "version_major": 2,
       "version_minor": 0
      },
      "text/plain": [
       "Loading checkpoint shards:   0%|          | 0/8 [00:00<?, ?it/s]"
      ]
     },
     "metadata": {},
     "output_type": "display_data"
    },
    {
     "name": "stdout",
     "output_type": "stream",
     "text": [
      "best genome : [np.str_('sleigh of the magi beard is grinch yuletide holly unwrap gifts and eat cheer cheer jingle relax sing carol naughty nice visit polar workshop holiday decorations ornament nutcracker chimney stocking'), np.float64(247.5762833312724)]\n",
      "parents perplexities : [391.0165944  326.70659333 327.98528678 434.50990901 330.55770727\n",
      " 488.53262239 475.35528839 429.44771524 502.07524555 319.13844324\n",
      " 335.76323371 281.63868766 577.88506534 596.22910645 331.85147355\n",
      " 347.77735829 591.58921474 333.1503035  475.35528839 387.97367912\n",
      " 247.57628333 248.54526951 250.49463422 252.45928798 252.45928798\n",
      " 253.4473857  253.4473857  254.43935072 254.43935072 254.43935072\n",
      " 254.43935072 254.43935072 254.43935072 254.43935072 254.43935072\n",
      " 254.43935072 254.43935072 254.43935072 254.43935072 255.43519818]\n"
     ]
    },
    {
     "data": {
      "application/vnd.jupyter.widget-view+json": {
       "model_id": "24f377f12d8443f5925a45daa06416cf",
       "version_major": 2,
       "version_minor": 0
      },
      "text/plain": [
       "Loading checkpoint shards:   0%|          | 0/8 [00:00<?, ?it/s]"
      ]
     },
     "metadata": {},
     "output_type": "display_data"
    },
    {
     "name": "stdout",
     "output_type": "stream",
     "text": [
      "parents perplexities : [821.34028514 401.85597368 317.89424037 373.11064088 254.43935072\n",
      " 473.50205375 564.49837222 513.98161688 380.46958888 342.38557011\n",
      " 353.25405478 351.87684774 429.44771524 389.49216517 406.59292474\n",
      " 398.72870568 490.44468502 343.72562934 412.99583163 589.28282696\n",
      " 247.57628333 248.54526951 248.54526951 248.54526951 249.51804819\n",
      " 250.49463422 250.49463422 251.47504249 251.47504249 251.47504249\n",
      " 251.47504249 252.45928798 252.45928798 252.45928798 252.45928798\n",
      " 252.45928798 252.45928798 252.45928798 253.4473857  253.4473857 ]\n"
     ]
    },
    {
     "data": {
      "application/vnd.jupyter.widget-view+json": {
       "model_id": "9f2894c6f5134de688b433959cf7f4b1",
       "version_major": 2,
       "version_minor": 0
      },
      "text/plain": [
       "Loading checkpoint shards:   0%|          | 0/8 [00:00<?, ?it/s]"
      ]
     },
     "metadata": {},
     "output_type": "display_data"
    },
    {
     "ename": "KeyboardInterrupt",
     "evalue": "",
     "output_type": "error",
     "traceback": [
      "\u001b[0;31m---------------------------------------------------------------------------\u001b[0m",
      "\u001b[0;31mKeyboardInterrupt\u001b[0m                         Traceback (most recent call last)",
      "Cell \u001b[0;32mIn[1], line 12\u001b[0m\n\u001b[1;32m      9\u001b[0m sample \u001b[38;5;241m=\u001b[39m df_sample\u001b[38;5;241m.\u001b[39mtext\u001b[38;5;241m.\u001b[39mto_list()[\u001b[38;5;241m3\u001b[39m]\n\u001b[1;32m     11\u001b[0m optimizr \u001b[38;5;241m=\u001b[39m genetic(sample, initial_times \u001b[38;5;241m=\u001b[39m \u001b[38;5;241m10000\u001b[39m, cross_size \u001b[38;5;241m=\u001b[39m \u001b[38;5;241m100\u001b[39m, cross_area \u001b[38;5;241m=\u001b[39m [\u001b[38;5;241m7\u001b[39m, \u001b[38;5;241m15\u001b[39m, \u001b[38;5;241m30\u001b[39m], max_stack \u001b[38;5;241m=\u001b[39m \u001b[38;5;241m7\u001b[39m, crossover_method \u001b[38;5;241m=\u001b[39m \u001b[38;5;124m\"\u001b[39m\u001b[38;5;124mmixture\u001b[39m\u001b[38;5;124m\"\u001b[39m, parent_size \u001b[38;5;241m=\u001b[39m \u001b[38;5;241m40\u001b[39m, mutation_chances \u001b[38;5;241m=\u001b[39m \u001b[38;5;241m2\u001b[39m, batch_size \u001b[38;5;241m=\u001b[39m \u001b[38;5;241m512\u001b[39m, dupl \u001b[38;5;241m=\u001b[39m \u001b[38;5;28;01mTrue\u001b[39;00m)\n\u001b[0;32m---> 12\u001b[0m best_genome \u001b[38;5;241m=\u001b[39m \u001b[43moptimizr\u001b[49m\u001b[38;5;241;43m.\u001b[39;49m\u001b[43mreputation\u001b[49m\u001b[43m(\u001b[49m\u001b[43mrep_times\u001b[49m\u001b[43m \u001b[49m\u001b[38;5;241;43m=\u001b[39;49m\u001b[43m \u001b[49m\u001b[38;5;241;43m200\u001b[39;49m\u001b[43m)\u001b[49m\n\u001b[1;32m     14\u001b[0m \u001b[38;5;28;01mwith\u001b[39;00m \u001b[38;5;28mopen\u001b[39m(\u001b[38;5;124m\"\u001b[39m\u001b[38;5;124msample3.pkl\u001b[39m\u001b[38;5;124m\"\u001b[39m, \u001b[38;5;124m\"\u001b[39m\u001b[38;5;124mwb\u001b[39m\u001b[38;5;124m\"\u001b[39m) \u001b[38;5;28;01mas\u001b[39;00m f :\n\u001b[1;32m     15\u001b[0m     pickle\u001b[38;5;241m.\u001b[39mdump(best_genome, f)\n",
      "File \u001b[0;32m~/kag_comp/Santa Metric/algorithm/Genetic.py:205\u001b[0m, in \u001b[0;36mgenetic.reputation\u001b[0;34m(self, rep_times)\u001b[0m\n\u001b[1;32m    202\u001b[0m \u001b[38;5;28mself\u001b[39m\u001b[38;5;241m.\u001b[39mevaluatr\u001b[38;5;241m.\u001b[39mclear_gpu_memory()\n\u001b[1;32m    203\u001b[0m \u001b[38;5;28mself\u001b[39m\u001b[38;5;241m.\u001b[39mevaluatr \u001b[38;5;241m=\u001b[39m PerplexityCalculator(\u001b[38;5;124m\"\u001b[39m\u001b[38;5;124mgoogle/gemma-2-9b\u001b[39m\u001b[38;5;124m\"\u001b[39m, load_in_8bit \u001b[38;5;241m=\u001b[39m \u001b[38;5;28mself\u001b[39m\u001b[38;5;241m.\u001b[39mload_in_8bit)\n\u001b[0;32m--> 205\u001b[0m perplexities \u001b[38;5;241m=\u001b[39m np\u001b[38;5;241m.\u001b[39marray(\u001b[38;5;28;43mself\u001b[39;49m\u001b[38;5;241;43m.\u001b[39;49m\u001b[43mevaluatr\u001b[49m\u001b[38;5;241;43m.\u001b[39;49m\u001b[43mget_perplexity\u001b[49m\u001b[43m(\u001b[49m\u001b[43mgenome_set\u001b[49m\u001b[43m,\u001b[49m\u001b[43m \u001b[49m\u001b[43mbatch_size\u001b[49m\u001b[43m \u001b[49m\u001b[38;5;241;43m=\u001b[39;49m\u001b[43m \u001b[49m\u001b[38;5;28;43mself\u001b[39;49m\u001b[38;5;241;43m.\u001b[39;49m\u001b[43mbatch_size\u001b[49m\u001b[43m)\u001b[49m)\n\u001b[1;32m    207\u001b[0m \u001b[38;5;28;01mif\u001b[39;00m \u001b[38;5;28mself\u001b[39m\u001b[38;5;241m.\u001b[39mcrossover_method \u001b[38;5;241m==\u001b[39m \u001b[38;5;124m\"\u001b[39m\u001b[38;5;124mroulette\u001b[39m\u001b[38;5;124m\"\u001b[39m :\n\u001b[1;32m    208\u001b[0m     per_sum \u001b[38;5;241m=\u001b[39m \u001b[38;5;28msum\u001b[39m(\u001b[38;5;241m1\u001b[39m\u001b[38;5;241m/\u001b[39m(perplexities\u001b[38;5;241m*\u001b[39m\u001b[38;5;241m*\u001b[39m\u001b[38;5;241m2\u001b[39m))\n",
      "File \u001b[0;32m~/kag_comp/Santa Metric/algorithm/kaggle_evaluate.py:259\u001b[0m, in \u001b[0;36mPerplexityCalculator.get_perplexity\u001b[0;34m(self, input_texts, batch_size)\u001b[0m\n\u001b[1;32m    256\u001b[0m         valid_length \u001b[38;5;241m=\u001b[39m (shift_labels \u001b[38;5;241m!=\u001b[39m PAD_TOKEN_LABEL_ID)\u001b[38;5;241m.\u001b[39msum(dim\u001b[38;5;241m=\u001b[39m\u001b[38;5;241m-\u001b[39m\u001b[38;5;241m1\u001b[39m)\n\u001b[1;32m    257\u001b[0m         loss \u001b[38;5;241m=\u001b[39m torch\u001b[38;5;241m.\u001b[39msum(loss, \u001b[38;5;241m-\u001b[39m\u001b[38;5;241m1\u001b[39m) \u001b[38;5;241m/\u001b[39m valid_length\n\u001b[0;32m--> 259\u001b[0m         loss_list \u001b[38;5;241m+\u001b[39m\u001b[38;5;241m=\u001b[39m \u001b[43mloss\u001b[49m\u001b[38;5;241;43m.\u001b[39;49m\u001b[43mcpu\u001b[49m\u001b[43m(\u001b[49m\u001b[43m)\u001b[49m\u001b[38;5;241m.\u001b[39mtolist()\n\u001b[1;32m    262\u001b[0m ppl \u001b[38;5;241m=\u001b[39m [exp(i) \u001b[38;5;28;01mfor\u001b[39;00m i \u001b[38;5;129;01min\u001b[39;00m loss_list]\n\u001b[1;32m    264\u001b[0m \u001b[38;5;28;01mreturn\u001b[39;00m ppl[\u001b[38;5;241m0\u001b[39m] \u001b[38;5;28;01mif\u001b[39;00m single_input \u001b[38;5;28;01melse\u001b[39;00m ppl\n",
      "\u001b[0;31mKeyboardInterrupt\u001b[0m: "
     ]
    }
   ],
   "source": [
    "import pandas as pd\n",
    "import numpy as np\n",
    "import pickle\n",
    "import os\n",
    "\n",
    "from algorithm import genetic\n",
    "\n",
    "df_sample = pd.read_csv(\"sample_submission.csv\", index_col = 0)\n",
    "sample = df_sample.text.to_list()[3]\n",
    "\n",
    "optimizr = genetic(sample, initial_times = 10000, cross_size = 100, cross_area = [7, 15, 30], max_stack = 7, crossover_method = \"mixture\", parent_size = 40, mutation_chances = 2, batch_size = 512, dupl = True)\n",
    "best_genome = optimizr.reputation(rep_times = 200)\n",
    "\n",
    "with open(\"sample3.pkl\", \"wb\") as f :\n",
    "    pickle.dump(best_genome, f)"
   ]
  },
  {
   "cell_type": "markdown",
   "metadata": {},
   "source": [
    "'sleigh of the magi beard is grinch yuletide holly unwrap gifts and eat cheer cheer jingle relax sing carol naughty nice visit polar workshop holiday decorations ornament nutcracker chimney stocking'"
   ]
  },
  {
   "cell_type": "code",
   "execution_count": 3,
   "metadata": {},
   "outputs": [],
   "source": [
    "import os\n",
    "import pandas as pd\n",
    "import pickle"
   ]
  },
  {
   "cell_type": "code",
   "execution_count": 4,
   "metadata": {},
   "outputs": [],
   "source": [
    "with open(\"sample3.pkl\", \"rb\") as f :\n",
    "    tmp = pickle.load(f)"
   ]
  },
  {
   "cell_type": "code",
   "execution_count": 6,
   "metadata": {},
   "outputs": [
    {
     "data": {
      "text/plain": [
       "[np.str_('jingle yuletide carol sing unwrap gifts relax eat holiday cheer cheer decorations ornament holly stocking naughty and nice chimney sleigh workshop visit of the magi nutcracker grinch polar is beard'),\n",
       " np.float64(225.42077120508256)]"
      ]
     },
     "execution_count": 6,
     "metadata": {},
     "output_type": "execute_result"
    }
   ],
   "source": [
    "tmp"
   ]
  },
  {
   "cell_type": "code",
   "execution_count": 8,
   "metadata": {},
   "outputs": [
    {
     "name": "stderr",
     "output_type": "stream",
     "text": [
      "100%|██████████| 1.50k/1.50k [00:00<00:00, 1.56kB/s]\n"
     ]
    },
    {
     "name": "stdout",
     "output_type": "stream",
     "text": [
      "Successfully submitted to Santa 2024 - The Perplexity Permutation Puzzle"
     ]
    },
    {
     "data": {
      "text/plain": [
       "0"
      ]
     },
     "execution_count": 8,
     "metadata": {},
     "output_type": "execute_result"
    }
   ],
   "source": [
    "df_submission = pd.read_csv(\"sample2_genetic.csv\", index_col = 0)\n",
    "df_submission.iloc[3, 1] = str(tmp[0])\n",
    "\n",
    "df_submission.to_csv(\"sample3_genetic.csv\")\n",
    "\n",
    "os.system(\"kaggle competitions submit -c santa-2024 -f sample3_genetic.csv -m .\")"
   ]
  },
  {
   "cell_type": "markdown",
   "metadata": {},
   "source": [
    "## Sample 4 Optimization"
   ]
  },
  {
   "cell_type": "code",
   "execution_count": 1,
   "metadata": {},
   "outputs": [
    {
     "data": {
      "application/vnd.jupyter.widget-view+json": {
       "model_id": "fcaa6e1d139f4af0a8e7b86592f2ea3c",
       "version_major": 2,
       "version_minor": 0
      },
      "text/plain": [
       "Loading checkpoint shards:   0%|          | 0/8 [00:00<?, ?it/s]"
      ]
     },
     "metadata": {},
     "output_type": "display_data"
    },
    {
     "name": "stdout",
     "output_type": "stream",
     "text": [
      "parents perplexities : [2056.79916504 2833.36052267 1786.97808229 2001.32051667 1705.14639807\n",
      " 2001.32051667 1917.14762802 2404.64184391 2180.91545255 1909.67337774\n",
      " 1652.68455865 1962.61147384 2348.93837559 3223.18409717 1894.81218161\n",
      " 1441.49709238  945.35687339 1030.19151414 1042.33508572 1046.4146699\n",
      " 1050.51022112 1058.7494749  1071.22967867 1083.85699515 1083.85699515\n",
      " 1096.63315843 1105.23415889 1127.03294941 1127.03294941 1127.03294941\n",
      " 1135.87237839 1140.31805718]\n"
     ]
    },
    {
     "data": {
      "application/vnd.jupyter.widget-view+json": {
       "model_id": "96364e1f921141e49ff00f0eace37223",
       "version_major": 2,
       "version_minor": 0
      },
      "text/plain": [
       "Loading checkpoint shards:   0%|          | 0/8 [00:00<?, ?it/s]"
      ]
     },
     "metadata": {},
     "output_type": "display_data"
    },
    {
     "name": "stdout",
     "output_type": "stream",
     "text": [
      "best genome : [np.str_('wreath of season greeting bow wonder eggnog that merry we have the hope peace chocolate milk fruitcake doll candy from to it peppermint wish kaggle in puzzle game candle night as toy star not cookie poinsettia joy dream believe you card snowglobe wrapping with and workshop hohoho paper angel fireplace'), np.float64(670.3584035283843)]\n",
      "parents perplexities : [1808.04241446 1327.96935007 1424.70314257 2206.62339378 1171.92883816\n",
      " 1071.22967867 1232.9778023  1745.5827796  1424.70314257 1167.35992061\n",
      " 1633.43020034 1109.55992308 1232.9778023  1577.00262261 1247.51175447\n",
      " 1034.22356973  670.35840353  713.59280604  716.38572932  733.37432732\n",
      "  739.12625345  747.83883984  765.57332685  783.72837511  789.87523294\n",
      "  789.87523294  789.87523294  792.96671719  796.07030117  796.07030117\n",
      "  802.31395793  802.31395793]\n"
     ]
    },
    {
     "data": {
      "application/vnd.jupyter.widget-view+json": {
       "model_id": "d13795436e864f9f8e0dbf28ee805bcf",
       "version_major": 2,
       "version_minor": 0
      },
      "text/plain": [
       "Loading checkpoint shards:   0%|          | 0/8 [00:00<?, ?it/s]"
      ]
     },
     "metadata": {},
     "output_type": "display_data"
    },
    {
     "name": "stdout",
     "output_type": "stream",
     "text": [
      "best genome : [np.str_('wreath with season greeting bow star eggnog wish that merry we have the hope peace chocolate milk fruitcake kaggle hohoho from to it not and card dream workshop as snowglobe in candle believe candy peppermint fireplace game toy wonder joy wrapping paper cookie you of night puzzle doll angel poinsettia'), np.float64(577.8850653361966)]\n",
      "parents perplexities : [ 960.24407794 1487.255122   1354.16119859 1006.32715342 1343.62303254\n",
      "  824.55492013  840.8178087   964.002367   1338.38474277 1149.26168255\n",
      "  964.002367    702.52957502 1100.92525926 1302.28409775  979.18319535\n",
      " 1287.11202845  577.88506534  582.41747408  596.22910645  603.25726649\n",
      "  607.98867187  612.75718612  612.75718612  612.75718612  615.15544994\n",
      "  619.98017393  622.40670773  622.40670773  622.40670773  624.8427387\n",
      "  624.8427387   624.8427387 ]\n"
     ]
    },
    {
     "data": {
      "application/vnd.jupyter.widget-view+json": {
       "model_id": "1e74640bb1a34e3f93db9a3f67e06e75",
       "version_major": 2,
       "version_minor": 0
      },
      "text/plain": [
       "Loading checkpoint shards:   0%|          | 0/8 [00:00<?, ?it/s]"
      ]
     },
     "metadata": {},
     "output_type": "display_data"
    },
    {
     "name": "stdout",
     "output_type": "stream",
     "text": [
      "best genome : [np.str_('wreath of season greeting bow wonder eggnog wish that merry we have the hope peace chocolate milk cookie fruitcake believe not to from it with in and you candle night as dream star candy joy fireplace peppermint toy doll game card snowglobe wrapping kaggle puzzle workshop hohoho paper angel poinsettia'), np.float64(437.9178124670295)]\n",
      "parents perplexities : [ 840.8178087  1042.33508572  665.14163304 1430.27927301 1100.92525926\n",
      "  919.8574846   860.75722842  652.27662929 1237.80354097  802.31395793\n",
      "  945.35687339  742.01911182  667.74492379  654.82956784  694.34485756\n",
      "  960.24407794  437.91781247  482.84104495  484.73083137  488.53262239\n",
      "  500.11783967  506.01307051  511.97779246  515.99328406  520.04026954\n",
      "  522.07564961  524.11899593  524.11899593  526.17033968  526.17033968\n",
      "  526.17033968  528.22971216]\n"
     ]
    },
    {
     "data": {
      "application/vnd.jupyter.widget-view+json": {
       "model_id": "dc80dd9a9f4b4e10aaa9ab48a8ff327a",
       "version_major": 2,
       "version_minor": 0
      },
      "text/plain": [
       "Loading checkpoint shards:   0%|          | 0/8 [00:00<?, ?it/s]"
      ]
     },
     "metadata": {},
     "output_type": "display_data"
    },
    {
     "name": "stdout",
     "output_type": "stream",
     "text": [
      "best genome : [np.str_('wreath hohoho greeting kaggle bow wonder of season merry we have the hope peace chocolate milk cookie fruitcake believe not to that from it with in and you candle night as dream candy peppermint card fireplace game toy wish joy wrapping paper doll workshop puzzle snowglobe eggnog angel star poinsettia'), np.float64(400.2892857141792)]\n",
      "parents perplexities : [ 627.28830404 1218.6131758   780.67290774  930.70047355  837.53977072\n",
      "  566.70775638 1262.21702827  504.0403125   802.31395793 1083.85699515\n",
      "  580.14684353  575.63210498  662.54849157  634.68258006  659.96545979\n",
      "  607.98867187  400.28928571  417.8640958   419.49956963  421.14144453\n",
      "  421.14144453  429.44771524  429.44771524  429.44771524  431.12852607\n",
      "  431.12852607  431.12852607  432.81591542  432.81591542  432.81591542\n",
      "  432.81591542  434.50990901]\n"
     ]
    },
    {
     "data": {
      "application/vnd.jupyter.widget-view+json": {
       "model_id": "37a917063ef04cc59614d96b04b19c1f",
       "version_major": 2,
       "version_minor": 0
      },
      "text/plain": [
       "Loading checkpoint shards:   0%|          | 0/8 [00:00<?, ?it/s]"
      ]
     },
     "metadata": {},
     "output_type": "display_data"
    },
    {
     "name": "stdout",
     "output_type": "stream",
     "text": [
      "best genome : [np.str_('wreath of the season greeting bow wonder eggnog wish that merry we have hope peace chocolate milk cookie fruitcake believe not it from to with in and you candle night as dream star candy peppermint joy fireplace toy doll game card hohoho wrapping kaggle paper workshop puzzle snowglobe angel poinsettia'), np.float64(361.6312332766962)]\n",
      "parents perplexities : [ 549.27199172  891.55644506  542.87277918  667.74492379  786.79580124\n",
      "  526.17033968  634.68258006  774.59766297  571.1525004   466.16108483\n",
      "  469.81723153  593.90462946  555.74663614  627.28830404 1199.72032966\n",
      "  460.73014369  361.63123328  373.11064088  374.57095464  374.57095464\n",
      "  376.0369839   376.0369839   378.98627852  380.46958888  380.46958888\n",
      "  383.45364885  383.45364885  384.95444399  384.95444399  386.46111309\n",
      "  386.46111309  386.46111309]\n"
     ]
    },
    {
     "data": {
      "application/vnd.jupyter.widget-view+json": {
       "model_id": "a356201bdfb940dbbf874a8152bf8f5a",
       "version_major": 2,
       "version_minor": 0
      },
      "text/plain": [
       "Loading checkpoint shards:   0%|          | 0/8 [00:00<?, ?it/s]"
      ]
     },
     "metadata": {},
     "output_type": "display_data"
    },
    {
     "name": "stdout",
     "output_type": "stream",
     "text": [
      "best genome : [np.str_('wreath of the season greeting bow wonder eggnog wish that merry we have hope peace chocolate milk cookie joy believe not to you it with in from and candle night as dream star candy peppermint fireplace fruitcake toy doll game card snowglobe wrapping kaggle puzzle workshop paper angel poinsettia hohoho'), np.float64(341.05073527023916)]\n",
      "parents perplexities : [455.36247493 624.8427387  455.36247493 389.49216517 857.40145401\n",
      " 659.96545979 384.95444399 405.00776915 462.53339049 526.17033968\n",
      " 847.41242451 381.95870474 394.08337556 629.74344104 383.45364885\n",
      " 387.97367912 341.05073527 341.05073527 343.72562934 343.72562934\n",
      " 343.72562934 347.77735829 349.13852038 349.13852038 349.13852038\n",
      " 350.50500992 350.50500992 350.50500992 350.50500992 350.50500992\n",
      " 350.50500992 351.87684774]\n"
     ]
    },
    {
     "data": {
      "application/vnd.jupyter.widget-view+json": {
       "model_id": "db7d893f68f74c03942aca35dca07fce",
       "version_major": 2,
       "version_minor": 0
      },
      "text/plain": [
       "Loading checkpoint shards:   0%|          | 0/8 [00:00<?, ?it/s]"
      ]
     },
     "metadata": {},
     "output_type": "display_data"
    },
    {
     "name": "stdout",
     "output_type": "stream",
     "text": [
      "best genome : [np.str_('wreath the season greeting bow eggnog wish merry we have of hope peace chocolate milk cookie joy believe not wonder that it from to with in and you candle night as dream star candy peppermint fruitcake fireplace toy doll game card angel snowglobe wrapping kaggle puzzle workshop paper poinsettia hohoho'), np.float64(314.1906602856942)]\n",
      "parents perplexities : [412.99583163 632.20818718 361.63123328 582.41747408 564.49837222\n",
      " 392.54699008 532.37266914 392.54699008 401.85597368 799.18603224\n",
      " 414.61225161 358.81699669 371.65602034 361.63123328 361.63123328\n",
      " 824.55492013 314.19066029 317.89424037 317.89424037 320.3875158\n",
      " 321.64147708 321.64147708 322.90034623 322.90034623 322.90034623\n",
      " 325.43288503 325.43288503 325.43288503 326.70659333 326.70659333\n",
      " 326.70659333 327.98528678]\n"
     ]
    },
    {
     "data": {
      "application/vnd.jupyter.widget-view+json": {
       "model_id": "f96c77d13b3a4972939db2a44a4aa610",
       "version_major": 2,
       "version_minor": 0
      },
      "text/plain": [
       "Loading checkpoint shards:   0%|          | 0/8 [00:00<?, ?it/s]"
      ]
     },
     "metadata": {},
     "output_type": "display_data"
    },
    {
     "name": "stdout",
     "output_type": "stream",
     "text": [
      "best genome : [np.str_('wreath of the season greeting bow merry eggnog wish that we have hope peace chocolate milk cookie joy wonder believe not it from to with in and you candle night as dream star candy peppermint fruitcake fireplace toy doll game puzzle card snowglobe wrapping kaggle workshop paper angel poinsettia hohoho'), np.float64(278.35749756134834)]\n",
      "parents perplexities : [398.72870568 363.04661791 536.54811973 482.84104495 450.05734141\n",
      " 884.61829776 627.28830404 607.98867187 448.30273412 406.59292474\n",
      " 637.16665745 315.42036776 652.27662929 380.46958888 504.0403125\n",
      " 363.04661791 278.35749756 281.63868766 289.44599968 290.57885929\n",
      " 291.71615279 292.85789753 294.00411093 294.00411093 295.15481049\n",
      " 295.15481049 296.31001375 296.31001375 296.31001375 296.31001375\n",
      " 296.31001375 297.46973836]\n"
     ]
    },
    {
     "data": {
      "application/vnd.jupyter.widget-view+json": {
       "model_id": "8fde11d2552443328d1c0ff86e605704",
       "version_major": 2,
       "version_minor": 0
      },
      "text/plain": [
       "Loading checkpoint shards:   0%|          | 0/8 [00:00<?, ?it/s]"
      ]
     },
     "metadata": {},
     "output_type": "display_data"
    },
    {
     "name": "stdout",
     "output_type": "stream",
     "text": [
      "best genome : [np.str_('wreath of the season greeting bow eggnog wish merry that we have hope peace chocolate milk cookie joy wonder believe not as it from to with in and you candle night dream star candy peppermint fruitcake fireplace toy doll game puzzle card snowglobe wrapping kaggle workshop paper angel poinsettia hohoho'), np.float64(260.4732060371668)]\n",
      "parents perplexities : [405.00776915 350.50500992 306.91244148 356.02466067 350.50500992\n",
      " 381.95870474 295.15481049 441.35244444 357.41810179 360.22136671\n",
      " 518.01282467 395.62577428 308.11366281 577.88506534 322.90034623\n",
      " 376.0369839  260.47320604 264.57506218 265.6105797  266.65015011\n",
      " 267.69378929 269.7933377  270.84927897 270.84927897 271.90935308\n",
      " 274.04196456 274.04196456 274.04196456 275.11453449 275.11453449\n",
      " 275.11453449 275.11453449]\n"
     ]
    },
    {
     "data": {
      "application/vnd.jupyter.widget-view+json": {
       "model_id": "e1cc304a08de426c870703743499a454",
       "version_major": 2,
       "version_minor": 0
      },
      "text/plain": [
       "Loading checkpoint shards:   0%|          | 0/8 [00:00<?, ?it/s]"
      ]
     },
     "metadata": {},
     "output_type": "display_data"
    },
    {
     "name": "stdout",
     "output_type": "stream",
     "text": [
      "best genome : [np.str_('wreath of the season merry bow greeting eggnog wish that we have hope peace chocolate milk cookie joy wonder believe it not from to with in and you as night candle dream star candy peppermint fruitcake fireplace toy doll game puzzle card snowglobe wrapping kaggle workshop paper angel poinsettia hohoho'), np.float64(240.8983354780937)]\n",
      "parents perplexities : [360.22136671 400.28928571 397.17420978 455.36247493 317.89424037\n",
      " 342.38557011 288.31755667 279.446958   306.91244148 337.07737385\n",
      " 509.98178021 347.77735829 303.33680323 288.31755667 297.46973836\n",
      " 327.98528678 240.89833548 242.78772454 247.57628333 250.49463422\n",
      " 251.47504249 253.4473857  253.4473857  253.4473857  253.4473857\n",
      " 253.4473857  254.43935072 254.43935072 254.43935072 255.43519818\n",
      " 255.43519818 255.43519818]\n"
     ]
    },
    {
     "data": {
      "application/vnd.jupyter.widget-view+json": {
       "model_id": "19d96ef4415d4dc1a9114d0352f87ab7",
       "version_major": 2,
       "version_minor": 0
      },
      "text/plain": [
       "Loading checkpoint shards:   0%|          | 0/8 [00:00<?, ?it/s]"
      ]
     },
     "metadata": {},
     "output_type": "display_data"
    },
    {
     "name": "stdout",
     "output_type": "stream",
     "text": [
      "best genome : [np.str_('wreath of the season merry bow greeting eggnog wish we have hope peace chocolate milk cookie joy wonder believe that it not from to with in as you dream and night candle star candy peppermint fruitcake fireplace toy doll game puzzle card snowglobe wrapping kaggle workshop paper angel poinsettia hohoho'), np.float64(224.54193890439277)]\n",
      "parents perplexities : [310.53022822 316.65488818 371.65602034 598.5626812  346.42150286\n",
      " 337.07737385 432.81591542 272.97357619 242.78772454 271.90935308\n",
      " 294.00411093 365.89402782 330.55770727 296.31001375 276.19130233\n",
      " 282.74099032 224.5419389  231.66966517 231.66966517 232.5763946\n",
      " 233.48667288 234.40051388 234.40051388 234.40051388 235.31793155\n",
      " 235.31793155 235.31793155 236.23893989 236.23893989 236.23893989\n",
      " 238.09178486 238.09178486]\n"
     ]
    },
    {
     "data": {
      "application/vnd.jupyter.widget-view+json": {
       "model_id": "7326f7f168e94aba97e825876a30ca34",
       "version_major": 2,
       "version_minor": 0
      },
      "text/plain": [
       "Loading checkpoint shards:   0%|          | 0/8 [00:00<?, ?it/s]"
      ]
     },
     "metadata": {},
     "output_type": "display_data"
    },
    {
     "name": "stdout",
     "output_type": "stream",
     "text": [
      "best genome : [np.str_('wreath of the season merry bow greeting eggnog wish we have hope peace chocolate milk cookie joy wonder believe that it not from to with in as you dream and night candle star candy peppermint fruitcake fireplace toy doll game puzzle card wrapping kaggle workshop paper snowglobe angel poinsettia hohoho'), np.float64(220.19890466437903)]\n",
      "parents perplexities : [292.85789753 300.9762175  351.87684774 284.95855539 282.74099032\n",
      " 251.47504249 308.11366281 310.53022822 308.11366281 431.12852607\n",
      " 248.54526951 358.81699669 338.39665739 305.71590326 392.54699008\n",
      " 287.19351304 220.19890466 220.19890466 221.06073881 224.5419389\n",
      " 224.5419389  224.5419389  226.30304316 226.30304316 226.30304316\n",
      " 226.30304316 226.30304316 227.18876823 227.18876823 227.18876823\n",
      " 228.07795992 228.07795992]\n"
     ]
    },
    {
     "data": {
      "application/vnd.jupyter.widget-view+json": {
       "model_id": "0e35559dbcb3486a820d9e6294a39da8",
       "version_major": 2,
       "version_minor": 0
      },
      "text/plain": [
       "Loading checkpoint shards:   0%|          | 0/8 [00:00<?, ?it/s]"
      ]
     },
     "metadata": {},
     "output_type": "display_data"
    },
    {
     "name": "stdout",
     "output_type": "stream",
     "text": [
      "best genome : [np.str_('wreath of the season merry bow greeting eggnog wish we have hope peace chocolate milk and cookie joy wonder believe that it not from to with in as you dream night candle star candy peppermint fruitcake toy doll game puzzle card snowglobe wrapping kaggle workshop paper angel poinsettia fireplace hohoho'), np.float64(215.09800253180504)]\n",
      "parents perplexities : [522.07564961 288.31755667 303.33680323 325.43288503 490.44468502\n",
      " 334.45421692 584.69699162 279.446958   346.42150286 254.43935072\n",
      " 339.72110446 242.78772454 333.1503035  351.87684774 316.65488818\n",
      " 239.95916187 215.09800253 215.93987231 216.78503707 216.78503707\n",
      " 216.78503707 216.78503707 216.78503707 217.63350972 218.48530319\n",
      " 218.48530319 218.48530319 218.48530319 219.34043049 219.34043049\n",
      " 219.34043049 219.34043049]\n"
     ]
    },
    {
     "data": {
      "application/vnd.jupyter.widget-view+json": {
       "model_id": "75d4f96d8a9c4cca9cb7d10b4a96d6eb",
       "version_major": 2,
       "version_minor": 0
      },
      "text/plain": [
       "Loading checkpoint shards:   0%|          | 0/8 [00:00<?, ?it/s]"
      ]
     },
     "metadata": {},
     "output_type": "display_data"
    },
    {
     "name": "stdout",
     "output_type": "stream",
     "text": [
      "best genome : [np.str_('wreath of the season merry bow greeting eggnog wish we have hope peace chocolate milk cookie joy wonder believe that it not from to in with as you dream and night candle star angel candy peppermint fruitcake toy doll game puzzle snowglobe wrapping kaggle workshop paper card poinsettia fireplace hohoho'), np.float64(210.93763055625195)]\n",
      "parents perplexities : [387.97367912 302.15420511 395.62577428 289.44599968 290.57885929\n",
      " 271.90935308 308.11366281 354.63665206 450.05734141 515.99328406\n",
      " 358.81699669 395.62577428 305.71590326 276.19130233 511.97779246\n",
      " 342.38557011 210.93763056 210.93763056 210.93763056 210.93763056\n",
      " 211.7632171  211.7632171  212.5920349  212.5920349  212.5920349\n",
      " 212.5920349  212.5920349  213.4240966  213.4240966  213.4240966\n",
      " 213.4240966  213.4240966 ]\n"
     ]
    },
    {
     "data": {
      "application/vnd.jupyter.widget-view+json": {
       "model_id": "2c3539231b564f05b9afc8fc5c2a14b3",
       "version_major": 2,
       "version_minor": 0
      },
      "text/plain": [
       "Loading checkpoint shards:   0%|          | 0/8 [00:00<?, ?it/s]"
      ]
     },
     "metadata": {},
     "output_type": "display_data"
    },
    {
     "name": "stdout",
     "output_type": "stream",
     "text": [
      "best genome : [np.str_('wreath of the season merry bow greeting eggnog wish we have hope peace chocolate milk and cookie joy wonder believe that it not from to in with as you dream night candle star angel fruitcake peppermint candy toy doll game puzzle card wrapping kaggle workshop paper snowglobe fireplace poinsettia hohoho'), np.float64(203.65069565035918)]\n",
      "parents perplexities : [269.7933377  297.46973836 296.31001375 259.45771724 235.31793155\n",
      " 436.21053271 291.71615279 240.89833548 436.21053271 368.76377025\n",
      " 306.91244148 446.55496739 274.04196456 290.57885929 297.46973836\n",
      " 320.3875158  203.65069565 204.44776194 205.24794785 206.05126561\n",
      " 206.05126561 206.85772746 206.85772746 206.85772746 206.85772746\n",
      " 207.66734571 207.66734571 208.48013272 208.48013272 208.48013272\n",
      " 208.48013272 210.11526267]\n"
     ]
    },
    {
     "data": {
      "application/vnd.jupyter.widget-view+json": {
       "model_id": "b2074436d74444fa8301556c23f5ad5c",
       "version_major": 2,
       "version_minor": 0
      },
      "text/plain": [
       "Loading checkpoint shards:   0%|          | 0/8 [00:00<?, ?it/s]"
      ]
     },
     "metadata": {},
     "output_type": "display_data"
    },
    {
     "name": "stdout",
     "output_type": "stream",
     "text": [
      "best genome : [np.str_('wreath of the season merry bow greeting eggnog wish we have hope believe peace chocolate milk and cookie joy wonder that it not from to in with as you dream night candle star angel fruitcake peppermint candy toy doll game puzzle snowglobe wrapping kaggle workshop paper card poinsettia fireplace hohoho'), np.float64(200.49338426145144)]\n",
      "parents perplexities : [343.72562934 228.97063182 214.25941489 334.45421692 370.20707084\n",
      " 231.66966517 292.85789753 214.25941489 262.51612271 349.13852038\n",
      " 262.51612271 275.11453449 294.00411093 291.71615279 349.13852038\n",
      " 338.39665739 200.49338426 202.85673683 202.85673683 203.65069565\n",
      " 203.65069565 203.65069565 203.65069565 203.65069565 204.44776194\n",
      " 204.44776194 204.44776194 204.44776194 204.44776194 205.24794785\n",
      " 205.24794785 205.24794785]\n"
     ]
    },
    {
     "data": {
      "application/vnd.jupyter.widget-view+json": {
       "model_id": "a2f5b34d01894992883e19d955aa9a0e",
       "version_major": 2,
       "version_minor": 0
      },
      "text/plain": [
       "Loading checkpoint shards:   0%|          | 0/8 [00:00<?, ?it/s]"
      ]
     },
     "metadata": {},
     "output_type": "display_data"
    },
    {
     "name": "stdout",
     "output_type": "stream",
     "text": [
      "best genome : [np.str_('wreath of the season merry greeting wish we have hope peace chocolate milk and cookie joy wonder believe that it not from to in with as you dream night candle star angel fruitcake peppermint candy toy doll game puzzle card wrapping kaggle workshop paper bow snowglobe fireplace poinsettia eggnog hohoho'), np.float64(198.15756558346607)]\n",
      "parents perplexities : [405.00776915 287.19351304 381.95870474 232.5763946  330.55770727\n",
      " 288.31755667 330.55770727 247.57628333 277.27228452 221.92594608\n",
      " 236.23893989 254.43935072 234.40051388 266.65015011 258.44618747\n",
      " 279.446958   198.15756558 198.93313237 198.93313237 198.93313237\n",
      " 200.49338426 200.49338426 200.49338426 200.49338426 200.49338426\n",
      " 200.49338426 200.49338426 201.27809318 201.27809318 202.06587336\n",
      " 202.06587336 202.06587336]\n"
     ]
    },
    {
     "data": {
      "application/vnd.jupyter.widget-view+json": {
       "model_id": "ddb98ae3c44c4932a0428e3adee56b6d",
       "version_major": 2,
       "version_minor": 0
      },
      "text/plain": [
       "Loading checkpoint shards:   0%|          | 0/8 [00:00<?, ?it/s]"
      ]
     },
     "metadata": {},
     "output_type": "display_data"
    },
    {
     "name": "stdout",
     "output_type": "stream",
     "text": [
      "best genome : [np.str_('wreath of the season merry greeting wish we have hope peace chocolate milk and cookie joy wonder believe that it not from to in with as you dream night candle star angel fruitcake eggnog peppermint candy toy doll game puzzle card wrapping kaggle workshop paper bow poinsettia fireplace snowglobe hohoho'), np.float64(191.3121237449989)]\n",
      "parents perplexities : [277.27228452 232.5763946  244.69193226 342.38557011 228.07795992\n",
      " 227.18876823 520.04026954 249.51804819 292.85789753 238.09178486\n",
      " 256.43494328 292.85789753 324.16414245 419.49956963 280.54068247\n",
      " 290.57885929 191.31212374 193.56725052 193.56725052 195.08541728\n",
      " 195.08541728 195.84896002 195.84896002 195.84896002 195.84896002\n",
      " 195.84896002 197.38502245 197.38502245 197.38502245 197.38502245\n",
      " 197.38502245 197.38502245]\n"
     ]
    },
    {
     "data": {
      "application/vnd.jupyter.widget-view+json": {
       "model_id": "13bec90c92814a89b00d9c6a3bff7906",
       "version_major": 2,
       "version_minor": 0
      },
      "text/plain": [
       "Loading checkpoint shards:   0%|          | 0/8 [00:00<?, ?it/s]"
      ]
     },
     "metadata": {},
     "output_type": "display_data"
    },
    {
     "name": "stdout",
     "output_type": "stream",
     "text": [
      "best genome : [np.str_('wreath of the season merry we wish have hope peace chocolate milk and cookie joy wonder believe that it not from to in with as you dream night candle star angel fruitcake eggnog peppermint candy toy doll game puzzle card wrapping kaggle workshop paper bow poinsettia greeting snowglobe fireplace hohoho'), np.float64(179.7211081206401)]\n",
      "parents perplexities : [231.66966517 316.65488818 234.40051388 279.446958   338.39665739\n",
      " 311.74560917 421.14144453 234.40051388 457.14471327 245.64962941\n",
      " 300.9762175  256.43494328 239.95916187 405.00776915 320.3875158\n",
      " 477.21577639 179.72110812 183.26578936 183.98307138 186.1518056\n",
      " 186.1518056  187.61181231 188.34610418 189.82332099 190.56626846\n",
      " 190.56626846 190.56626846 190.56626846 190.56626846 191.31212374\n",
      " 192.06089823 192.06089823]\n"
     ]
    },
    {
     "data": {
      "application/vnd.jupyter.widget-view+json": {
       "model_id": "5fd00d6d189e42788dcf060910ff6586",
       "version_major": 2,
       "version_minor": 0
      },
      "text/plain": [
       "Loading checkpoint shards:   0%|          | 0/8 [00:00<?, ?it/s]"
      ]
     },
     "metadata": {},
     "output_type": "display_data"
    },
    {
     "name": "stdout",
     "output_type": "stream",
     "text": [
      "best genome : [np.str_('wreath of the season merry we wish have hope peace chocolate milk and cookie believe wonder joy that it not from to in with as you dream night candle star angel fruitcake eggnog peppermint candy toy doll game puzzle greeting card wrapping kaggle workshop paper bow poinsettia snowglobe fireplace hohoho'), np.float64(168.17414165184545)]\n",
      "parents perplexities : [297.46973836 288.31755667 230.76647074 458.93392709 596.22910645\n",
      " 241.8411849  291.71615279 339.72110446 284.95855539 295.15481049\n",
      " 354.63665206 269.7933377  186.88038317 231.66966517 259.45771724\n",
      " 262.51612271 168.17414165 168.83235663 171.49107938 176.24498722\n",
      " 176.24498722 177.62729379 177.62729379 178.32250736 178.32250736\n",
      " 178.32250736 179.02044192 179.02044192 179.72110812 180.42451665\n",
      " 180.42451665 180.42451665]\n"
     ]
    },
    {
     "data": {
      "application/vnd.jupyter.widget-view+json": {
       "model_id": "eaead846ff514db4a68dff36d8bd26d5",
       "version_major": 2,
       "version_minor": 0
      },
      "text/plain": [
       "Loading checkpoint shards:   0%|          | 0/8 [00:00<?, ?it/s]"
      ]
     },
     "metadata": {},
     "output_type": "display_data"
    },
    {
     "name": "stdout",
     "output_type": "stream",
     "text": [
      "best genome : [np.str_('wreath of the season merry we wish you greeting have hope dream believe peace eggnog milk and cookie joy wonder that it not from to in with as night candle star angel chocolate candy peppermint fruitcake toy doll game puzzle card wrapping kaggle workshop paper bow poinsettia snowglobe fireplace hohoho'), np.float64(161.73149145963927)]\n",
      "parents perplexities : [271.90935308 288.31755667 247.57628333 265.6105797  198.15756558\n",
      " 261.49266934 265.6105797  174.19167093 251.47504249 256.43494328\n",
      " 290.57885929 206.05126561 321.64147708 210.11526267 409.78187257\n",
      " 291.71615279 161.73149146 164.27839186 165.56684325 166.21485356\n",
      " 166.8654001  166.8654001  168.17414165 168.17414165 168.83235663\n",
      " 168.83235663 168.83235663 169.49314779 169.49314779 169.49314779\n",
      " 170.15652522 170.15652522]\n"
     ]
    },
    {
     "data": {
      "application/vnd.jupyter.widget-view+json": {
       "model_id": "ca86cebcf27e4b34bda1db4e767cedfd",
       "version_major": 2,
       "version_minor": 0
      },
      "text/plain": [
       "Loading checkpoint shards:   0%|          | 0/8 [00:00<?, ?it/s]"
      ]
     },
     "metadata": {},
     "output_type": "display_data"
    },
    {
     "name": "stdout",
     "output_type": "stream",
     "text": [
      "best genome : [np.str_('wreath of the season merry we wish you have hope dream believe peace chocolate milk and cookie joy wonder that it not from to in with as night candle star angel fruitcake eggnog peppermint candy toy doll game puzzle greeting card wrapping kaggle workshop paper bow poinsettia snowglobe fireplace hohoho'), np.float64(159.8472625113303)]\n",
      "parents perplexities : [245.64962941 206.05126561 233.48667288 263.54358177 266.65015011\n",
      " 334.45421692 320.3875158  232.5763946  249.51804819 302.15420511\n",
      " 182.55130376 353.25405478 310.53022822 195.84896002 296.31001375\n",
      " 351.87684774 159.84726251 161.10096013 161.10096013 161.73149146\n",
      " 161.73149146 161.73149146 163.6379311  164.27839186 164.27839186\n",
      " 164.27839186 164.9213593  164.9213593  164.9213593  165.56684325\n",
      " 165.56684325 165.56684325]\n"
     ]
    },
    {
     "data": {
      "application/vnd.jupyter.widget-view+json": {
       "model_id": "2c2ac5ad4e9249a387fcf5aa85fbeeec",
       "version_major": 2,
       "version_minor": 0
      },
      "text/plain": [
       "Loading checkpoint shards:   0%|          | 0/8 [00:00<?, ?it/s]"
      ]
     },
     "metadata": {},
     "output_type": "display_data"
    },
    {
     "name": "stdout",
     "output_type": "stream",
     "text": [
      "best genome : [np.str_('wreath of the season merry as we wish you hope dream believe peace have chocolate milk and cookie joy wonder that it not from to in with night candle star angel fruitcake eggnog peppermint candy toy doll game puzzle greeting card wrapping kaggle workshop paper bow poinsettia snowglobe fireplace hohoho'), np.float64(157.3690604074729)]\n",
      "parents perplexities : [181.83960367 200.49338426 233.48667288 221.06073881 371.65602034\n",
      " 547.13058316 236.23893989 267.69378929 295.15481049 180.42451665\n",
      " 249.51804819 211.7632171  202.06587336 185.42606849 206.85772746\n",
      " 421.14144453 157.36906041 158.60332125 158.60332125 158.60332125\n",
      " 159.22407709 159.84726251 159.84726251 160.47288701 160.47288701\n",
      " 160.47288701 160.47288701 161.10096013 161.10096013 161.10096013\n",
      " 161.10096013 161.10096013]\n"
     ]
    },
    {
     "data": {
      "application/vnd.jupyter.widget-view+json": {
       "model_id": "f8a5be91af2749aa855919c9cf1b939c",
       "version_major": 2,
       "version_minor": 0
      },
      "text/plain": [
       "Loading checkpoint shards:   0%|          | 0/8 [00:00<?, ?it/s]"
      ]
     },
     "metadata": {},
     "output_type": "display_data"
    },
    {
     "name": "stdout",
     "output_type": "stream",
     "text": [
      "best genome : [np.str_('wreath of the season merry we wish you hope dream believe peace have chocolate milk and cookie joy wonder that it not from to as in with night candle star angel fruitcake eggnog peppermint candy toy doll game puzzle greeting card wrapping kaggle workshop paper bow poinsettia snowglobe fireplace hohoho'), np.float64(154.32526724792663)]\n",
      "parents perplexities : [206.05126561 248.54526951 220.19890466 231.66966517 183.26578936\n",
      " 254.43935072 208.48013272 194.32485132 259.45771724 306.91244148\n",
      " 325.43288503 230.76647074 218.48530319 180.42451665 214.25941489\n",
      " 186.88038317 154.32526725 154.32526725 156.14440466 156.75553658\n",
      " 156.75553658 156.75553658 156.75553658 156.75553658 156.75553658\n",
      " 157.36906041 157.36906041 157.36906041 157.36906041 157.36906041\n",
      " 157.36906041 157.36906041]\n"
     ]
    },
    {
     "data": {
      "application/vnd.jupyter.widget-view+json": {
       "model_id": "8c9979e1562f4c44b95762e803ffd505",
       "version_major": 2,
       "version_minor": 0
      },
      "text/plain": [
       "Loading checkpoint shards:   0%|          | 0/8 [00:00<?, ?it/s]"
      ]
     },
     "metadata": {},
     "output_type": "display_data"
    },
    {
     "name": "stdout",
     "output_type": "stream",
     "text": [
      "best genome : [np.str_('wreath of the season merry we wish you hope dream believe peace eggnog milk and cookie joy wonder that it not from to have as in with night candle star angel chocolate peppermint candy fruitcake toy doll game puzzle greeting card wrapping kaggle workshop paper bow poinsettia snowglobe fireplace hohoho'), np.float64(150.7503262825534)]\n",
      "parents perplexities : [176.24498722 214.25941489 212.5920349  168.17414165 215.93987231\n",
      " 202.06587336 209.29610089 178.32250736 235.31793155 202.85673683\n",
      " 187.61181231 207.66734571 267.69378929 259.45771724 284.95855539\n",
      " 233.48667288 150.75032628 151.34034638 151.93267575 152.52732343\n",
      " 152.52732343 152.52732343 153.72361005 153.72361005 153.72361005\n",
      " 154.32526725 154.32526725 154.32526725 154.32526725 154.92927927\n",
      " 154.92927927 154.92927927]\n"
     ]
    },
    {
     "data": {
      "application/vnd.jupyter.widget-view+json": {
       "model_id": "4216a9070b7047d883af882560449c0a",
       "version_major": 2,
       "version_minor": 0
      },
      "text/plain": [
       "Loading checkpoint shards:   0%|          | 0/8 [00:00<?, ?it/s]"
      ]
     },
     "metadata": {},
     "output_type": "display_data"
    },
    {
     "name": "stdout",
     "output_type": "stream",
     "text": [
      "best genome : [np.str_('wreath of the season merry we wish you hope dream believe wonder joy peace eggnog milk and cookie that it not from to have as in with night candle star angel chocolate peppermint candy fruitcake toy doll game puzzle greeting card wrapping kaggle workshop paper bow poinsettia snowglobe fireplace hohoho'), np.float64(148.4131591025766)]\n",
      "parents perplexities : [206.05126561 252.45928798 239.95916187 208.48013272 178.32250736\n",
      " 174.19167093 253.4473857  166.8654001  204.44776194 299.80282243\n",
      " 272.97357619 271.90935308 300.9762175  183.26578936 180.42451665\n",
      " 207.66734571 148.4131591  148.99403178 148.99403178 149.57717794\n",
      " 149.57717794 150.75032628 150.75032628 150.75032628 151.34034638\n",
      " 151.34034638 151.34034638 151.34034638 151.34034638 151.34034638\n",
      " 151.93267575 151.93267575]\n"
     ]
    },
    {
     "data": {
      "application/vnd.jupyter.widget-view+json": {
       "model_id": "63971fcebc464447922d023a3c94d3b8",
       "version_major": 2,
       "version_minor": 0
      },
      "text/plain": [
       "Loading checkpoint shards:   0%|          | 0/8 [00:00<?, ?it/s]"
      ]
     },
     "metadata": {},
     "output_type": "display_data"
    },
    {
     "name": "stdout",
     "output_type": "stream",
     "text": [
      "best genome : [np.str_('wreath of the season merry we wish you hope dream believe wonder joy peace eggnog milk and cookie that it not to have as in from with night candle star angel chocolate peppermint candy fruitcake toy doll game puzzle greeting card wrapping kaggle workshop paper bow poinsettia snowglobe fireplace hohoho'), np.float64(145.54258875480053)]\n",
      "parents perplexities : [258.44618747 193.56725052 202.85673683 221.06073881 244.69193226\n",
      " 179.02044192 208.48013272 193.56725052 204.44776194 261.49266934\n",
      " 240.89833548 195.08541728 159.22407709 422.78974553 315.42036776\n",
      " 176.9347906  145.54258875 148.4131591  148.4131591  148.4131591\n",
      " 148.4131591  148.4131591  148.4131591  148.4131591  148.99403178\n",
      " 148.99403178 148.99403178 148.99403178 148.99403178 148.99403178\n",
      " 148.99403178 148.99403178]\n"
     ]
    },
    {
     "data": {
      "application/vnd.jupyter.widget-view+json": {
       "model_id": "63fa9f4ce69240f1a305bc1c20fd0f72",
       "version_major": 2,
       "version_minor": 0
      },
      "text/plain": [
       "Loading checkpoint shards:   0%|          | 0/8 [00:00<?, ?it/s]"
      ]
     },
     "metadata": {},
     "output_type": "display_data"
    },
    {
     "name": "stdout",
     "output_type": "stream",
     "text": [
      "parents perplexities : [211.7632171  271.90935308 387.97367912 261.49266934 169.49314779\n",
      " 303.33680323 310.53022822 221.06073881 203.65069565 177.62729379\n",
      " 259.45771724 203.65069565 186.88038317 190.56626846 175.55787314\n",
      " 206.85772746 145.54258875 145.54258875 145.54258875 145.54258875\n",
      " 145.54258875 146.11222634 146.68409343 146.68409343 146.68409343\n",
      " 146.68409343 147.25819874 147.83455103 147.83455103 147.83455103\n",
      " 148.4131591  148.4131591 ]\n"
     ]
    },
    {
     "data": {
      "application/vnd.jupyter.widget-view+json": {
       "model_id": "b0f2f77bc0384bd799b0abd7b3f80b09",
       "version_major": 2,
       "version_minor": 0
      },
      "text/plain": [
       "Loading checkpoint shards:   0%|          | 0/8 [00:00<?, ?it/s]"
      ]
     },
     "metadata": {},
     "output_type": "display_data"
    },
    {
     "name": "stdout",
     "output_type": "stream",
     "text": [
      "best genome : [np.str_('wreath of the season merry we wish you hope dream believe peace joy wonder eggnog milk and cookie that it not as in to with from have night candle star angel chocolate peppermint candy fruitcake toy doll game puzzle greeting card wrapping kaggle workshop paper bow poinsettia snowglobe fireplace hohoho'), np.float64(144.4099673433467)]\n",
      "parents perplexities : [319.13844324 185.42606849 185.42606849 180.42451665 203.65069565\n",
      " 242.78772454 213.4240966  166.21485356 343.72562934 220.19890466\n",
      " 255.43519818 315.42036776 226.30304316 151.34034638 212.5920349\n",
      " 163.6379311  144.40996734 144.97517197 144.97517197 144.97517197\n",
      " 145.54258875 145.54258875 145.54258875 145.54258875 145.54258875\n",
      " 145.54258875 145.54258875 145.54258875 145.54258875 146.11222634\n",
      " 146.11222634 146.11222634]\n"
     ]
    },
    {
     "data": {
      "application/vnd.jupyter.widget-view+json": {
       "model_id": "37527de5994d483b83139edaa7571dc6",
       "version_major": 2,
       "version_minor": 0
      },
      "text/plain": [
       "Loading checkpoint shards:   0%|          | 0/8 [00:00<?, ?it/s]"
      ]
     },
     "metadata": {},
     "output_type": "display_data"
    },
    {
     "name": "stdout",
     "output_type": "stream",
     "text": [
      "best genome : [np.str_('wreath of the season merry we wish you hope dream believe peace joy wonder eggnog cookie and milk that it not as in to with from have night candle star angel chocolate peppermint candy fruitcake toy doll game puzzle greeting card wrapping kaggle workshop paper bow poinsettia snowglobe fireplace hohoho'), np.float64(143.28616006164455)]\n",
      "parents perplexities : [190.56626846 160.47288701 185.42606849 182.55130376 186.1518056\n",
      " 216.78503707 223.66653285 231.66966517 235.31793155 235.31793155\n",
      " 244.69193226 245.64962941 210.93763056 219.34043049 179.02044192\n",
      " 207.66734571 143.28616006 144.40996734 144.40996734 144.40996734\n",
      " 144.40996734 144.97517197 144.97517197 144.97517197 144.97517197\n",
      " 144.97517197 144.97517197 145.54258875 145.54258875 145.54258875\n",
      " 145.54258875 145.54258875]\n"
     ]
    },
    {
     "data": {
      "application/vnd.jupyter.widget-view+json": {
       "model_id": "b201617a85994500942e697acd88f712",
       "version_major": 2,
       "version_minor": 0
      },
      "text/plain": [
       "Loading checkpoint shards:   0%|          | 0/8 [00:00<?, ?it/s]"
      ]
     },
     "metadata": {},
     "output_type": "display_data"
    },
    {
     "name": "stdout",
     "output_type": "stream",
     "text": [
      "parents perplexities : [284.95855539 272.97357619 316.65488818 229.86679753 281.63868766\n",
      " 166.21485356 198.93313237 189.82332099 245.64962941 283.84760726\n",
      " 239.02364976 217.63350972 176.24498722 290.57885929 255.43519818\n",
      " 180.42451665 143.28616006 144.40996734 144.40996734 144.40996734\n",
      " 144.40996734 144.97517197 144.97517197 144.97517197 144.97517197\n",
      " 144.97517197 144.97517197 144.97517197 144.97517197 144.97517197\n",
      " 144.97517197 144.97517197]\n"
     ]
    },
    {
     "data": {
      "application/vnd.jupyter.widget-view+json": {
       "model_id": "7b2113db31fd4873bd12b798d902f208",
       "version_major": 2,
       "version_minor": 0
      },
      "text/plain": [
       "Loading checkpoint shards:   0%|          | 0/8 [00:00<?, ?it/s]"
      ]
     },
     "metadata": {},
     "output_type": "display_data"
    },
    {
     "name": "stdout",
     "output_type": "stream",
     "text": [
      "parents perplexities : [189.08326999 231.66966517 322.90034623 448.30273412 215.93987231\n",
      " 171.49107938 172.83610059 179.72110812 226.30304316 168.17414165\n",
      " 186.1518056  210.93763056 250.49463422 257.43860127 183.26578936\n",
      " 279.446958   143.28616006 144.40996734 144.40996734 144.40996734\n",
      " 144.40996734 144.97517197 144.97517197 144.97517197 144.97517197\n",
      " 144.97517197 144.97517197 144.97517197 144.97517197 144.97517197\n",
      " 144.97517197 144.97517197]\n"
     ]
    },
    {
     "data": {
      "application/vnd.jupyter.widget-view+json": {
       "model_id": "5bcde81728aa46f2baba893b723641b7",
       "version_major": 2,
       "version_minor": 0
      },
      "text/plain": [
       "Loading checkpoint shards:   0%|          | 0/8 [00:00<?, ?it/s]"
      ]
     },
     "metadata": {},
     "output_type": "display_data"
    },
    {
     "name": "stdout",
     "output_type": "stream",
     "text": [
      "parents perplexities : [256.43494328 185.42606849 151.93267575 155.53565532 238.09178486\n",
      " 219.34043049 264.57506218 257.43860127 240.89833548 191.31212374\n",
      " 249.51804819 176.9347906  284.95855539 246.61107487 243.73796883\n",
      " 176.9347906  143.28616006 144.40996734 144.40996734 144.40996734\n",
      " 144.40996734 144.97517197 144.97517197 144.97517197 144.97517197\n",
      " 144.97517197 144.97517197 144.97517197 144.97517197 144.97517197\n",
      " 144.97517197 144.97517197]\n"
     ]
    },
    {
     "data": {
      "application/vnd.jupyter.widget-view+json": {
       "model_id": "746a2bd63af34e439aaa47de1c510329",
       "version_major": 2,
       "version_minor": 0
      },
      "text/plain": [
       "Loading checkpoint shards:   0%|          | 0/8 [00:00<?, ?it/s]"
      ]
     },
     "metadata": {},
     "output_type": "display_data"
    },
    {
     "name": "stdout",
     "output_type": "stream",
     "text": [
      "parents perplexities : [169.49314779 279.446958   189.82332099 146.11222634 236.23893989\n",
      " 164.9213593  189.82332099 234.40051388 161.10096013 155.53565532\n",
      " 183.98307138 145.54258875 211.7632171  181.83960367 255.43519818\n",
      " 189.08326999 143.28616006 144.40996734 144.40996734 144.40996734\n",
      " 144.40996734 144.97517197 144.97517197 144.97517197 144.97517197\n",
      " 144.97517197 144.97517197 144.97517197 144.97517197 144.97517197\n",
      " 144.97517197 144.97517197]\n"
     ]
    },
    {
     "data": {
      "application/vnd.jupyter.widget-view+json": {
       "model_id": "530defe2df8441c4aee1ac85ef84a983",
       "version_major": 2,
       "version_minor": 0
      },
      "text/plain": [
       "Loading checkpoint shards:   0%|          | 0/8 [00:00<?, ?it/s]"
      ]
     },
     "metadata": {},
     "output_type": "display_data"
    },
    {
     "name": "stdout",
     "output_type": "stream",
     "text": [
      "parents perplexities : [190.56626846 179.02044192 172.83610059 216.78503707 187.61181231\n",
      " 168.17414165 159.22407709 147.25819874 154.92927927 152.52732343\n",
      " 159.84726251 153.72361005 194.32485132 168.17414165 257.43860127\n",
      " 232.5763946  143.28616006 144.40996734 144.40996734 144.40996734\n",
      " 144.40996734 144.97517197 144.97517197 144.97517197 144.97517197\n",
      " 144.97517197 144.97517197 144.97517197 144.97517197 144.97517197\n",
      " 144.97517197 144.97517197]\n"
     ]
    },
    {
     "data": {
      "application/vnd.jupyter.widget-view+json": {
       "model_id": "3d5daaef7d6b48659b5599eb23c056e3",
       "version_major": 2,
       "version_minor": 0
      },
      "text/plain": [
       "Loading checkpoint shards:   0%|          | 0/8 [00:00<?, ?it/s]"
      ]
     },
     "metadata": {},
     "output_type": "display_data"
    },
    {
     "name": "stdout",
     "output_type": "stream",
     "text": [
      "best genome : [np.str_('wreath of the season merry we wish you hope dream believe peace joy wonder eggnog cookie and milk that it not to have as in from with night candle star angel chocolate peppermint candy fruitcake toy doll game puzzle greeting card wrapping paper bow kaggle workshop poinsettia snowglobe fireplace hohoho'), np.float64(142.7275402635186)]\n",
      "parents perplexities : [180.42451665 159.22407709 186.1518056  261.49266934 193.56725052\n",
      " 195.84896002 243.73796883 167.51849281 212.5920349  201.27809318\n",
      " 186.1518056  207.66734571 144.40996734 192.06089823 165.56684325\n",
      " 164.9213593  142.72754026 143.28616006 143.28616006 143.28616006\n",
      " 143.28616006 144.40996734 144.40996734 144.40996734 144.40996734\n",
      " 144.40996734 144.40996734 144.40996734 144.40996734 144.40996734\n",
      " 144.97517197 144.97517197]\n"
     ]
    },
    {
     "data": {
      "application/vnd.jupyter.widget-view+json": {
       "model_id": "676658f8e10a4ebd8e3b5efa74eab6d5",
       "version_major": 2,
       "version_minor": 0
      },
      "text/plain": [
       "Loading checkpoint shards:   0%|          | 0/8 [00:00<?, ?it/s]"
      ]
     },
     "metadata": {},
     "output_type": "display_data"
    },
    {
     "name": "stdout",
     "output_type": "stream",
     "text": [
      "best genome : [np.str_('wreath of the season merry we wish you hope dream believe peace joy wonder eggnog milk and cookie that it not as in to with from have night candle star angel chocolate peppermint candy fruitcake toy doll game puzzle greeting card wrapping paper bow kaggle workshop snowglobe fireplace poinsettia hohoho'), np.float64(141.61682573322432)]\n",
      "parents perplexities : [194.32485132 214.25941489 163.6379311  180.42451665 239.95916187\n",
      " 202.06587336 192.81260333 189.82332099 202.85673683 242.78772454\n",
      " 181.83960367 228.97063182 192.81260333 146.11222634 292.85789753\n",
      " 290.57885929 141.61682573 142.17109832 142.17109832 142.17109832\n",
      " 142.72754026 142.72754026 142.72754026 142.72754026 142.72754026\n",
      " 142.72754026 143.28616006 143.28616006 143.28616006 143.28616006\n",
      " 143.28616006 143.28616006]\n"
     ]
    },
    {
     "data": {
      "application/vnd.jupyter.widget-view+json": {
       "model_id": "8d488f6e3dec445094faf395605a4c03",
       "version_major": 2,
       "version_minor": 0
      },
      "text/plain": [
       "Loading checkpoint shards:   0%|          | 0/8 [00:00<?, ?it/s]"
      ]
     },
     "metadata": {},
     "output_type": "display_data"
    },
    {
     "name": "stdout",
     "output_type": "stream",
     "text": [
      "best genome : [np.str_('wreath of the season merry we wish you hope dream believe peace joy wonder eggnog cookie and milk that it not to have as in from with night candle star angel chocolate peppermint candy fruitcake toy doll game puzzle greeting card wrapping paper bow kaggle workshop snowglobe fireplace poinsettia hohoho'), np.float64(139.96693973881514)]\n",
      "parents perplexities : [154.92927927 232.5763946  151.93267575 176.9347906  168.17414165\n",
      " 401.85597368 210.11526267 202.06587336 240.89833548 195.84896002\n",
      " 225.42077121 258.44618747 266.65015011 172.83610059 230.76647074\n",
      " 242.78772454 139.96693974 140.51475485 140.51475485 140.51475485\n",
      " 140.51475485 140.51475485 141.06471405 141.06471405 141.61682573\n",
      " 141.61682573 141.61682573 141.61682573 141.61682573 141.61682573\n",
      " 141.61682573 141.61682573]\n"
     ]
    },
    {
     "data": {
      "application/vnd.jupyter.widget-view+json": {
       "model_id": "c0d6f4cbb7094831b1f84fd477503423",
       "version_major": 2,
       "version_minor": 0
      },
      "text/plain": [
       "Loading checkpoint shards:   0%|          | 0/8 [00:00<?, ?it/s]"
      ]
     },
     "metadata": {},
     "output_type": "display_data"
    },
    {
     "name": "stdout",
     "output_type": "stream",
     "text": [
      "parents perplexities : [181.83960367 164.9213593  145.54258875 161.73149146 195.08541728\n",
      " 207.66734571 202.85673683 266.65015011 169.49314779 192.06089823\n",
      " 225.42077121 205.24794785 168.17414165 192.06089823 176.24498722\n",
      " 190.56626846 139.96693974 140.51475485 140.51475485 140.51475485\n",
      " 140.51475485 140.51475485 140.51475485 140.51475485 140.51475485\n",
      " 140.51475485 141.06471405 141.06471405 141.06471405 141.06471405\n",
      " 141.06471405 141.06471405]\n"
     ]
    },
    {
     "data": {
      "application/vnd.jupyter.widget-view+json": {
       "model_id": "99131abe35c34cfb9241de352ed3cf89",
       "version_major": 2,
       "version_minor": 0
      },
      "text/plain": [
       "Loading checkpoint shards:   0%|          | 0/8 [00:00<?, ?it/s]"
      ]
     },
     "metadata": {},
     "output_type": "display_data"
    },
    {
     "name": "stdout",
     "output_type": "stream",
     "text": [
      "best genome : [np.str_('hohoho of the season merry we wish you hope dream believe peace joy wonder eggnog milk and cookie that it not as in to with from have night candle star angel chocolate candy peppermint fruitcake toy doll game puzzle greeting card wrapping paper bow kaggle workshop snowglobe fireplace wreath poinsettia'), np.float64(138.8777083722429)]\n",
      "parents perplexities : [347.77735829 217.63350972 243.73796883 160.47288701 272.97357619\n",
      " 162.36449062 183.26578936 302.15420511 183.98307138 294.00411093\n",
      " 186.88038317 179.72110812 275.11453449 161.10096013 221.92594608\n",
      " 161.10096013 138.87770837 138.87770837 139.42126035 139.96693974\n",
      " 139.96693974 139.96693974 139.96693974 139.96693974 139.96693974\n",
      " 140.51475485 140.51475485 140.51475485 140.51475485 140.51475485\n",
      " 140.51475485 140.51475485]\n"
     ]
    },
    {
     "data": {
      "application/vnd.jupyter.widget-view+json": {
       "model_id": "9d2ac2521c574510babc73f40ccead10",
       "version_major": 2,
       "version_minor": 0
      },
      "text/plain": [
       "Loading checkpoint shards:   0%|          | 0/8 [00:00<?, ?it/s]"
      ]
     },
     "metadata": {},
     "output_type": "display_data"
    },
    {
     "name": "stdout",
     "output_type": "stream",
     "text": [
      "best genome : [np.str_('hohoho the season merry we wish you hope dream believe peace joy wonder eggnog milk and cookie that it not to have as in of from with night candle angel star chocolate peppermint candy fruitcake toy doll game puzzle greeting card wrapping paper bow kaggle workshop snowglobe fireplace wreath poinsettia'), np.float64(134.60489048229144)]\n",
      "parents perplexities : [251.47504249 210.11526267 161.73149146 165.56684325 162.36449062\n",
      " 161.73149146 289.44599968 341.05073527 149.57717794 205.24794785\n",
      " 370.20707084 168.83235663 176.24498722 272.97357619 249.51804819\n",
      " 274.04196456 134.60489048 136.19157034 137.25973406 137.25973406\n",
      " 138.3362755  138.3362755  138.3362755  138.3362755  138.3362755\n",
      " 138.3362755  138.3362755  138.87770837 138.87770837 138.87770837\n",
      " 138.87770837 138.87770837]\n"
     ]
    },
    {
     "data": {
      "application/vnd.jupyter.widget-view+json": {
       "model_id": "6bf1da4f387a47f3add0d53948337369",
       "version_major": 2,
       "version_minor": 0
      },
      "text/plain": [
       "Loading checkpoint shards:   0%|          | 0/8 [00:00<?, ?it/s]"
      ]
     },
     "metadata": {},
     "output_type": "display_data"
    },
    {
     "name": "stdout",
     "output_type": "stream",
     "text": [
      "best genome : [np.str_('hohoho the season merry we wish you hope dream believe wonder joy peace eggnog milk and cookie that it not to have as in of from with night candle star angel chocolate candy peppermint fruitcake toy doll game puzzle greeting card wrapping paper bow kaggle workshop snowglobe fireplace wreath poinsettia'), np.float64(133.0366960079705)]\n",
      "parents perplexities : [183.26578936 194.32485132 167.51849281 159.22407709 146.68409343\n",
      " 232.5763946  155.53565532 278.35749756 153.12429849 248.54526951\n",
      " 168.83235663 218.48530319 169.49314779 148.99403178 254.43935072\n",
      " 192.81260333 133.03669601 133.55738691 134.08011575 134.08011575\n",
      " 134.60489048 134.60489048 134.60489048 135.66060972 135.66060972\n",
      " 135.66060972 135.66060972 136.19157034 136.19157034 136.19157034\n",
      " 136.72460907 136.72460907]\n"
     ]
    },
    {
     "data": {
      "application/vnd.jupyter.widget-view+json": {
       "model_id": "524c7550035249b6aa91dfb8c6b2332d",
       "version_major": 2,
       "version_minor": 0
      },
      "text/plain": [
       "Loading checkpoint shards:   0%|          | 0/8 [00:00<?, ?it/s]"
      ]
     },
     "metadata": {},
     "output_type": "display_data"
    },
    {
     "name": "stdout",
     "output_type": "stream",
     "text": [
      "best genome : [np.str_('hohoho the season merry we wish you hope dream believe wonder joy peace eggnog milk and cookie that it not to have as in of with from night candle star angel chocolate candy peppermint fruitcake toy doll game puzzle greeting card wrapping paper bow kaggle workshop snowglobe fireplace wreath poinsettia'), np.float64(131.48677155266952)]\n",
      "parents perplexities : [158.60332125 246.61107487 189.82332099 202.06587336 179.02044192\n",
      " 247.57628333 228.07795992 210.11526267 161.73149146 223.66653285\n",
      " 150.75032628 219.34043049 199.71173463 155.53565532 228.97063182\n",
      " 400.28928571 131.48677155 133.03669601 133.03669601 133.03669601\n",
      " 133.55738691 133.55738691 133.55738691 133.55738691 133.55738691\n",
      " 134.08011575 134.08011575 134.08011575 134.08011575 134.60489048\n",
      " 134.60489048 134.60489048]\n"
     ]
    },
    {
     "data": {
      "application/vnd.jupyter.widget-view+json": {
       "model_id": "30ea060cad9e40c583959f06c5120f4b",
       "version_major": 2,
       "version_minor": 0
      },
      "text/plain": [
       "Loading checkpoint shards:   0%|          | 0/8 [00:00<?, ?it/s]"
      ]
     },
     "metadata": {},
     "output_type": "display_data"
    },
    {
     "name": "stdout",
     "output_type": "stream",
     "text": [
      "parents perplexities : [137.25973406 295.15481049 185.42606849 185.42606849 261.49266934\n",
      " 145.54258875 172.16227649 172.16227649 202.85673683 232.5763946\n",
      " 175.55787314 154.92927927 213.4240966  184.70316076 216.78503707\n",
      " 283.84760726 131.48677155 131.48677155 132.00139623 132.00139623\n",
      " 132.00139623 132.00139623 132.51803508 132.51803508 132.51803508\n",
      " 133.03669601 133.03669601 133.03669601 133.03669601 133.03669601\n",
      " 133.03669601 133.03669601]\n"
     ]
    },
    {
     "data": {
      "application/vnd.jupyter.widget-view+json": {
       "model_id": "dc937a1177424b67b7ae06dfe9b06cf5",
       "version_major": 2,
       "version_minor": 0
      },
      "text/plain": [
       "Loading checkpoint shards:   0%|          | 0/8 [00:00<?, ?it/s]"
      ]
     },
     "metadata": {},
     "output_type": "display_data"
    },
    {
     "name": "stdout",
     "output_type": "stream",
     "text": [
      "best genome : [np.str_('hohoho season merry we wish you hope dream believe peace joy wonder eggnog milk and cookie that it not to have as in the of with from night candle angel star chocolate candy peppermint fruitcake toy doll game puzzle greeting card wrapping paper bow kaggle workshop snowglobe fireplace wreath poinsettia'), np.float64(129.9549042642197)]\n",
      "parents perplexities : [184.70316076 219.34043049 148.4131591  337.07737385 260.47320604\n",
      " 190.56626846 158.60332125 189.82332099 231.66966517 244.69193226\n",
      " 230.76647074 150.75032628 311.74560917 153.72361005 174.87343785\n",
      " 190.56626846 129.95490426 130.46353338 131.48677155 131.48677155\n",
      " 131.48677155 132.00139623 132.00139623 132.00139623 132.00139623\n",
      " 132.00139623 132.00139623 132.00139623 132.51803508 132.51803508\n",
      " 132.51803508 132.51803508]\n"
     ]
    },
    {
     "data": {
      "application/vnd.jupyter.widget-view+json": {
       "model_id": "187b6da91bfa4c2c980b05039c35dc1f",
       "version_major": 2,
       "version_minor": 0
      },
      "text/plain": [
       "Loading checkpoint shards:   0%|          | 0/8 [00:00<?, ?it/s]"
      ]
     },
     "metadata": {},
     "output_type": "display_data"
    },
    {
     "name": "stdout",
     "output_type": "stream",
     "text": [
      "parents perplexities : [165.56684325 224.5419389  166.21485356 256.43494328 221.92594608\n",
      " 148.4131591  179.72110812 191.31212374 178.32250736 191.31212374\n",
      " 157.9849855  168.83235663 304.52402991 229.86679753 172.16227649\n",
      " 175.55787314 129.95490426 129.95490426 130.46353338 130.46353338\n",
      " 130.46353338 131.48677155 131.48677155 131.48677155 131.48677155\n",
      " 131.48677155 131.48677155 132.00139623 132.00139623 132.00139623\n",
      " 132.00139623 132.00139623]\n"
     ]
    },
    {
     "data": {
      "application/vnd.jupyter.widget-view+json": {
       "model_id": "4bb34216caeb415ca5297857dd58f159",
       "version_major": 2,
       "version_minor": 0
      },
      "text/plain": [
       "Loading checkpoint shards:   0%|          | 0/8 [00:00<?, ?it/s]"
      ]
     },
     "metadata": {},
     "output_type": "display_data"
    },
    {
     "name": "stdout",
     "output_type": "stream",
     "text": [
      "best genome : [np.str_('hohoho the season merry we wish you hope dream believe peace joy wonder milk and cookie that it not to have as in of with from night candle angel star chocolate candy peppermint fruitcake eggnog toy doll game puzzle greeting card wrapping paper bow kaggle workshop snowglobe fireplace wreath poinsettia'), np.float64(129.44825810694724)]\n",
      "parents perplexities : [279.446958   219.34043049 138.3362755  196.61549117 187.61181231\n",
      " 152.52732343 217.63350972 168.83235663 220.19890466 196.61549117\n",
      " 252.45928798 199.71173463 171.49107938 165.56684325 242.78772454\n",
      " 199.71173463 129.44825811 129.95490426 129.95490426 129.95490426\n",
      " 129.95490426 130.46353338 130.46353338 130.46353338 130.46353338\n",
      " 130.46353338 130.46353338 130.46353338 131.48677155 131.48677155\n",
      " 131.48677155 131.48677155]\n"
     ]
    },
    {
     "data": {
      "application/vnd.jupyter.widget-view+json": {
       "model_id": "728be62633de4c5283e79c27ca557cc8",
       "version_major": 2,
       "version_minor": 0
      },
      "text/plain": [
       "Loading checkpoint shards:   0%|          | 0/8 [00:00<?, ?it/s]"
      ]
     },
     "metadata": {},
     "output_type": "display_data"
    },
    {
     "name": "stdout",
     "output_type": "stream",
     "text": [
      "best genome : [np.str_('hohoho season merry we wish you hope dream believe peace joy wonder milk and cookie that it not to have as in the of with from night candle angel star chocolate candy peppermint fruitcake eggnog toy doll game puzzle greeting card wrapping paper bow kaggle workshop snowglobe fireplace wreath poinsettia'), np.float64(128.44088377025506)]\n",
      "parents perplexities : [151.34034638 153.12429849 148.99403178 183.98307138 406.59292474\n",
      " 154.92927927 172.83610059 214.25941489 262.51612271 181.83960367\n",
      " 210.93763056 141.06471405 222.79453967 310.53022822 242.78772454\n",
      " 358.81699669 128.44088377 129.44825811 129.44825811 129.95490426\n",
      " 129.95490426 129.95490426 129.95490426 130.46353338 130.46353338\n",
      " 130.46353338 130.46353338 130.46353338 130.46353338 130.46353338\n",
      " 131.48677155 131.48677155]\n"
     ]
    },
    {
     "data": {
      "application/vnd.jupyter.widget-view+json": {
       "model_id": "f365fc6116fc425bae03409e94b351d2",
       "version_major": 2,
       "version_minor": 0
      },
      "text/plain": [
       "Loading checkpoint shards:   0%|          | 0/8 [00:00<?, ?it/s]"
      ]
     },
     "metadata": {},
     "output_type": "display_data"
    },
    {
     "name": "stdout",
     "output_type": "stream",
     "text": [
      "parents perplexities : [201.27809318 206.05126561 171.49107938 166.8654001  173.51256196\n",
      " 171.49107938 300.9762175  181.13067824 310.53022822 191.31212374\n",
      " 228.97063182 150.75032628 183.98307138 284.95855539 279.446958\n",
      " 316.65488818 128.44088377 129.44825811 129.44825811 129.95490426\n",
      " 129.95490426 129.95490426 129.95490426 129.95490426 129.95490426\n",
      " 130.46353338 130.46353338 130.46353338 130.46353338 130.46353338\n",
      " 130.46353338 130.46353338]\n"
     ]
    },
    {
     "data": {
      "application/vnd.jupyter.widget-view+json": {
       "model_id": "98c8d8d1dff34809af47585bd1aa8337",
       "version_major": 2,
       "version_minor": 0
      },
      "text/plain": [
       "Loading checkpoint shards:   0%|          | 0/8 [00:00<?, ?it/s]"
      ]
     },
     "metadata": {},
     "output_type": "display_data"
    },
    {
     "ename": "KeyboardInterrupt",
     "evalue": "",
     "output_type": "error",
     "traceback": [
      "\u001b[0;31m---------------------------------------------------------------------------\u001b[0m",
      "\u001b[0;31mKeyboardInterrupt\u001b[0m                         Traceback (most recent call last)",
      "Cell \u001b[0;32mIn[1], line 12\u001b[0m\n\u001b[1;32m      9\u001b[0m sample \u001b[38;5;241m=\u001b[39m df_sample\u001b[38;5;241m.\u001b[39mtext\u001b[38;5;241m.\u001b[39mto_list()[\u001b[38;5;241m4\u001b[39m]\n\u001b[1;32m     11\u001b[0m optimizr \u001b[38;5;241m=\u001b[39m genetic(sample, initial_times \u001b[38;5;241m=\u001b[39m \u001b[38;5;241m10000\u001b[39m, cross_size \u001b[38;5;241m=\u001b[39m \u001b[38;5;241m80\u001b[39m, cross_area \u001b[38;5;241m=\u001b[39m [\u001b[38;5;241m12\u001b[39m, \u001b[38;5;241m25\u001b[39m, \u001b[38;5;241m50\u001b[39m], max_stack \u001b[38;5;241m=\u001b[39m \u001b[38;5;241m7\u001b[39m, crossover_method \u001b[38;5;241m=\u001b[39m \u001b[38;5;124m\"\u001b[39m\u001b[38;5;124mmixture\u001b[39m\u001b[38;5;124m\"\u001b[39m, parent_size \u001b[38;5;241m=\u001b[39m \u001b[38;5;241m32\u001b[39m, mutation_chances \u001b[38;5;241m=\u001b[39m \u001b[38;5;241m3\u001b[39m, batch_size \u001b[38;5;241m=\u001b[39m \u001b[38;5;241m256\u001b[39m, dupl \u001b[38;5;241m=\u001b[39m \u001b[38;5;28;01mFalse\u001b[39;00m)\n\u001b[0;32m---> 12\u001b[0m best_genome \u001b[38;5;241m=\u001b[39m \u001b[43moptimizr\u001b[49m\u001b[38;5;241;43m.\u001b[39;49m\u001b[43mreputation\u001b[49m\u001b[43m(\u001b[49m\u001b[43mrep_times\u001b[49m\u001b[43m \u001b[49m\u001b[38;5;241;43m=\u001b[39;49m\u001b[43m \u001b[49m\u001b[38;5;241;43m200\u001b[39;49m\u001b[43m)\u001b[49m\n\u001b[1;32m     14\u001b[0m \u001b[38;5;28;01mwith\u001b[39;00m \u001b[38;5;28mopen\u001b[39m(\u001b[38;5;124m\"\u001b[39m\u001b[38;5;124msample4.pkl\u001b[39m\u001b[38;5;124m\"\u001b[39m, \u001b[38;5;124m\"\u001b[39m\u001b[38;5;124mwb\u001b[39m\u001b[38;5;124m\"\u001b[39m) \u001b[38;5;28;01mas\u001b[39;00m f :\n\u001b[1;32m     15\u001b[0m     pickle\u001b[38;5;241m.\u001b[39mdump(best_genome, f)\n",
      "File \u001b[0;32m~/kag_comp/Santa Metric/algorithm/Genetic.py:205\u001b[0m, in \u001b[0;36mgenetic.reputation\u001b[0;34m(self, rep_times)\u001b[0m\n\u001b[1;32m    202\u001b[0m \u001b[38;5;28mself\u001b[39m\u001b[38;5;241m.\u001b[39mevaluatr\u001b[38;5;241m.\u001b[39mclear_gpu_memory()\n\u001b[1;32m    203\u001b[0m \u001b[38;5;28mself\u001b[39m\u001b[38;5;241m.\u001b[39mevaluatr \u001b[38;5;241m=\u001b[39m PerplexityCalculator(\u001b[38;5;124m\"\u001b[39m\u001b[38;5;124mgoogle/gemma-2-9b\u001b[39m\u001b[38;5;124m\"\u001b[39m, load_in_8bit \u001b[38;5;241m=\u001b[39m \u001b[38;5;28mself\u001b[39m\u001b[38;5;241m.\u001b[39mload_in_8bit)\n\u001b[0;32m--> 205\u001b[0m perplexities \u001b[38;5;241m=\u001b[39m np\u001b[38;5;241m.\u001b[39marray(\u001b[38;5;28;43mself\u001b[39;49m\u001b[38;5;241;43m.\u001b[39;49m\u001b[43mevaluatr\u001b[49m\u001b[38;5;241;43m.\u001b[39;49m\u001b[43mget_perplexity\u001b[49m\u001b[43m(\u001b[49m\u001b[43mgenome_set\u001b[49m\u001b[43m,\u001b[49m\u001b[43m \u001b[49m\u001b[43mbatch_size\u001b[49m\u001b[43m \u001b[49m\u001b[38;5;241;43m=\u001b[39;49m\u001b[43m \u001b[49m\u001b[38;5;28;43mself\u001b[39;49m\u001b[38;5;241;43m.\u001b[39;49m\u001b[43mbatch_size\u001b[49m\u001b[43m)\u001b[49m)\n\u001b[1;32m    207\u001b[0m \u001b[38;5;28;01mif\u001b[39;00m \u001b[38;5;28mself\u001b[39m\u001b[38;5;241m.\u001b[39mcrossover_method \u001b[38;5;241m==\u001b[39m \u001b[38;5;124m\"\u001b[39m\u001b[38;5;124mroulette\u001b[39m\u001b[38;5;124m\"\u001b[39m :\n\u001b[1;32m    208\u001b[0m     per_sum \u001b[38;5;241m=\u001b[39m \u001b[38;5;28msum\u001b[39m(\u001b[38;5;241m1\u001b[39m\u001b[38;5;241m/\u001b[39m(perplexities\u001b[38;5;241m*\u001b[39m\u001b[38;5;241m*\u001b[39m\u001b[38;5;241m2\u001b[39m))\n",
      "File \u001b[0;32m~/kag_comp/Santa Metric/algorithm/kaggle_evaluate.py:239\u001b[0m, in \u001b[0;36mPerplexityCalculator.get_perplexity\u001b[0;34m(self, input_texts, batch_size)\u001b[0m\n\u001b[1;32m    236\u001b[0m model_inputs \u001b[38;5;241m=\u001b[39m {k: v\u001b[38;5;241m.\u001b[39mto(DEVICE) \u001b[38;5;28;01mfor\u001b[39;00m k, v \u001b[38;5;129;01min\u001b[39;00m model_inputs\u001b[38;5;241m.\u001b[39mitems()}\n\u001b[1;32m    238\u001b[0m \u001b[38;5;66;03m# Get model output\u001b[39;00m\n\u001b[0;32m--> 239\u001b[0m output \u001b[38;5;241m=\u001b[39m \u001b[38;5;28;43mself\u001b[39;49m\u001b[38;5;241;43m.\u001b[39;49m\u001b[43mmodel\u001b[49m\u001b[43m(\u001b[49m\u001b[38;5;241;43m*\u001b[39;49m\u001b[38;5;241;43m*\u001b[39;49m\u001b[43mmodel_inputs\u001b[49m\u001b[43m,\u001b[49m\u001b[43m \u001b[49m\u001b[43muse_cache\u001b[49m\u001b[38;5;241;43m=\u001b[39;49m\u001b[38;5;28;43;01mFalse\u001b[39;49;00m\u001b[43m)\u001b[49m\n\u001b[1;32m    240\u001b[0m logits \u001b[38;5;241m=\u001b[39m output[\u001b[38;5;124m'\u001b[39m\u001b[38;5;124mlogits\u001b[39m\u001b[38;5;124m'\u001b[39m]\n\u001b[1;32m    242\u001b[0m label \u001b[38;5;241m=\u001b[39m model_inputs[\u001b[38;5;124m'\u001b[39m\u001b[38;5;124minput_ids\u001b[39m\u001b[38;5;124m'\u001b[39m]\n",
      "File \u001b[0;32m~/anaconda3/envs/trch/lib/python3.12/site-packages/torch/nn/modules/module.py:1736\u001b[0m, in \u001b[0;36mModule._wrapped_call_impl\u001b[0;34m(self, *args, **kwargs)\u001b[0m\n\u001b[1;32m   1734\u001b[0m     \u001b[38;5;28;01mreturn\u001b[39;00m \u001b[38;5;28mself\u001b[39m\u001b[38;5;241m.\u001b[39m_compiled_call_impl(\u001b[38;5;241m*\u001b[39margs, \u001b[38;5;241m*\u001b[39m\u001b[38;5;241m*\u001b[39mkwargs)  \u001b[38;5;66;03m# type: ignore[misc]\u001b[39;00m\n\u001b[1;32m   1735\u001b[0m \u001b[38;5;28;01melse\u001b[39;00m:\n\u001b[0;32m-> 1736\u001b[0m     \u001b[38;5;28;01mreturn\u001b[39;00m \u001b[38;5;28;43mself\u001b[39;49m\u001b[38;5;241;43m.\u001b[39;49m\u001b[43m_call_impl\u001b[49m\u001b[43m(\u001b[49m\u001b[38;5;241;43m*\u001b[39;49m\u001b[43margs\u001b[49m\u001b[43m,\u001b[49m\u001b[43m \u001b[49m\u001b[38;5;241;43m*\u001b[39;49m\u001b[38;5;241;43m*\u001b[39;49m\u001b[43mkwargs\u001b[49m\u001b[43m)\u001b[49m\n",
      "File \u001b[0;32m~/anaconda3/envs/trch/lib/python3.12/site-packages/torch/nn/modules/module.py:1747\u001b[0m, in \u001b[0;36mModule._call_impl\u001b[0;34m(self, *args, **kwargs)\u001b[0m\n\u001b[1;32m   1742\u001b[0m \u001b[38;5;66;03m# If we don't have any hooks, we want to skip the rest of the logic in\u001b[39;00m\n\u001b[1;32m   1743\u001b[0m \u001b[38;5;66;03m# this function, and just call forward.\u001b[39;00m\n\u001b[1;32m   1744\u001b[0m \u001b[38;5;28;01mif\u001b[39;00m \u001b[38;5;129;01mnot\u001b[39;00m (\u001b[38;5;28mself\u001b[39m\u001b[38;5;241m.\u001b[39m_backward_hooks \u001b[38;5;129;01mor\u001b[39;00m \u001b[38;5;28mself\u001b[39m\u001b[38;5;241m.\u001b[39m_backward_pre_hooks \u001b[38;5;129;01mor\u001b[39;00m \u001b[38;5;28mself\u001b[39m\u001b[38;5;241m.\u001b[39m_forward_hooks \u001b[38;5;129;01mor\u001b[39;00m \u001b[38;5;28mself\u001b[39m\u001b[38;5;241m.\u001b[39m_forward_pre_hooks\n\u001b[1;32m   1745\u001b[0m         \u001b[38;5;129;01mor\u001b[39;00m _global_backward_pre_hooks \u001b[38;5;129;01mor\u001b[39;00m _global_backward_hooks\n\u001b[1;32m   1746\u001b[0m         \u001b[38;5;129;01mor\u001b[39;00m _global_forward_hooks \u001b[38;5;129;01mor\u001b[39;00m _global_forward_pre_hooks):\n\u001b[0;32m-> 1747\u001b[0m     \u001b[38;5;28;01mreturn\u001b[39;00m \u001b[43mforward_call\u001b[49m\u001b[43m(\u001b[49m\u001b[38;5;241;43m*\u001b[39;49m\u001b[43margs\u001b[49m\u001b[43m,\u001b[49m\u001b[43m \u001b[49m\u001b[38;5;241;43m*\u001b[39;49m\u001b[38;5;241;43m*\u001b[39;49m\u001b[43mkwargs\u001b[49m\u001b[43m)\u001b[49m\n\u001b[1;32m   1749\u001b[0m result \u001b[38;5;241m=\u001b[39m \u001b[38;5;28;01mNone\u001b[39;00m\n\u001b[1;32m   1750\u001b[0m called_always_called_hooks \u001b[38;5;241m=\u001b[39m \u001b[38;5;28mset\u001b[39m()\n",
      "File \u001b[0;32m~/anaconda3/envs/trch/lib/python3.12/site-packages/transformers/models/gemma2/modeling_gemma2.py:977\u001b[0m, in \u001b[0;36mGemma2ForCausalLM.forward\u001b[0;34m(self, input_ids, attention_mask, position_ids, past_key_values, inputs_embeds, labels, use_cache, output_attentions, output_hidden_states, return_dict, cache_position, num_logits_to_keep, **loss_kwargs)\u001b[0m\n\u001b[1;32m    975\u001b[0m return_dict \u001b[38;5;241m=\u001b[39m return_dict \u001b[38;5;28;01mif\u001b[39;00m return_dict \u001b[38;5;129;01mis\u001b[39;00m \u001b[38;5;129;01mnot\u001b[39;00m \u001b[38;5;28;01mNone\u001b[39;00m \u001b[38;5;28;01melse\u001b[39;00m \u001b[38;5;28mself\u001b[39m\u001b[38;5;241m.\u001b[39mconfig\u001b[38;5;241m.\u001b[39muse_return_dict\n\u001b[1;32m    976\u001b[0m \u001b[38;5;66;03m# decoder outputs consists of (dec_features, layer_state, dec_hidden, dec_attn)\u001b[39;00m\n\u001b[0;32m--> 977\u001b[0m outputs \u001b[38;5;241m=\u001b[39m \u001b[38;5;28;43mself\u001b[39;49m\u001b[38;5;241;43m.\u001b[39;49m\u001b[43mmodel\u001b[49m\u001b[43m(\u001b[49m\n\u001b[1;32m    978\u001b[0m \u001b[43m    \u001b[49m\u001b[43minput_ids\u001b[49m\u001b[38;5;241;43m=\u001b[39;49m\u001b[43minput_ids\u001b[49m\u001b[43m,\u001b[49m\n\u001b[1;32m    979\u001b[0m \u001b[43m    \u001b[49m\u001b[43mattention_mask\u001b[49m\u001b[38;5;241;43m=\u001b[39;49m\u001b[43mattention_mask\u001b[49m\u001b[43m,\u001b[49m\n\u001b[1;32m    980\u001b[0m \u001b[43m    \u001b[49m\u001b[43mposition_ids\u001b[49m\u001b[38;5;241;43m=\u001b[39;49m\u001b[43mposition_ids\u001b[49m\u001b[43m,\u001b[49m\n\u001b[1;32m    981\u001b[0m \u001b[43m    \u001b[49m\u001b[43mpast_key_values\u001b[49m\u001b[38;5;241;43m=\u001b[39;49m\u001b[43mpast_key_values\u001b[49m\u001b[43m,\u001b[49m\n\u001b[1;32m    982\u001b[0m \u001b[43m    \u001b[49m\u001b[43minputs_embeds\u001b[49m\u001b[38;5;241;43m=\u001b[39;49m\u001b[43minputs_embeds\u001b[49m\u001b[43m,\u001b[49m\n\u001b[1;32m    983\u001b[0m \u001b[43m    \u001b[49m\u001b[43muse_cache\u001b[49m\u001b[38;5;241;43m=\u001b[39;49m\u001b[43muse_cache\u001b[49m\u001b[43m,\u001b[49m\n\u001b[1;32m    984\u001b[0m \u001b[43m    \u001b[49m\u001b[43moutput_attentions\u001b[49m\u001b[38;5;241;43m=\u001b[39;49m\u001b[43moutput_attentions\u001b[49m\u001b[43m,\u001b[49m\n\u001b[1;32m    985\u001b[0m \u001b[43m    \u001b[49m\u001b[43moutput_hidden_states\u001b[49m\u001b[38;5;241;43m=\u001b[39;49m\u001b[43moutput_hidden_states\u001b[49m\u001b[43m,\u001b[49m\n\u001b[1;32m    986\u001b[0m \u001b[43m    \u001b[49m\u001b[43mreturn_dict\u001b[49m\u001b[38;5;241;43m=\u001b[39;49m\u001b[43mreturn_dict\u001b[49m\u001b[43m,\u001b[49m\n\u001b[1;32m    987\u001b[0m \u001b[43m    \u001b[49m\u001b[43mcache_position\u001b[49m\u001b[38;5;241;43m=\u001b[39;49m\u001b[43mcache_position\u001b[49m\u001b[43m,\u001b[49m\n\u001b[1;32m    988\u001b[0m \u001b[43m\u001b[49m\u001b[43m)\u001b[49m\n\u001b[1;32m    990\u001b[0m hidden_states \u001b[38;5;241m=\u001b[39m outputs[\u001b[38;5;241m0\u001b[39m]\n\u001b[1;32m    991\u001b[0m \u001b[38;5;66;03m# Only compute necessary logits, and do not upcast them to float if we are not computing the loss\u001b[39;00m\n",
      "File \u001b[0;32m~/anaconda3/envs/trch/lib/python3.12/site-packages/torch/nn/modules/module.py:1736\u001b[0m, in \u001b[0;36mModule._wrapped_call_impl\u001b[0;34m(self, *args, **kwargs)\u001b[0m\n\u001b[1;32m   1734\u001b[0m     \u001b[38;5;28;01mreturn\u001b[39;00m \u001b[38;5;28mself\u001b[39m\u001b[38;5;241m.\u001b[39m_compiled_call_impl(\u001b[38;5;241m*\u001b[39margs, \u001b[38;5;241m*\u001b[39m\u001b[38;5;241m*\u001b[39mkwargs)  \u001b[38;5;66;03m# type: ignore[misc]\u001b[39;00m\n\u001b[1;32m   1735\u001b[0m \u001b[38;5;28;01melse\u001b[39;00m:\n\u001b[0;32m-> 1736\u001b[0m     \u001b[38;5;28;01mreturn\u001b[39;00m \u001b[38;5;28;43mself\u001b[39;49m\u001b[38;5;241;43m.\u001b[39;49m\u001b[43m_call_impl\u001b[49m\u001b[43m(\u001b[49m\u001b[38;5;241;43m*\u001b[39;49m\u001b[43margs\u001b[49m\u001b[43m,\u001b[49m\u001b[43m \u001b[49m\u001b[38;5;241;43m*\u001b[39;49m\u001b[38;5;241;43m*\u001b[39;49m\u001b[43mkwargs\u001b[49m\u001b[43m)\u001b[49m\n",
      "File \u001b[0;32m~/anaconda3/envs/trch/lib/python3.12/site-packages/torch/nn/modules/module.py:1747\u001b[0m, in \u001b[0;36mModule._call_impl\u001b[0;34m(self, *args, **kwargs)\u001b[0m\n\u001b[1;32m   1742\u001b[0m \u001b[38;5;66;03m# If we don't have any hooks, we want to skip the rest of the logic in\u001b[39;00m\n\u001b[1;32m   1743\u001b[0m \u001b[38;5;66;03m# this function, and just call forward.\u001b[39;00m\n\u001b[1;32m   1744\u001b[0m \u001b[38;5;28;01mif\u001b[39;00m \u001b[38;5;129;01mnot\u001b[39;00m (\u001b[38;5;28mself\u001b[39m\u001b[38;5;241m.\u001b[39m_backward_hooks \u001b[38;5;129;01mor\u001b[39;00m \u001b[38;5;28mself\u001b[39m\u001b[38;5;241m.\u001b[39m_backward_pre_hooks \u001b[38;5;129;01mor\u001b[39;00m \u001b[38;5;28mself\u001b[39m\u001b[38;5;241m.\u001b[39m_forward_hooks \u001b[38;5;129;01mor\u001b[39;00m \u001b[38;5;28mself\u001b[39m\u001b[38;5;241m.\u001b[39m_forward_pre_hooks\n\u001b[1;32m   1745\u001b[0m         \u001b[38;5;129;01mor\u001b[39;00m _global_backward_pre_hooks \u001b[38;5;129;01mor\u001b[39;00m _global_backward_hooks\n\u001b[1;32m   1746\u001b[0m         \u001b[38;5;129;01mor\u001b[39;00m _global_forward_hooks \u001b[38;5;129;01mor\u001b[39;00m _global_forward_pre_hooks):\n\u001b[0;32m-> 1747\u001b[0m     \u001b[38;5;28;01mreturn\u001b[39;00m \u001b[43mforward_call\u001b[49m\u001b[43m(\u001b[49m\u001b[38;5;241;43m*\u001b[39;49m\u001b[43margs\u001b[49m\u001b[43m,\u001b[49m\u001b[43m \u001b[49m\u001b[38;5;241;43m*\u001b[39;49m\u001b[38;5;241;43m*\u001b[39;49m\u001b[43mkwargs\u001b[49m\u001b[43m)\u001b[49m\n\u001b[1;32m   1749\u001b[0m result \u001b[38;5;241m=\u001b[39m \u001b[38;5;28;01mNone\u001b[39;00m\n\u001b[1;32m   1750\u001b[0m called_always_called_hooks \u001b[38;5;241m=\u001b[39m \u001b[38;5;28mset\u001b[39m()\n",
      "File \u001b[0;32m~/anaconda3/envs/trch/lib/python3.12/site-packages/transformers/models/gemma2/modeling_gemma2.py:763\u001b[0m, in \u001b[0;36mGemma2Model.forward\u001b[0;34m(self, input_ids, attention_mask, position_ids, past_key_values, inputs_embeds, use_cache, output_attentions, output_hidden_states, return_dict, cache_position)\u001b[0m\n\u001b[1;32m    752\u001b[0m     layer_outputs \u001b[38;5;241m=\u001b[39m \u001b[38;5;28mself\u001b[39m\u001b[38;5;241m.\u001b[39m_gradient_checkpointing_func(\n\u001b[1;32m    753\u001b[0m         decoder_layer\u001b[38;5;241m.\u001b[39m\u001b[38;5;21m__call__\u001b[39m,\n\u001b[1;32m    754\u001b[0m         hidden_states,\n\u001b[0;32m   (...)\u001b[0m\n\u001b[1;32m    760\u001b[0m         cache_position,\n\u001b[1;32m    761\u001b[0m     )\n\u001b[1;32m    762\u001b[0m \u001b[38;5;28;01melse\u001b[39;00m:\n\u001b[0;32m--> 763\u001b[0m     layer_outputs \u001b[38;5;241m=\u001b[39m \u001b[43mdecoder_layer\u001b[49m\u001b[43m(\u001b[49m\n\u001b[1;32m    764\u001b[0m \u001b[43m        \u001b[49m\u001b[43mhidden_states\u001b[49m\u001b[43m,\u001b[49m\n\u001b[1;32m    765\u001b[0m \u001b[43m        \u001b[49m\u001b[43mattention_mask\u001b[49m\u001b[38;5;241;43m=\u001b[39;49m\u001b[43mcausal_mask\u001b[49m\u001b[43m,\u001b[49m\n\u001b[1;32m    766\u001b[0m \u001b[43m        \u001b[49m\u001b[43mposition_ids\u001b[49m\u001b[38;5;241;43m=\u001b[39;49m\u001b[43mposition_ids\u001b[49m\u001b[43m,\u001b[49m\n\u001b[1;32m    767\u001b[0m \u001b[43m        \u001b[49m\u001b[43mpast_key_value\u001b[49m\u001b[38;5;241;43m=\u001b[39;49m\u001b[43mpast_key_values\u001b[49m\u001b[43m,\u001b[49m\n\u001b[1;32m    768\u001b[0m \u001b[43m        \u001b[49m\u001b[43moutput_attentions\u001b[49m\u001b[38;5;241;43m=\u001b[39;49m\u001b[43moutput_attentions\u001b[49m\u001b[43m,\u001b[49m\n\u001b[1;32m    769\u001b[0m \u001b[43m        \u001b[49m\u001b[43muse_cache\u001b[49m\u001b[38;5;241;43m=\u001b[39;49m\u001b[43muse_cache\u001b[49m\u001b[43m,\u001b[49m\n\u001b[1;32m    770\u001b[0m \u001b[43m        \u001b[49m\u001b[43mcache_position\u001b[49m\u001b[38;5;241;43m=\u001b[39;49m\u001b[43mcache_position\u001b[49m\u001b[43m,\u001b[49m\n\u001b[1;32m    771\u001b[0m \u001b[43m    \u001b[49m\u001b[43m)\u001b[49m\n\u001b[1;32m    773\u001b[0m hidden_states \u001b[38;5;241m=\u001b[39m layer_outputs[\u001b[38;5;241m0\u001b[39m]\n\u001b[1;32m    775\u001b[0m \u001b[38;5;28;01mif\u001b[39;00m output_attentions:\n",
      "File \u001b[0;32m~/anaconda3/envs/trch/lib/python3.12/site-packages/torch/nn/modules/module.py:1736\u001b[0m, in \u001b[0;36mModule._wrapped_call_impl\u001b[0;34m(self, *args, **kwargs)\u001b[0m\n\u001b[1;32m   1734\u001b[0m     \u001b[38;5;28;01mreturn\u001b[39;00m \u001b[38;5;28mself\u001b[39m\u001b[38;5;241m.\u001b[39m_compiled_call_impl(\u001b[38;5;241m*\u001b[39margs, \u001b[38;5;241m*\u001b[39m\u001b[38;5;241m*\u001b[39mkwargs)  \u001b[38;5;66;03m# type: ignore[misc]\u001b[39;00m\n\u001b[1;32m   1735\u001b[0m \u001b[38;5;28;01melse\u001b[39;00m:\n\u001b[0;32m-> 1736\u001b[0m     \u001b[38;5;28;01mreturn\u001b[39;00m \u001b[38;5;28;43mself\u001b[39;49m\u001b[38;5;241;43m.\u001b[39;49m\u001b[43m_call_impl\u001b[49m\u001b[43m(\u001b[49m\u001b[38;5;241;43m*\u001b[39;49m\u001b[43margs\u001b[49m\u001b[43m,\u001b[49m\u001b[43m \u001b[49m\u001b[38;5;241;43m*\u001b[39;49m\u001b[38;5;241;43m*\u001b[39;49m\u001b[43mkwargs\u001b[49m\u001b[43m)\u001b[49m\n",
      "File \u001b[0;32m~/anaconda3/envs/trch/lib/python3.12/site-packages/torch/nn/modules/module.py:1747\u001b[0m, in \u001b[0;36mModule._call_impl\u001b[0;34m(self, *args, **kwargs)\u001b[0m\n\u001b[1;32m   1742\u001b[0m \u001b[38;5;66;03m# If we don't have any hooks, we want to skip the rest of the logic in\u001b[39;00m\n\u001b[1;32m   1743\u001b[0m \u001b[38;5;66;03m# this function, and just call forward.\u001b[39;00m\n\u001b[1;32m   1744\u001b[0m \u001b[38;5;28;01mif\u001b[39;00m \u001b[38;5;129;01mnot\u001b[39;00m (\u001b[38;5;28mself\u001b[39m\u001b[38;5;241m.\u001b[39m_backward_hooks \u001b[38;5;129;01mor\u001b[39;00m \u001b[38;5;28mself\u001b[39m\u001b[38;5;241m.\u001b[39m_backward_pre_hooks \u001b[38;5;129;01mor\u001b[39;00m \u001b[38;5;28mself\u001b[39m\u001b[38;5;241m.\u001b[39m_forward_hooks \u001b[38;5;129;01mor\u001b[39;00m \u001b[38;5;28mself\u001b[39m\u001b[38;5;241m.\u001b[39m_forward_pre_hooks\n\u001b[1;32m   1745\u001b[0m         \u001b[38;5;129;01mor\u001b[39;00m _global_backward_pre_hooks \u001b[38;5;129;01mor\u001b[39;00m _global_backward_hooks\n\u001b[1;32m   1746\u001b[0m         \u001b[38;5;129;01mor\u001b[39;00m _global_forward_hooks \u001b[38;5;129;01mor\u001b[39;00m _global_forward_pre_hooks):\n\u001b[0;32m-> 1747\u001b[0m     \u001b[38;5;28;01mreturn\u001b[39;00m \u001b[43mforward_call\u001b[49m\u001b[43m(\u001b[49m\u001b[38;5;241;43m*\u001b[39;49m\u001b[43margs\u001b[49m\u001b[43m,\u001b[49m\u001b[43m \u001b[49m\u001b[38;5;241;43m*\u001b[39;49m\u001b[38;5;241;43m*\u001b[39;49m\u001b[43mkwargs\u001b[49m\u001b[43m)\u001b[49m\n\u001b[1;32m   1749\u001b[0m result \u001b[38;5;241m=\u001b[39m \u001b[38;5;28;01mNone\u001b[39;00m\n\u001b[1;32m   1750\u001b[0m called_always_called_hooks \u001b[38;5;241m=\u001b[39m \u001b[38;5;28mset\u001b[39m()\n",
      "File \u001b[0;32m~/anaconda3/envs/trch/lib/python3.12/site-packages/transformers/models/gemma2/modeling_gemma2.py:479\u001b[0m, in \u001b[0;36mGemma2DecoderLayer.forward\u001b[0;34m(self, hidden_states, attention_mask, position_ids, past_key_value, output_attentions, use_cache, cache_position)\u001b[0m\n\u001b[1;32m    476\u001b[0m hidden_states \u001b[38;5;241m=\u001b[39m \u001b[38;5;28mself\u001b[39m\u001b[38;5;241m.\u001b[39minput_layernorm(hidden_states)\n\u001b[1;32m    478\u001b[0m \u001b[38;5;66;03m# Self Attention\u001b[39;00m\n\u001b[0;32m--> 479\u001b[0m hidden_states, self_attn_weights, present_key_value \u001b[38;5;241m=\u001b[39m \u001b[38;5;28;43mself\u001b[39;49m\u001b[38;5;241;43m.\u001b[39;49m\u001b[43mself_attn\u001b[49m\u001b[43m(\u001b[49m\n\u001b[1;32m    480\u001b[0m \u001b[43m    \u001b[49m\u001b[43mhidden_states\u001b[49m\u001b[38;5;241;43m=\u001b[39;49m\u001b[43mhidden_states\u001b[49m\u001b[43m,\u001b[49m\n\u001b[1;32m    481\u001b[0m \u001b[43m    \u001b[49m\u001b[43mattention_mask\u001b[49m\u001b[38;5;241;43m=\u001b[39;49m\u001b[43mattention_mask\u001b[49m\u001b[43m,\u001b[49m\n\u001b[1;32m    482\u001b[0m \u001b[43m    \u001b[49m\u001b[43mposition_ids\u001b[49m\u001b[38;5;241;43m=\u001b[39;49m\u001b[43mposition_ids\u001b[49m\u001b[43m,\u001b[49m\n\u001b[1;32m    483\u001b[0m \u001b[43m    \u001b[49m\u001b[43mpast_key_value\u001b[49m\u001b[38;5;241;43m=\u001b[39;49m\u001b[43mpast_key_value\u001b[49m\u001b[43m,\u001b[49m\n\u001b[1;32m    484\u001b[0m \u001b[43m    \u001b[49m\u001b[43moutput_attentions\u001b[49m\u001b[38;5;241;43m=\u001b[39;49m\u001b[43moutput_attentions\u001b[49m\u001b[43m,\u001b[49m\n\u001b[1;32m    485\u001b[0m \u001b[43m    \u001b[49m\u001b[43muse_cache\u001b[49m\u001b[38;5;241;43m=\u001b[39;49m\u001b[43muse_cache\u001b[49m\u001b[43m,\u001b[49m\n\u001b[1;32m    486\u001b[0m \u001b[43m    \u001b[49m\u001b[43mcache_position\u001b[49m\u001b[38;5;241;43m=\u001b[39;49m\u001b[43mcache_position\u001b[49m\u001b[43m,\u001b[49m\n\u001b[1;32m    487\u001b[0m \u001b[43m\u001b[49m\u001b[43m)\u001b[49m\n\u001b[1;32m    488\u001b[0m hidden_states \u001b[38;5;241m=\u001b[39m \u001b[38;5;28mself\u001b[39m\u001b[38;5;241m.\u001b[39mpost_attention_layernorm(hidden_states)\n\u001b[1;32m    489\u001b[0m hidden_states \u001b[38;5;241m=\u001b[39m residual \u001b[38;5;241m+\u001b[39m hidden_states\n",
      "File \u001b[0;32m~/anaconda3/envs/trch/lib/python3.12/site-packages/torch/nn/modules/module.py:1736\u001b[0m, in \u001b[0;36mModule._wrapped_call_impl\u001b[0;34m(self, *args, **kwargs)\u001b[0m\n\u001b[1;32m   1734\u001b[0m     \u001b[38;5;28;01mreturn\u001b[39;00m \u001b[38;5;28mself\u001b[39m\u001b[38;5;241m.\u001b[39m_compiled_call_impl(\u001b[38;5;241m*\u001b[39margs, \u001b[38;5;241m*\u001b[39m\u001b[38;5;241m*\u001b[39mkwargs)  \u001b[38;5;66;03m# type: ignore[misc]\u001b[39;00m\n\u001b[1;32m   1735\u001b[0m \u001b[38;5;28;01melse\u001b[39;00m:\n\u001b[0;32m-> 1736\u001b[0m     \u001b[38;5;28;01mreturn\u001b[39;00m \u001b[38;5;28;43mself\u001b[39;49m\u001b[38;5;241;43m.\u001b[39;49m\u001b[43m_call_impl\u001b[49m\u001b[43m(\u001b[49m\u001b[38;5;241;43m*\u001b[39;49m\u001b[43margs\u001b[49m\u001b[43m,\u001b[49m\u001b[43m \u001b[49m\u001b[38;5;241;43m*\u001b[39;49m\u001b[38;5;241;43m*\u001b[39;49m\u001b[43mkwargs\u001b[49m\u001b[43m)\u001b[49m\n",
      "File \u001b[0;32m~/anaconda3/envs/trch/lib/python3.12/site-packages/torch/nn/modules/module.py:1747\u001b[0m, in \u001b[0;36mModule._call_impl\u001b[0;34m(self, *args, **kwargs)\u001b[0m\n\u001b[1;32m   1742\u001b[0m \u001b[38;5;66;03m# If we don't have any hooks, we want to skip the rest of the logic in\u001b[39;00m\n\u001b[1;32m   1743\u001b[0m \u001b[38;5;66;03m# this function, and just call forward.\u001b[39;00m\n\u001b[1;32m   1744\u001b[0m \u001b[38;5;28;01mif\u001b[39;00m \u001b[38;5;129;01mnot\u001b[39;00m (\u001b[38;5;28mself\u001b[39m\u001b[38;5;241m.\u001b[39m_backward_hooks \u001b[38;5;129;01mor\u001b[39;00m \u001b[38;5;28mself\u001b[39m\u001b[38;5;241m.\u001b[39m_backward_pre_hooks \u001b[38;5;129;01mor\u001b[39;00m \u001b[38;5;28mself\u001b[39m\u001b[38;5;241m.\u001b[39m_forward_hooks \u001b[38;5;129;01mor\u001b[39;00m \u001b[38;5;28mself\u001b[39m\u001b[38;5;241m.\u001b[39m_forward_pre_hooks\n\u001b[1;32m   1745\u001b[0m         \u001b[38;5;129;01mor\u001b[39;00m _global_backward_pre_hooks \u001b[38;5;129;01mor\u001b[39;00m _global_backward_hooks\n\u001b[1;32m   1746\u001b[0m         \u001b[38;5;129;01mor\u001b[39;00m _global_forward_hooks \u001b[38;5;129;01mor\u001b[39;00m _global_forward_pre_hooks):\n\u001b[0;32m-> 1747\u001b[0m     \u001b[38;5;28;01mreturn\u001b[39;00m \u001b[43mforward_call\u001b[49m\u001b[43m(\u001b[49m\u001b[38;5;241;43m*\u001b[39;49m\u001b[43margs\u001b[49m\u001b[43m,\u001b[49m\u001b[43m \u001b[49m\u001b[38;5;241;43m*\u001b[39;49m\u001b[38;5;241;43m*\u001b[39;49m\u001b[43mkwargs\u001b[49m\u001b[43m)\u001b[49m\n\u001b[1;32m   1749\u001b[0m result \u001b[38;5;241m=\u001b[39m \u001b[38;5;28;01mNone\u001b[39;00m\n\u001b[1;32m   1750\u001b[0m called_always_called_hooks \u001b[38;5;241m=\u001b[39m \u001b[38;5;28mset\u001b[39m()\n",
      "File \u001b[0;32m~/anaconda3/envs/trch/lib/python3.12/site-packages/transformers/models/gemma2/modeling_gemma2.py:384\u001b[0m, in \u001b[0;36mGemma2Attention.forward\u001b[0;34m(self, hidden_states, attention_mask, position_ids, past_key_value, output_attentions, use_cache, cache_position)\u001b[0m\n\u001b[1;32m    381\u001b[0m value_states \u001b[38;5;241m=\u001b[39m value_states\u001b[38;5;241m.\u001b[39mview(bsz, q_len, \u001b[38;5;28mself\u001b[39m\u001b[38;5;241m.\u001b[39mnum_key_value_heads, \u001b[38;5;28mself\u001b[39m\u001b[38;5;241m.\u001b[39mhead_dim)\u001b[38;5;241m.\u001b[39mtranspose(\u001b[38;5;241m1\u001b[39m, \u001b[38;5;241m2\u001b[39m)\n\u001b[1;32m    383\u001b[0m cos, sin \u001b[38;5;241m=\u001b[39m \u001b[38;5;28mself\u001b[39m\u001b[38;5;241m.\u001b[39mrotary_emb(value_states, position_ids)\n\u001b[0;32m--> 384\u001b[0m query_states, key_states \u001b[38;5;241m=\u001b[39m \u001b[43mapply_rotary_pos_emb\u001b[49m\u001b[43m(\u001b[49m\u001b[43mquery_states\u001b[49m\u001b[43m,\u001b[49m\u001b[43m \u001b[49m\u001b[43mkey_states\u001b[49m\u001b[43m,\u001b[49m\u001b[43m \u001b[49m\u001b[43mcos\u001b[49m\u001b[43m,\u001b[49m\u001b[43m \u001b[49m\u001b[43msin\u001b[49m\u001b[43m)\u001b[49m\n\u001b[1;32m    386\u001b[0m \u001b[38;5;28;01mif\u001b[39;00m past_key_value \u001b[38;5;129;01mis\u001b[39;00m \u001b[38;5;129;01mnot\u001b[39;00m \u001b[38;5;28;01mNone\u001b[39;00m:\n\u001b[1;32m    387\u001b[0m     \u001b[38;5;66;03m# sin and cos are specific to RoPE models; cache_position needed for the static cache\u001b[39;00m\n\u001b[1;32m    388\u001b[0m     cache_kwargs \u001b[38;5;241m=\u001b[39m {\n\u001b[1;32m    389\u001b[0m         \u001b[38;5;124m\"\u001b[39m\u001b[38;5;124msin\u001b[39m\u001b[38;5;124m\"\u001b[39m: sin,\n\u001b[1;32m    390\u001b[0m         \u001b[38;5;124m\"\u001b[39m\u001b[38;5;124mcos\u001b[39m\u001b[38;5;124m\"\u001b[39m: cos,\n\u001b[1;32m    391\u001b[0m         \u001b[38;5;124m\"\u001b[39m\u001b[38;5;124msliding_window\u001b[39m\u001b[38;5;124m\"\u001b[39m: \u001b[38;5;28mself\u001b[39m\u001b[38;5;241m.\u001b[39msliding_window,\n\u001b[1;32m    392\u001b[0m         \u001b[38;5;124m\"\u001b[39m\u001b[38;5;124mcache_position\u001b[39m\u001b[38;5;124m\"\u001b[39m: cache_position,\n\u001b[1;32m    393\u001b[0m     }\n",
      "File \u001b[0;32m~/anaconda3/envs/trch/lib/python3.12/site-packages/transformers/models/gemma2/modeling_gemma2.py:156\u001b[0m, in \u001b[0;36mapply_rotary_pos_emb\u001b[0;34m(q, k, cos, sin, position_ids, unsqueeze_dim)\u001b[0m\n\u001b[1;32m    154\u001b[0m sin \u001b[38;5;241m=\u001b[39m sin\u001b[38;5;241m.\u001b[39munsqueeze(unsqueeze_dim)\n\u001b[1;32m    155\u001b[0m q_embed \u001b[38;5;241m=\u001b[39m (q \u001b[38;5;241m*\u001b[39m cos) \u001b[38;5;241m+\u001b[39m (rotate_half(q) \u001b[38;5;241m*\u001b[39m sin)\n\u001b[0;32m--> 156\u001b[0m k_embed \u001b[38;5;241m=\u001b[39m (k \u001b[38;5;241m*\u001b[39m cos) \u001b[38;5;241m+\u001b[39m (\u001b[43mrotate_half\u001b[49m\u001b[43m(\u001b[49m\u001b[43mk\u001b[49m\u001b[43m)\u001b[49m \u001b[38;5;241m*\u001b[39m sin)\n\u001b[1;32m    157\u001b[0m \u001b[38;5;28;01mreturn\u001b[39;00m q_embed, k_embed\n",
      "File \u001b[0;32m~/anaconda3/envs/trch/lib/python3.12/site-packages/transformers/models/gemma2/modeling_gemma2.py:130\u001b[0m, in \u001b[0;36mrotate_half\u001b[0;34m(x)\u001b[0m\n\u001b[1;32m    128\u001b[0m x1 \u001b[38;5;241m=\u001b[39m x[\u001b[38;5;241m.\u001b[39m\u001b[38;5;241m.\u001b[39m\u001b[38;5;241m.\u001b[39m, : x\u001b[38;5;241m.\u001b[39mshape[\u001b[38;5;241m-\u001b[39m\u001b[38;5;241m1\u001b[39m] \u001b[38;5;241m/\u001b[39m\u001b[38;5;241m/\u001b[39m \u001b[38;5;241m2\u001b[39m]\n\u001b[1;32m    129\u001b[0m x2 \u001b[38;5;241m=\u001b[39m x[\u001b[38;5;241m.\u001b[39m\u001b[38;5;241m.\u001b[39m\u001b[38;5;241m.\u001b[39m, x\u001b[38;5;241m.\u001b[39mshape[\u001b[38;5;241m-\u001b[39m\u001b[38;5;241m1\u001b[39m] \u001b[38;5;241m/\u001b[39m\u001b[38;5;241m/\u001b[39m \u001b[38;5;241m2\u001b[39m :]\n\u001b[0;32m--> 130\u001b[0m \u001b[38;5;28;01mreturn\u001b[39;00m \u001b[43mtorch\u001b[49m\u001b[38;5;241;43m.\u001b[39;49m\u001b[43mcat\u001b[49m\u001b[43m(\u001b[49m\u001b[43m(\u001b[49m\u001b[38;5;241;43m-\u001b[39;49m\u001b[43mx2\u001b[49m\u001b[43m,\u001b[49m\u001b[43m \u001b[49m\u001b[43mx1\u001b[49m\u001b[43m)\u001b[49m\u001b[43m,\u001b[49m\u001b[43m \u001b[49m\u001b[43mdim\u001b[49m\u001b[38;5;241;43m=\u001b[39;49m\u001b[38;5;241;43m-\u001b[39;49m\u001b[38;5;241;43m1\u001b[39;49m\u001b[43m)\u001b[49m\n",
      "\u001b[0;31mKeyboardInterrupt\u001b[0m: "
     ]
    }
   ],
   "source": [
    "import pandas as pd\n",
    "import numpy as np\n",
    "import pickle\n",
    "import os\n",
    "\n",
    "from algorithm import genetic\n",
    "\n",
    "df_sample = pd.read_csv(\"sample_submission.csv\", index_col = 0)\n",
    "sample = df_sample.text.to_list()[4]\n",
    "\n",
    "optimizr = genetic(sample, initial_times = 10000, cross_size = 100, cross_area = [12, 25, 50], max_stack = 5, crossover_method = \"mixture\", parent_size = 32, mutation_chances = 3, batch_size = 256, dupl = False)\n",
    "best_genome = optimizr.reputation(rep_times = 200)\n",
    "\n",
    "with open(\"sample4.pkl\", \"wb\") as f :\n",
    "    pickle.dump(best_genome, f)"
   ]
  },
  {
   "cell_type": "markdown",
   "metadata": {},
   "source": [
    "'hohoho season merry we wish you hope dream believe peace joy wonder milk and cookie that it not to have as in the of with from night candle angel star chocolate candy peppermint fruitcake eggnog toy doll game puzzle greeting card wrapping paper bow kaggle workshop snowglobe fireplace wreath poinsettia'"
   ]
  }
 ],
 "metadata": {
  "kernelspec": {
   "display_name": "trch",
   "language": "python",
   "name": "python3"
  },
  "language_info": {
   "codemirror_mode": {
    "name": "ipython",
    "version": 3
   },
   "file_extension": ".py",
   "mimetype": "text/x-python",
   "name": "python",
   "nbconvert_exporter": "python",
   "pygments_lexer": "ipython3",
   "version": "3.12.2"
  }
 },
 "nbformat": 4,
 "nbformat_minor": 2
}
