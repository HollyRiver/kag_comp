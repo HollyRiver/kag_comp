{
 "cells": [
  {
   "cell_type": "markdown",
   "metadata": {},
   "source": [
    "## sample 2 optimization"
   ]
  },
  {
   "cell_type": "code",
   "execution_count": 1,
   "metadata": {},
   "outputs": [
    {
     "data": {
      "application/vnd.jupyter.widget-view+json": {
       "model_id": "9a1f9ad012c64330aeacc186a4de1c6f",
       "version_major": 2,
       "version_minor": 0
      },
      "text/plain": [
       "Loading checkpoint shards:   0%|          | 0/8 [00:00<?, ?it/s]"
      ]
     },
     "metadata": {},
     "output_type": "display_data"
    },
    {
     "name": "stdout",
     "output_type": "stream",
     "text": [
      "parents perplexities : [2520.04301549 1570.85447204 2672.11346981 1887.42500899 2172.41286899\n",
      " 1297.2069732  4371.2858952  1058.7494749  1894.81218161 1698.49866226\n",
      " 1322.79208821 1096.63315843 1435.87722781 3124.01714781 2172.41286899\n",
      " 1430.27927301 1962.61147384 2017.01706802 2934.74251711  990.725497\n",
      "  603.25726649  821.34028514  874.31218242  909.1408203   909.1408203\n",
      "  952.77139924  960.24407794  975.36572185  975.36572185  990.725497\n",
      " 1002.40385566 1002.40385566 1006.32715342 1010.26580654 1030.19151414\n",
      " 1030.19151414 1034.22356973 1038.27140633 1038.27140633 1050.51022112]\n"
     ]
    },
    {
     "data": {
      "application/vnd.jupyter.widget-view+json": {
       "model_id": "7e2bfc8470e8409b9de7da1267a74e08",
       "version_major": 2,
       "version_minor": 0
      },
      "text/plain": [
       "Loading checkpoint shards:   0%|          | 0/8 [00:00<?, ?it/s]"
      ]
     },
     "metadata": {},
     "output_type": "display_data"
    },
    {
     "name": "stdout",
     "output_type": "stream",
     "text": [
      "best genome : [np.str_('sleigh yuletide jingle grinch carol holiday holly cheer chimney naughty nice nutcracker magi gifts stocking workshop decorations polar ornament beard'), np.float64(522.0756496064025)]\n",
      "parents perplexities : [ 796.07030117 1348.8818244   629.74344104  834.2745126   786.79580124\n",
      "  857.40145401 1149.26168255 1447.13895249  960.24407794  990.725497\n",
      "  994.60308696 1058.7494749  1272.11671911  691.6378635  1252.39437742\n",
      " 1464.19736852 1725.24612423  854.05876253 1633.43020034  934.34313221\n",
      "  522.07564961  522.07564961  526.17033968  532.37266914  532.37266914\n",
      "  536.54811973  538.6481097   538.6481097   538.6481097   540.75631879\n",
      "  540.75631879  542.87277918  542.87277918  542.87277918  542.87277918\n",
      "  551.42178151  555.74663614  555.74663614  555.74663614  560.10541103]\n"
     ]
    },
    {
     "data": {
      "application/vnd.jupyter.widget-view+json": {
       "model_id": "5c824734c735495da17da2e2a42c29b2",
       "version_major": 2,
       "version_minor": 0
      },
      "text/plain": [
       "Loading checkpoint shards:   0%|          | 0/8 [00:00<?, ?it/s]"
      ]
     },
     "metadata": {},
     "output_type": "display_data"
    },
    {
     "name": "stdout",
     "output_type": "stream",
     "text": [
      "best genome : [np.str_('sleigh yuletide jingle grinch holiday holly cheer chimney naughty nice nutcracker gifts stocking magi carol polar beard workshop decorations ornament'), np.float64(421.1414445251494)]\n",
      "parents perplexities : [1185.74316446  774.59766297  649.73364371  577.88506534  967.77536558\n",
      " 1297.2069732  1209.12985283  629.74344104  540.75631879  719.18958379\n",
      " 1282.0940542   596.22910645 1209.12985283  847.41242451  941.67127622\n",
      "  964.002367    649.73364371  589.28282696  912.69909686  702.52957502\n",
      "  421.14144453  431.12852607  432.81591542  437.91781247  437.91781247\n",
      "  437.91781247  439.63177432  439.63177432  439.63177432  439.63177432\n",
      "  441.35244444  441.35244444  441.35244444  444.81401456  444.81401456\n",
      "  446.55496739  446.55496739  446.55496739  446.55496739  448.30273412]\n"
     ]
    },
    {
     "data": {
      "application/vnd.jupyter.widget-view+json": {
       "model_id": "471d5a7882e24faaa55d5b217c1d757a",
       "version_major": 2,
       "version_minor": 0
      },
      "text/plain": [
       "Loading checkpoint shards:   0%|          | 0/8 [00:00<?, ?it/s]"
      ]
     },
     "metadata": {},
     "output_type": "display_data"
    },
    {
     "name": "stdout",
     "output_type": "stream",
     "text": [
      "best genome : [np.str_('sleigh yuletide jingle grinch holiday holly cheer carol naughty nice chimney workshop nutcracker polar beard stocking magi gifts decorations ornament'), np.float64(376.03698390417554)]\n",
      "parents perplexities : [ 515.99328406  482.84104495  847.41242451  736.24467328  938.00004783\n",
      "  624.8427387   759.61558796  566.70775638  515.99328406  834.2745126\n",
      "  532.37266914  431.12852607  802.31395793  482.84104495  482.84104495\n",
      " 1237.80354097 1038.27140633  637.16665745  547.13058316  582.41747408\n",
      "  376.0369839   376.0369839   380.46958888  381.95870474  381.95870474\n",
      "  384.95444399  386.46111309  392.54699008  392.54699008  395.62577428\n",
      "  395.62577428  395.62577428  397.17420978  397.17420978  400.28928571\n",
      "  400.28928571  400.28928571  400.28928571  400.28928571  400.28928571]\n"
     ]
    },
    {
     "data": {
      "application/vnd.jupyter.widget-view+json": {
       "model_id": "48d8765451b44263bf005592705d8718",
       "version_major": 2,
       "version_minor": 0
      },
      "text/plain": [
       "Loading checkpoint shards:   0%|          | 0/8 [00:00<?, ?it/s]"
      ]
     },
     "metadata": {},
     "output_type": "display_data"
    },
    {
     "name": "stdout",
     "output_type": "stream",
     "text": [
      "best genome : [np.str_('sleigh yuletide jingle grinch carol holiday cheer holly naughty nice chimney workshop nutcracker polar beard ornament decorations gifts stocking magi'), np.float64(357.4181017943673)]\n",
      "parents perplexities : [ 473.50205375  562.29760163  547.13058316  652.27662929  659.96545979\n",
      "  477.21577639  518.01282467  513.98161688  504.0403125   479.08354613\n",
      "  627.28830404 1267.15720604  466.16108483  624.8427387   400.28928571\n",
      "  490.44468502  486.6280142   675.61608965  437.91781247  446.55496739\n",
      "  357.41810179  357.41810179  358.81699669  363.04661791  363.04661791\n",
      "  363.04661791  363.04661791  364.46754219  365.89402782  365.89402782\n",
      "  365.89402782  365.89402782  365.89402782  368.76377025  368.76377025\n",
      "  368.76377025  370.20707084  370.20707084  370.20707084  370.20707084]\n"
     ]
    },
    {
     "data": {
      "application/vnd.jupyter.widget-view+json": {
       "model_id": "45e9046c9dab40e89bca5c54425364ff",
       "version_major": 2,
       "version_minor": 0
      },
      "text/plain": [
       "Loading checkpoint shards:   0%|          | 0/8 [00:00<?, ?it/s]"
      ]
     },
     "metadata": {},
     "output_type": "display_data"
    },
    {
     "name": "stdout",
     "output_type": "stream",
     "text": [
      "best genome : [np.str_('sleigh yuletide grinch holiday carol cheer holly jingle naughty nice chimney workshop nutcracker polar beard ornament decorations gifts stocking magi'), np.float64(339.72110446147576)]\n",
      "parents perplexities : [426.10572661 662.54849157 466.16108483 427.77345727 577.88506534\n",
      " 439.63177432 553.57998534 536.54811973 528.22971216 724.8302576\n",
      " 446.55496739 448.30273412 457.14471327 392.54699008 513.98161688\n",
      " 874.31218242 429.44771524 560.10541103 479.08354613 507.99354967\n",
      " 339.72110446 346.42150286 350.50500992 350.50500992 350.50500992\n",
      " 356.02466067 356.02466067 356.02466067 357.41810179 357.41810179\n",
      " 357.41810179 357.41810179 357.41810179 357.41810179 357.41810179\n",
      " 357.41810179 358.81699669 358.81699669 358.81699669 358.81699669]\n"
     ]
    },
    {
     "data": {
      "application/vnd.jupyter.widget-view+json": {
       "model_id": "75caa3e2273847f880a0560b4bf63b05",
       "version_major": 2,
       "version_minor": 0
      },
      "text/plain": [
       "Loading checkpoint shards:   0%|          | 0/8 [00:00<?, ?it/s]"
      ]
     },
     "metadata": {},
     "output_type": "display_data"
    },
    {
     "name": "stdout",
     "output_type": "stream",
     "text": [
      "best genome : [np.str_('sleigh yuletide carol grinch holiday cheer holly jingle naughty nice polar workshop chimney beard nutcracker ornament decorations gifts stocking magi'), np.float64(322.9003462251159)]\n",
      "parents perplexities : [ 705.27919804  436.21053271 1046.4146699   496.22589177  490.44468502\n",
      "  439.63177432  371.65602034  432.81591542  530.2971448   441.35244444\n",
      "  538.6481097   598.5626812   622.40670773  814.94856433  441.35244444\n",
      "  582.41747408  600.90538929  432.81591542  688.94142301  386.46111309\n",
      "  322.90034623  322.90034623  325.43288503  326.70659333  326.70659333\n",
      "  331.85147355  334.45421692  335.76323371  335.76323371  337.07737385\n",
      "  337.07737385  339.72110446  339.72110446  339.72110446  339.72110446\n",
      "  339.72110446  339.72110446  339.72110446  341.05073527  342.38557011]\n"
     ]
    },
    {
     "data": {
      "application/vnd.jupyter.widget-view+json": {
       "model_id": "e62d1e1907f44baebcff4947e62fe02c",
       "version_major": 2,
       "version_minor": 0
      },
      "text/plain": [
       "Loading checkpoint shards:   0%|          | 0/8 [00:00<?, ?it/s]"
      ]
     },
     "metadata": {},
     "output_type": "display_data"
    },
    {
     "name": "stdout",
     "output_type": "stream",
     "text": [
      "best genome : [np.str_('sleigh yuletide carol grinch holiday cheer holly jingle naughty nice ornament decorations gifts stocking magi nutcracker polar beard workshop chimney'), np.float64(319.1384432445317)]\n",
      "parents perplexities : [378.98627852 473.50205375 460.73014369 509.98178021 365.89402782\n",
      " 394.08337556 498.16806499 429.44771524 540.75631879 357.41810179\n",
      " 547.13058316 419.49956963 665.14163304 450.05734141 649.73364371\n",
      " 439.63177432 453.58718489 500.11783967 411.38571347 376.0369839\n",
      " 319.13844324 322.90034623 322.90034623 325.43288503 325.43288503\n",
      " 326.70659333 326.70659333 326.70659333 326.70659333 326.70659333\n",
      " 327.98528678 327.98528678 327.98528678 329.2689849  331.85147355\n",
      " 331.85147355 331.85147355 331.85147355 331.85147355 331.85147355]\n"
     ]
    },
    {
     "data": {
      "application/vnd.jupyter.widget-view+json": {
       "model_id": "2e0616556d014d9a95e8dcd30b87e05c",
       "version_major": 2,
       "version_minor": 0
      },
      "text/plain": [
       "Loading checkpoint shards:   0%|          | 0/8 [00:00<?, ?it/s]"
      ]
     },
     "metadata": {},
     "output_type": "display_data"
    },
    {
     "name": "stdout",
     "output_type": "stream",
     "text": [
      "parents perplexities : [553.57998534 444.81401456 371.65602034 536.54811973 598.5626812\n",
      " 486.6280142  551.42178151 540.75631879 622.40670773 426.10572661\n",
      " 473.50205375 361.63123328 473.50205375 506.01307051 479.08354613\n",
      " 555.74663614 365.89402782 403.42879349 538.6481097  555.74663614\n",
      " 319.13844324 322.90034623 322.90034623 322.90034623 322.90034623\n",
      " 325.43288503 325.43288503 325.43288503 325.43288503 326.70659333\n",
      " 326.70659333 326.70659333 326.70659333 326.70659333 326.70659333\n",
      " 326.70659333 327.98528678 327.98528678 327.98528678 327.98528678]\n"
     ]
    },
    {
     "data": {
      "application/vnd.jupyter.widget-view+json": {
       "model_id": "1f6b6526a4824e80a7ed6669d3217a0c",
       "version_major": 2,
       "version_minor": 0
      },
      "text/plain": [
       "Loading checkpoint shards:   0%|          | 0/8 [00:00<?, ?it/s]"
      ]
     },
     "metadata": {},
     "output_type": "display_data"
    },
    {
     "name": "stdout",
     "output_type": "stream",
     "text": [
      "parents perplexities : [371.65602034 515.99328406 627.28830404 528.22971216 905.59641614\n",
      " 530.2971448  477.21577639 522.07564961 482.84104495 421.14144453\n",
      " 589.28282696 750.7657983  453.58718489 464.343695   814.94856433\n",
      " 395.62577428 551.42178151 457.14471327 446.55496739 365.89402782\n",
      " 319.13844324 321.64147708 322.90034623 322.90034623 322.90034623\n",
      " 322.90034623 325.43288503 325.43288503 325.43288503 325.43288503\n",
      " 326.70659333 326.70659333 326.70659333 326.70659333 326.70659333\n",
      " 326.70659333 326.70659333 326.70659333 326.70659333 327.98528678]\n"
     ]
    },
    {
     "data": {
      "application/vnd.jupyter.widget-view+json": {
       "model_id": "bc25030507ce4ecd9404efd27fe5be03",
       "version_major": 2,
       "version_minor": 0
      },
      "text/plain": [
       "Loading checkpoint shards:   0%|          | 0/8 [00:00<?, ?it/s]"
      ]
     },
     "metadata": {},
     "output_type": "display_data"
    },
    {
     "name": "stdout",
     "output_type": "stream",
     "text": [
      "parents perplexities : [441.35244444 504.0403125  381.95870474 799.18603224 387.97367912\n",
      " 586.98543094 596.22910645 386.46111309 426.10572661 564.49837222\n",
      " 586.98543094 457.14471327 444.81401456 414.61225161 365.89402782\n",
      " 526.17033968 441.35244444 619.98017393 902.06583031 504.0403125\n",
      " 319.13844324 321.64147708 322.90034623 322.90034623 322.90034623\n",
      " 322.90034623 325.43288503 325.43288503 325.43288503 325.43288503\n",
      " 325.43288503 326.70659333 326.70659333 326.70659333 326.70659333\n",
      " 326.70659333 326.70659333 326.70659333 326.70659333 326.70659333]\n"
     ]
    },
    {
     "data": {
      "application/vnd.jupyter.widget-view+json": {
       "model_id": "b00c4fc8951d4982adf7009c8e0888ff",
       "version_major": 2,
       "version_minor": 0
      },
      "text/plain": [
       "Loading checkpoint shards:   0%|          | 0/8 [00:00<?, ?it/s]"
      ]
     },
     "metadata": {},
     "output_type": "display_data"
    },
    {
     "name": "stdout",
     "output_type": "stream",
     "text": [
      "best genome : [np.str_('sleigh yuletide carol cheer holly jingle naughty nice holiday ornament decorations gifts stocking magi nutcracker grinch polar beard workshop chimney'), np.float64(312.9657469853004)]\n",
      "parents perplexities : [532.37266914 612.75718612 498.16806499 401.85597368 507.99354967\n",
      " 713.59280604 381.95870474 365.89402782 432.81591542 513.98161688\n",
      " 363.04661791 441.35244444 542.87277918 444.81401456 432.81591542\n",
      " 584.69699162 756.65412744 466.16108483 432.81591542 847.41242451\n",
      " 312.96574699 319.13844324 321.64147708 322.90034623 322.90034623\n",
      " 322.90034623 322.90034623 325.43288503 325.43288503 325.43288503\n",
      " 325.43288503 325.43288503 325.43288503 326.70659333 326.70659333\n",
      " 326.70659333 326.70659333 326.70659333 326.70659333 326.70659333]\n"
     ]
    },
    {
     "data": {
      "application/vnd.jupyter.widget-view+json": {
       "model_id": "625baf2e5c774da1b1b4caff64494420",
       "version_major": 2,
       "version_minor": 0
      },
      "text/plain": [
       "Loading checkpoint shards:   0%|          | 0/8 [00:00<?, ?it/s]"
      ]
     },
     "metadata": {},
     "output_type": "display_data"
    },
    {
     "name": "stdout",
     "output_type": "stream",
     "text": [
      "parents perplexities : [509.98178021 562.29760163 469.81723153 629.74344104 457.14471327\n",
      " 482.84104495 520.04026954 387.97367912 394.08337556 455.36247493\n",
      " 719.18958379 417.8640958  421.14144453 394.08337556 490.44468502\n",
      " 460.73014369 532.37266914 450.05734141 573.38792808 542.87277918\n",
      " 312.96574699 319.13844324 320.3875158  321.64147708 322.90034623\n",
      " 322.90034623 322.90034623 322.90034623 325.43288503 325.43288503\n",
      " 325.43288503 325.43288503 325.43288503 325.43288503 326.70659333\n",
      " 326.70659333 326.70659333 326.70659333 326.70659333 326.70659333]\n"
     ]
    },
    {
     "data": {
      "application/vnd.jupyter.widget-view+json": {
       "model_id": "1c503de69a434e89a23582b1bd06e0a6",
       "version_major": 2,
       "version_minor": 0
      },
      "text/plain": [
       "Loading checkpoint shards:   0%|          | 0/8 [00:00<?, ?it/s]"
      ]
     },
     "metadata": {},
     "output_type": "display_data"
    },
    {
     "name": "stdout",
     "output_type": "stream",
     "text": [
      "parents perplexities : [458.93392709 486.6280142  691.6378635  437.91781247 486.6280142\n",
      " 634.68258006 486.6280142  384.95444399 694.34485756 431.12852607\n",
      " 824.55492013 547.13058316 377.50875105 439.63177432 627.28830404\n",
      " 603.25726649 759.61558796 397.17420978 446.55496739 353.25405478\n",
      " 312.96574699 319.13844324 320.3875158  320.3875158  321.64147708\n",
      " 322.90034623 322.90034623 322.90034623 322.90034623 325.43288503\n",
      " 325.43288503 325.43288503 325.43288503 325.43288503 325.43288503\n",
      " 326.70659333 326.70659333 326.70659333 326.70659333 326.70659333]\n"
     ]
    },
    {
     "data": {
      "application/vnd.jupyter.widget-view+json": {
       "model_id": "4a4f5c4226ba4e65b8023cb5368b33db",
       "version_major": 2,
       "version_minor": 0
      },
      "text/plain": [
       "Loading checkpoint shards:   0%|          | 0/8 [00:00<?, ?it/s]"
      ]
     },
     "metadata": {},
     "output_type": "display_data"
    },
    {
     "name": "stdout",
     "output_type": "stream",
     "text": [
      "parents perplexities : [659.96545979 448.30273412 562.29760163 532.37266914 436.21053271\n",
      " 448.30273412 417.8640958  494.29129036 964.002367   818.13818283\n",
      " 361.63123328 387.97367912 464.343695   912.69909686 412.99583163\n",
      " 458.93392709 358.81699669 473.50205375 694.34485756 422.78974553\n",
      " 312.96574699 319.13844324 320.3875158  320.3875158  321.64147708\n",
      " 322.90034623 322.90034623 322.90034623 322.90034623 325.43288503\n",
      " 325.43288503 325.43288503 325.43288503 325.43288503 325.43288503\n",
      " 326.70659333 326.70659333 326.70659333 326.70659333 326.70659333]\n"
     ]
    },
    {
     "data": {
      "application/vnd.jupyter.widget-view+json": {
       "model_id": "96841889f1b24ccfb7f1b8bd3e3a1139",
       "version_major": 2,
       "version_minor": 0
      },
      "text/plain": [
       "Loading checkpoint shards:   0%|          | 0/8 [00:00<?, ?it/s]"
      ]
     },
     "metadata": {},
     "output_type": "display_data"
    },
    {
     "name": "stdout",
     "output_type": "stream",
     "text": [
      "parents perplexities : [429.44771524 436.21053271 549.27199172 467.98558773 422.78974553\n",
      " 670.35840353 455.36247493 482.84104495 484.73083137 596.22910645\n",
      " 575.63210498 504.0403125  439.63177432 765.57332685 494.29129036\n",
      " 414.61225161 575.63210498 333.1503035  422.78974553 460.73014369\n",
      " 312.96574699 319.13844324 320.3875158  320.3875158  321.64147708\n",
      " 322.90034623 322.90034623 322.90034623 322.90034623 325.43288503\n",
      " 325.43288503 325.43288503 325.43288503 325.43288503 325.43288503\n",
      " 326.70659333 326.70659333 326.70659333 326.70659333 326.70659333]\n"
     ]
    },
    {
     "data": {
      "application/vnd.jupyter.widget-view+json": {
       "model_id": "1c2ca572a52442998d35a2781fe6fcaa",
       "version_major": 2,
       "version_minor": 0
      },
      "text/plain": [
       "Loading checkpoint shards:   0%|          | 0/8 [00:00<?, ?it/s]"
      ]
     },
     "metadata": {},
     "output_type": "display_data"
    },
    {
     "name": "stdout",
     "output_type": "stream",
     "text": [
      "parents perplexities : [401.85597368 370.20707084 542.87277918 403.42879349 667.74492379\n",
      " 376.0369839  496.22589177 486.6280142  490.44468502 460.73014369\n",
      " 724.8302576  591.58921474 652.27662929 765.57332685 530.2971448\n",
      " 469.81723153 484.73083137 426.10572661 575.63210498 515.99328406\n",
      " 312.96574699 319.13844324 320.3875158  320.3875158  321.64147708\n",
      " 322.90034623 322.90034623 322.90034623 322.90034623 325.43288503\n",
      " 325.43288503 325.43288503 325.43288503 325.43288503 325.43288503\n",
      " 326.70659333 326.70659333 326.70659333 326.70659333 326.70659333]\n"
     ]
    },
    {
     "data": {
      "application/vnd.jupyter.widget-view+json": {
       "model_id": "fbb4f06892e4435c95b9bebe66257046",
       "version_major": 2,
       "version_minor": 0
      },
      "text/plain": [
       "Loading checkpoint shards:   0%|          | 0/8 [00:00<?, ?it/s]"
      ]
     },
     "metadata": {},
     "output_type": "display_data"
    },
    {
     "name": "stdout",
     "output_type": "stream",
     "text": [
      "parents perplexities : [389.49216517 627.28830404 469.81723153 412.99583163 895.04589832\n",
      " 469.81723153 358.81699669 500.11783967 339.72110446 553.57998534\n",
      " 547.13058316 441.35244444 457.14471327 624.8427387  460.73014369\n",
      " 441.35244444 432.81591542 378.98627852 397.17420978 654.82956784\n",
      " 312.96574699 319.13844324 320.3875158  320.3875158  321.64147708\n",
      " 322.90034623 322.90034623 322.90034623 322.90034623 325.43288503\n",
      " 325.43288503 325.43288503 325.43288503 325.43288503 325.43288503\n",
      " 325.43288503 326.70659333 326.70659333 326.70659333 326.70659333]\n"
     ]
    },
    {
     "data": {
      "application/vnd.jupyter.widget-view+json": {
       "model_id": "eedc5757226e4bee87105f9db420092b",
       "version_major": 2,
       "version_minor": 0
      },
      "text/plain": [
       "Loading checkpoint shards:   0%|          | 0/8 [00:00<?, ?it/s]"
      ]
     },
     "metadata": {},
     "output_type": "display_data"
    },
    {
     "name": "stdout",
     "output_type": "stream",
     "text": [
      "parents perplexities : [ 573.38792808  575.63210498  506.01307051  591.58921474 1046.4146699\n",
      "  341.05073527  363.04661791  458.93392709  675.61608965  453.58718489\n",
      "  439.63177432  639.66045724  384.95444399  339.72110446  427.77345727\n",
      "  513.98161688  622.40670773  384.95444399  386.46111309  528.22971216\n",
      "  312.96574699  319.13844324  320.3875158   320.3875158   321.64147708\n",
      "  322.90034623  322.90034623  322.90034623  322.90034623  325.43288503\n",
      "  325.43288503  325.43288503  325.43288503  325.43288503  325.43288503\n",
      "  325.43288503  326.70659333  326.70659333  326.70659333  326.70659333]\n"
     ]
    },
    {
     "data": {
      "application/vnd.jupyter.widget-view+json": {
       "model_id": "acaf3870ad64402a88b2c2114cccd75c",
       "version_major": 2,
       "version_minor": 0
      },
      "text/plain": [
       "Loading checkpoint shards:   0%|          | 0/8 [00:00<?, ?it/s]"
      ]
     },
     "metadata": {},
     "output_type": "display_data"
    },
    {
     "name": "stdout",
     "output_type": "stream",
     "text": [
      "parents perplexities : [400.28928571 566.70775638 365.89402782 426.10572661 475.35528839\n",
      " 363.04661791 549.27199172 532.37266914 538.6481097  488.53262239\n",
      " 479.08354613 509.98178021 573.38792808 498.16806499 553.57998534\n",
      " 457.14471327 528.22971216 591.58921474 436.21053271 547.13058316\n",
      " 312.96574699 319.13844324 320.3875158  320.3875158  321.64147708\n",
      " 322.90034623 322.90034623 322.90034623 322.90034623 325.43288503\n",
      " 325.43288503 325.43288503 325.43288503 325.43288503 325.43288503\n",
      " 325.43288503 326.70659333 326.70659333 326.70659333 326.70659333]\n"
     ]
    },
    {
     "data": {
      "application/vnd.jupyter.widget-view+json": {
       "model_id": "83b442407ad34e2c9297ad234dc23da7",
       "version_major": 2,
       "version_minor": 0
      },
      "text/plain": [
       "Loading checkpoint shards:   0%|          | 0/8 [00:00<?, ?it/s]"
      ]
     },
     "metadata": {},
     "output_type": "display_data"
    },
    {
     "name": "stdout",
     "output_type": "stream",
     "text": [
      "parents perplexities : [384.95444399 831.02198452 507.99354967 498.16806499 426.10572661\n",
      " 455.36247493 591.58921474 771.57779288 589.28282696 378.98627852\n",
      " 373.11064088 513.98161688 389.49216517 498.16806499 837.53977072\n",
      " 513.98161688 432.81591542 612.75718612 509.98178021 494.29129036\n",
      " 312.96574699 319.13844324 320.3875158  320.3875158  321.64147708\n",
      " 322.90034623 322.90034623 322.90034623 322.90034623 325.43288503\n",
      " 325.43288503 325.43288503 325.43288503 325.43288503 325.43288503\n",
      " 325.43288503 326.70659333 326.70659333 326.70659333 326.70659333]\n"
     ]
    },
    {
     "data": {
      "application/vnd.jupyter.widget-view+json": {
       "model_id": "6d6d62ccb69e465c8b20140677f2ed18",
       "version_major": 2,
       "version_minor": 0
      },
      "text/plain": [
       "Loading checkpoint shards:   0%|          | 0/8 [00:00<?, ?it/s]"
      ]
     },
     "metadata": {},
     "output_type": "display_data"
    }
   ],
   "source": [
    "import pandas as pd\n",
    "import numpy as np\n",
    "import pickle\n",
    "import os\n",
    "\n",
    "from algorithm import genetic\n",
    "\n",
    "df_sample = pd.read_csv(\"sample_submission.csv\", index_col = 0)\n",
    "sample = df_sample.text.to_list()[2]\n",
    "\n",
    "optimizr = genetic(sample, initial_times = 10000, cross_size = 100, max_stack = 10, crossover_method = \"mixture\", parent_size = 40, mutation_chances = 2, batch_size = 512)\n",
    "best_genome = optimizr.reputation(rep_times = 200)\n",
    "\n",
    "with open(\"sample2.pkl\", \"wb\") as f :\n",
    "    pickle.dump(best_genome, f)"
   ]
  },
  {
   "cell_type": "markdown",
   "metadata": {},
   "source": [
    "## submission 2"
   ]
  },
  {
   "cell_type": "code",
   "execution_count": null,
   "metadata": {},
   "outputs": [],
   "source": [
    "df_submission = pd.read_csv(\"sample1_genetic.csv\", index_col = 0)\n",
    "df_submission.iloc[2, 1] = 'sleigh yuletide carol cheer holly jingle naughty nice holiday ornament decorations gifts stocking magi nutcracker grinch polar beard workshop chimney'\n",
    "\n",
    "df_submission.to_csv(\"sample2_genetic.csv\")\n",
    "\n",
    "os.system(\"kaggle competitions submit -c santa-2024 -f sample2_genetic.csv -m .\")"
   ]
  },
  {
   "cell_type": "markdown",
   "metadata": {},
   "source": [
    "## Sample 3 optimization"
   ]
  },
  {
   "cell_type": "code",
   "execution_count": 1,
   "metadata": {},
   "outputs": [
    {
     "data": {
      "application/vnd.jupyter.widget-view+json": {
       "model_id": "beb7ba8d480d491b8453c2d1feee8578",
       "version_major": 2,
       "version_minor": 0
      },
      "text/plain": [
       "Loading checkpoint shards:   0%|          | 0/8 [00:00<?, ?it/s]"
      ]
     },
     "metadata": {},
     "output_type": "display_data"
    },
    {
     "name": "stdout",
     "output_type": "stream",
     "text": [
      "parents perplexities : [4011.31741996 2339.78073273 1962.61147384 1872.73695105 2155.50701792\n",
      " 3027.90124473 1181.12038996 2232.63437208 1397.14688934 3148.51911797\n",
      " 2620.4301168  3738.95896479 1589.37120748 2367.36132761 3377.86793167\n",
      " 3223.18409717 1786.97808229 2001.32051667 1786.97808229 3273.94186105\n",
      "  994.60308696 1018.18941946 1088.09909148 1096.63315843 1127.03294941\n",
      " 1158.27545364 1190.38403199 1223.38269292 1223.38269292 1257.29611042\n",
      " 1257.29611042 1262.21702827 1262.21702827 1272.11671911 1307.38109359\n",
      " 1317.63501059 1322.79208821 1322.79208821 1322.79208821 1343.62303254]\n"
     ]
    },
    {
     "data": {
      "application/vnd.jupyter.widget-view+json": {
       "model_id": "5f56a10876dc4f5b93d1b2cd260f7317",
       "version_major": 2,
       "version_minor": 0
      },
      "text/plain": [
       "Loading checkpoint shards:   0%|          | 0/8 [00:00<?, ?it/s]"
      ]
     },
     "metadata": {},
     "output_type": "display_data"
    },
    {
     "name": "stdout",
     "output_type": "stream",
     "text": [
      "best genome : [np.str_('sleigh the holiday of carol grinch yuletide holly polar workshop nutcracker unwrap and relax sing jingle beard cheer gifts decorations naughty nice eat stocking cheer chimney is visit ornament magi'), np.float64(659.9654597903282)]\n",
      "parents perplexities : [2822.31429683 1487.255122   1993.5181074  1498.91980849 2471.30097133\n",
      " 1018.18941946 1435.87722781 1292.14964249 2294.52527673 1083.85699515\n",
      " 1504.78641475 1088.09909148 1322.79208821 1257.29611042 1458.48900396\n",
      " 1646.24135218 2640.98240493 1354.16119859 1614.40016209 1272.11671911\n",
      "  659.96545979  672.98211214  705.27919804  719.18958379  730.51517177\n",
      "  733.37432732  739.12625345  747.83883984  750.7657983   750.7657983\n",
      "  756.65412744  759.61558796  759.61558796  762.58863931  771.57779288\n",
      "  771.57779288  771.57779288  774.59766297  777.62935251  777.62935251]\n"
     ]
    },
    {
     "data": {
      "application/vnd.jupyter.widget-view+json": {
       "model_id": "5b04219f547a401c9e7f9cb05054de8a",
       "version_major": 2,
       "version_minor": 0
      },
      "text/plain": [
       "Loading checkpoint shards:   0%|          | 0/8 [00:00<?, ?it/s]"
      ]
     },
     "metadata": {},
     "output_type": "display_data"
    },
    {
     "name": "stdout",
     "output_type": "stream",
     "text": [
      "best genome : [np.str_('sleigh magi the of carol grinch yuletide holly polar workshop nutcracker unwrap and relax sing cheer jingle beard gifts decorations naughty nice eat stocking ornament visit is chimney cheer holiday'), np.float64(511.9777924614019)]\n",
      "parents perplexities : [1391.69992982 1759.27355503  919.8574846  1213.86225327  912.69909686\n",
      " 1149.26168255  864.12613696 1282.0940542   949.05689557 1026.17517805\n",
      "  938.00004783 1359.46123567 1149.26168255  967.77536558 1577.00262261\n",
      " 2155.50701792 1018.18941946 1419.14875141  605.61834867 3680.99177894\n",
      "  511.97779246  532.37266914  538.6481097   542.87277918  551.42178151\n",
      "  555.74663614  555.74663614  557.92176698  557.92176698  562.29760163\n",
      "  564.49837222  568.92578782  568.92578782  573.38792808  573.38792808\n",
      "  573.38792808  575.63210498  575.63210498  577.88506534  577.88506534]\n"
     ]
    },
    {
     "data": {
      "application/vnd.jupyter.widget-view+json": {
       "model_id": "e88a6f8f11e14da8a1d109e275f2bd8d",
       "version_major": 2,
       "version_minor": 0
      },
      "text/plain": [
       "Loading checkpoint shards:   0%|          | 0/8 [00:00<?, ?it/s]"
      ]
     },
     "metadata": {},
     "output_type": "display_data"
    },
    {
     "name": "stdout",
     "output_type": "stream",
     "text": [
      "best genome : [np.str_('sleigh magi the of carol grinch yuletide holly polar workshop nutcracker unwrap and relax sing cheer jingle beard gifts decorations naughty nice eat chimney stocking ornament visit is holiday cheer'), np.float64(448.3027341176846)]\n",
      "parents perplexities : [ 986.86302433  639.66045724 1516.58860087  864.12613696  864.12613696\n",
      " 1171.92883816 1504.78641475  818.13818283 1620.71874567 1096.63315843\n",
      " 1058.7494749  1343.62303254  808.60658429 1725.24612423 1026.17517805\n",
      "  967.77536558 1058.7494749  1380.86963505 1075.42235309 1118.26230941\n",
      "  448.30273412  451.81881604  453.58718489  455.36247493  457.14471327\n",
      "  457.14471327  458.93392709  460.73014369  462.53339049  462.53339049\n",
      "  464.343695    464.343695    464.343695    464.343695    464.343695\n",
      "  469.81723153  471.65604419  471.65604419  471.65604419  473.50205375]\n"
     ]
    },
    {
     "data": {
      "application/vnd.jupyter.widget-view+json": {
       "model_id": "13cc4846b1794e87915f3b025f2cf509",
       "version_major": 2,
       "version_minor": 0
      },
      "text/plain": [
       "Loading checkpoint shards:   0%|          | 0/8 [00:00<?, ?it/s]"
      ]
     },
     "metadata": {},
     "output_type": "display_data"
    },
    {
     "name": "stdout",
     "output_type": "stream",
     "text": [
      "best genome : [np.str_('sleigh magi the of carol grinch yuletide holly polar workshop nutcracker unwrap and relax sing cheer jingle beard gifts decorations naughty nice is chimney stocking ornament visit eat holiday cheer'), np.float64(414.6122516103204)]\n",
      "parents perplexities : [ 827.78213684  484.73083137 1190.38403199 1731.99854664  783.72837511\n",
      "  750.7657983   683.58003832 1058.7494749   624.8427387   575.63210498\n",
      "  774.59766297  637.16665745  844.10867656  683.58003832  544.99752316\n",
      "  513.98161688  762.58863931  482.84104495  619.98017393 2367.36132761\n",
      "  414.61225161  416.23499808  417.8640958   417.8640958   419.49956963\n",
      "  421.14144453  424.44449781  426.10572661  426.10572661  426.10572661\n",
      "  426.10572661  426.10572661  427.77345727  429.44771524  429.44771524\n",
      "  429.44771524  429.44771524  429.44771524  429.44771524  429.44771524]\n"
     ]
    },
    {
     "data": {
      "application/vnd.jupyter.widget-view+json": {
       "model_id": "a9fb3b678b934ed289c64ab4f3036bd5",
       "version_major": 2,
       "version_minor": 0
      },
      "text/plain": [
       "Loading checkpoint shards:   0%|          | 0/8 [00:00<?, ?it/s]"
      ]
     },
     "metadata": {},
     "output_type": "display_data"
    },
    {
     "name": "stdout",
     "output_type": "stream",
     "text": [
      "best genome : [np.str_('sleigh magi the of carol grinch yuletide holly polar workshop nutcracker unwrap and relax sing cheer jingle beard gifts is naughty nice eat holiday cheer ornament decorations visit chimney stocking'), np.float64(392.54699007778345)]\n",
      "parents perplexities : [ 542.87277918  705.27919804  593.90462946  458.93392709  593.90462946\n",
      "  513.98161688 1218.6131758   522.07564961  750.7657983  2385.92877262\n",
      "  480.95862611  612.75718612  584.69699162  443.07984907  509.98178021\n",
      " 1054.62180187  639.66045724  408.18428445 1272.11671911  460.73014369\n",
      "  392.54699008  394.08337556  394.08337556  398.72870568  398.72870568\n",
      "  398.72870568  398.72870568  398.72870568  398.72870568  398.72870568\n",
      "  398.72870568  398.72870568  401.85597368  401.85597368  401.85597368\n",
      "  403.42879349  403.42879349  403.42879349  403.42879349  403.42879349]\n"
     ]
    },
    {
     "data": {
      "application/vnd.jupyter.widget-view+json": {
       "model_id": "b404c577c9b34f9ca676ba7050da1c08",
       "version_major": 2,
       "version_minor": 0
      },
      "text/plain": [
       "Loading checkpoint shards:   0%|          | 0/8 [00:00<?, ?it/s]"
      ]
     },
     "metadata": {},
     "output_type": "display_data"
    },
    {
     "name": "stdout",
     "output_type": "stream",
     "text": [
      "best genome : [np.str_('sleigh magi the of carol grinch yuletide holly polar workshop nutcracker unwrap and relax eat sing cheer jingle beard is naughty nice holiday cheer decorations ornament gifts visit chimney stocking'), np.float64(378.98627852215554)]\n",
      "parents perplexities : [667.74492379 498.16806499 520.04026954 484.73083137 659.96545979\n",
      " 637.16665745 930.70047355 654.82956784 831.02198452 466.16108483\n",
      " 494.29129036 615.15544994 615.15544994 589.28282696 727.66716302\n",
      " 607.98867187 593.90462946 455.36247493 437.91781247 419.49956963\n",
      " 378.98627852 378.98627852 381.95870474 381.95870474 383.45364885\n",
      " 383.45364885 383.45364885 383.45364885 383.45364885 384.95444399\n",
      " 384.95444399 384.95444399 384.95444399 386.46111309 386.46111309\n",
      " 386.46111309 386.46111309 386.46111309 387.97367912 387.97367912]\n"
     ]
    },
    {
     "data": {
      "application/vnd.jupyter.widget-view+json": {
       "model_id": "c02b95305b5846f998ca1837c811f968",
       "version_major": 2,
       "version_minor": 0
      },
      "text/plain": [
       "Loading checkpoint shards:   0%|          | 0/8 [00:00<?, ?it/s]"
      ]
     },
     "metadata": {},
     "output_type": "display_data"
    },
    {
     "name": "stdout",
     "output_type": "stream",
     "text": [
      "best genome : [np.str_('sleigh magi the of beard grinch yuletide holly polar workshop nutcracker unwrap and relax eat sing cheer jingle carol visit naughty is nice chimney stocking ornament decorations gifts holiday cheer'), np.float64(365.89402781973274)]\n",
      "parents perplexities : [450.05734141 783.72837511 441.35244444 705.27919804 733.37432732\n",
      " 467.98558773 617.5631003  480.95862611 482.84104495 524.11899593\n",
      " 617.5631003  762.58863931 573.38792808 699.79067177 509.98178021\n",
      " 549.27199172 530.2971448  710.81077135 509.98178021 598.5626812\n",
      " 365.89402782 368.76377025 370.20707084 370.20707084 370.20707084\n",
      " 373.11064088 373.11064088 374.57095464 374.57095464 374.57095464\n",
      " 374.57095464 374.57095464 374.57095464 374.57095464 376.0369839\n",
      " 376.0369839  376.0369839  377.50875105 377.50875105 378.98627852]\n"
     ]
    },
    {
     "data": {
      "application/vnd.jupyter.widget-view+json": {
       "model_id": "beeff1e0ecf54b4bb9e68980d23a5745",
       "version_major": 2,
       "version_minor": 0
      },
      "text/plain": [
       "Loading checkpoint shards:   0%|          | 0/8 [00:00<?, ?it/s]"
      ]
     },
     "metadata": {},
     "output_type": "display_data"
    },
    {
     "name": "stdout",
     "output_type": "stream",
     "text": [
      "best genome : [np.str_('sleigh magi the of workshop grinch yuletide holly nutcracker polar unwrap and relax sing carol holiday jingle beard gifts is naughty nice eat cheer cheer decorations ornament visit chimney stocking'), np.float64(341.05073527023916)]\n",
      "parents perplexities : [844.10867656 528.22971216 455.36247493 439.63177432 431.12852607\n",
      " 759.61558796 632.20818718 436.21053271 783.72837511 432.81591542\n",
      " 477.21577639 429.44771524 542.87277918 429.44771524 805.45412597\n",
      " 568.92578782 610.36827225 750.7657983  532.37266914 431.12852607\n",
      " 341.05073527 356.02466067 356.02466067 356.02466067 357.41810179\n",
      " 360.22136671 360.22136671 360.22136671 360.22136671 360.22136671\n",
      " 361.63123328 361.63123328 361.63123328 361.63123328 361.63123328\n",
      " 361.63123328 363.04661791 363.04661791 363.04661791 363.04661791]\n"
     ]
    },
    {
     "data": {
      "application/vnd.jupyter.widget-view+json": {
       "model_id": "7e11093b725c4af189cc8d9600072c33",
       "version_major": 2,
       "version_minor": 0
      },
      "text/plain": [
       "Loading checkpoint shards:   0%|          | 0/8 [00:00<?, ?it/s]"
      ]
     },
     "metadata": {},
     "output_type": "display_data"
    },
    {
     "name": "stdout",
     "output_type": "stream",
     "text": [
      "best genome : [np.str_('sleigh magi the of beard grinch yuletide holly polar unwrap gifts and relax eat cheer jingle sing carol is naughty nice visit workshop chimney stocking ornament nutcracker decorations holiday cheer'), np.float64(329.26898489707213)]\n",
      "parents perplexities : [466.16108483 502.07524555 466.16108483 354.63665206 534.45631685\n",
      " 477.21577639 524.11899593 591.58921474 386.46111309 490.44468502\n",
      " 699.79067177 526.17033968 409.78187257 542.87277918 557.92176698\n",
      " 593.90462946 419.49956963 560.10541103 444.81401456 492.36423124\n",
      " 329.2689849  333.1503035  333.1503035  334.45421692 337.07737385\n",
      " 337.07737385 338.39665739 338.39665739 338.39665739 339.72110446\n",
      " 339.72110446 339.72110446 339.72110446 339.72110446 341.05073527\n",
      " 341.05073527 341.05073527 341.05073527 341.05073527 341.05073527]\n"
     ]
    },
    {
     "data": {
      "application/vnd.jupyter.widget-view+json": {
       "model_id": "5911ba133c8142e59a05c17696802de1",
       "version_major": 2,
       "version_minor": 0
      },
      "text/plain": [
       "Loading checkpoint shards:   0%|          | 0/8 [00:00<?, ?it/s]"
      ]
     },
     "metadata": {},
     "output_type": "display_data"
    },
    {
     "name": "stdout",
     "output_type": "stream",
     "text": [
      "best genome : [np.str_('sleigh magi the of beard grinch yuletide holly polar unwrap gifts and relax eat cheer jingle sing carol is naughty nice visit workshop chimney stocking decorations ornament nutcracker holiday cheer'), np.float64(324.16414244755515)]\n",
      "parents perplexities : [397.17420978 398.72870568 549.27199172 450.05734141 406.59292474\n",
      " 381.95870474 400.28928571 522.07564961 416.23499808 451.81881604\n",
      " 443.07984907 644.67737638 622.40670773 627.28830404 654.82956784\n",
      " 426.10572661 560.10541103 414.61225161 384.95444399 555.74663614\n",
      " 324.16414245 325.43288503 326.70659333 329.2689849  329.2689849\n",
      " 329.2689849  329.2689849  330.55770727 330.55770727 330.55770727\n",
      " 331.85147355 331.85147355 331.85147355 331.85147355 331.85147355\n",
      " 331.85147355 331.85147355 333.1503035  333.1503035  333.1503035 ]\n"
     ]
    },
    {
     "data": {
      "application/vnd.jupyter.widget-view+json": {
       "model_id": "c69c2fda87a24efe9b430e2180a0365f",
       "version_major": 2,
       "version_minor": 0
      },
      "text/plain": [
       "Loading checkpoint shards:   0%|          | 0/8 [00:00<?, ?it/s]"
      ]
     },
     "metadata": {},
     "output_type": "display_data"
    },
    {
     "name": "stdout",
     "output_type": "stream",
     "text": [
      "best genome : [np.str_('sleigh magi the of beard grinch yuletide holly polar unwrap gifts eat cheer and relax sing carol jingle is naughty nice visit workshop chimney stocking decorations ornament nutcracker holiday cheer'), np.float64(309.31958559164264)]\n",
      "parents perplexities : [ 498.16806499  498.16806499  368.76377025  747.83883984  960.24407794\n",
      "  460.73014369  403.42879349  549.27199172  450.05734141  357.41810179\n",
      "  930.70047355  544.99752316 1006.32715342  414.61225161  414.61225161\n",
      "  792.96671719  450.05734141  429.44771524  460.73014369  564.49837222\n",
      "  309.31958559  311.74560917  312.96574699  312.96574699  314.19066029\n",
      "  314.19066029  316.65488818  316.65488818  316.65488818  317.89424037\n",
      "  317.89424037  317.89424037  319.13844324  319.13844324  319.13844324\n",
      "  320.3875158   320.3875158   320.3875158   321.64147708  321.64147708]\n"
     ]
    },
    {
     "data": {
      "application/vnd.jupyter.widget-view+json": {
       "model_id": "71b31a9eddfd47dfafe88cbcfbc86f3d",
       "version_major": 2,
       "version_minor": 0
      },
      "text/plain": [
       "Loading checkpoint shards:   0%|          | 0/8 [00:00<?, ?it/s]"
      ]
     },
     "metadata": {},
     "output_type": "display_data"
    },
    {
     "name": "stdout",
     "output_type": "stream",
     "text": [
      "best genome : [np.str_('sleigh of the magi beard grinch yuletide holly polar unwrap gifts and eat cheer jingle relax sing carol is naughty nice visit workshop chimney stocking decorations ornament nutcracker holiday cheer'), np.float64(305.71590326490076)]\n",
      "parents perplexities : [317.89424037 506.01307051 488.53262239 657.3924983  373.11064088\n",
      " 672.98211214 363.04661791 356.02466067 356.02466067 361.63123328\n",
      " 422.78974553 492.36423124 346.42150286 439.63177432 406.59292474\n",
      " 477.21577639 747.83883984 469.81723153 364.46754219 378.98627852\n",
      " 305.71590326 308.11366281 308.11366281 309.31958559 309.31958559\n",
      " 309.31958559 309.31958559 310.53022822 311.74560917 311.74560917\n",
      " 311.74560917 312.96574699 312.96574699 312.96574699 312.96574699\n",
      " 312.96574699 312.96574699 312.96574699 312.96574699 312.96574699]\n"
     ]
    },
    {
     "data": {
      "application/vnd.jupyter.widget-view+json": {
       "model_id": "bf0395606d214d328c76a1527efc9467",
       "version_major": 2,
       "version_minor": 0
      },
      "text/plain": [
       "Loading checkpoint shards:   0%|          | 0/8 [00:00<?, ?it/s]"
      ]
     },
     "metadata": {},
     "output_type": "display_data"
    },
    {
     "name": "stdout",
     "output_type": "stream",
     "text": [
      "best genome : [np.str_('sleigh of the magi beard is grinch yuletide holly polar unwrap gifts and eat cheer jingle relax sing carol naughty nice visit workshop chimney stocking ornament nutcracker decorations holiday cheer'), np.float64(277.272284523134)]\n",
      "parents perplexities : [367.32609655 346.42150286 482.84104495 398.72870568 451.81881604\n",
      " 471.65604419 412.99583163 412.99583163 573.38792808 432.81591542\n",
      " 374.57095464 373.11064088 371.65602034 437.91781247 436.21053271\n",
      " 353.25405478 453.58718489 477.21577639 417.8640958  343.72562934\n",
      " 277.27228452 287.19351304 294.00411093 295.15481049 295.15481049\n",
      " 299.80282243 300.9762175  302.15420511 303.33680323 305.71590326\n",
      " 305.71590326 306.91244148 308.11366281 308.11366281 308.11366281\n",
      " 308.11366281 308.11366281 308.11366281 308.11366281 308.11366281]\n"
     ]
    },
    {
     "data": {
      "application/vnd.jupyter.widget-view+json": {
       "model_id": "a1f5daed2400483aadb6779ed3ecb093",
       "version_major": 2,
       "version_minor": 0
      },
      "text/plain": [
       "Loading checkpoint shards:   0%|          | 0/8 [00:00<?, ?it/s]"
      ]
     },
     "metadata": {},
     "output_type": "display_data"
    },
    {
     "name": "stdout",
     "output_type": "stream",
     "text": [
      "best genome : [np.str_('sleigh of the magi beard is grinch yuletide holly jingle unwrap gifts and relax eat cheer carol sing naughty nice visit workshop chimney stocking decorations ornament nutcracker polar holiday cheer'), np.float64(271.90935307537654)]\n",
      "parents perplexities : [ 466.16108483  408.18428445  805.45412597  612.75718612  339.72110446\n",
      "  612.75718612  364.46754219  426.10572661  376.0369839   624.8427387\n",
      "  644.67737638  320.3875158   448.30273412  443.07984907 1034.22356973\n",
      "  384.95444399  498.16806499  377.50875105  329.2689849   353.25405478\n",
      "  271.90935308  272.97357619  274.04196456  275.11453449  275.11453449\n",
      "  275.11453449  276.19130233  277.27228452  277.27228452  278.35749756\n",
      "  278.35749756  278.35749756  279.446958    280.54068247  280.54068247\n",
      "  280.54068247  280.54068247  281.63868766  281.63868766  281.63868766]\n"
     ]
    },
    {
     "data": {
      "application/vnd.jupyter.widget-view+json": {
       "model_id": "adc7b20a96ae4494a4daf5316b1f2ad2",
       "version_major": 2,
       "version_minor": 0
      },
      "text/plain": [
       "Loading checkpoint shards:   0%|          | 0/8 [00:00<?, ?it/s]"
      ]
     },
     "metadata": {},
     "output_type": "display_data"
    },
    {
     "name": "stdout",
     "output_type": "stream",
     "text": [
      "best genome : [np.str_('sleigh of the magi beard is grinch yuletide holly unwrap gifts and eat cheer jingle relax sing carol naughty nice visit polar workshop chimney stocking decorations ornament nutcracker holiday cheer'), np.float64(253.44738569742526)]\n",
      "parents perplexities : [ 370.20707084  319.13844324  305.71590326  378.98627852  678.26037626\n",
      "  391.0165944   367.32609655  414.61225161  455.36247493  705.27919804\n",
      " 1109.55992308  486.6280142  1292.14964249  536.54811973  312.96574699\n",
      "  281.63868766  289.44599968  652.27662929  443.07984907  498.16806499\n",
      "  253.4473857   253.4473857   256.43494328  256.43494328  260.47320604\n",
      "  260.47320604  260.47320604  261.49266934  262.51612271  262.51612271\n",
      "  263.54358177  263.54358177  264.57506218  264.57506218  264.57506218\n",
      "  264.57506218  264.57506218  264.57506218  265.6105797   265.6105797 ]\n"
     ]
    },
    {
     "data": {
      "application/vnd.jupyter.widget-view+json": {
       "model_id": "30d15d63e5964d069ab2627289cc02a6",
       "version_major": 2,
       "version_minor": 0
      },
      "text/plain": [
       "Loading checkpoint shards:   0%|          | 0/8 [00:00<?, ?it/s]"
      ]
     },
     "metadata": {},
     "output_type": "display_data"
    },
    {
     "name": "stdout",
     "output_type": "stream",
     "text": [
      "best genome : [np.str_('sleigh of the magi beard is grinch yuletide holly unwrap gifts and eat cheer cheer jingle relax sing carol naughty nice visit polar workshop chimney stocking ornament nutcracker holiday decorations'), np.float64(248.54526950703038)]\n",
      "parents perplexities : [ 464.343695    333.1503035   306.91244148  277.27228452 1633.43020034\n",
      "  654.82956784  560.10541103  419.49956963  511.97779246  306.91244148\n",
      "  462.53339049  486.6280142   351.87684774  448.30273412  808.60658429\n",
      "  724.8302576   342.38557011  511.97779246  317.89424037  492.36423124\n",
      "  248.54526951  253.4473857   253.4473857   254.43935072  254.43935072\n",
      "  254.43935072  255.43519818  255.43519818  255.43519818  255.43519818\n",
      "  256.43494328  256.43494328  256.43494328  257.43860127  257.43860127\n",
      "  258.44618747  258.44618747  258.44618747  258.44618747  258.44618747]\n"
     ]
    },
    {
     "data": {
      "application/vnd.jupyter.widget-view+json": {
       "model_id": "148418ec62d540199bf4d13118d508dc",
       "version_major": 2,
       "version_minor": 0
      },
      "text/plain": [
       "Loading checkpoint shards:   0%|          | 0/8 [00:00<?, ?it/s]"
      ]
     },
     "metadata": {},
     "output_type": "display_data"
    },
    {
     "name": "stdout",
     "output_type": "stream",
     "text": [
      "best genome : [np.str_('sleigh of the magi beard is grinch yuletide holly unwrap gifts and eat cheer cheer jingle relax sing carol naughty nice visit polar workshop holiday decorations ornament nutcracker chimney stocking'), np.float64(247.5762833312724)]\n",
      "parents perplexities : [391.0165944  326.70659333 327.98528678 434.50990901 330.55770727\n",
      " 488.53262239 475.35528839 429.44771524 502.07524555 319.13844324\n",
      " 335.76323371 281.63868766 577.88506534 596.22910645 331.85147355\n",
      " 347.77735829 591.58921474 333.1503035  475.35528839 387.97367912\n",
      " 247.57628333 248.54526951 250.49463422 252.45928798 252.45928798\n",
      " 253.4473857  253.4473857  254.43935072 254.43935072 254.43935072\n",
      " 254.43935072 254.43935072 254.43935072 254.43935072 254.43935072\n",
      " 254.43935072 254.43935072 254.43935072 254.43935072 255.43519818]\n"
     ]
    },
    {
     "data": {
      "application/vnd.jupyter.widget-view+json": {
       "model_id": "24f377f12d8443f5925a45daa06416cf",
       "version_major": 2,
       "version_minor": 0
      },
      "text/plain": [
       "Loading checkpoint shards:   0%|          | 0/8 [00:00<?, ?it/s]"
      ]
     },
     "metadata": {},
     "output_type": "display_data"
    },
    {
     "name": "stdout",
     "output_type": "stream",
     "text": [
      "parents perplexities : [821.34028514 401.85597368 317.89424037 373.11064088 254.43935072\n",
      " 473.50205375 564.49837222 513.98161688 380.46958888 342.38557011\n",
      " 353.25405478 351.87684774 429.44771524 389.49216517 406.59292474\n",
      " 398.72870568 490.44468502 343.72562934 412.99583163 589.28282696\n",
      " 247.57628333 248.54526951 248.54526951 248.54526951 249.51804819\n",
      " 250.49463422 250.49463422 251.47504249 251.47504249 251.47504249\n",
      " 251.47504249 252.45928798 252.45928798 252.45928798 252.45928798\n",
      " 252.45928798 252.45928798 252.45928798 253.4473857  253.4473857 ]\n"
     ]
    },
    {
     "data": {
      "application/vnd.jupyter.widget-view+json": {
       "model_id": "9f2894c6f5134de688b433959cf7f4b1",
       "version_major": 2,
       "version_minor": 0
      },
      "text/plain": [
       "Loading checkpoint shards:   0%|          | 0/8 [00:00<?, ?it/s]"
      ]
     },
     "metadata": {},
     "output_type": "display_data"
    },
    {
     "ename": "KeyboardInterrupt",
     "evalue": "",
     "output_type": "error",
     "traceback": [
      "\u001b[0;31m---------------------------------------------------------------------------\u001b[0m",
      "\u001b[0;31mKeyboardInterrupt\u001b[0m                         Traceback (most recent call last)",
      "Cell \u001b[0;32mIn[1], line 12\u001b[0m\n\u001b[1;32m      9\u001b[0m sample \u001b[38;5;241m=\u001b[39m df_sample\u001b[38;5;241m.\u001b[39mtext\u001b[38;5;241m.\u001b[39mto_list()[\u001b[38;5;241m3\u001b[39m]\n\u001b[1;32m     11\u001b[0m optimizr \u001b[38;5;241m=\u001b[39m genetic(sample, initial_times \u001b[38;5;241m=\u001b[39m \u001b[38;5;241m10000\u001b[39m, cross_size \u001b[38;5;241m=\u001b[39m \u001b[38;5;241m100\u001b[39m, cross_area \u001b[38;5;241m=\u001b[39m [\u001b[38;5;241m7\u001b[39m, \u001b[38;5;241m15\u001b[39m, \u001b[38;5;241m30\u001b[39m], max_stack \u001b[38;5;241m=\u001b[39m \u001b[38;5;241m7\u001b[39m, crossover_method \u001b[38;5;241m=\u001b[39m \u001b[38;5;124m\"\u001b[39m\u001b[38;5;124mmixture\u001b[39m\u001b[38;5;124m\"\u001b[39m, parent_size \u001b[38;5;241m=\u001b[39m \u001b[38;5;241m40\u001b[39m, mutation_chances \u001b[38;5;241m=\u001b[39m \u001b[38;5;241m2\u001b[39m, batch_size \u001b[38;5;241m=\u001b[39m \u001b[38;5;241m512\u001b[39m, dupl \u001b[38;5;241m=\u001b[39m \u001b[38;5;28;01mTrue\u001b[39;00m)\n\u001b[0;32m---> 12\u001b[0m best_genome \u001b[38;5;241m=\u001b[39m \u001b[43moptimizr\u001b[49m\u001b[38;5;241;43m.\u001b[39;49m\u001b[43mreputation\u001b[49m\u001b[43m(\u001b[49m\u001b[43mrep_times\u001b[49m\u001b[43m \u001b[49m\u001b[38;5;241;43m=\u001b[39;49m\u001b[43m \u001b[49m\u001b[38;5;241;43m200\u001b[39;49m\u001b[43m)\u001b[49m\n\u001b[1;32m     14\u001b[0m \u001b[38;5;28;01mwith\u001b[39;00m \u001b[38;5;28mopen\u001b[39m(\u001b[38;5;124m\"\u001b[39m\u001b[38;5;124msample3.pkl\u001b[39m\u001b[38;5;124m\"\u001b[39m, \u001b[38;5;124m\"\u001b[39m\u001b[38;5;124mwb\u001b[39m\u001b[38;5;124m\"\u001b[39m) \u001b[38;5;28;01mas\u001b[39;00m f :\n\u001b[1;32m     15\u001b[0m     pickle\u001b[38;5;241m.\u001b[39mdump(best_genome, f)\n",
      "File \u001b[0;32m~/kag_comp/Santa Metric/algorithm/Genetic.py:205\u001b[0m, in \u001b[0;36mgenetic.reputation\u001b[0;34m(self, rep_times)\u001b[0m\n\u001b[1;32m    202\u001b[0m \u001b[38;5;28mself\u001b[39m\u001b[38;5;241m.\u001b[39mevaluatr\u001b[38;5;241m.\u001b[39mclear_gpu_memory()\n\u001b[1;32m    203\u001b[0m \u001b[38;5;28mself\u001b[39m\u001b[38;5;241m.\u001b[39mevaluatr \u001b[38;5;241m=\u001b[39m PerplexityCalculator(\u001b[38;5;124m\"\u001b[39m\u001b[38;5;124mgoogle/gemma-2-9b\u001b[39m\u001b[38;5;124m\"\u001b[39m, load_in_8bit \u001b[38;5;241m=\u001b[39m \u001b[38;5;28mself\u001b[39m\u001b[38;5;241m.\u001b[39mload_in_8bit)\n\u001b[0;32m--> 205\u001b[0m perplexities \u001b[38;5;241m=\u001b[39m np\u001b[38;5;241m.\u001b[39marray(\u001b[38;5;28;43mself\u001b[39;49m\u001b[38;5;241;43m.\u001b[39;49m\u001b[43mevaluatr\u001b[49m\u001b[38;5;241;43m.\u001b[39;49m\u001b[43mget_perplexity\u001b[49m\u001b[43m(\u001b[49m\u001b[43mgenome_set\u001b[49m\u001b[43m,\u001b[49m\u001b[43m \u001b[49m\u001b[43mbatch_size\u001b[49m\u001b[43m \u001b[49m\u001b[38;5;241;43m=\u001b[39;49m\u001b[43m \u001b[49m\u001b[38;5;28;43mself\u001b[39;49m\u001b[38;5;241;43m.\u001b[39;49m\u001b[43mbatch_size\u001b[49m\u001b[43m)\u001b[49m)\n\u001b[1;32m    207\u001b[0m \u001b[38;5;28;01mif\u001b[39;00m \u001b[38;5;28mself\u001b[39m\u001b[38;5;241m.\u001b[39mcrossover_method \u001b[38;5;241m==\u001b[39m \u001b[38;5;124m\"\u001b[39m\u001b[38;5;124mroulette\u001b[39m\u001b[38;5;124m\"\u001b[39m :\n\u001b[1;32m    208\u001b[0m     per_sum \u001b[38;5;241m=\u001b[39m \u001b[38;5;28msum\u001b[39m(\u001b[38;5;241m1\u001b[39m\u001b[38;5;241m/\u001b[39m(perplexities\u001b[38;5;241m*\u001b[39m\u001b[38;5;241m*\u001b[39m\u001b[38;5;241m2\u001b[39m))\n",
      "File \u001b[0;32m~/kag_comp/Santa Metric/algorithm/kaggle_evaluate.py:259\u001b[0m, in \u001b[0;36mPerplexityCalculator.get_perplexity\u001b[0;34m(self, input_texts, batch_size)\u001b[0m\n\u001b[1;32m    256\u001b[0m         valid_length \u001b[38;5;241m=\u001b[39m (shift_labels \u001b[38;5;241m!=\u001b[39m PAD_TOKEN_LABEL_ID)\u001b[38;5;241m.\u001b[39msum(dim\u001b[38;5;241m=\u001b[39m\u001b[38;5;241m-\u001b[39m\u001b[38;5;241m1\u001b[39m)\n\u001b[1;32m    257\u001b[0m         loss \u001b[38;5;241m=\u001b[39m torch\u001b[38;5;241m.\u001b[39msum(loss, \u001b[38;5;241m-\u001b[39m\u001b[38;5;241m1\u001b[39m) \u001b[38;5;241m/\u001b[39m valid_length\n\u001b[0;32m--> 259\u001b[0m         loss_list \u001b[38;5;241m+\u001b[39m\u001b[38;5;241m=\u001b[39m \u001b[43mloss\u001b[49m\u001b[38;5;241;43m.\u001b[39;49m\u001b[43mcpu\u001b[49m\u001b[43m(\u001b[49m\u001b[43m)\u001b[49m\u001b[38;5;241m.\u001b[39mtolist()\n\u001b[1;32m    262\u001b[0m ppl \u001b[38;5;241m=\u001b[39m [exp(i) \u001b[38;5;28;01mfor\u001b[39;00m i \u001b[38;5;129;01min\u001b[39;00m loss_list]\n\u001b[1;32m    264\u001b[0m \u001b[38;5;28;01mreturn\u001b[39;00m ppl[\u001b[38;5;241m0\u001b[39m] \u001b[38;5;28;01mif\u001b[39;00m single_input \u001b[38;5;28;01melse\u001b[39;00m ppl\n",
      "\u001b[0;31mKeyboardInterrupt\u001b[0m: "
     ]
    }
   ],
   "source": [
    "import pandas as pd\n",
    "import numpy as np\n",
    "import pickle\n",
    "import os\n",
    "\n",
    "from algorithm import genetic\n",
    "\n",
    "df_sample = pd.read_csv(\"sample_submission.csv\", index_col = 0)\n",
    "sample = df_sample.text.to_list()[3]\n",
    "\n",
    "optimizr = genetic(sample, initial_times = 10000, cross_size = 100, cross_area = [7, 15, 30], max_stack = 7, crossover_method = \"mixture\", parent_size = 40, mutation_chances = 2, batch_size = 512, dupl = True)\n",
    "best_genome = optimizr.reputation(rep_times = 200)\n",
    "\n",
    "with open(\"sample3.pkl\", \"wb\") as f :\n",
    "    pickle.dump(best_genome, f)"
   ]
  },
  {
   "cell_type": "markdown",
   "metadata": {},
   "source": [
    "'sleigh of the magi beard is grinch yuletide holly unwrap gifts and eat cheer cheer jingle relax sing carol naughty nice visit polar workshop holiday decorations ornament nutcracker chimney stocking'"
   ]
  },
  {
   "cell_type": "code",
   "execution_count": 8,
   "metadata": {},
   "outputs": [
    {
     "name": "stderr",
     "output_type": "stream",
     "text": [
      "100%|██████████| 1.51k/1.51k [00:00<00:00, 1.58kB/s]\n"
     ]
    },
    {
     "name": "stdout",
     "output_type": "stream",
     "text": [
      "Successfully submitted to Santa 2024 - The Perplexity Permutation Puzzle"
     ]
    },
    {
     "data": {
      "text/plain": [
       "0"
      ]
     },
     "execution_count": 8,
     "metadata": {},
     "output_type": "execute_result"
    }
   ],
   "source": [
    "df_submission = pd.read_csv(\"sample2_genetic.csv\", index_col = 0)\n",
    "df_submission.iloc[3, 1] = str(best_genome[0])\n",
    "\n",
    "df_submission.to_csv(\"sample3_genetic.csv\")\n",
    "\n",
    "os.system(\"kaggle competitions submit -c santa-2024 -f sample3_genetic.csv -m .\")"
   ]
  },
  {
   "cell_type": "code",
   "execution_count": null,
   "metadata": {},
   "outputs": [],
   "source": []
  }
 ],
 "metadata": {
  "kernelspec": {
   "display_name": "trch",
   "language": "python",
   "name": "python3"
  },
  "language_info": {
   "codemirror_mode": {
    "name": "ipython",
    "version": 3
   },
   "file_extension": ".py",
   "mimetype": "text/x-python",
   "name": "python",
   "nbconvert_exporter": "python",
   "pygments_lexer": "ipython3",
   "version": "3.12.2"
  }
 },
 "nbformat": 4,
 "nbformat_minor": 2
}
