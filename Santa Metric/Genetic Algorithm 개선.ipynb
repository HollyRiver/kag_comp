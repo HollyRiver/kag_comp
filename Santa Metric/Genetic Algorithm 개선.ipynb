{
 "cells": [
  {
   "cell_type": "markdown",
   "metadata": {},
   "source": [
    "## 개선방안"
   ]
  },
  {
   "cell_type": "markdown",
   "metadata": {},
   "source": [
    "`-` 상속 구조에 변화\n",
    "\n",
    "* 부모 유전자를 3개로 증가\n",
    "* 각 유전자는 문장구조/동사/이외로 나뉘며 해당 구조 하에서 변이가 발생할 수 있음\n",
    "\n",
    "---\n",
    "\n",
    "* 동사는 1, 동사가 아니면 0으로 설정\n",
    "* 부모 간 교차는 가능한 모든 경우의 수로 설정"
   ]
  },
  {
   "cell_type": "markdown",
   "metadata": {},
   "source": [
    "### Sample 1 test"
   ]
  },
  {
   "cell_type": "code",
   "execution_count": 1,
   "metadata": {},
   "outputs": [],
   "source": [
    "import pandas as pd\n",
    "import numpy as np\n",
    "import os\n",
    "\n",
    "from algorithm.Genetic_neo import genetic_neo"
   ]
  },
  {
   "cell_type": "code",
   "execution_count": 2,
   "metadata": {},
   "outputs": [],
   "source": [
    "## load and shuffle\n",
    "df_sample = pd.read_csv(\"sample_submission.csv\", index_col = 0)\n",
    "sample = df_sample.text.to_list()[1]\n",
    "vrbs = [\"walk\", \"give\", \"jump\", \"drive\", \"bake\", \"sleep\", \"laugh\"] ## verbs in 1st sample"
   ]
  },
  {
   "cell_type": "markdown",
   "metadata": {},
   "source": [
    "원본 유전자가 존속할 기대값이 2개 정도이도록 조정.\n",
    "\n",
    "crossover_mutation에서 변이\n",
    "\n",
    "mutation_chances = 1 -> 1/1/1\n",
    "\n",
    "> 변이 확률 = 50%로 조정 시 전부 변이하지 않는 개체가 12.5%\n",
    "\n",
    "사후 변이 : mutation_chances = 2\n",
    "\n",
    "> 변이 확률 = 50%로 조정 시 전부 변이하지 않는 개체가 25%\n",
    "\n",
    "최소 32개의 cross_size가 확보되어야 변이 집단의 안정적인 다양성 확보 가능\n",
    "\n",
    "\n",
    "$12^3 \\times 64 = 110,592$ 또는 $16^3 \\times 32 = 131,072$로 설정하는 것을 추천함"
   ]
  },
  {
   "cell_type": "markdown",
   "metadata": {},
   "source": [
    "자손 형질 유전 시 구조를 제외하고 PMX로 유전 비율 조정"
   ]
  },
  {
   "cell_type": "markdown",
   "metadata": {},
   "source": [
    "best_genome : [np.str_('reindeer sleep walk the night and drive mistletoe scrooge laugh gingerbread bake chimney elf jump ornament give family advent fireplace'), np.float64(441.35244443864343)]"
   ]
  },
  {
   "cell_type": "code",
   "execution_count": 3,
   "metadata": {},
   "outputs": [
    {
     "data": {
      "application/vnd.jupyter.widget-view+json": {
       "model_id": "4ebf77452bf0425a8f7d5ac164908af3",
       "version_major": 2,
       "version_minor": 0
      },
      "text/plain": [
       "Loading checkpoint shards:   0%|          | 0/8 [00:00<?, ?it/s]"
      ]
     },
     "metadata": {},
     "output_type": "display_data"
    },
    {
     "name": "stdout",
     "output_type": "stream",
     "text": [
      "parents perplexities : [ 5397.81758535 11338.25289822  2693.0711155   2097.36589362\n",
      "  4440.12363163  8360.30342269  6876.99801035  8166.63720249\n",
      "  2017.01706802 15741.60521602  4953.31585006  3027.90124473\n",
      "  1267.15720604  1493.07607396  1522.52436083  1570.85447204]\n"
     ]
    },
    {
     "data": {
      "application/vnd.jupyter.widget-view+json": {
       "model_id": "89be9afdfbbb48bb8bb1f37951347958",
       "version_major": 2,
       "version_minor": 0
      },
      "text/plain": [
       "Loading checkpoint shards:   0%|          | 0/8 [00:00<?, ?it/s]"
      ]
     },
     "metadata": {},
     "output_type": "display_data"
    },
    {
     "name": "stdout",
     "output_type": "stream",
     "text": [
      "best genome : [np.str_('reindeer sleep drive the night scrooge laugh mistletoe jump gingerbread ornament elf bake chimney give and advent walk family fireplace'), np.float64(857.401454011125)]\n",
      "parents perplexities : [3377.86793167 4171.11014006 2376.62691787 2048.78046502 1475.68121081\n",
      " 5525.82314053 2367.36132761 1836.51493951 1800.9935251  1343.62303254\n",
      " 1800.9935251  2155.50701792  857.40145401  979.18319535 1002.40385566\n",
      " 1002.40385566]\n"
     ]
    },
    {
     "data": {
      "application/vnd.jupyter.widget-view+json": {
       "model_id": "fced96260d6040cf9993d4a9ac3907db",
       "version_major": 2,
       "version_minor": 0
      },
      "text/plain": [
       "Loading checkpoint shards:   0%|          | 0/8 [00:00<?, ?it/s]"
      ]
     },
     "metadata": {},
     "output_type": "display_data"
    },
    {
     "name": "stdout",
     "output_type": "stream",
     "text": [
      "best genome : [np.str_('reindeer sleep walk the night drive scrooge laugh mistletoe elf jump chimney bake advent ornament and gingerbread give family fireplace'), np.float64(744.923292506519)]\n",
      "parents perplexities : [4992.16518777 2877.9794585  2017.01706802 1800.9935251  2312.52146152\n",
      " 3124.01714781 2189.45131429 2822.31429683 5150.63352163 3738.95896479\n",
      " 2294.52527673 1646.24135218  744.92329251  762.58863931  840.8178087\n",
      "  844.10867656]\n"
     ]
    },
    {
     "data": {
      "application/vnd.jupyter.widget-view+json": {
       "model_id": "4b82fb130f3544c5a9c55a0e8c8a054b",
       "version_major": 2,
       "version_minor": 0
      },
      "text/plain": [
       "Loading checkpoint shards:   0%|          | 0/8 [00:00<?, ?it/s]"
      ]
     },
     "metadata": {},
     "output_type": "display_data"
    },
    {
     "name": "stdout",
     "output_type": "stream",
     "text": [
      "best genome : [np.str_('reindeer sleep walk the night scrooge drive mistletoe laugh gingerbread and chimney jump elf bake ornament family give advent fireplace'), np.float64(713.5928060449876)]\n",
      "parents perplexities : [1865.43584159 1738.77739729 2442.50944293 2756.93545656 1510.67598225\n",
      " 3173.21325947 7207.03203573 1752.41479743 2589.90118123 1458.48900396\n",
      " 3918.395352   2198.02058445  713.59280604  730.51517177  742.01911182\n",
      "  742.01911182]\n"
     ]
    },
    {
     "data": {
      "application/vnd.jupyter.widget-view+json": {
       "model_id": "3cbcb2a68aab4f4082ed342c84c48b0e",
       "version_major": 2,
       "version_minor": 0
      },
      "text/plain": [
       "Loading checkpoint shards:   0%|          | 0/8 [00:00<?, ?it/s]"
      ]
     },
     "metadata": {},
     "output_type": "display_data"
    },
    {
     "name": "stdout",
     "output_type": "stream",
     "text": [
      "best genome : [np.str_('reindeer sleep drive the night scrooge laugh mistletoe and walk gingerbread bake chimney elf jump ornament family give advent fireplace'), np.float64(649.7336437102142)]\n",
      "parents perplexities : [1954.95997683 3680.99177894 1282.0940542  2600.03776785 2130.39460051\n",
      " 2452.06915459 2889.24355162 3299.61970531 1752.41479743 4405.5703154\n",
      " 1752.41479743 2767.72579685  649.73364371  688.94142301  691.6378635\n",
      "  697.0624465 ]\n"
     ]
    },
    {
     "data": {
      "application/vnd.jupyter.widget-view+json": {
       "model_id": "c57db718251d40379c1aa26c1739265b",
       "version_major": 2,
       "version_minor": 0
      },
      "text/plain": [
       "Loading checkpoint shards:   0%|          | 0/8 [00:00<?, ?it/s]"
      ]
     },
     "metadata": {},
     "output_type": "display_data"
    },
    {
     "name": "stdout",
     "output_type": "stream",
     "text": [
      "best genome : [np.str_('reindeer sleep walk the night and drive mistletoe scrooge laugh gingerbread jump chimney elf bake ornament family give advent fireplace'), np.float64(526.170339675385)]\n",
      "parents perplexities : [2404.64184391 2934.74251711 1109.55992308 1307.38109359 1970.29291796\n",
      " 3223.18409717 1815.11889239 1042.33508572 1375.48613453 1458.48900396\n",
      " 3857.64626283 1464.19736852  526.17033968  622.40670773  642.16401748\n",
      "  649.73364371]\n"
     ]
    },
    {
     "data": {
      "application/vnd.jupyter.widget-view+json": {
       "model_id": "b439c4d527d64db1a8008abdee8f9290",
       "version_major": 2,
       "version_minor": 0
      },
      "text/plain": [
       "Loading checkpoint shards:   0%|          | 0/8 [00:00<?, ?it/s]"
      ]
     },
     "metadata": {},
     "output_type": "display_data"
    },
    {
     "name": "stdout",
     "output_type": "stream",
     "text": [
      "best genome : [np.str_('reindeer sleep walk the night and drive mistletoe scrooge laugh chimney jump gingerbread elf bake ornament give family advent fireplace'), np.float64(507.9935496710831)]\n",
      "parents perplexities : [1386.27420599  837.53977072 1430.27927301 2147.10349245 1026.17517805\n",
      " 3980.10110014 1424.70314257 1546.50063078 1195.04306336 1752.41479743\n",
      "  916.27130013 1464.19736852  507.99354967  524.11899593  526.17033968\n",
      "  530.2971448 ]\n"
     ]
    },
    {
     "data": {
      "application/vnd.jupyter.widget-view+json": {
       "model_id": "5b70da0e513c4616addfd8aaba74ddbd",
       "version_major": 2,
       "version_minor": 0
      },
      "text/plain": [
       "Loading checkpoint shards:   0%|          | 0/8 [00:00<?, ?it/s]"
      ]
     },
     "metadata": {},
     "output_type": "display_data"
    },
    {
     "name": "stdout",
     "output_type": "stream",
     "text": [
      "best genome : [np.str_('reindeer sleep walk the night and drive mistletoe scrooge laugh gingerbread bake chimney elf jump ornament give family advent fireplace'), np.float64(441.35244443864343)]\n",
      "parents perplexities : [1343.62303254 5191.03044101 1458.48900396 3198.10107952 2589.90118123\n",
      " 2285.57977043 2911.90416965  983.01561002 1577.00262261 1218.6131758\n",
      "  739.12625345 1058.7494749   441.35244444  450.05734141  457.14471327\n",
      "  458.93392709]\n"
     ]
    },
    {
     "data": {
      "application/vnd.jupyter.widget-view+json": {
       "model_id": "4d49acc7fa944cf7850d3e7a8bbe4553",
       "version_major": 2,
       "version_minor": 0
      },
      "text/plain": [
       "Loading checkpoint shards:   0%|          | 0/8 [00:00<?, ?it/s]"
      ]
     },
     "metadata": {},
     "output_type": "display_data"
    },
    {
     "name": "stdout",
     "output_type": "stream",
     "text": [
      "parents perplexities : [1026.17517805 1317.63501059 1745.5827796   796.07030117 2276.66913936\n",
      "  697.0624465  1223.38269292  724.8302576  2189.45131429  938.00004783\n",
      " 1034.22356973 1046.4146699   441.35244444  450.05734141  455.36247493\n",
      "  457.14471327]\n"
     ]
    },
    {
     "data": {
      "application/vnd.jupyter.widget-view+json": {
       "model_id": "ddbac1992804420e96540fe7149c05f4",
       "version_major": 2,
       "version_minor": 0
      },
      "text/plain": [
       "Loading checkpoint shards:   0%|          | 0/8 [00:00<?, ?it/s]"
      ]
     },
     "metadata": {},
     "output_type": "display_data"
    },
    {
     "name": "stdout",
     "output_type": "stream",
     "text": [
      "parents perplexities : [1510.67598225 1228.1708774  1292.14964249 1122.63906434 2206.62339378\n",
      " 1780.01131499 1014.21987511  971.56313127  986.86302433  789.87523294\n",
      " 1042.33508572 1464.19736852  441.35244444  441.35244444  450.05734141\n",
      "  455.36247493]\n"
     ]
    },
    {
     "data": {
      "application/vnd.jupyter.widget-view+json": {
       "model_id": "bb075a52db5c4707b5fea21b6e25c265",
       "version_major": 2,
       "version_minor": 0
      },
      "text/plain": [
       "Loading checkpoint shards:   0%|          | 0/8 [00:00<?, ?it/s]"
      ]
     },
     "metadata": {},
     "output_type": "display_data"
    },
    {
     "name": "stdout",
     "output_type": "stream",
     "text": [
      "parents perplexities : [1725.24612423  990.725497    675.61608965 1540.4713962  1487.255122\n",
      " 2017.01706802 1185.74316446 1218.6131758  1685.28084081  986.86302433\n",
      " 1408.1048482  1149.26168255  441.35244444  441.35244444  450.05734141\n",
      "  455.36247493]\n"
     ]
    },
    {
     "data": {
      "application/vnd.jupyter.widget-view+json": {
       "model_id": "6ba0839616344dc488f39bf1eb3189ea",
       "version_major": 2,
       "version_minor": 0
      },
      "text/plain": [
       "Loading checkpoint shards:   0%|          | 0/8 [00:00<?, ?it/s]"
      ]
     },
     "metadata": {},
     "output_type": "display_data"
    },
    {
     "name": "stdout",
     "output_type": "stream",
     "text": [
      "parents perplexities : [ 934.34313221 1204.41590227 2215.25987355  654.82956784 2589.90118123\n",
      " 2241.37265594 2321.57241461 2724.81618561 1026.17517805 1800.9935251\n",
      " 1118.26230941  654.82956784  441.35244444  450.05734141  455.36247493\n",
      "  455.36247493]\n"
     ]
    },
    {
     "data": {
      "application/vnd.jupyter.widget-view+json": {
       "model_id": "1271edf27e2b4b73a7e66d54e1a62658",
       "version_major": 2,
       "version_minor": 0
      },
      "text/plain": [
       "Loading checkpoint shards:   0%|          | 0/8 [00:00<?, ?it/s]"
      ]
     },
     "metadata": {},
     "output_type": "display_data"
    },
    {
     "name": "stdout",
     "output_type": "stream",
     "text": [
      "parents perplexities : [2130.39460051 1752.41479743 2866.75927992 2017.01706802 1312.49803852\n",
      " 1510.67598225  808.60658429 1902.22826681 1678.71055347 1829.3550463\n",
      "  998.49585338  805.45412597  441.35244444  443.07984907  450.05734141\n",
      "  455.36247493]\n"
     ]
    },
    {
     "data": {
      "application/vnd.jupyter.widget-view+json": {
       "model_id": "4b8ea5019a4543c7b0d5dfbd359c302b",
       "version_major": 2,
       "version_minor": 0
      },
      "text/plain": [
       "Loading checkpoint shards:   0%|          | 0/8 [00:00<?, ?it/s]"
      ]
     },
     "metadata": {},
     "output_type": "display_data"
    },
    {
     "name": "stdout",
     "output_type": "stream",
     "text": [
      "parents perplexities : [3124.01714781 1808.04241446 1843.70285575 1880.06663623 2072.93084082\n",
      " 1424.70314257 1046.4146699  2285.57977043 1909.67337774 1800.9935251\n",
      " 1627.06205949 2889.24355162  441.35244444  443.07984907  450.05734141\n",
      "  455.36247493]\n"
     ]
    },
    {
     "data": {
      "application/vnd.jupyter.widget-view+json": {
       "model_id": "6a42fcee087644e1aa548a7acb8c77c8",
       "version_major": 2,
       "version_minor": 0
      },
      "text/plain": [
       "Loading checkpoint shards:   0%|          | 0/8 [00:00<?, ?it/s]"
      ]
     },
     "metadata": {},
     "output_type": "display_data"
    },
    {
     "name": "stdout",
     "output_type": "stream",
     "text": [
      "parents perplexities : [2267.79324755 2001.32051667 1267.15720604 1364.78201651 2130.39460051\n",
      " 2232.63437208 1546.50063078 1659.15298313 2312.52146152 1247.51175447\n",
      " 1317.63501059 1595.5918305   441.35244444  443.07984907  450.05734141\n",
      "  455.36247493]\n"
     ]
    },
    {
     "data": {
      "application/vnd.jupyter.widget-view+json": {
       "model_id": "eaef47d8e1af40a79a7545472dfb4157",
       "version_major": 2,
       "version_minor": 0
      },
      "text/plain": [
       "Loading checkpoint shards:   0%|          | 0/8 [00:00<?, ?it/s]"
      ]
     },
     "metadata": {},
     "output_type": "display_data"
    },
    {
     "name": "stdout",
     "output_type": "stream",
     "text": [
      "parents perplexities : [1140.31805718 1292.14964249 2911.90416965 7150.94646747 2844.44998221\n",
      " 2163.94343385 1118.26230941 2097.36589362 2056.79916504 1691.87684352\n",
      " 1493.07607396 1766.15915704  441.35244444  443.07984907  450.05734141\n",
      "  455.36247493]\n"
     ]
    },
    {
     "data": {
      "application/vnd.jupyter.widget-view+json": {
       "model_id": "1caa81daf46f46bd8f8f2025119f7b8d",
       "version_major": 2,
       "version_minor": 0
      },
      "text/plain": [
       "Loading checkpoint shards:   0%|          | 0/8 [00:00<?, ?it/s]"
      ]
     },
     "metadata": {},
     "output_type": "display_data"
    },
    {
     "name": "stdout",
     "output_type": "stream",
     "text": [
      "parents perplexities : [2330.65879213 1131.44403165 4440.12363163 2549.74848512 4800.91834274\n",
      "  934.34313221 3248.46384335 1718.52002702 1181.12038996 2376.62691787\n",
      "  457.14471327 1829.3550463   441.35244444  443.07984907  450.05734141\n",
      "  455.36247493]\n"
     ]
    },
    {
     "data": {
      "application/vnd.jupyter.widget-view+json": {
       "model_id": "ee69b3f56c514024a6d9b6cc3333eea9",
       "version_major": 2,
       "version_minor": 0
      },
      "text/plain": [
       "Loading checkpoint shards:   0%|          | 0/8 [00:00<?, ?it/s]"
      ]
     },
     "metadata": {},
     "output_type": "display_data"
    },
    {
     "data": {
      "text/plain": [
       "[np.str_('reindeer sleep walk the night and drive mistletoe scrooge laugh gingerbread bake chimney elf jump ornament give family advent fireplace'),\n",
       " np.float64(441.35244443864343)]"
      ]
     },
     "execution_count": 3,
     "metadata": {},
     "output_type": "execute_result"
    }
   ],
   "source": [
    "optimizr = genetic_neo(sample, vrbs, initial_times = 10000, max_stack = 10,\n",
    "                       cross_size = 32, crossover_method = \"mixture\",\n",
    "                       parents_size = 16, elite_size = 4, batch_size = 512\n",
    "                       )\n",
    "\n",
    "optimizr.reputation(rep_times = 100)\n"
   ]
  },
  {
   "cell_type": "code",
   "execution_count": 4,
   "metadata": {},
   "outputs": [
    {
     "name": "stderr",
     "output_type": "stream",
     "text": [
      "100%|██████████| 1.50k/1.50k [00:00<00:00, 1.66kB/s]\n"
     ]
    },
    {
     "name": "stdout",
     "output_type": "stream",
     "text": [
      "Successfully submitted to Santa 2024 - The Perplexity Permutation Puzzle"
     ]
    },
    {
     "data": {
      "text/plain": [
       "0"
      ]
     },
     "execution_count": 4,
     "metadata": {},
     "output_type": "execute_result"
    }
   ],
   "source": [
    "import os\n",
    "\n",
    "df_submission = pd.read_csv(\"sample5_genetic.csv\", index_col = 0)\n",
    "df_submission.iloc[1, 1] = 'reindeer sleep walk the night and drive mistletoe scrooge laugh gingerbread bake chimney elf jump ornament give family advent fireplace'\n",
    "df_submission.to_csv(\"sample1_genetic_neo.csv\")\n",
    "\n",
    "os.system(\"kaggle competitions submit -c santa-2024 -f sample1_genetic_neo.csv -m .\")"
   ]
  },
  {
   "cell_type": "markdown",
   "metadata": {},
   "source": [
    "### Sample 2 test"
   ]
  },
  {
   "cell_type": "code",
   "execution_count": 1,
   "metadata": {},
   "outputs": [],
   "source": [
    "import pandas as pd\n",
    "import numpy as np\n",
    "import os\n",
    "\n",
    "from algorithm.Genetic_neo import genetic_neo\n",
    "\n",
    "## load and shuffle\n",
    "df_sample = pd.read_csv(\"sample_submission.csv\", index_col = 0)\n",
    "sample = df_sample.text.to_list()[2]\n",
    "vrbs = [\"jingle\", \"cheer\", \"sleigh\"]    ## sleigh는 애매하긴 함"
   ]
  },
  {
   "cell_type": "code",
   "execution_count": 2,
   "metadata": {},
   "outputs": [
    {
     "data": {
      "application/vnd.jupyter.widget-view+json": {
       "model_id": "cd33522e5c294c4c869a9db38aa78969",
       "version_major": 2,
       "version_minor": 0
      },
      "text/plain": [
       "Loading checkpoint shards:   0%|          | 0/8 [00:00<?, ?it/s]"
      ]
     },
     "metadata": {},
     "output_type": "display_data"
    },
    {
     "name": "stdout",
     "output_type": "stream",
     "text": [
      "parents perplexities : [1113.90261783 1570.85447204 2339.78073273 1601.83680035 1822.22306687\n",
      " 1780.01131499 2001.32051667 1297.2069732  2312.52146152 2009.1534637\n",
      " 1872.73695105 5150.63352163  934.34313221 1022.17450018 1071.22967867\n",
      " 1092.35779092]\n"
     ]
    },
    {
     "data": {
      "application/vnd.jupyter.widget-view+json": {
       "model_id": "731d2b0f356340e0b0b85723ba60a9e9",
       "version_major": 2,
       "version_minor": 0
      },
      "text/plain": [
       "Loading checkpoint shards:   0%|          | 0/8 [00:00<?, ?it/s]"
      ]
     },
     "metadata": {},
     "output_type": "display_data"
    },
    {
     "name": "stdout",
     "output_type": "stream",
     "text": [
      "best genome : [np.str_('sleigh magi carol cheer yuletide ornament holly jingle nutcracker stocking holiday decorations polar beard chimney workshop gifts grinch naughty nice'), np.float64(639.6604572352473)]\n",
      "parents perplexities : [2267.79324755 4371.2858952  1022.17450018 3539.97519839 1815.11889239\n",
      " 1343.62303254 1487.255122   2395.26703381 4042.77857241 1105.23415889\n",
      " 3887.90215745 1171.92883816  639.66045724  659.96545979  667.74492379\n",
      "  680.91501232]\n"
     ]
    },
    {
     "data": {
      "application/vnd.jupyter.widget-view+json": {
       "model_id": "97db44fe3d9e46e6a544d1c460ce9c38",
       "version_major": 2,
       "version_minor": 0
      },
      "text/plain": [
       "Loading checkpoint shards:   0%|          | 0/8 [00:00<?, ?it/s]"
      ]
     },
     "metadata": {},
     "output_type": "display_data"
    },
    {
     "name": "stdout",
     "output_type": "stream",
     "text": [
      "best genome : [np.str_('sleigh magi carol yuletide gifts cheer holly jingle stocking holiday decorations ornament polar beard chimney workshop nutcracker grinch naughty nice'), np.float64(500.11783967291126)]\n",
      "parents perplexities : [2097.36589362  837.53977072  912.69909686 2241.37265594  768.56969614\n",
      " 1745.5827796  1773.07170853 1100.92525926  705.27919804 2180.91545255\n",
      " 1589.37120748 2672.11346981  500.11783967  513.98161688  520.04026954\n",
      "  522.07564961]\n"
     ]
    },
    {
     "data": {
      "application/vnd.jupyter.widget-view+json": {
       "model_id": "69a33b44aef2489eb7274fd51daf7ca4",
       "version_major": 2,
       "version_minor": 0
      },
      "text/plain": [
       "Loading checkpoint shards:   0%|          | 0/8 [00:00<?, ?it/s]"
      ]
     },
     "metadata": {},
     "output_type": "display_data"
    },
    {
     "name": "stdout",
     "output_type": "stream",
     "text": [
      "best genome : [np.str_('sleigh magi carol grinch holly jingle yuletide cheer gifts holiday decorations ornament polar beard workshop naughty nice nutcracker stocking chimney'), np.float64(446.5549673918236)]\n",
      "parents perplexities : [ 975.36572185  905.59641614  680.91501232  742.01911182  739.12625345\n",
      " 1698.49866226  854.05876253 1046.4146699  2215.25987355 1195.04306336\n",
      " 1370.12362229  905.59641614  446.55496739  450.05734141  453.58718489\n",
      "  453.58718489]\n"
     ]
    },
    {
     "data": {
      "application/vnd.jupyter.widget-view+json": {
       "model_id": "11f7e251ff7942269d61980f527cfafb",
       "version_major": 2,
       "version_minor": 0
      },
      "text/plain": [
       "Loading checkpoint shards:   0%|          | 0/8 [00:00<?, ?it/s]"
      ]
     },
     "metadata": {},
     "output_type": "display_data"
    },
    {
     "name": "stdout",
     "output_type": "stream",
     "text": [
      "best genome : [np.str_('jingle yuletide carol cheer grinch holly magi gifts holiday decorations ornament sleigh polar beard workshop naughty nice nutcracker chimney stocking'), np.float64(406.59292473597867)]\n",
      "parents perplexities : [ 867.50823103  736.24467328  808.60658429 2064.84924936 1954.95997683\n",
      "  675.61608965  678.26037626 1213.86225327  952.77139924 1343.62303254\n",
      "  837.53977072  719.18958379  406.59292474  411.38571347  412.99583163\n",
      "  412.99583163]\n"
     ]
    },
    {
     "data": {
      "application/vnd.jupyter.widget-view+json": {
       "model_id": "ef685381f8af436bb489d4dc5fc4b002",
       "version_major": 2,
       "version_minor": 0
      },
      "text/plain": [
       "Loading checkpoint shards:   0%|          | 0/8 [00:00<?, ?it/s]"
      ]
     },
     "metadata": {},
     "output_type": "display_data"
    },
    {
     "name": "stdout",
     "output_type": "stream",
     "text": [
      "best genome : [np.str_('jingle magi carol grinch holly yuletide gifts holiday cheer decorations ornament sleigh polar beard workshop naughty nice nutcracker chimney stocking'), np.float64(403.4287934927351)]\n",
      "parents perplexities : [1067.05334994  821.34028514  808.60658429  506.01307051  923.457705\n",
      "  870.90356225  884.61829776  566.70775638  708.03958277  683.58003832\n",
      "  967.77536558 1075.42235309  403.42879349  406.59292474  409.78187257\n",
      "  409.78187257]\n"
     ]
    },
    {
     "data": {
      "application/vnd.jupyter.widget-view+json": {
       "model_id": "3d0de25108b34c3596c12d3f8756183f",
       "version_major": 2,
       "version_minor": 0
      },
      "text/plain": [
       "Loading checkpoint shards:   0%|          | 0/8 [00:00<?, ?it/s]"
      ]
     },
     "metadata": {},
     "output_type": "display_data"
    },
    {
     "name": "stdout",
     "output_type": "stream",
     "text": [
      "best genome : [np.str_('jingle yuletide carol cheer holly sleigh workshop polar beard gifts chimney naughty nice grinch holiday decorations ornament stocking magi nutcracker'), np.float64(365.89402781973274)]\n",
      "parents perplexities : [2130.39460051  691.6378635   596.22910645  573.38792808  742.01911182\n",
      "  612.75718612  983.01561002 1058.7494749  1589.37120748 1014.21987511\n",
      " 1006.32715342  526.17033968  365.89402782  381.95870474  384.95444399\n",
      "  397.17420978]\n"
     ]
    },
    {
     "data": {
      "application/vnd.jupyter.widget-view+json": {
       "model_id": "33b72d1c325e408bbc37e1d6ca81a380",
       "version_major": 2,
       "version_minor": 0
      },
      "text/plain": [
       "Loading checkpoint shards:   0%|          | 0/8 [00:00<?, ?it/s]"
      ]
     },
     "metadata": {},
     "output_type": "display_data"
    },
    {
     "name": "stdout",
     "output_type": "stream",
     "text": [
      "best genome : [np.str_('jingle yuletide carol cheer holly sleigh workshop polar beard gifts chimney naughty nice nutcracker grinch holiday decorations ornament stocking magi'), np.float64(358.8169966923127)]\n",
      "parents perplexities : [ 615.15544994  739.12625345 1022.17450018  905.59641614 1583.17483636\n",
      " 1030.19151414 1127.03294941 1228.1708774   667.74492379 1570.85447204\n",
      "  742.01911182  622.40670773  358.81699669  365.89402782  365.89402782\n",
      "  368.76377025]\n"
     ]
    },
    {
     "data": {
      "application/vnd.jupyter.widget-view+json": {
       "model_id": "5433b1aaae974d6a9d879cd0923f8e22",
       "version_major": 2,
       "version_minor": 0
      },
      "text/plain": [
       "Loading checkpoint shards:   0%|          | 0/8 [00:00<?, ?it/s]"
      ]
     },
     "metadata": {},
     "output_type": "display_data"
    },
    {
     "name": "stdout",
     "output_type": "stream",
     "text": [
      "best genome : [np.str_('jingle yuletide carol cheer holly sleigh workshop polar beard chimney gifts naughty nice nutcracker grinch holiday decorations ornament stocking magi'), np.float64(353.25405478056325)]\n",
      "parents perplexities : [ 945.35687339 1447.13895249 1199.72032966  909.1408203   498.16806499\n",
      " 1534.46566739 1014.21987511 1135.87237839 2934.74251711 1022.17450018\n",
      "  975.36572185 1589.37120748  353.25405478  356.02466067  356.02466067\n",
      "  357.41810179]\n"
     ]
    },
    {
     "data": {
      "application/vnd.jupyter.widget-view+json": {
       "model_id": "f8b5f55dd76646b292cbf5f32af2eceb",
       "version_major": 2,
       "version_minor": 0
      },
      "text/plain": [
       "Loading checkpoint shards:   0%|          | 0/8 [00:00<?, ?it/s]"
      ]
     },
     "metadata": {},
     "output_type": "display_data"
    },
    {
     "name": "stdout",
     "output_type": "stream",
     "text": [
      "best genome : [np.str_('jingle yuletide carol cheer holly sleigh workshop polar beard chimney gifts naughty nice grinch holiday decorations nutcracker ornament stocking magi'), np.float64(347.77735828917787)]\n",
      "parents perplexities : [ 639.66045724 1633.43020034 1583.17483636  923.457705   1773.07170853\n",
      " 1277.09564318 3457.97176125  708.03958277  603.25726649 1504.78641475\n",
      " 1464.19736852  975.36572185  347.77735829  349.13852038  350.50500992\n",
      "  353.25405478]\n"
     ]
    },
    {
     "data": {
      "application/vnd.jupyter.widget-view+json": {
       "model_id": "3af880c521484c7d858be6206d6516c5",
       "version_major": 2,
       "version_minor": 0
      },
      "text/plain": [
       "Loading checkpoint shards:   0%|          | 0/8 [00:00<?, ?it/s]"
      ]
     },
     "metadata": {},
     "output_type": "display_data"
    },
    {
     "name": "stdout",
     "output_type": "stream",
     "text": [
      "best genome : [np.str_('jingle yuletide carol holly cheer sleigh workshop polar beard chimney gifts naughty nice grinch holiday decorations nutcracker ornament stocking magi'), np.float64(343.72562933929424)]\n",
      "parents perplexities : [ 577.88506534 1096.63315843  603.25726649  389.49216517 1312.49803852\n",
      "  494.29129036  564.49837222  688.94142301  923.457705    403.42879349\n",
      "  902.06583031  857.40145401  343.72562934  347.77735829  347.77735829\n",
      "  347.77735829]\n"
     ]
    },
    {
     "data": {
      "application/vnd.jupyter.widget-view+json": {
       "model_id": "09cbab0d8029432f9b681d2a309ffd82",
       "version_major": 2,
       "version_minor": 0
      },
      "text/plain": [
       "Loading checkpoint shards:   0%|          | 0/8 [00:00<?, ?it/s]"
      ]
     },
     "metadata": {},
     "output_type": "display_data"
    },
    {
     "name": "stdout",
     "output_type": "stream",
     "text": [
      "parents perplexities : [ 504.0403125   639.66045724  759.61558796  642.16401748  477.21577639\n",
      "  716.38572932 1113.90261783 1267.15720604  864.12613696 1162.80881559\n",
      "  870.90356225  975.36572185  343.72562934  343.72562934  346.42150286\n",
      "  347.77735829]\n"
     ]
    },
    {
     "data": {
      "application/vnd.jupyter.widget-view+json": {
       "model_id": "10a6138a4eff40d88ec34d1e612d9b44",
       "version_major": 2,
       "version_minor": 0
      },
      "text/plain": [
       "Loading checkpoint shards:   0%|          | 0/8 [00:00<?, ?it/s]"
      ]
     },
     "metadata": {},
     "output_type": "display_data"
    },
    {
     "name": "stdout",
     "output_type": "stream",
     "text": [
      "best genome : [np.str_('jingle yuletide carol cheer holly sleigh workshop grinch polar beard chimney naughty nice nutcracker ornament decorations holiday gifts stocking magi'), np.float64(342.38557010684895)]\n",
      "parents perplexities : [ 619.98017393  460.73014369 1113.90261783 1247.51175447  934.34313221\n",
      "  670.35840353  458.93392709  488.53262239  765.57332685  811.77138098\n",
      "  642.16401748  814.94856433  342.38557011  343.72562934  343.72562934\n",
      "  343.72562934]\n"
     ]
    },
    {
     "data": {
      "application/vnd.jupyter.widget-view+json": {
       "model_id": "bf05a9fcff2a4435bd145fd0c5bd21a2",
       "version_major": 2,
       "version_minor": 0
      },
      "text/plain": [
       "Loading checkpoint shards:   0%|          | 0/8 [00:00<?, ?it/s]"
      ]
     },
     "metadata": {},
     "output_type": "display_data"
    },
    {
     "name": "stdout",
     "output_type": "stream",
     "text": [
      "parents perplexities : [ 860.75722842  821.34028514  627.28830404  759.61558796  634.68258006\n",
      "  783.72837511  680.91501232  540.75631879  553.57998534  624.8427387\n",
      " 1522.52436083  780.67290774  342.38557011  342.38557011  342.38557011\n",
      "  343.72562934]\n"
     ]
    },
    {
     "data": {
      "application/vnd.jupyter.widget-view+json": {
       "model_id": "6fe87b66a5ad4c49ad38dd125a79a045",
       "version_major": 2,
       "version_minor": 0
      },
      "text/plain": [
       "Loading checkpoint shards:   0%|          | 0/8 [00:00<?, ?it/s]"
      ]
     },
     "metadata": {},
     "output_type": "display_data"
    },
    {
     "name": "stdout",
     "output_type": "stream",
     "text": [
      "parents perplexities : [1380.86963505  736.24467328  571.1525004   702.52957502 1343.62303254\n",
      "  667.74492379  575.63210498  799.18603224 1092.35779092  357.41810179\n",
      "  713.59280604 1232.9778023   342.38557011  342.38557011  342.38557011\n",
      "  342.38557011]\n"
     ]
    },
    {
     "data": {
      "application/vnd.jupyter.widget-view+json": {
       "model_id": "96003e55229e4f02b945997a7cd9b08a",
       "version_major": 2,
       "version_minor": 0
      },
      "text/plain": [
       "Loading checkpoint shards:   0%|          | 0/8 [00:00<?, ?it/s]"
      ]
     },
     "metadata": {},
     "output_type": "display_data"
    },
    {
     "name": "stdout",
     "output_type": "stream",
     "text": [
      "best genome : [np.str_('jingle yuletide carol holly cheer sleigh workshop grinch chimney naughty nice polar beard nutcracker holiday ornament decorations gifts stocking magi'), np.float64(331.8514735526883)]\n",
      "parents perplexities : [ 796.07030117  615.15544994  627.28830404 1312.49803852 1570.85447204\n",
      "  739.12625345  916.27130013  702.52957502  540.75631879  891.55644506\n",
      "  967.77536558  343.72562934  331.85147355  337.07737385  341.05073527\n",
      "  342.38557011]\n"
     ]
    },
    {
     "data": {
      "application/vnd.jupyter.widget-view+json": {
       "model_id": "b0965f9c0bf34c299f6b602841f60e88",
       "version_major": 2,
       "version_minor": 0
      },
      "text/plain": [
       "Loading checkpoint shards:   0%|          | 0/8 [00:00<?, ?it/s]"
      ]
     },
     "metadata": {},
     "output_type": "display_data"
    },
    {
     "name": "stdout",
     "output_type": "stream",
     "text": [
      "best genome : [np.str_('jingle yuletide carol cheer holly sleigh workshop grinch chimney naughty nice polar beard nutcracker holiday ornament decorations gifts stocking magi'), np.float64(329.26898489707213)]\n",
      "parents perplexities : [ 705.27919804  680.91501232  705.27919804  683.58003832 1014.21987511\n",
      "  722.00441223 1247.51175447  573.38792808 1262.21702827 1199.72032966\n",
      " 1218.6131758  1540.4713962   329.2689849   331.85147355  331.85147355\n",
      "  334.45421692]\n"
     ]
    },
    {
     "data": {
      "application/vnd.jupyter.widget-view+json": {
       "model_id": "6d6611be0bfb466994771a9d59cc414b",
       "version_major": 2,
       "version_minor": 0
      },
      "text/plain": [
       "Loading checkpoint shards:   0%|          | 0/8 [00:00<?, ?it/s]"
      ]
     },
     "metadata": {},
     "output_type": "display_data"
    },
    {
     "name": "stdout",
     "output_type": "stream",
     "text": [
      "best genome : [np.str_('jingle yuletide carol cheer holly sleigh workshop grinch chimney naughty nice polar beard nutcracker ornament decorations holiday gifts stocking magi'), np.float64(325.4328850285552)]\n",
      "parents perplexities : [ 528.22971216  467.98558773  680.91501232  691.6378635   818.13818283\n",
      " 1659.15298313  564.49837222 1058.7494749   702.52957502 2385.92877262\n",
      " 2756.93545656  600.90538929  325.43288503  329.2689849   331.85147355\n",
      "  331.85147355]\n"
     ]
    },
    {
     "data": {
      "application/vnd.jupyter.widget-view+json": {
       "model_id": "c1ab69ac594f467482847ad3dee7754a",
       "version_major": 2,
       "version_minor": 0
      },
      "text/plain": [
       "Loading checkpoint shards:   0%|          | 0/8 [00:00<?, ?it/s]"
      ]
     },
     "metadata": {},
     "output_type": "display_data"
    },
    {
     "name": "stdout",
     "output_type": "stream",
     "text": [
      "parents perplexities : [1302.28409775 1100.92525926  874.31218242  652.27662929  496.22589177\n",
      "  759.61558796  802.31395793  756.65412744  895.04589832  821.34028514\n",
      " 1343.62303254 1162.80881559  325.43288503  326.70659333  329.2689849\n",
      "  331.85147355]\n"
     ]
    },
    {
     "data": {
      "application/vnd.jupyter.widget-view+json": {
       "model_id": "6ec152b1f8e8475a9f09c1d062ef8f3c",
       "version_major": 2,
       "version_minor": 0
      },
      "text/plain": [
       "Loading checkpoint shards:   0%|          | 0/8 [00:00<?, ?it/s]"
      ]
     },
     "metadata": {},
     "output_type": "display_data"
    },
    {
     "name": "stdout",
     "output_type": "stream",
     "text": [
      "parents perplexities : [ 780.67290774  513.98161688  683.58003832 1144.78113586  857.40145401\n",
      "  603.25726649 1540.4713962   923.457705    549.27199172  786.79580124\n",
      " 1026.17517805  777.62935251  325.43288503  326.70659333  329.2689849\n",
      "  331.85147355]\n"
     ]
    },
    {
     "data": {
      "application/vnd.jupyter.widget-view+json": {
       "model_id": "beb8412333c340b2869972c00eb43deb",
       "version_major": 2,
       "version_minor": 0
      },
      "text/plain": [
       "Loading checkpoint shards:   0%|          | 0/8 [00:00<?, ?it/s]"
      ]
     },
     "metadata": {},
     "output_type": "display_data"
    },
    {
     "name": "stdout",
     "output_type": "stream",
     "text": [
      "parents perplexities : [ 629.74344104  964.002367    905.59641614  923.457705   1171.92883816\n",
      "  710.81077135 1079.63143717  652.27662929  979.18319535 3027.90124473\n",
      " 1167.35992061 1665.6467243   325.43288503  326.70659333  326.70659333\n",
      "  326.70659333]\n"
     ]
    },
    {
     "data": {
      "application/vnd.jupyter.widget-view+json": {
       "model_id": "3a43857261e5491a8bff40dbb35f6637",
       "version_major": 2,
       "version_minor": 0
      },
      "text/plain": [
       "Loading checkpoint shards:   0%|          | 0/8 [00:00<?, ?it/s]"
      ]
     },
     "metadata": {},
     "output_type": "display_data"
    },
    {
     "name": "stdout",
     "output_type": "stream",
     "text": [
      "parents perplexities : [ 678.26037626  675.61608965  840.8178087  1195.04306336 1887.42500899\n",
      "  912.69909686 1176.51563794 1038.27140633  783.72837511  494.29129036\n",
      "  591.58921474  916.27130013  325.43288503  326.70659333  326.70659333\n",
      "  326.70659333]\n"
     ]
    },
    {
     "data": {
      "application/vnd.jupyter.widget-view+json": {
       "model_id": "cc43e70e2b3447d7bec89cf0a08f1f0a",
       "version_major": 2,
       "version_minor": 0
      },
      "text/plain": [
       "Loading checkpoint shards:   0%|          | 0/8 [00:00<?, ?it/s]"
      ]
     },
     "metadata": {},
     "output_type": "display_data"
    },
    {
     "name": "stdout",
     "output_type": "stream",
     "text": [
      "parents perplexities : [1185.74316446 1190.38403199  710.81077135 1209.12985283  837.53977072\n",
      "  805.45412597 1088.09909148  895.04589832  494.29129036 1223.38269292\n",
      " 1162.80881559  923.457705    325.43288503  326.70659333  326.70659333\n",
      "  326.70659333]\n"
     ]
    },
    {
     "data": {
      "application/vnd.jupyter.widget-view+json": {
       "model_id": "7b7532d27e614f65a7b97c326d8e5576",
       "version_major": 2,
       "version_minor": 0
      },
      "text/plain": [
       "Loading checkpoint shards:   0%|          | 0/8 [00:00<?, ?it/s]"
      ]
     },
     "metadata": {},
     "output_type": "display_data"
    },
    {
     "name": "stdout",
     "output_type": "stream",
     "text": [
      "parents perplexities : [ 780.67290774 1195.04306336 1262.21702827  642.16401748  864.12613696\n",
      " 1292.14964249  902.06583031  647.20057229 1380.86963505  750.7657983\n",
      "  600.90538929 1002.40385566  325.43288503  326.70659333  326.70659333\n",
      "  326.70659333]\n"
     ]
    },
    {
     "data": {
      "application/vnd.jupyter.widget-view+json": {
       "model_id": "510a5a697c284dd6ad36bfe708031cd1",
       "version_major": 2,
       "version_minor": 0
      },
      "text/plain": [
       "Loading checkpoint shards:   0%|          | 0/8 [00:00<?, ?it/s]"
      ]
     },
     "metadata": {},
     "output_type": "display_data"
    },
    {
     "name": "stdout",
     "output_type": "stream",
     "text": [
      "parents perplexities : [ 750.7657983   884.61829776 1026.17517805  444.81401456  600.90538929\n",
      "  916.27130013  678.26037626  850.72910296  956.50044106  553.57998534\n",
      " 1176.51563794 1071.22967867  325.43288503  326.70659333  326.70659333\n",
      "  326.70659333]\n"
     ]
    },
    {
     "data": {
      "application/vnd.jupyter.widget-view+json": {
       "model_id": "ab53c157db854d4e88a352c160aba212",
       "version_major": 2,
       "version_minor": 0
      },
      "text/plain": [
       "Loading checkpoint shards:   0%|          | 0/8 [00:00<?, ?it/s]"
      ]
     },
     "metadata": {},
     "output_type": "display_data"
    },
    {
     "name": "stdout",
     "output_type": "stream",
     "text": [
      "parents perplexities : [1745.5827796  1312.49803852  475.35528839  831.02198452  884.61829776\n",
      " 1435.87722781  610.36827225 1209.12985283  831.02198452 2189.45131429\n",
      "  808.60658429  453.58718489  325.43288503  326.70659333  326.70659333\n",
      "  326.70659333]\n"
     ]
    },
    {
     "data": {
      "application/vnd.jupyter.widget-view+json": {
       "model_id": "473a93b372e8477cbb74fb41c80df49b",
       "version_major": 2,
       "version_minor": 0
      },
      "text/plain": [
       "Loading checkpoint shards:   0%|          | 0/8 [00:00<?, ?it/s]"
      ]
     },
     "metadata": {},
     "output_type": "display_data"
    },
    {
     "name": "stdout",
     "output_type": "stream",
     "text": [
      "parents perplexities : [ 522.07564961  639.66045724  455.36247493  905.59641614  624.8427387\n",
      "  518.01282467  877.73414355  824.55492013  464.343695    665.14163304\n",
      " 1487.255122    662.54849157  325.43288503  326.70659333  326.70659333\n",
      "  326.70659333]\n"
     ]
    },
    {
     "data": {
      "application/vnd.jupyter.widget-view+json": {
       "model_id": "7acccb01e52c40fb8772b07a8fa8537e",
       "version_major": 2,
       "version_minor": 0
      },
      "text/plain": [
       "Loading checkpoint shards:   0%|          | 0/8 [00:00<?, ?it/s]"
      ]
     },
     "metadata": {},
     "output_type": "display_data"
    },
    {
     "data": {
      "text/plain": [
       "[np.str_('jingle yuletide carol cheer holly sleigh workshop grinch chimney naughty nice polar beard nutcracker ornament decorations holiday gifts stocking magi'),\n",
       " np.float64(325.4328850285552)]"
      ]
     },
     "execution_count": 2,
     "metadata": {},
     "output_type": "execute_result"
    }
   ],
   "source": [
    "optimizr = genetic_neo(sample, vrbs, initial_times = 1000, max_stack = 10,\n",
    "                       cross_size = 32, crossover_method = \"mixture\",\n",
    "                       parents_size = 16, elite_size = 4, batch_size = 512\n",
    "                       )\n",
    "\n",
    "optimizr.reputation(rep_times = 100)"
   ]
  },
  {
   "cell_type": "markdown",
   "metadata": {},
   "source": [
    "> 동사가 적어서 잘 안되는듯"
   ]
  },
  {
   "cell_type": "code",
   "execution_count": 1,
   "metadata": {},
   "outputs": [],
   "source": [
    "import pandas as pd\n",
    "import numpy as np\n",
    "\n",
    "from algorithm import genetic"
   ]
  },
  {
   "cell_type": "code",
   "execution_count": 2,
   "metadata": {},
   "outputs": [],
   "source": [
    "## load and shuffle\n",
    "df_sample = pd.read_csv(\"sample_submission.csv\", index_col = 0)\n",
    "sample = df_sample.text.to_list()[2]\n",
    "vrbs = [\"jingle\", \"cheer\", \"sleigh\"]    ## sleigh는 애매하긴 함"
   ]
  },
  {
   "cell_type": "code",
   "execution_count": null,
   "metadata": {},
   "outputs": [
    {
     "data": {
      "application/vnd.jupyter.widget-view+json": {
       "model_id": "f048d01786674cc09baadc752b23928a",
       "version_major": 2,
       "version_minor": 0
      },
      "text/plain": [
       "Loading checkpoint shards:   0%|          | 0/8 [00:00<?, ?it/s]"
      ]
     },
     "metadata": {},
     "output_type": "display_data"
    },
    {
     "name": "stdout",
     "output_type": "stream",
     "text": [
      "parents perplexities : [ 3980.10110014  2539.80795783  2215.25987355  1370.12362229\n",
      "  1685.28084081  2414.05334599  2172.41286899  3124.01714781\n",
      " 10243.25787654  2122.08897908  2223.93015555  3887.90215745\n",
      "  1402.61516765  2189.45131429  3738.95896479  1993.5181074\n",
      "  3857.64626283  2432.98700104  1348.8818244   2040.79302695\n",
      "  1672.16588125  1540.4713962   4270.0251665   1620.71874567\n",
      "  1322.79208821  1793.97211676  2001.32051667  1171.92883816\n",
      "  2811.31113615  5525.82314053  2480.97336985  4616.99804929\n",
      "  2232.63437208  2855.58284467  2032.83672895   768.56969614\n",
      "   796.07030117   802.31395793   824.55492013   850.72910296]\n"
     ]
    },
    {
     "data": {
      "application/vnd.jupyter.widget-view+json": {
       "model_id": "1889e47edd8041c88db6904b637f3247",
       "version_major": 2,
       "version_minor": 0
      },
      "text/plain": [
       "Loading checkpoint shards:   0%|          | 0/8 [00:00<?, ?it/s]"
      ]
     },
     "metadata": {},
     "output_type": "display_data"
    }
   ],
   "source": [
    "optimizr = genetic(sample, initial_times = 10000, max_stack = 10, cross_size = 200, mutation_chances = 2, crossover_method = \"mixture\", elite_size = 5, parent_size = 40, batch_size = 512)\n",
    "\n",
    "best_genome = optimizr.reputation(rep_times = 100)"
   ]
  },
  {
   "cell_type": "code",
   "execution_count": null,
   "metadata": {},
   "outputs": [],
   "source": []
  }
 ],
 "metadata": {
  "kernelspec": {
   "display_name": "trch",
   "language": "python",
   "name": "python3"
  },
  "language_info": {
   "codemirror_mode": {
    "name": "ipython",
    "version": 3
   },
   "file_extension": ".py",
   "mimetype": "text/x-python",
   "name": "python",
   "nbconvert_exporter": "python",
   "pygments_lexer": "ipython3",
   "version": "3.12.2"
  }
 },
 "nbformat": 4,
 "nbformat_minor": 2
}
