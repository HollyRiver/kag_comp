{
 "cells": [
  {
   "cell_type": "markdown",
   "metadata": {},
   "source": [
    "## first epoc"
   ]
  },
  {
   "cell_type": "code",
   "execution_count": 1,
   "metadata": {},
   "outputs": [
    {
     "data": {
      "application/vnd.jupyter.widget-view+json": {
       "model_id": "9f77194f949b4a38bb98682ae712329e",
       "version_major": 2,
       "version_minor": 0
      },
      "text/plain": [
       "Loading checkpoint shards:   0%|          | 0/8 [00:00<?, ?it/s]"
      ]
     },
     "metadata": {},
     "output_type": "display_data"
    },
    {
     "name": "stdout",
     "output_type": "stream",
     "text": [
      "parents perplexities : [1894.81218161 4303.51538896 3377.86793167 3248.46384335 5440.15319337\n",
      " 4440.12363163 4953.31585006 2549.74848512 6021.70065959 4405.5703154\n",
      " 2767.72579685 7977.45725545 2620.4301168  6164.50117552 1947.33831018\n",
      " 3485.09296991 6460.34176386 3709.86215528 2048.78046502 6665.41502506\n",
      " 1546.50063078 1577.00262261 1652.68455865 1672.16588125 1705.14639807\n",
      " 1745.5827796  1745.5827796  1850.9189047  1880.06663623 1880.06663623\n",
      " 1902.22826681 1917.14762802 1932.18400322 1954.95997683 1970.29291796\n",
      " 1978.00442641 1978.00442641 2001.32051667 2009.1534637  2009.1534637\n",
      " 2009.1534637  2009.1534637  2017.01706802 2024.91144962 2040.79302695\n",
      " 2040.79302695 2048.78046502 2048.78046502 2048.78046502 2048.78046502\n",
      " 2056.79916504 2072.93084082 2081.04406274 2089.18903891 2097.36589362\n",
      " 2097.36589362 2113.8157382  2113.8157382  2122.08897908 2130.39460051]\n"
     ]
    }
   ],
   "source": [
    "import pandas as pd\n",
    "import numpy as np\n",
    "import pickle\n",
    "import copy\n",
    "\n",
    "from algorithm import genetic\n",
    "from algorithm.kaggle_evaluate import PerplexityCalculator\n",
    "\n",
    "df_sample = pd.read_csv(\"sample_submission.csv\", index_col = 0)\n",
    "sample = df_sample.text.to_list()[1]\n",
    "\n",
    "optimizr = genetic(sample, initial_times = 10000, cross_size = 100, max_stack = 5, crossover_method = \"mixture\", parent_size = 60, mixture_size = 20, mutation_chances = 2, batch_size = 1024)"
   ]
  },
  {
   "cell_type": "markdown",
   "metadata": {},
   "source": [
    "## reputation"
   ]
  },
  {
   "cell_type": "code",
   "execution_count": 6,
   "metadata": {},
   "outputs": [],
   "source": [
    "parents_indx = copy.deepcopy(optimizr.parents_indx)\n",
    "genomes = copy.deepcopy(optimizr.genomes)\n",
    "best_genome = copy.deepcopy(optimizr.best_genome)"
   ]
  },
  {
   "cell_type": "code",
   "execution_count": 7,
   "metadata": {},
   "outputs": [
    {
     "data": {
      "application/vnd.jupyter.widget-view+json": {
       "model_id": "6a88f3595cc84be3b37c33d01dd5630d",
       "version_major": 2,
       "version_minor": 0
      },
      "text/plain": [
       "Loading checkpoint shards:   0%|          | 0/8 [00:00<?, ?it/s]"
      ]
     },
     "metadata": {},
     "output_type": "display_data"
    },
    {
     "name": "stdout",
     "output_type": "stream",
     "text": [
      "best genome : [np.str_('reindeer jump the scrooge mistletoe and drive laugh elf gingerbread bake walk sleep chimney fireplace ornament family night advent give'), np.float64(902.06583030563)]\n",
      "parents perplexities : [3173.21325947 2529.90618498 3223.18409717 1745.5827796  1954.95997683\n",
      " 1932.18400322 1678.71055347 2480.97336985 1947.33831018 1711.82015237\n",
      " 3051.64936852 2452.06915459 2600.03776785 1522.52436083 3273.94186105\n",
      " 2097.36589362 2432.98700104 2661.69588665 1843.70285575 1985.74611684\n",
      "  902.06583031  949.05689557  952.77139924  990.725497   1014.21987511\n",
      " 1018.18941946 1026.17517805 1026.17517805 1042.33508572 1054.62180187\n",
      " 1071.22967867 1075.42235309 1079.63143717 1092.35779092 1096.63315843\n",
      " 1096.63315843 1100.92525926 1109.55992308 1109.55992308 1109.55992308\n",
      " 1122.63906434 1131.44403165 1135.87237839 1135.87237839 1135.87237839\n",
      " 1135.87237839 1140.31805718 1140.31805718 1149.26168255 1149.26168255\n",
      " 1149.26168255 1153.75976559 1153.75976559 1158.27545364 1158.27545364\n",
      " 1158.27545364 1158.27545364 1162.80881559 1162.80881559 1162.80881559]\n"
     ]
    },
    {
     "data": {
      "application/vnd.jupyter.widget-view+json": {
       "model_id": "fbcd4c7d51c6404cbca86ca1a1391f94",
       "version_major": 2,
       "version_minor": 0
      },
      "text/plain": [
       "Loading checkpoint shards:   0%|          | 0/8 [00:00<?, ?it/s]"
      ]
     },
     "metadata": {},
     "output_type": "display_data"
    },
    {
     "name": "stdout",
     "output_type": "stream",
     "text": [
      "parents perplexities : [1228.1708774  2276.66913936 1534.46566739 1880.06663623 2452.06915459\n",
      " 1510.67598225 2934.74251711 4074.48647773 3124.01714781 2946.22877455\n",
      " 2980.95798704 2276.66913936 4689.70518911 1659.15298313 1725.24612423\n",
      " 1620.71874567 1464.19736852 1705.14639807 3223.18409717 1633.43020034\n",
      "  902.06583031 1096.63315843 1113.90261783 1118.26230941 1135.87237839\n",
      " 1135.87237839 1140.31805718 1140.31805718 1153.75976559 1158.27545364\n",
      " 1158.27545364 1158.27545364 1162.80881559 1171.92883816 1195.04306336\n",
      " 1195.04306336 1195.04306336 1199.72032966 1199.72032966 1199.72032966\n",
      " 1199.72032966 1204.41590227 1204.41590227 1204.41590227 1213.86225327\n",
      " 1213.86225327 1213.86225327 1213.86225327 1213.86225327 1218.6131758\n",
      " 1218.6131758  1223.38269292 1223.38269292 1223.38269292 1223.38269292\n",
      " 1228.1708774  1228.1708774  1228.1708774  1237.80354097 1237.80354097]\n"
     ]
    },
    {
     "data": {
      "application/vnd.jupyter.widget-view+json": {
       "model_id": "c68b18375ac647f59c1520162e543525",
       "version_major": 2,
       "version_minor": 0
      },
      "text/plain": [
       "Loading checkpoint shards:   0%|          | 0/8 [00:00<?, ?it/s]"
      ]
     },
     "metadata": {},
     "output_type": "display_data"
    },
    {
     "name": "stdout",
     "output_type": "stream",
     "text": [
      "parents perplexities : [1939.74635759 2844.44998221 2172.41286899 1620.71874567 2510.21829886\n",
      " 2089.18903891 3273.94186105 2367.36132761 3431.06161151 2312.52146152\n",
      " 1909.67337774 1829.3550463  1917.14762802 3124.01714781 1711.82015237\n",
      " 1718.52002702 1646.24135218 2630.6861903  2113.8157382  3404.36087821\n",
      "  902.06583031 1018.18941946 1058.7494749  1079.63143717 1092.35779092\n",
      " 1092.35779092 1096.63315843 1100.92525926 1122.63906434 1122.63906434\n",
      " 1131.44403165 1153.75976559 1153.75976559 1162.80881559 1162.80881559\n",
      " 1162.80881559 1171.92883816 1171.92883816 1181.12038996 1181.12038996\n",
      " 1181.12038996 1181.12038996 1181.12038996 1181.12038996 1185.74316446\n",
      " 1195.04306336 1195.04306336 1199.72032966 1199.72032966 1199.72032966\n",
      " 1204.41590227 1204.41590227 1213.86225327 1213.86225327 1213.86225327\n",
      " 1213.86225327 1213.86225327 1213.86225327 1213.86225327 1218.6131758 ]\n"
     ]
    },
    {
     "data": {
      "application/vnd.jupyter.widget-view+json": {
       "model_id": "5d06dcb8379944e8a8829c6d1a8cdbbf",
       "version_major": 2,
       "version_minor": 0
      },
      "text/plain": [
       "Loading checkpoint shards:   0%|          | 0/8 [00:00<?, ?it/s]"
      ]
     },
     "metadata": {},
     "output_type": "display_data"
    },
    {
     "name": "stdout",
     "output_type": "stream",
     "text": [
      "parents perplexities : [1678.71055347 1932.18400322 7792.65965717 3709.86215528 2189.45131429\n",
      " 1601.83680035 1364.78201651 1691.87684352 2089.18903891 3539.97519839\n",
      " 2579.80411341 3949.12770764 1441.49709238 2539.80795783 3918.395352\n",
      " 2089.18903891 2640.98240493 2395.26703381 2620.4301168  2189.45131429\n",
      "  902.06583031  934.34313221 1026.17517805 1042.33508572 1062.89330318\n",
      " 1096.63315843 1096.63315843 1118.26230941 1122.63906434 1122.63906434\n",
      " 1131.44403165 1135.87237839 1135.87237839 1140.31805718 1153.75976559\n",
      " 1153.75976559 1153.75976559 1158.27545364 1162.80881559 1162.80881559\n",
      " 1171.92883816 1176.51563794 1176.51563794 1176.51563794 1176.51563794\n",
      " 1181.12038996 1181.12038996 1185.74316446 1185.74316446 1185.74316446\n",
      " 1195.04306336 1195.04306336 1195.04306336 1195.04306336 1199.72032966\n",
      " 1199.72032966 1199.72032966 1199.72032966 1204.41590227 1213.86225327]\n"
     ]
    },
    {
     "data": {
      "application/vnd.jupyter.widget-view+json": {
       "model_id": "ade9d25025194f70945c9010a5463198",
       "version_major": 2,
       "version_minor": 0
      },
      "text/plain": [
       "Loading checkpoint shards:   0%|          | 0/8 [00:00<?, ?it/s]"
      ]
     },
     "metadata": {},
     "output_type": "display_data"
    },
    {
     "name": "stdout",
     "output_type": "stream",
     "text": [
      "parents perplexities : [1939.74635759 2432.98700104 2661.69588665 2206.62339378 1932.18400322\n",
      " 1978.00442641 3539.97519839 1413.61601476 1985.74611684 1424.70314257\n",
      " 4011.31741996 1493.07607396 3857.64626283 2232.63437208 2946.22877455\n",
      " 4726.48700278 2321.57241461 3827.62582144 2312.52146152 4337.26827848\n",
      "  902.06583031 1092.35779092 1096.63315843 1109.55992308 1118.26230941\n",
      " 1118.26230941 1131.44403165 1135.87237839 1140.31805718 1140.31805718\n",
      " 1140.31805718 1140.31805718 1140.31805718 1153.75976559 1153.75976559\n",
      " 1158.27545364 1162.80881559 1171.92883816 1176.51563794 1181.12038996\n",
      " 1185.74316446 1199.72032966 1199.72032966 1204.41590227 1213.86225327\n",
      " 1213.86225327 1213.86225327 1218.6131758  1218.6131758  1218.6131758\n",
      " 1218.6131758  1223.38269292 1223.38269292 1228.1708774  1228.1708774\n",
      " 1237.80354097 1237.80354097 1242.64816705 1242.64816705 1242.64816705]\n"
     ]
    },
    {
     "data": {
      "application/vnd.jupyter.widget-view+json": {
       "model_id": "ce71b51462ca44ba84a8c51dedf0e25c",
       "version_major": 2,
       "version_minor": 0
      },
      "text/plain": [
       "Loading checkpoint shards:   0%|          | 0/8 [00:00<?, ?it/s]"
      ]
     },
     "metadata": {},
     "output_type": "display_data"
    }
   ],
   "source": [
    "optimizr.evaluatr.clear_gpu_memory()\n",
    "stack = 0\n",
    "max_stack = 5\n",
    "evaluatr = None\n",
    "\n",
    "for _ in range(100) : \n",
    "    childs = optimizr.crossover(parents_indx, genomes, dupl = False)\n",
    "    genomes = optimizr.mutation(childs, mutation_chances = 2)\n",
    "    \n",
    "    genome_set = np.unique([\" \".join(genome) for genome in genomes] + [best_genome[0]])\n",
    "    \n",
    "    if evaluatr != None :\n",
    "        evaluatr.clear_gpu_memory()\n",
    "        \n",
    "    evaluatr = PerplexityCalculator(\"google/gemma-2-9b\", load_in_8bit = False)\n",
    "    \n",
    "    print(\"starting evaluation\")\n",
    "    perplexities = np.array(evaluatr.get_perplexity(genome_set, batch_size = 512))\n",
    "    \n",
    "    ## mixture\n",
    "    per_sum = sum(1/(perplexities**3))\n",
    "    proba = 1/(perplexities**3)/per_sum\n",
    "    subset_index = np.random.choice([i for i in range(len(genome_set))], p = proba, size = 20, replace = False)\n",
    "    sorted_index = perplexities.argsort()\n",
    "    \n",
    "    remain_size = 40\n",
    "    \n",
    "    for i in range(60) :\n",
    "        if sorted_index[i] not in subset_index :\n",
    "            subset_index = np.concat([subset_index, [sorted_index[i]]])\n",
    "            remain_size -= 1\n",
    "            \n",
    "            if remain_size == 0 :\n",
    "                break\n",
    "            \n",
    "    parents_indx = subset_index\n",
    "    \n",
    "    if perplexities.min() < best_genome[1] :\n",
    "        best_genome = [genome_set[perplexities.argmin()], perplexities.min()]\n",
    "        print(f\"best genome : {best_genome}\")\n",
    "        stack = 0\n",
    "        \n",
    "    else :\n",
    "        stack += 1\n",
    "        \n",
    "        if stack >= max_stack :\n",
    "            break\n",
    "        \n",
    "    print(f\"parents perplexities : {perplexities[parents_indx]}\")"
   ]
  },
  {
   "cell_type": "markdown",
   "metadata": {},
   "source": [
    "## 개선방안"
   ]
  },
  {
   "cell_type": "markdown",
   "metadata": {},
   "source": [
    "`-` 상속 구조에 변화\n",
    "\n",
    "* 부모 유전자를 3개로 증가\n",
    "* 각 유전자는 문장구조/동사/이외로 나뉘며 해당 구조 하에서 변이가 발생할 수 있음\n",
    "\n",
    "---\n",
    "\n",
    "* 동사는 1, 동사가 아니면 0으로 설정"
   ]
  },
  {
   "cell_type": "code",
   "execution_count": 1,
   "metadata": {},
   "outputs": [],
   "source": [
    "import itertools\n",
    "import pandas as pd\n",
    "import numpy as np\n",
    "import copy\n",
    "from typing import List\n",
    "from algorithm.kaggle_evaluate import PerplexityCalculator"
   ]
  },
  {
   "cell_type": "code",
   "execution_count": 2,
   "metadata": {},
   "outputs": [],
   "source": [
    "def selection(perplexities, parents_size = 20, crossover_method = \"mixture\", elite_size = 10) :\n",
    "    perps = np.array(perplexities)\n",
    "    \n",
    "    ## select parents index\n",
    "    if crossover_method == \"roulette\" :\n",
    "        per_sum = sum(1/(perps**2))\n",
    "        proba = 1/(perps**2)/per_sum\n",
    "        parents_indx = np.random.choice([i for i in range(len(perps))], p = proba, size = parents_size, replace = False)\n",
    "        \n",
    "    elif crossover_method == \"rank\" :\n",
    "        parents_indx = perps.argsort()[:parents_size]\n",
    "\n",
    "    elif crossover_method == \"mixture\" :\n",
    "        per_sum = sum(1/(perps**2))\n",
    "        proba = 1/(perps**2)/per_sum\n",
    "        subset_index = np.random.choice([i for i in range(len(perps))], p = proba, size = parents_size - elite_size, replace = False)\n",
    "        sorted_index = perps.argsort()\n",
    "        remain_size = elite_size\n",
    "        \n",
    "        for i in range(parents_size) :\n",
    "            if sorted_index[i] not in subset_index :\n",
    "                subset_index = np.concat([subset_index, [sorted_index[i]]])\n",
    "                remain_size -= 1\n",
    "                \n",
    "                if remain_size == 0 :\n",
    "                    break\n",
    "            \n",
    "        parents_indx = subset_index\n",
    "    \n",
    "    return parents_indx\n",
    "\n",
    "def mutation_crossover(p, mutation_chances = 1) :\n",
    "    origin = np.array(p)\n",
    "    lnth = len(origin)\n",
    "    \n",
    "    for _ in range(mutation_chances) :\n",
    "        if np.random.random() > 0.3 :\n",
    "            dice = np.random.randint(0, 4) ## choice mutation method\n",
    "            \n",
    "            ## swap\n",
    "            if dice == 0 :\n",
    "                swap_area = np.random.choice([k for k in range(lnth)], size = 2, replace = False)\n",
    "                origin[swap_area[0]], origin[swap_area[1]] = origin[swap_area[1]], origin[swap_area[0]]\n",
    "                \n",
    "            ## move\n",
    "            elif dice == 1 :\n",
    "                moving_indx = np.random.randint(0, lnth)\n",
    "                mover = origin[moving_indx]\n",
    "                \n",
    "                moving_area = np.random.randint(0, lnth)\n",
    "                \n",
    "                ## trick\n",
    "                tmp = list(origin)\n",
    "                del tmp[moving_indx]\n",
    "                tmp.insert(moving_area, mover)\n",
    "                \n",
    "                origin = np.array(tmp)\n",
    "                \n",
    "            ## inverse\n",
    "            elif dice == 2 :\n",
    "                if np.random.random() < 0.5 :\n",
    "                    width = np.random.randint(3, 5)\n",
    "                    start = np.random.randint(0, lnth-width)\n",
    "                    origin[start:start+width] = origin[start:start+width][::-1]\n",
    "                \n",
    "            ## scramble\n",
    "            elif dice == 3 :\n",
    "                if np.random.random() < 0.5 :\n",
    "                    swap_size = np.random.randint(3, 5)\n",
    "                    swap_area = np.random.choice([i for i in range(lnth)], size = swap_size, replace = False)\n",
    "                    \n",
    "                    origin[swap_area] = np.random.permutation(np.array(origin)[swap_area])\n",
    "    \n",
    "    return origin\n",
    "\n",
    "def crossover(p1, p2, p3, verbs, mutation_chances = 1) :\n",
    "    structure = [None for _ in range(len(p1))]\n",
    "    vrbs = [t for t in p2 if t in verbs]\n",
    "    othrs = [t for t in p3 if t not in verbs]\n",
    "    \n",
    "    child = [\"\" for _ in range(len(p1))]\n",
    "    \n",
    "    for i, t in enumerate(p1) :\n",
    "        structure[i] = t in verbs\n",
    "    \n",
    "    if mutation_chances > 0 :\n",
    "        structure = mutation_crossover(structure, mutation_chances = mutation_chances)\n",
    "        vrbs = mutation_crossover(vrbs, mutation_chances = mutation_chances)\n",
    "        othrs = mutation_crossover(othrs, mutation_chances = mutation_chances)\n",
    "\n",
    "    a = 0\n",
    "    b = 0\n",
    "    \n",
    "    for i, s in enumerate(structure) :\n",
    "        if s :\n",
    "            child[i] = vrbs[a]\n",
    "            a += 1\n",
    "        else :\n",
    "            child[i] = othrs[b]\n",
    "            b += 1\n",
    "            \n",
    "    return child\n",
    "\n",
    "def mutation(genome, mutation_chances = 2) :\n",
    "    origin = np.array(genome)\n",
    "    lnth = len(origin)\n",
    "    \n",
    "    for _ in range(mutation_chances) :\n",
    "        ## mutate randomly\n",
    "        if np.random.random() > 0.5 :\n",
    "            dice = np.random.randint(0, 4)\n",
    "            \n",
    "            ## swap\n",
    "            if dice == 0 :\n",
    "                swap_area = np.random.choice([k for k in range(lnth)], size = 2, replace = False)\n",
    "                origin[swap_area[0]], origin[swap_area[1]] = origin[swap_area[1]], origin[swap_area[0]]\n",
    "            \n",
    "            ## move\n",
    "            elif dice == 1 :\n",
    "                moving_indx = np.random.randint(0, lnth)\n",
    "                mover = origin[moving_indx]\n",
    "                \n",
    "                moving_area = np.random.randint(0, lnth)\n",
    "                \n",
    "                ## trick\n",
    "                tmp = list(origin)\n",
    "                del tmp[moving_indx]\n",
    "                tmp.insert(moving_area, mover)\n",
    "                \n",
    "                origin = np.array(tmp)\n",
    "                \n",
    "            ## inverse\n",
    "            elif dice == 2 :\n",
    "                if np.random.random() < 0.5 :\n",
    "                    width = np.random.randint(3, 5)\n",
    "                    start = np.random.randint(0, lnth-width)\n",
    "                    origin[start:start+width] = origin[start:start+width][::-1]\n",
    "                \n",
    "            ## scramble\n",
    "            elif dice == 3 :\n",
    "                if np.random.random() < 0.5 :\n",
    "                    swap_size = np.random.randint(3, 5)\n",
    "                    swap_area = np.random.choice([i for i in range(lnth)], size = swap_size, replace = False)\n",
    "                    \n",
    "                    origin[swap_area] = np.random.permutation(np.array(origin)[swap_area])\n",
    "    \n",
    "    return origin"
   ]
  },
  {
   "cell_type": "code",
   "execution_count": 3,
   "metadata": {},
   "outputs": [
    {
     "data": {
      "application/vnd.jupyter.widget-view+json": {
       "model_id": "e3c69df178c44c529555cd371aff9c35",
       "version_major": 2,
       "version_minor": 0
      },
      "text/plain": [
       "Loading checkpoint shards:   0%|          | 0/8 [00:00<?, ?it/s]"
      ]
     },
     "metadata": {},
     "output_type": "display_data"
    }
   ],
   "source": [
    "## hyperparameter\n",
    "initial_times = 1000\n",
    "batch_size = 1024\n",
    "rep_times = 100\n",
    "cross_size = 150\n",
    "max_stack = 10\n",
    "\n",
    "## load and shuffle\n",
    "df_sample = pd.read_csv(\"sample_submission.csv\", index_col = 0)\n",
    "sample = df_sample.text.to_list()[1]\n",
    "vrbs = [\"walk\", \"give\", \"jump\", \"drive\", \"bake\", \"sleep\", \"laugh\"] ## verbs in 1st sample\n",
    "\n",
    "genomes = [\"\" for _ in range(initial_times)]\n",
    "\n",
    "for i in range(initial_times) :\n",
    "    genomes[i] = np.random.permutation(sample.split())\n",
    "    \n",
    "genomes = np.array(genomes)\n",
    "\n",
    "## evaluation\n",
    "evaluatr = PerplexityCalculator(\"google/gemma-2-9b\")\n",
    "perplexities = np.array(evaluatr.get_perplexity([\" \".join(genome) for genome in genomes], batch_size = batch_size))"
   ]
  },
  {
   "cell_type": "code",
   "execution_count": 4,
   "metadata": {},
   "outputs": [
    {
     "name": "stdout",
     "output_type": "stream",
     "text": [
      "best genome : reindeer scrooge the night drive advent laugh give family walk sleep mistletoe gingerbread elf fireplace bake jump chimney and ornament\n",
      "parents perplexities : [7612.14289064 4616.99804929 4371.2858952  8166.63720249 5701.23159625\n",
      " 6410.0669854  1865.43584159 2001.32051667 2040.79302695 2232.63437208\n",
      " 2330.65879213 2404.64184391 2414.05334599 2432.98700104]\n"
     ]
    }
   ],
   "source": [
    "## selection\n",
    "parents_indx = selection(perplexities = perplexities, parents_size = 14, crossover_method = \"mixture\", elite_size = 8)\n",
    "best_genome = [\" \".join(genomes[perplexities.argmin()]), perplexities.min()]\n",
    "print(f\"best genome : {best_genome[0]}\")\n",
    "print(f\"parents perplexities : {perplexities[parents_indx]}\")"
   ]
  },
  {
   "cell_type": "code",
   "execution_count": 5,
   "metadata": {},
   "outputs": [
    {
     "data": {
      "application/vnd.jupyter.widget-view+json": {
       "model_id": "6a74f6198dc743bd8cefbfeb46f90df7",
       "version_major": 2,
       "version_minor": 0
      },
      "text/plain": [
       "Loading checkpoint shards:   0%|          | 0/8 [00:00<?, ?it/s]"
      ]
     },
     "metadata": {},
     "output_type": "display_data"
    },
    {
     "name": "stdout",
     "output_type": "stream",
     "text": [
      "parents perplexities : [2789.43333932 2767.72579685 7207.03203573 5791.01293001 2001.32051667\n",
      " 6021.70065959 1865.43584159 2040.79302695 2232.63437208 2330.65879213\n",
      " 2404.64184391 2414.05334599 2432.98700104 2490.68362507]\n"
     ]
    },
    {
     "data": {
      "application/vnd.jupyter.widget-view+json": {
       "model_id": "eb53411412f44d21839e0e110029972e",
       "version_major": 2,
       "version_minor": 0
      },
      "text/plain": [
       "Loading checkpoint shards:   0%|          | 0/8 [00:00<?, ?it/s]"
      ]
     },
     "metadata": {},
     "output_type": "display_data"
    },
    {
     "name": "stdout",
     "output_type": "stream",
     "text": [
      "parents perplexities : [8969.29628578 2714.19313404 9774.18494704 2724.81618561 5314.13218038\n",
      " 1865.43584159 2001.32051667 2040.79302695 2232.63437208 2330.65879213\n",
      " 2404.64184391 2414.05334599 2432.98700104 2490.68362507]\n"
     ]
    },
    {
     "data": {
      "application/vnd.jupyter.widget-view+json": {
       "model_id": "fa6128c3c41540e5be7b81f4e0b41ef6",
       "version_major": 2,
       "version_minor": 0
      },
      "text/plain": [
       "Loading checkpoint shards:   0%|          | 0/8 [00:00<?, ?it/s]"
      ]
     },
     "metadata": {},
     "output_type": "display_data"
    },
    {
     "name": "stdout",
     "output_type": "stream",
     "text": [
      "parents perplexities : [9254.01231276 5656.86425997 5397.81758535 7095.29736056 2569.74641034\n",
      " 5031.31922461 1865.43584159 2001.32051667 2040.79302695 2232.63437208\n",
      " 2330.65879213 2404.64184391 2414.05334599 2432.98700104]\n"
     ]
    },
    {
     "data": {
      "application/vnd.jupyter.widget-view+json": {
       "model_id": "a7c938093cc34751a20256c01ef1dea7",
       "version_major": 2,
       "version_minor": 0
      },
      "text/plain": [
       "Loading checkpoint shards:   0%|          | 0/8 [00:00<?, ?it/s]"
      ]
     },
     "metadata": {},
     "output_type": "display_data"
    },
    {
     "name": "stdout",
     "output_type": "stream",
     "text": [
      "parents perplexities : [ 5150.63352163  2569.74641034  2569.74641034  5397.81758535\n",
      " 17288.77109334  5314.13218038  1865.43584159  2001.32051667\n",
      "  2040.79302695  2232.63437208  2330.65879213  2404.64184391\n",
      "  2414.05334599  2432.98700104]\n"
     ]
    },
    {
     "data": {
      "application/vnd.jupyter.widget-view+json": {
       "model_id": "38cbfca0fa864620a4068112abc3ab1b",
       "version_major": 2,
       "version_minor": 0
      },
      "text/plain": [
       "Loading checkpoint shards:   0%|          | 0/8 [00:00<?, ?it/s]"
      ]
     },
     "metadata": {},
     "output_type": "display_data"
    },
    {
     "name": "stdout",
     "output_type": "stream",
     "text": [
      "parents perplexities : [2714.19313404 4203.82456235 4203.82456235 5314.13218038 4371.2858952\n",
      " 8761.52276111 1865.43584159 2001.32051667 2040.79302695 2232.63437208\n",
      " 2330.65879213 2404.64184391 2414.05334599 2432.98700104]\n"
     ]
    },
    {
     "ename": "KeyboardInterrupt",
     "evalue": "",
     "output_type": "error",
     "traceback": [
      "\u001b[0;31m---------------------------------------------------------------------------\u001b[0m",
      "\u001b[0;31mKeyboardInterrupt\u001b[0m                         Traceback (most recent call last)",
      "Cell \u001b[0;32mIn[5], line 13\u001b[0m\n\u001b[1;32m     10\u001b[0m parents_genome \u001b[38;5;241m=\u001b[39m [genome_set[idx] \u001b[38;5;28;01mfor\u001b[39;00m idx \u001b[38;5;129;01min\u001b[39;00m pair]\n\u001b[1;32m     12\u001b[0m \u001b[38;5;28;01mfor\u001b[39;00m _ \u001b[38;5;129;01min\u001b[39;00m \u001b[38;5;28mrange\u001b[39m(cross_size) :\n\u001b[0;32m---> 13\u001b[0m     crossover_genome \u001b[38;5;241m=\u001b[39m \u001b[43mcrossover\u001b[49m\u001b[43m(\u001b[49m\u001b[43mparents_genome\u001b[49m\u001b[43m[\u001b[49m\u001b[38;5;241;43m0\u001b[39;49m\u001b[43m]\u001b[49m\u001b[43m,\u001b[49m\u001b[43m \u001b[49m\u001b[43mparents_genome\u001b[49m\u001b[43m[\u001b[49m\u001b[38;5;241;43m1\u001b[39;49m\u001b[43m]\u001b[49m\u001b[43m,\u001b[49m\u001b[43m \u001b[49m\u001b[43mparents_genome\u001b[49m\u001b[43m[\u001b[49m\u001b[38;5;241;43m2\u001b[39;49m\u001b[43m]\u001b[49m\u001b[43m,\u001b[49m\u001b[43m \u001b[49m\u001b[43mverbs\u001b[49m\u001b[43m \u001b[49m\u001b[38;5;241;43m=\u001b[39;49m\u001b[43m \u001b[49m\u001b[43mvrbs\u001b[49m\u001b[43m,\u001b[49m\u001b[43m \u001b[49m\u001b[43mmutation_chances\u001b[49m\u001b[43m \u001b[49m\u001b[38;5;241;43m=\u001b[39;49m\u001b[43m \u001b[49m\u001b[38;5;241;43m4\u001b[39;49m\u001b[43m)\u001b[49m\n\u001b[1;32m     15\u001b[0m     \u001b[38;5;28;01mif\u001b[39;00m i \u001b[38;5;241m<\u001b[39m\u001b[38;5;241m=\u001b[39m \u001b[38;5;241m10\u001b[39m :\n\u001b[1;32m     16\u001b[0m         childs\u001b[38;5;241m.\u001b[39mappend(mutation(crossover_genome, mutation_chances \u001b[38;5;241m=\u001b[39m \u001b[38;5;241m4\u001b[39m))\n",
      "Cell \u001b[0;32mIn[2], line 89\u001b[0m, in \u001b[0;36mcrossover\u001b[0;34m(p1, p2, p3, verbs, mutation_chances)\u001b[0m\n\u001b[1;32m     87\u001b[0m     structure \u001b[38;5;241m=\u001b[39m mutation_crossover(structure, mutation_chances \u001b[38;5;241m=\u001b[39m mutation_chances)\n\u001b[1;32m     88\u001b[0m     vrbs \u001b[38;5;241m=\u001b[39m mutation_crossover(vrbs, mutation_chances \u001b[38;5;241m=\u001b[39m mutation_chances)\n\u001b[0;32m---> 89\u001b[0m     othrs \u001b[38;5;241m=\u001b[39m \u001b[43mmutation_crossover\u001b[49m\u001b[43m(\u001b[49m\u001b[43mothrs\u001b[49m\u001b[43m,\u001b[49m\u001b[43m \u001b[49m\u001b[43mmutation_chances\u001b[49m\u001b[43m \u001b[49m\u001b[38;5;241;43m=\u001b[39;49m\u001b[43m \u001b[49m\u001b[43mmutation_chances\u001b[49m\u001b[43m)\u001b[49m\n\u001b[1;32m     91\u001b[0m a \u001b[38;5;241m=\u001b[39m \u001b[38;5;241m0\u001b[39m\n\u001b[1;32m     92\u001b[0m b \u001b[38;5;241m=\u001b[39m \u001b[38;5;241m0\u001b[39m\n",
      "Cell \u001b[0;32mIn[2], line 33\u001b[0m, in \u001b[0;36mmutation_crossover\u001b[0;34m(p, mutation_chances)\u001b[0m\n\u001b[1;32m     32\u001b[0m \u001b[38;5;28;01mdef\u001b[39;00m \u001b[38;5;21mmutation_crossover\u001b[39m(p, mutation_chances \u001b[38;5;241m=\u001b[39m \u001b[38;5;241m1\u001b[39m) :\n\u001b[0;32m---> 33\u001b[0m     origin \u001b[38;5;241m=\u001b[39m \u001b[43mnp\u001b[49m\u001b[38;5;241;43m.\u001b[39;49m\u001b[43marray\u001b[49m\u001b[43m(\u001b[49m\u001b[43mp\u001b[49m\u001b[43m)\u001b[49m\n\u001b[1;32m     34\u001b[0m     lnth \u001b[38;5;241m=\u001b[39m \u001b[38;5;28mlen\u001b[39m(origin)\n\u001b[1;32m     36\u001b[0m     \u001b[38;5;28;01mfor\u001b[39;00m _ \u001b[38;5;129;01min\u001b[39;00m \u001b[38;5;28mrange\u001b[39m(mutation_chances) :\n",
      "\u001b[0;31mKeyboardInterrupt\u001b[0m: "
     ]
    },
    {
     "ename": "",
     "evalue": "",
     "output_type": "error",
     "traceback": [
      "\u001b[1;31mThe Kernel crashed while executing code in the current cell or a previous cell. \n",
      "\u001b[1;31mPlease review the code in the cell(s) to identify a possible cause of the failure. \n",
      "\u001b[1;31mClick <a href='https://aka.ms/vscodeJupyterKernelCrash'>here</a> for more info. \n",
      "\u001b[1;31mView Jupyter <a href='command:jupyter.viewOutput'>log</a> for further details."
     ]
    }
   ],
   "source": [
    "stack = 0\n",
    "genome_set = copy.deepcopy(genomes)\n",
    "\n",
    "## reputation\n",
    "for i in range(rep_times) :\n",
    "    pair_parents = list(itertools.permutations(parents_indx, 3))\n",
    "    childs = []\n",
    "    \n",
    "    for pair in pair_parents :\n",
    "        parents_genome = [genome_set[idx] for idx in pair]\n",
    "        \n",
    "        for _ in range(cross_size) :\n",
    "            crossover_genome = crossover(parents_genome[0], parents_genome[1], parents_genome[2], verbs = vrbs, mutation_chances = 4)\n",
    "            \n",
    "            if i <= 10 :\n",
    "                childs.append(mutation(crossover_genome, mutation_chances = 4))\n",
    "                \n",
    "            else :\n",
    "                childs.append(mutation(crossover_genome, mutation_chances = 2))\n",
    "                \n",
    "    genome_set = np.unique([\" \".join(genome) for genome in genome_set] + [best_genome[0]]) ## elitism\n",
    "\n",
    "    evaluatr.clear_gpu_memory()\n",
    "    evaluatr = PerplexityCalculator(\"google/gemma-2-9b\")\n",
    "    \n",
    "    perplexities = np.array(evaluatr.get_perplexity(genome_set, batch_size = batch_size))\n",
    "    \n",
    "    parents_indx = selection(perplexities = perplexities, parents_size = 14, crossover_method = \"mixture\", elite_size = 8)\n",
    "    \n",
    "    if perplexities.min() < best_genome[1] :\n",
    "        best_genome = [genome_set[perplexities.argmin()], perplexities.min()]\n",
    "        print(f\"best genome : {best_genome}\")\n",
    "        stack = 0\n",
    "        \n",
    "    else :\n",
    "        stack += 1\n",
    "        \n",
    "        if stack >= max_stack :\n",
    "            break\n",
    "        \n",
    "    genome_set = [genome.split() for genome in genome_set] ## error solved\n",
    "    \n",
    "    print(f\"parents perplexities : {perplexities[parents_indx]}\")"
   ]
  },
  {
   "cell_type": "markdown",
   "metadata": {},
   "source": [
    "> 무언가 하자가 있음에 분명함. 애초에 퍼플렉시티 계산이 왜이렇게 빠른 거임? 중복이 엄청 많은건가? 아니면 제대로 생성이 안되나? 확인 요구됨"
   ]
  },
  {
   "cell_type": "code",
   "execution_count": null,
   "metadata": {},
   "outputs": [],
   "source": []
  }
 ],
 "metadata": {
  "kernelspec": {
   "display_name": "trch",
   "language": "python",
   "name": "python3"
  },
  "language_info": {
   "codemirror_mode": {
    "name": "ipython",
    "version": 3
   },
   "file_extension": ".py",
   "mimetype": "text/x-python",
   "name": "python",
   "nbconvert_exporter": "python",
   "pygments_lexer": "ipython3",
   "version": "3.12.8"
  }
 },
 "nbformat": 4,
 "nbformat_minor": 2
}
