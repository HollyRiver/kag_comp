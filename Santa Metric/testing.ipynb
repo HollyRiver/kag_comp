{
 "cells": [
  {
   "cell_type": "markdown",
   "id": "ca8129c6",
   "metadata": {},
   "source": [
    "## 데이터"
   ]
  },
  {
   "cell_type": "code",
   "execution_count": 18,
   "id": "b50aac55-10b5-4255-a478-b3b6d6dc7841",
   "metadata": {},
   "outputs": [],
   "source": [
    "import pandas as pd\n",
    "import numpy as np\n",
    "import os\n",
    "import copy"
   ]
  },
  {
   "cell_type": "code",
   "execution_count": 17,
   "id": "10f2a387-a4e3-4ec4-af72-b5961d718107",
   "metadata": {},
   "outputs": [],
   "source": [
    "df_sample = pd.read_csv(\"sample_submission.csv\")"
   ]
  },
  {
   "cell_type": "code",
   "execution_count": 9,
   "id": "fb7e4ac8",
   "metadata": {},
   "outputs": [
    {
     "name": "stdout",
     "output_type": "stream",
     "text": [
      "0 : advent chimney elf family fireplace gingerbread mistletoe ornament reindeer scrooge\n",
      "\n",
      "1 : advent chimney elf family fireplace gingerbread mistletoe ornament reindeer scrooge walk give jump drive bake the sleep night laugh and\n",
      "\n",
      "2 : yuletide decorations gifts cheer holiday carol magi nutcracker polar grinch sleigh chimney workshop stocking ornament holly jingle beard naughty nice\n",
      "\n",
      "3 : yuletide decorations gifts cheer holiday carol magi nutcracker polar grinch sleigh chimney workshop stocking ornament holly jingle beard naughty nice sing cheer and of the is eat visit relax unwrap\n",
      "\n",
      "4 : hohoho candle poinsettia snowglobe peppermint eggnog fruitcake chocolate candy puzzle game doll toy workshop wonder believe dream hope peace joy merry season greeting card wrapping paper bow fireplace night cookie milk star wish wreath angel the to of and in that have it not with as you from we kaggle\n",
      "\n",
      "5 : advent chimney elf family fireplace gingerbread mistletoe ornament reindeer scrooge walk give jump drive bake the sleep night laugh and yuletide decorations gifts cheer holiday carol magi nutcracker polar grinch sleigh chimney workshop stocking ornament holly jingle beard naughty nice sing cheer and of the is eat visit relax unwrap hohoho candle poinsettia snowglobe peppermint eggnog fruitcake chocolate candy puzzle game doll toy workshop wonder believe dream hope peace joy merry season greeting card wrapping paper bow fireplace night cookie milk star wish wreath angel the to of and in that have it not with as you from we kaggle\n",
      "\n"
     ]
    },
    {
     "data": {
      "text/plain": [
       "[None, None, None, None, None, None]"
      ]
     },
     "execution_count": 9,
     "metadata": {},
     "output_type": "execute_result"
    }
   ],
   "source": [
    "[print(f\"{i} : {df_sample.text[i]}\\n\") for i in range(6)]"
   ]
  },
  {
   "cell_type": "code",
   "execution_count": 17,
   "id": "4bc49bf6-b17c-47a7-ab49-9273d3082f47",
   "metadata": {},
   "outputs": [
    {
     "name": "stderr",
     "output_type": "stream",
     "text": [
      "100%|██████████| 1.50k/1.50k [00:00<00:00, 1.60kB/s]\n"
     ]
    },
    {
     "name": "stdout",
     "output_type": "stream",
     "text": [
      "Successfully submitted to Santa 2024 - The Perplexity Permutation Puzzle"
     ]
    },
    {
     "data": {
      "text/plain": [
       "0"
      ]
     },
     "execution_count": 17,
     "metadata": {},
     "output_type": "execute_result"
    }
   ],
   "source": [
    "os.system(\"kaggle competitions submit -c santa-2024 -f sample_submission.csv -m .\")"
   ]
  },
  {
   "cell_type": "markdown",
   "id": "f50a208e",
   "metadata": {},
   "source": [
    "## submission"
   ]
  },
  {
   "cell_type": "markdown",
   "id": "d5e51b49",
   "metadata": {},
   "source": [
    "`-` GPT sample submission"
   ]
  },
  {
   "cell_type": "code",
   "execution_count": null,
   "id": "5a816b5e-d6c5-4e81-ab02-cd700beb61f5",
   "metadata": {},
   "outputs": [
    {
     "name": "stderr",
     "output_type": "stream",
     "text": [
      "/tmp/ipykernel_2586087/1086910791.py:3: FutureWarning: ChainedAssignmentError: behaviour will change in pandas 3.0!\n",
      "You are setting values through chained assignment. Currently this works in certain cases, but when using Copy-on-Write (which will become the default behaviour in pandas 3.0) this will never work to update the original DataFrame or Series, because the intermediate object on which we are setting values will behave as a copy.\n",
      "A typical example is when you are setting values in a column of a DataFrame, like:\n",
      "\n",
      "df[\"col\"][row_indexer] = value\n",
      "\n",
      "Use `df.loc[row_indexer, \"col\"] = values` instead, to perform the assignment in a single step and ensure this keeps updating the original `df`.\n",
      "\n",
      "See the caveats in the documentation: https://pandas.pydata.org/pandas-docs/stable/user_guide/indexing.html#returning-a-view-versus-a-copy\n",
      "\n",
      "  sample_gpt.text[0] = \"advent chimney fireplace family elf gingerbread mistletoe ornament reindeer scrooge\"\n",
      "/tmp/ipykernel_2586087/1086910791.py:3: SettingWithCopyWarning: \n",
      "A value is trying to be set on a copy of a slice from a DataFrame\n",
      "\n",
      "See the caveats in the documentation: https://pandas.pydata.org/pandas-docs/stable/user_guide/indexing.html#returning-a-view-versus-a-copy\n",
      "  sample_gpt.text[0] = \"advent chimney fireplace family elf gingerbread mistletoe ornament reindeer scrooge\"\n",
      "/tmp/ipykernel_2586087/1086910791.py:4: FutureWarning: ChainedAssignmentError: behaviour will change in pandas 3.0!\n",
      "You are setting values through chained assignment. Currently this works in certain cases, but when using Copy-on-Write (which will become the default behaviour in pandas 3.0) this will never work to update the original DataFrame or Series, because the intermediate object on which we are setting values will behave as a copy.\n",
      "A typical example is when you are setting values in a column of a DataFrame, like:\n",
      "\n",
      "df[\"col\"][row_indexer] = value\n",
      "\n",
      "Use `df.loc[row_indexer, \"col\"] = values` instead, to perform the assignment in a single step and ensure this keeps updating the original `df`.\n",
      "\n",
      "See the caveats in the documentation: https://pandas.pydata.org/pandas-docs/stable/user_guide/indexing.html#returning-a-view-versus-a-copy\n",
      "\n",
      "  sample_gpt.text[1] = \"advent fireplace chimney family elf gingerbread mistletoe ornament reindeer scrooge walk drive jump bake laugh give sleep and the night\"\n",
      "/tmp/ipykernel_2586087/1086910791.py:4: SettingWithCopyWarning: \n",
      "A value is trying to be set on a copy of a slice from a DataFrame\n",
      "\n",
      "See the caveats in the documentation: https://pandas.pydata.org/pandas-docs/stable/user_guide/indexing.html#returning-a-view-versus-a-copy\n",
      "  sample_gpt.text[1] = \"advent fireplace chimney family elf gingerbread mistletoe ornament reindeer scrooge walk drive jump bake laugh give sleep and the night\"\n",
      "/tmp/ipykernel_2586087/1086910791.py:5: FutureWarning: ChainedAssignmentError: behaviour will change in pandas 3.0!\n",
      "You are setting values through chained assignment. Currently this works in certain cases, but when using Copy-on-Write (which will become the default behaviour in pandas 3.0) this will never work to update the original DataFrame or Series, because the intermediate object on which we are setting values will behave as a copy.\n",
      "A typical example is when you are setting values in a column of a DataFrame, like:\n",
      "\n",
      "df[\"col\"][row_indexer] = value\n",
      "\n",
      "Use `df.loc[row_indexer, \"col\"] = values` instead, to perform the assignment in a single step and ensure this keeps updating the original `df`.\n",
      "\n",
      "See the caveats in the documentation: https://pandas.pydata.org/pandas-docs/stable/user_guide/indexing.html#returning-a-view-versus-a-copy\n",
      "\n",
      "  sample_gpt.text[2] = \"yuletide holiday cheer decorations gifts carol magi ornament stocking chimney workshop sleigh holly jingle beard grinch polar naughty nice nutcracker\"\n",
      "/tmp/ipykernel_2586087/1086910791.py:5: SettingWithCopyWarning: \n",
      "A value is trying to be set on a copy of a slice from a DataFrame\n",
      "\n",
      "See the caveats in the documentation: https://pandas.pydata.org/pandas-docs/stable/user_guide/indexing.html#returning-a-view-versus-a-copy\n",
      "  sample_gpt.text[2] = \"yuletide holiday cheer decorations gifts carol magi ornament stocking chimney workshop sleigh holly jingle beard grinch polar naughty nice nutcracker\"\n",
      "/tmp/ipykernel_2586087/1086910791.py:6: FutureWarning: ChainedAssignmentError: behaviour will change in pandas 3.0!\n",
      "You are setting values through chained assignment. Currently this works in certain cases, but when using Copy-on-Write (which will become the default behaviour in pandas 3.0) this will never work to update the original DataFrame or Series, because the intermediate object on which we are setting values will behave as a copy.\n",
      "A typical example is when you are setting values in a column of a DataFrame, like:\n",
      "\n",
      "df[\"col\"][row_indexer] = value\n",
      "\n",
      "Use `df.loc[row_indexer, \"col\"] = values` instead, to perform the assignment in a single step and ensure this keeps updating the original `df`.\n",
      "\n",
      "See the caveats in the documentation: https://pandas.pydata.org/pandas-docs/stable/user_guide/indexing.html#returning-a-view-versus-a-copy\n",
      "\n",
      "  sample_gpt.text[3] = \"yuletide holiday cheer decorations gifts carol magi nutcracker ornament stocking chimney workshop sleigh holly jingle beard grinch polar naughty nice sing relax unwrap visit eat and of is the\"\n",
      "/tmp/ipykernel_2586087/1086910791.py:6: SettingWithCopyWarning: \n",
      "A value is trying to be set on a copy of a slice from a DataFrame\n",
      "\n",
      "See the caveats in the documentation: https://pandas.pydata.org/pandas-docs/stable/user_guide/indexing.html#returning-a-view-versus-a-copy\n",
      "  sample_gpt.text[3] = \"yuletide holiday cheer decorations gifts carol magi nutcracker ornament stocking chimney workshop sleigh holly jingle beard grinch polar naughty nice sing relax unwrap visit eat and of is the\"\n",
      "/tmp/ipykernel_2586087/1086910791.py:7: FutureWarning: ChainedAssignmentError: behaviour will change in pandas 3.0!\n",
      "You are setting values through chained assignment. Currently this works in certain cases, but when using Copy-on-Write (which will become the default behaviour in pandas 3.0) this will never work to update the original DataFrame or Series, because the intermediate object on which we are setting values will behave as a copy.\n",
      "A typical example is when you are setting values in a column of a DataFrame, like:\n",
      "\n",
      "df[\"col\"][row_indexer] = value\n",
      "\n",
      "Use `df.loc[row_indexer, \"col\"] = values` instead, to perform the assignment in a single step and ensure this keeps updating the original `df`.\n",
      "\n",
      "See the caveats in the documentation: https://pandas.pydata.org/pandas-docs/stable/user_guide/indexing.html#returning-a-view-versus-a-copy\n",
      "\n",
      "  sample_gpt.text[4] = \"hohoho merry season greeting card candle poinsettia snowglobe peppermint eggnog fruitcake chocolate candy puzzle toy doll workshop wrapping paper bow fireplace cookie milk star wreath angel wish hope dream wonder peace joy night of and to with in that have as you from we kaggle not it\"\n",
      "/tmp/ipykernel_2586087/1086910791.py:7: SettingWithCopyWarning: \n",
      "A value is trying to be set on a copy of a slice from a DataFrame\n",
      "\n",
      "See the caveats in the documentation: https://pandas.pydata.org/pandas-docs/stable/user_guide/indexing.html#returning-a-view-versus-a-copy\n",
      "  sample_gpt.text[4] = \"hohoho merry season greeting card candle poinsettia snowglobe peppermint eggnog fruitcake chocolate candy puzzle toy doll workshop wrapping paper bow fireplace cookie milk star wreath angel wish hope dream wonder peace joy night of and to with in that have as you from we kaggle not it\"\n",
      "/tmp/ipykernel_2586087/1086910791.py:8: FutureWarning: ChainedAssignmentError: behaviour will change in pandas 3.0!\n",
      "You are setting values through chained assignment. Currently this works in certain cases, but when using Copy-on-Write (which will become the default behaviour in pandas 3.0) this will never work to update the original DataFrame or Series, because the intermediate object on which we are setting values will behave as a copy.\n",
      "A typical example is when you are setting values in a column of a DataFrame, like:\n",
      "\n",
      "df[\"col\"][row_indexer] = value\n",
      "\n",
      "Use `df.loc[row_indexer, \"col\"] = values` instead, to perform the assignment in a single step and ensure this keeps updating the original `df`.\n",
      "\n",
      "See the caveats in the documentation: https://pandas.pydata.org/pandas-docs/stable/user_guide/indexing.html#returning-a-view-versus-a-copy\n",
      "\n",
      "  sample_gpt.text[5] = \"advent chimney fireplace family elf gingerbread mistletoe ornament reindeer scrooge walk drive jump bake laugh give sleep and night yuletide holiday cheer decorations gifts carol magi nutcracker ornament stocking chimney workshop sleigh holly jingle beard grinch polar naughty nice sing relax unwrap visit eat and hohoho merry season greeting card candle poinsettia snowglobe peppermint eggnog fruitcake chocolate candy puzzle toy doll workshop wrapping paper bow fireplace cookie milk star wreath angel wish hope dream wonder peace joy night of and to with in that have as you from we kaggle not it\"\n",
      "/tmp/ipykernel_2586087/1086910791.py:8: SettingWithCopyWarning: \n",
      "A value is trying to be set on a copy of a slice from a DataFrame\n",
      "\n",
      "See the caveats in the documentation: https://pandas.pydata.org/pandas-docs/stable/user_guide/indexing.html#returning-a-view-versus-a-copy\n",
      "  sample_gpt.text[5] = \"advent chimney fireplace family elf gingerbread mistletoe ornament reindeer scrooge walk drive jump bake laugh give sleep and night yuletide holiday cheer decorations gifts carol magi nutcracker ornament stocking chimney workshop sleigh holly jingle beard grinch polar naughty nice sing relax unwrap visit eat and hohoho merry season greeting card candle poinsettia snowglobe peppermint eggnog fruitcake chocolate candy puzzle toy doll workshop wrapping paper bow fireplace cookie milk star wreath angel wish hope dream wonder peace joy night of and to with in that have as you from we kaggle not it\"\n"
     ]
    }
   ],
   "source": [
    "sample_gpt = copy.deepcopy(df_sample)\n",
    "\n",
    "sample_gpt.text[0] = \"advent chimney fireplace family elf gingerbread mistletoe ornament reindeer scrooge\"\n",
    "sample_gpt.text[1] = \"advent fireplace chimney family elf gingerbread mistletoe ornament reindeer scrooge walk drive jump bake laugh give sleep and the night\"\n",
    "sample_gpt.text[2] = \"yuletide holiday cheer decorations gifts carol magi ornament stocking chimney workshop sleigh holly jingle beard grinch polar naughty nice nutcracker\"\n",
    "sample_gpt.text[3] = \"yuletide holiday cheer decorations gifts carol magi nutcracker ornament stocking chimney workshop sleigh holly jingle beard grinch polar naughty nice sing relax unwrap visit eat and of is the\"\n",
    "sample_gpt.text[4] = \"hohoho merry season greeting card candle poinsettia snowglobe peppermint eggnog fruitcake chocolate candy puzzle toy doll workshop wrapping paper bow fireplace cookie milk star wreath angel wish hope dream wonder peace joy night of and to with in that have as you from we kaggle not it\"\n",
    "sample_gpt.text[5] = \"advent chimney fireplace family elf gingerbread mistletoe ornament reindeer scrooge walk drive jump bake laugh give sleep and night yuletide holiday cheer decorations gifts carol magi nutcracker ornament stocking chimney workshop sleigh holly jingle beard grinch polar naughty nice sing relax unwrap visit eat and hohoho merry season greeting card candle poinsettia snowglobe peppermint eggnog fruitcake chocolate candy puzzle toy doll workshop wrapping paper bow fireplace cookie milk star wreath angel wish hope dream wonder peace joy night of and to with in that have as you from we kaggle not it\""
   ]
  },
  {
   "cell_type": "code",
   "execution_count": 32,
   "id": "c30940a6",
   "metadata": {},
   "outputs": [
    {
     "name": "stdout",
     "output_type": "stream",
     "text": [
      "True\n",
      "set()\n",
      "True\n",
      "set()\n",
      "True\n",
      "set()\n",
      "True\n",
      "set()\n",
      "False\n",
      "{'game', 'believe', 'the'}\n",
      "False\n",
      "{'game', 'is', 'believe', 'the'}\n"
     ]
    }
   ],
   "source": [
    "for i in range(6) :\n",
    "    print(set(df_sample.text.str.split()[i]) == set(sample_gpt.text.str.split()[i]))\n",
    "    print(set(df_sample.text.str.split()[i]) - set(sample_gpt.text.str.split()[i]))"
   ]
  },
  {
   "cell_type": "code",
   "execution_count": 20,
   "id": "92d3f58b",
   "metadata": {},
   "outputs": [],
   "source": [
    "sample_gpt.to_csv(\"sample_gpt.csv\")"
   ]
  },
  {
   "cell_type": "code",
   "execution_count": 21,
   "id": "ee518372",
   "metadata": {},
   "outputs": [
    {
     "name": "stderr",
     "output_type": "stream",
     "text": [
      "100%|██████████| 1.45k/1.45k [00:01<00:00, 1.36kB/s]\n"
     ]
    },
    {
     "name": "stdout",
     "output_type": "stream",
     "text": [
      "Successfully submitted to Santa 2024 - The Perplexity Permutation Puzzle"
     ]
    },
    {
     "data": {
      "text/plain": [
       "0"
      ]
     },
     "execution_count": 21,
     "metadata": {},
     "output_type": "execute_result"
    }
   ],
   "source": [
    "os.system(\"kaggle competitions submit -c santa-2024 -f sample_gpt.csv -m .\")"
   ]
  },
  {
   "cell_type": "markdown",
   "id": "097ec0b1",
   "metadata": {},
   "source": [
    "## 유전 알고리즘으로 해결하면 빠르려나?"
   ]
  },
  {
   "cell_type": "markdown",
   "id": "d3e10933",
   "metadata": {},
   "source": []
  }
 ],
 "metadata": {
  "kernelspec": {
   "display_name": "py",
   "language": "python",
   "name": "python3"
  },
  "language_info": {
   "codemirror_mode": {
    "name": "ipython",
    "version": 3
   },
   "file_extension": ".py",
   "mimetype": "text/x-python",
   "name": "python",
   "nbconvert_exporter": "python",
   "pygments_lexer": "ipython3",
   "version": "3.10.14"
  }
 },
 "nbformat": 4,
 "nbformat_minor": 5
}
