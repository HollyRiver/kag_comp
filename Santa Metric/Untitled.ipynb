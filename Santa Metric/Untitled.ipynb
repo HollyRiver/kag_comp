{
 "cells": [
  {
   "cell_type": "code",
   "execution_count": 15,
   "id": "b50aac55-10b5-4255-a478-b3b6d6dc7841",
   "metadata": {},
   "outputs": [],
   "source": [
    "import pandas as pd\n",
    "import numpy as np\n",
    "import os"
   ]
  },
  {
   "cell_type": "code",
   "execution_count": 5,
   "id": "10f2a387-a4e3-4ec4-af72-b5961d718107",
   "metadata": {},
   "outputs": [],
   "source": [
    "df_sample = pd.read_csv(\"sample_submission.csv\")"
   ]
  },
  {
   "cell_type": "code",
   "execution_count": 14,
   "id": "53c3287e-477a-492a-828a-18cd095da362",
   "metadata": {},
   "outputs": [
    {
     "data": {
      "text/plain": [
       "'advent chimney elf family fireplace gingerbread mistletoe ornament reindeer scrooge walk give jump drive bake the sleep night laugh and yuletide decorations gifts cheer holiday carol magi nutcracker polar grinch sleigh chimney workshop stocking ornament holly jingle beard naughty nice sing cheer and of the is eat visit relax unwrap hohoho candle poinsettia snowglobe peppermint eggnog fruitcake chocolate candy puzzle game doll toy workshop wonder believe dream hope peace joy merry season greeting card wrapping paper bow fireplace night cookie milk star wish wreath angel the to of and in that have it not with as you from we kaggle'"
      ]
     },
     "execution_count": 14,
     "metadata": {},
     "output_type": "execute_result"
    }
   ],
   "source": [
    "df_sample.text[5]"
   ]
  },
  {
   "cell_type": "code",
   "execution_count": 17,
   "id": "4bc49bf6-b17c-47a7-ab49-9273d3082f47",
   "metadata": {},
   "outputs": [
    {
     "name": "stderr",
     "output_type": "stream",
     "text": [
      "100%|██████████| 1.50k/1.50k [00:00<00:00, 1.60kB/s]\n"
     ]
    },
    {
     "name": "stdout",
     "output_type": "stream",
     "text": [
      "Successfully submitted to Santa 2024 - The Perplexity Permutation Puzzle"
     ]
    },
    {
     "data": {
      "text/plain": [
       "0"
      ]
     },
     "execution_count": 17,
     "metadata": {},
     "output_type": "execute_result"
    }
   ],
   "source": [
    "os.system(\"kaggle competitions submit -c santa-2024 -f sample_submission.csv -m .\")"
   ]
  },
  {
   "cell_type": "markdown",
   "id": "45ac7447-b60f-4850-8c94-beda149e7527",
   "metadata": {},
   "source": [
    "> 이게 다야? 그냥 이게 다라고?"
   ]
  }
 ],
 "metadata": {
  "kernelspec": {
   "display_name": "Python 3 (ipykernel)",
   "language": "python",
   "name": "python3"
  },
  "language_info": {
   "codemirror_mode": {
    "name": "ipython",
    "version": 3
   },
   "file_extension": ".py",
   "mimetype": "text/x-python",
   "name": "python",
   "nbconvert_exporter": "python",
   "pygments_lexer": "ipython3",
   "version": "3.10.14"
  }
 },
 "nbformat": 4,
 "nbformat_minor": 5
}
