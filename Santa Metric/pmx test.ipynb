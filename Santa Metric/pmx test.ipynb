{
 "cells": [
  {
   "cell_type": "code",
   "execution_count": 2,
   "metadata": {},
   "outputs": [],
   "source": [
    "import numpy as np"
   ]
  },
  {
   "cell_type": "code",
   "execution_count": 60,
   "metadata": {},
   "outputs": [
    {
     "data": {
      "text/plain": [
       "29"
      ]
     },
     "execution_count": 60,
     "metadata": {},
     "output_type": "execute_result"
    }
   ],
   "source": [
    "len(set(sample))"
   ]
  },
  {
   "cell_type": "code",
   "execution_count": 46,
   "metadata": {},
   "outputs": [],
   "source": [
    "sample = ['jingle', 'grinch', 'carol', 'polar', 'visit', 'cheer', 'unwrap', 'stocking',\n",
    "            'workshop', 'sing', 'the', 'holly', 'relax', 'ornament', 'chimney', 'magi',\n",
    "            'naughty', 'is', 'eat', 'nutcracker', 'cheer', 'yuletide', 'and', 'holiday',\n",
    "            'gifts', 'decorations', 'beard', 'sleigh', 'of', 'nice']\n",
    "\n",
    "verbs = [\"sing\", \"eat\", \"visit\", \"relax\", \"unwrap\", \"and\", \"of\", \"the\", \"is\"]\n",
    "\n",
    "vrbs_area = [len(verbs)//(2**(2-i)) for i in range(3)]\n",
    "othrs_area = [(len(sample) - len(verbs))//(2**(2-i)) for i in range(3)]\n",
    "\n",
    "mutation_chances = 1\n",
    "dupl = True"
   ]
  },
  {
   "cell_type": "code",
   "execution_count": 88,
   "metadata": {},
   "outputs": [],
   "source": [
    "def mutation_structure(p) :\n",
    "    origin = np.array(p)\n",
    "    lnth = len(origin)\n",
    "    \n",
    "    for _ in range(mutation_chances) :\n",
    "        ## mutation rate : default 50%\n",
    "        if np.random.random() > 0.33 :\n",
    "            dice = np.random.randint(0, 4) ## choice mutation method\n",
    "            \n",
    "            ## swap\n",
    "            if dice == 0 :\n",
    "                swap_area = np.random.choice([k for k in range(lnth)], size = 2, replace = False)\n",
    "                origin[swap_area[0]], origin[swap_area[1]] = origin[swap_area[1]], origin[swap_area[0]]\n",
    "                \n",
    "            ## move\n",
    "            elif dice == 1 :\n",
    "                moving_indx = np.random.randint(0, lnth)\n",
    "                mover = origin[moving_indx]\n",
    "                \n",
    "                moving_area = np.random.randint(0, lnth)\n",
    "                \n",
    "                ## trick\n",
    "                tmp = list(origin)\n",
    "                del tmp[moving_indx]\n",
    "                tmp.insert(moving_area, mover)\n",
    "                \n",
    "                origin = np.array(tmp)\n",
    "                \n",
    "            ## inverse\n",
    "            elif dice == 2 :\n",
    "                if np.random.random() < 0.5 :\n",
    "                    width = np.random.randint(3, 5)\n",
    "                    start = np.random.randint(0, lnth-width)\n",
    "                    origin[start:start+width] = origin[start:start+width][::-1]\n",
    "                \n",
    "            ## scramble\n",
    "            elif dice == 3 :\n",
    "                if np.random.random() < 0.5 :\n",
    "                    swap_size = np.random.randint(3, 5)\n",
    "                    swap_area = np.random.choice([i for i in range(lnth)], size = swap_size, replace = False)\n",
    "                    \n",
    "                    origin[swap_area] = np.random.permutation(np.array(origin)[swap_area])\n",
    "    \n",
    "    return origin\n",
    "\n",
    "\n",
    "def dupl_cleaner(p, clean_type) :\n",
    "    \"\"\"\n",
    "    for handling duplication\n",
    "\n",
    "    Args:\n",
    "        p (List[str]): token list\n",
    "        clean_type (str): if input \"labeling\" then add numbering for duplicated token\n",
    "\n",
    "    Returns:\n",
    "        prnt (List[str])\n",
    "    \"\"\"\n",
    "    prnt = p.copy()\n",
    "    \n",
    "    if clean_type == \"labeling\" :    \n",
    "        for t in set(p) :\n",
    "            times = sum(np.array(p) == t)\n",
    "            rep = 1\n",
    "            \n",
    "            if times > 1 :\n",
    "                for j, k in enumerate(p) :\n",
    "                    if k == t :\n",
    "                        prnt[j] = f\"{t}{rep}\"\n",
    "                        rep += 1\n",
    "                        \n",
    "    else :\n",
    "        for j, t in enumerate(p) :\n",
    "            try :\n",
    "                int(t[-1])\n",
    "                prnt[j] = t[:-1]\n",
    "            except :\n",
    "                pass\n",
    "                    \n",
    "    return prnt\n",
    "    \n",
    "\n",
    "def PMX(p1, p2, mapping_area) :\n",
    "    parents = [p1, p2]\n",
    "    childs = []\n",
    "    \n",
    "    for i in range(2) :\n",
    "        main_set = parents[i]\n",
    "        sub_set = parents[1-i]\n",
    "        \n",
    "        ## PMX\n",
    "        if np.random.random() < 0.4 :\n",
    "            width = np.random.randint(mapping_area[0], mapping_area[2])\n",
    "        \n",
    "        else :\n",
    "            width = np.random.randint(mapping_area[0], mapping_area[1])\n",
    "        \n",
    "        start = np.random.randint(0, mapping_area[2] - width)\n",
    "        child = [\" \" for _ in range(len(p1))]\n",
    "        child[start:start+width] = main_set[start:start+width]\n",
    "        \n",
    "        ## mapping\n",
    "        mapping_set = set(sub_set[start:start+width]) - set(main_set[start:start+width])\n",
    "        \n",
    "        for t in mapping_set :\n",
    "            sub = np.where(np.array(sub_set) == t)[0][0]\n",
    "            \n",
    "            for k in range(mapping_area[2]) :\n",
    "                sub = np.where(np.array(sub_set) == main_set[sub])[0][0]\n",
    "                \n",
    "                if (sub < start) | (sub >= start+width) :\n",
    "                    child[sub] = t\n",
    "                    break\n",
    "            \n",
    "        ## remain set\n",
    "        current_set = [t for t in child if t != \" \"]\n",
    "        remain_set = [t for t in sub_set if t not in current_set]\n",
    "        \n",
    "        empty_indx = [i for i, t in enumerate(child) if t == \" \"]\n",
    "        \n",
    "        for k, ind in enumerate(empty_indx) :\n",
    "            child[ind] = remain_set[k]\n",
    "            \n",
    "        childs.append(child)\n",
    "    \n",
    "    return childs\n",
    "\n",
    "def crossover(p1, p2, p3, verbs, mutation_chances = 1) :\n",
    "    structure = [None for _ in range(len(p1))]\n",
    "    vrbs = [[t for t in p2 if t in verbs], [t for t in p3 if t in verbs]]\n",
    "    othrs = [[t for t in p2 if t not in verbs], [t for t in p3 if t not in verbs]]\n",
    "    \n",
    "    childs = []\n",
    "    \n",
    "    for i, t in enumerate(p1) :\n",
    "        structure[i] = t in verbs\n",
    "    \n",
    "    if mutation_chances > 0 :\n",
    "        structure = mutation_structure(structure)\n",
    "\n",
    "    ## crossover\n",
    "    if dupl :\n",
    "        for i in range(2) :\n",
    "            vrbs[i] = dupl_cleaner(vrbs[i], \"labeling\")\n",
    "            othrs[i] = dupl_cleaner(othrs[i], \"labeling\")\n",
    "    \n",
    "    vrbs_childs = PMX(vrbs[0], vrbs[1], vrbs_area) ## two sets\n",
    "    othrs_childs = PMX(othrs[0], othrs[1], othrs_area) ## two sets\n",
    "    \n",
    "    if dupl :\n",
    "        for i in range(2) :\n",
    "            vrbs_childs[i] = dupl_cleaner(vrbs_childs[i], \"cleaning\")\n",
    "            othrs_childs[i] = dupl_cleaner(othrs_childs[i], \"cleaning\")\n",
    "    \n",
    "    ## merge childs\n",
    "    for i in range(4) :\n",
    "        child = [\"\" for _ in range(len(p1))]\n",
    "        \n",
    "        a = 0\n",
    "        b = 0\n",
    "        \n",
    "        for j, s in enumerate(structure) :\n",
    "            vrbs = vrbs_childs[i//2]\n",
    "            othrs = othrs_childs[i%2]\n",
    "            \n",
    "            if s :\n",
    "                child[j] = vrbs[a]\n",
    "                a += 1\n",
    "            else :\n",
    "                child[j] = othrs[b]\n",
    "                b += 1\n",
    "            \n",
    "        childs.append(child)\n",
    "    \n",
    "    return childs ## return 4 childs"
   ]
  },
  {
   "cell_type": "code",
   "execution_count": 77,
   "metadata": {},
   "outputs": [],
   "source": [
    "## duplication 처리 함수 문제 없음\n",
    "for _ in range(10000) :\n",
    "    if set(dupl_cleaner(dupl_cleaner(sample, \"labeling\"), \"cleaning\")) != set(sample) :\n",
    "        print(\"asdf\")"
   ]
  },
  {
   "cell_type": "code",
   "execution_count": 49,
   "metadata": {},
   "outputs": [],
   "source": [
    "p1 = np.random.permutation(sample)\n",
    "p2 = np.random.permutation(sample)\n",
    "p3 = np.random.permutation(sample)"
   ]
  },
  {
   "cell_type": "markdown",
   "metadata": {},
   "source": [
    "`-` PMX에서 오류 발견"
   ]
  },
  {
   "cell_type": "code",
   "execution_count": 89,
   "metadata": {},
   "outputs": [
    {
     "data": {
      "text/plain": [
       "[[np.str_('visit'),\n",
       "  np.str_('holiday'),\n",
       "  np.str_('cheer1'),\n",
       "  np.str_('jingle'),\n",
       "  np.str_('the'),\n",
       "  np.str_('chimney'),\n",
       "  np.str_('beard'),\n",
       "  np.str_('ornament'),\n",
       "  np.str_('carol'),\n",
       "  np.str_('magi'),\n",
       "  np.str_('nice'),\n",
       "  np.str_('eat'),\n",
       "  np.str_('of'),\n",
       "  np.str_('decorations'),\n",
       "  np.str_('nutcracker'),\n",
       "  np.str_('gifts'),\n",
       "  np.str_('yuletide'),\n",
       "  np.str_('unwrap'),\n",
       "  np.str_('holly'),\n",
       "  np.str_('grinch'),\n",
       "  np.str_('workshop'),\n",
       "  np.str_('sing'),\n",
       "  np.str_('polar'),\n",
       "  np.str_('and'),\n",
       "  np.str_('cheer2'),\n",
       "  np.str_('is'),\n",
       "  np.str_('sleigh'),\n",
       "  np.str_('stocking'),\n",
       "  np.str_('naughty'),\n",
       "  np.str_('relax')],\n",
       " [np.str_('nutcracker'),\n",
       "  np.str_('holiday'),\n",
       "  np.str_('unwrap'),\n",
       "  np.str_('relax'),\n",
       "  np.str_('gifts'),\n",
       "  np.str_('visit'),\n",
       "  np.str_('beard'),\n",
       "  np.str_('ornament'),\n",
       "  np.str_('carol'),\n",
       "  np.str_('magi'),\n",
       "  np.str_('nice'),\n",
       "  np.str_('eat'),\n",
       "  np.str_('of'),\n",
       "  np.str_('holly'),\n",
       "  np.str_('the'),\n",
       "  np.str_('decorations'),\n",
       "  np.str_('chimney'),\n",
       "  np.str_('cheer1'),\n",
       "  np.str_('yuletide'),\n",
       "  np.str_('grinch'),\n",
       "  np.str_('workshop'),\n",
       "  np.str_('sing'),\n",
       "  np.str_('polar'),\n",
       "  np.str_('and'),\n",
       "  np.str_('cheer2'),\n",
       "  np.str_('is'),\n",
       "  np.str_('sleigh'),\n",
       "  np.str_('stocking'),\n",
       "  np.str_('naughty'),\n",
       "  np.str_('jingle')]]"
      ]
     },
     "execution_count": 89,
     "metadata": {},
     "output_type": "execute_result"
    }
   ],
   "source": [
    "PMX(dupl_cleaner(p1, \"labeling\"), dupl_cleaner(p2, \"labeling\"), [7, 15, 30])"
   ]
  },
  {
   "cell_type": "code",
   "execution_count": 85,
   "metadata": {},
   "outputs": [
    {
     "data": {
      "text/plain": [
       "['visit eat and jingle magi beard chimney of is nutcracker holiday eat of is the decorations polar cheer yuletide workshop grinch and yuletide ornament nice gifts the carol cheer unwrap',\n",
       " 'nutcracker holiday sing naughty relax sleigh visit is beard ornament magi nice eat carol of the carol unwrap holly grinch workshop sing polar and cheer is decorations yuletide chimney gifts']"
      ]
     },
     "execution_count": 85,
     "metadata": {},
     "output_type": "execute_result"
    }
   ],
   "source": [
    "[\" \".join(child) for child in PMX(p1, p2, [7, 15, 30])]"
   ]
  },
  {
   "cell_type": "code",
   "execution_count": 51,
   "metadata": {},
   "outputs": [],
   "source": [
    "childs = crossover(p1, p2, p3, verbs = verbs)"
   ]
  },
  {
   "cell_type": "code",
   "execution_count": 61,
   "metadata": {},
   "outputs": [
    {
     "data": {
      "text/plain": [
       "[24, 25, 25, 26]"
      ]
     },
     "execution_count": 61,
     "metadata": {},
     "output_type": "execute_result"
    }
   ],
   "source": [
    "[len(set(child)) for child in childs]"
   ]
  },
  {
   "cell_type": "code",
   "execution_count": 17,
   "metadata": {},
   "outputs": [
    {
     "data": {
      "text/plain": [
       "[[np.int64(5),\n",
       "  np.int64(8),\n",
       "  np.int64(1),\n",
       "  np.int64(2),\n",
       "  np.int64(4),\n",
       "  np.int64(5),\n",
       "  np.int64(6),\n",
       "  np.int64(7),\n",
       "  np.int64(4),\n",
       "  np.int64(6)],\n",
       " [np.int64(7),\n",
       "  np.int64(0),\n",
       "  np.int64(1),\n",
       "  np.int64(4),\n",
       "  np.int64(2),\n",
       "  np.int64(7),\n",
       "  np.int64(3),\n",
       "  np.int64(5),\n",
       "  np.int64(1),\n",
       "  np.int64(6)]]"
      ]
     },
     "execution_count": 17,
     "metadata": {},
     "output_type": "execute_result"
    }
   ],
   "source": [
    "a = np.array([i for i in range(10)])\n",
    "b = np.array([5,8,1,4,2,7,9,0,3,6])\n",
    "\n",
    "PMX(a, b, [2, 5, 10])"
   ]
  },
  {
   "cell_type": "code",
   "execution_count": null,
   "metadata": {},
   "outputs": [],
   "source": []
  }
 ],
 "metadata": {
  "kernelspec": {
   "display_name": "trch",
   "language": "python",
   "name": "python3"
  },
  "language_info": {
   "codemirror_mode": {
    "name": "ipython",
    "version": 3
   },
   "file_extension": ".py",
   "mimetype": "text/x-python",
   "name": "python",
   "nbconvert_exporter": "python",
   "pygments_lexer": "ipython3",
   "version": "3.12.8"
  }
 },
 "nbformat": 4,
 "nbformat_minor": 2
}
