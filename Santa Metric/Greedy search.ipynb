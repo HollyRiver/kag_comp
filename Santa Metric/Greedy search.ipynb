{
 "cells": [
  {
   "cell_type": "markdown",
   "metadata": {},
   "source": [
    "첫 샘플의 베스트\n",
    "\n",
    "\"reindeer mistletoe elf gingerbread family advent scrooge chimney fireplace ornament\""
   ]
  },
  {
   "cell_type": "markdown",
   "metadata": {},
   "source": [
    "## 그리디 서치"
   ]
  },
  {
   "cell_type": "markdown",
   "metadata": {},
   "source": [
    "`-` 그리디 서치는 최적 방법을 산출하기 어렵지만, 계산이 간단하다. 한 번 해보자."
   ]
  },
  {
   "cell_type": "markdown",
   "metadata": {},
   "source": []
  }
 ],
 "metadata": {
  "language_info": {
   "name": "python"
  }
 },
 "nbformat": 4,
 "nbformat_minor": 2
}
