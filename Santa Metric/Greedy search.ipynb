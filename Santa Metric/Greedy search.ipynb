{
 "cells": [
  {
   "cell_type": "markdown",
   "metadata": {},
   "source": [
    "첫 샘플의 베스트\n",
    "\n",
    "\"reindeer mistletoe elf gingerbread family advent scrooge chimney fireplace ornament\""
   ]
  },
  {
   "cell_type": "code",
   "execution_count": 15,
   "metadata": {},
   "outputs": [],
   "source": [
    "import gc ## for memory\n",
    "import os\n",
    "import copy\n",
    "from math import exp\n",
    "from collections import Counter\n",
    "from typing import List, Optional, Union\n",
    "\n",
    "import numpy as np\n",
    "import pandas as pd\n",
    "import transformers\n",
    "import torch\n",
    "\n",
    "from kaggle_evaluate import PerplexityCalculator"
   ]
  },
  {
   "cell_type": "code",
   "execution_count": 2,
   "metadata": {},
   "outputs": [],
   "source": [
    "df_sample = pd.read_csv(\"sample_submission.csv\")"
   ]
  },
  {
   "cell_type": "code",
   "execution_count": 3,
   "metadata": {},
   "outputs": [
    {
     "data": {
      "text/plain": [
       "['advent',\n",
       " 'chimney',\n",
       " 'elf',\n",
       " 'family',\n",
       " 'fireplace',\n",
       " 'gingerbread',\n",
       " 'mistletoe',\n",
       " 'ornament',\n",
       " 'reindeer',\n",
       " 'scrooge',\n",
       " 'walk',\n",
       " 'give',\n",
       " 'jump',\n",
       " 'drive',\n",
       " 'bake',\n",
       " 'the',\n",
       " 'sleep',\n",
       " 'night',\n",
       " 'laugh',\n",
       " 'and']"
      ]
     },
     "execution_count": 3,
     "metadata": {},
     "output_type": "execute_result"
    }
   ],
   "source": [
    "df_sample.text[1].split()"
   ]
  },
  {
   "cell_type": "markdown",
   "metadata": {},
   "source": [
    "## 그리디 서치"
   ]
  },
  {
   "cell_type": "markdown",
   "metadata": {},
   "source": [
    "그리디 서치는 최적 방법을 산출하기 어렵지만, 계산이 간단하다. 한 번 해보자."
   ]
  },
  {
   "cell_type": "markdown",
   "metadata": {},
   "source": [
    "### Starter 생성 : GPT"
   ]
  },
  {
   "cell_type": "code",
   "execution_count": 4,
   "metadata": {},
   "outputs": [],
   "source": [
    "starter = {\n",
    "0 : \"reindeer mistletoe elf gingerbread family advent scrooge chimney fireplace ornament\",\n",
    "\n",
    "1 : \"reindeer mistletoe elf gingerbread family advent scrooge chimney fireplace ornament walk jump drive bake give sleep laugh the night and\",\n",
    "\n",
    "2 : \"yuletide cheer gifts holiday carol decorations magi polar grinch nutcracker sleigh chimney workshop stocking holly ornament jingle beard naughty nice\",\n",
    "\n",
    "3 : \"yuletide cheer holiday carol gifts decorations polar grinch nutcracker magi sleigh chimney workshop stocking holly ornament jingle beard naughty nice sing relax eat cheer unwrap visit of the and is\",\n",
    "\n",
    "4 : \"poinsettia candle snowglobe peppermint hohoho eggnog chocolate fruitcake candy puzzle doll toy game workshop wrapping bow card greeting season joy merry peace hope believe dream wonder angel cookie milk wreath night star fireplace wish paper the to and of in have not as you that it with we from kaggle\",\n",
    "\n",
    "5 : \"reindeer mistletoe elf gingerbread family advent scrooge chimney fireplace ornament walk jump drive bake give sleep laugh the night and yuletide cheer gifts holiday carol decorations magi polar grinch nutcracker sleigh chimney workshop stocking holly ornament jingle beard naughty nice sing relax eat cheer unwrap visit of the and is poinsettia candle snowglobe peppermint hohoho eggnog chocolate fruitcake candy puzzle doll toy game workshop wrapping bow card greeting season joy merry peace hope believe dream wonder angel cookie milk wreath night star fireplace wish paper the to and of in have not as you that it with we from kaggle\"\n",
    "}"
   ]
  },
  {
   "cell_type": "code",
   "execution_count": 5,
   "metadata": {},
   "outputs": [
    {
     "data": {
      "text/plain": [
       "0     10\n",
       "1     20\n",
       "2     20\n",
       "3     30\n",
       "4     50\n",
       "5    100\n",
       "Name: text, dtype: int64"
      ]
     },
     "execution_count": 5,
     "metadata": {},
     "output_type": "execute_result"
    }
   ],
   "source": [
    "df_sample.text.str.split().map(lambda x : len(x))"
   ]
  },
  {
   "cell_type": "code",
   "execution_count": 6,
   "metadata": {},
   "outputs": [
    {
     "name": "stdout",
     "output_type": "stream",
     "text": [
      "True\n",
      "True\n",
      "True\n",
      "True\n",
      "True\n"
     ]
    }
   ],
   "source": [
    "for i in range(5) :\n",
    "    print(set(df_sample.text[i+1].split()) == set(list(starter.values())[i+1].split()))"
   ]
  },
  {
   "cell_type": "code",
   "execution_count": 6,
   "metadata": {},
   "outputs": [],
   "source": [
    "df_submission = pd.DataFrame({\"id\":[0,1,2,3,4,5],\"text\":list(starter.values())})\n",
    "df_submission.to_csv(\"gpt_starter.csv\")"
   ]
  },
  {
   "cell_type": "code",
   "execution_count": 58,
   "metadata": {},
   "outputs": [
    {
     "name": "stderr",
     "output_type": "stream",
     "text": [
      "100%|██████████| 1.50k/1.50k [00:00<00:00, 1.58kB/s]\n"
     ]
    },
    {
     "name": "stdout",
     "output_type": "stream",
     "text": [
      "Successfully submitted to Santa 2024 - The Perplexity Permutation Puzzle"
     ]
    },
    {
     "data": {
      "text/plain": [
       "0"
      ]
     },
     "execution_count": 58,
     "metadata": {},
     "output_type": "execute_result"
    }
   ],
   "source": [
    "os.system(\"kaggle competitions submit -c santa-2024 -f gpt_starter.csv -m .\")"
   ]
  },
  {
   "cell_type": "markdown",
   "metadata": {},
   "source": [
    "`-` 그리디 알고리즘 적용"
   ]
  },
  {
   "cell_type": "code",
   "execution_count": 7,
   "metadata": {},
   "outputs": [
    {
     "data": {
      "application/vnd.jupyter.widget-view+json": {
       "model_id": "deaef9b3673341929877211007445d34",
       "version_major": 2,
       "version_minor": 0
      },
      "text/plain": [
       "Loading checkpoint shards:   0%|          | 0/8 [00:00<?, ?it/s]"
      ]
     },
     "metadata": {},
     "output_type": "display_data"
    }
   ],
   "source": [
    "evaluatr = PerplexityCalculator(\"google/gemma-2-9b\")"
   ]
  },
  {
   "cell_type": "code",
   "execution_count": 8,
   "metadata": {},
   "outputs": [],
   "source": [
    "all_tokens = [l.split() for l in list(starter.values())]"
   ]
  },
  {
   "cell_type": "markdown",
   "metadata": {},
   "source": [
    "1. 첫 번째 단어 빼고 후보군 구성\n",
    "2. 각 단어들을 붙여가며 스코어 산출\n",
    "3. 최선의 결과 산출, 단어 인덱스로 제거하여 후보군 갱신"
   ]
  },
  {
   "cell_type": "code",
   "execution_count": 10,
   "metadata": {},
   "outputs": [
    {
     "name": "stdout",
     "output_type": "stream",
     "text": [
      "cycle rooped\n",
      "cycle rooped\n",
      "cycle rooped\n",
      "cycle rooped\n",
      "cycle rooped\n",
      "cycle rooped\n"
     ]
    }
   ],
   "source": [
    "best_word = []\n",
    "\n",
    "for i, tokens in enumerate(all_tokens) :\n",
    "    words = [tokens[0]]\n",
    "    token_list = tokens[1:]\n",
    "    \n",
    "    for j in range(len(tokens)-1) :\n",
    "        word_list = []\n",
    "        for t in token_list :\n",
    "            word_list.append(\" \".join(words + [t]))\n",
    "            \n",
    "        perplexities = evaluatr.get_perplexity(word_list, batch_size = 1024)\n",
    "        min_index = np.argmin(perplexities)\n",
    "        words = words + [token_list[min_index]]\n",
    "        \n",
    "        del token_list[min_index]\n",
    "\n",
    "    print(f\"cycle rooped\")\n",
    "        \n",
    "    best_word.append(words)"
   ]
  },
  {
   "cell_type": "code",
   "execution_count": 11,
   "metadata": {},
   "outputs": [
    {
     "data": {
      "text/plain": [
       "'reindeer mistletoe elf gingerbread family advent scrooge chimney fireplace ornament'"
      ]
     },
     "execution_count": 11,
     "metadata": {},
     "output_type": "execute_result"
    }
   ],
   "source": [
    "list(starter.values())[0]"
   ]
  },
  {
   "cell_type": "code",
   "execution_count": 12,
   "metadata": {},
   "outputs": [],
   "source": [
    "df_submission = pd.DataFrame({\"id\":[0,1,2,3,4,5], \"text\":[\" \".join(w) for w in best_word]})"
   ]
  },
  {
   "cell_type": "code",
   "execution_count": 15,
   "metadata": {},
   "outputs": [],
   "source": [
    "df_submission.iloc[0, 1] = list(starter.values())[0]"
   ]
  },
  {
   "cell_type": "code",
   "execution_count": 17,
   "metadata": {},
   "outputs": [],
   "source": [
    "df_submission.to_csv(\"greedy.csv\")"
   ]
  },
  {
   "cell_type": "code",
   "execution_count": 18,
   "metadata": {},
   "outputs": [
    {
     "name": "stderr",
     "output_type": "stream",
     "text": [
      "100%|██████████| 1.50k/1.50k [00:00<00:00, 1.60kB/s]\n"
     ]
    },
    {
     "name": "stdout",
     "output_type": "stream",
     "text": [
      "Successfully submitted to Santa 2024 - The Perplexity Permutation Puzzle"
     ]
    },
    {
     "data": {
      "text/plain": [
       "0"
      ]
     },
     "execution_count": 18,
     "metadata": {},
     "output_type": "execute_result"
    }
   ],
   "source": [
    "os.system(\"kaggle competitions submit -c santa-2024 -f greedy.csv -m .\")"
   ]
  },
  {
   "cell_type": "markdown",
   "metadata": {},
   "source": [
    "`-` 그리디 서치 개선(방향 추가)"
   ]
  },
  {
   "cell_type": "code",
   "execution_count": null,
   "metadata": {},
   "outputs": [],
   "source": [
    "best_word = []\n",
    "\n",
    "for i, tokens in enumerate(all_tokens) :\n",
    "    words = [tokens[0]]\n",
    "    token_list = tokens[1:]\n",
    "    \n",
    "    for j in range(len(tokens)-1) :\n",
    "        word_list = []\n",
    "        additived_words = []\n",
    "        \n",
    "        for t in token_list :\n",
    "            for k in range(len(words)+1) :\n",
    "                words.insert(k, t)\n",
    "                word_list.append(\" \".join(words))\n",
    "                \n",
    "                del words[k]\n",
    "                \n",
    "                additived_words.append(t)\n",
    "            \n",
    "        perplexities = evaluatr.get_perplexity(word_list, batch_size = 1024)\n",
    "        min_index = np.argmin(perplexities)\n",
    "        words = word_list[min_index].split()\n",
    "        \n",
    "        token_list.remove(additived_words[min_index])\n",
    "\n",
    "    print(f\"cycle rooped\")\n",
    "        \n",
    "    best_word.append(words)"
   ]
  },
  {
   "cell_type": "code",
   "execution_count": null,
   "metadata": {},
   "outputs": [],
   "source": [
    "df_greedy2 = pd.read_csv(\"greedy2.csv\", index_col=0)"
   ]
  },
  {
   "cell_type": "code",
   "execution_count": null,
   "metadata": {},
   "outputs": [],
   "source": [
    "df_greedy2.iloc[0, 1] = \"reindeer mistletoe elf gingerbread family advent scrooge chimney fireplace ornament\"\n",
    "df_greedy2.to_csv(\"greedy2_brute.csv\")"
   ]
  },
  {
   "cell_type": "code",
   "execution_count": null,
   "metadata": {},
   "outputs": [
    {
     "name": "stderr",
     "output_type": "stream",
     "text": [
      "100%|██████████| 1.50k/1.50k [00:00<00:00, 1.60kB/s]\n"
     ]
    },
    {
     "name": "stdout",
     "output_type": "stream",
     "text": [
      "Successfully submitted to Santa 2024 - The Perplexity Permutation Puzzle"
     ]
    },
    {
     "data": {
      "text/plain": [
       "0"
      ]
     },
     "metadata": {},
     "output_type": "display_data"
    }
   ],
   "source": [
    "os.system(\"kaggle competitions submit -c santa-2024 -f greedy2_brute.csv -m .\")"
   ]
  }
 ],
 "metadata": {
  "kernelspec": {
   "display_name": "trch",
   "language": "python",
   "name": "python3"
  },
  "language_info": {
   "codemirror_mode": {
    "name": "ipython",
    "version": 3
   },
   "file_extension": ".py",
   "mimetype": "text/x-python",
   "name": "python",
   "nbconvert_exporter": "python",
   "pygments_lexer": "ipython3",
   "version": "3.12.2"
  }
 },
 "nbformat": 4,
 "nbformat_minor": 2
}
