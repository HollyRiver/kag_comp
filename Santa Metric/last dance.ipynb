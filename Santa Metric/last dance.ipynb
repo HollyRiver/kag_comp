{
 "cells": [
  {
   "cell_type": "code",
   "execution_count": 2,
   "metadata": {},
   "outputs": [],
   "source": [
    "import pandas as pd\n",
    "import numpy as np\n",
    "import itertools\n",
    "\n",
    "from algorithm import PerplexityCalculator"
   ]
  },
  {
   "cell_type": "code",
   "execution_count": 2,
   "metadata": {},
   "outputs": [],
   "source": [
    "sample = ['the', 'grinch', 'eat', 'not', 'you', 'scrooge', 'and', 'hohoho', 'yuletide',\n",
    "  'greeting', 'have', 'merry', 'unwrap', 'give', 'as', 'we', 'the', 'of', 'to',\n",
    "  'from', 'toy', 'doll', 'ornament', 'snowglobe', 'card', 'game', 'puzzle',\n",
    "  'advent', 'candle', 'wreath', 'cookie', 'bake', 'fruitcake', 'gingerbread',\n",
    "  'candy', 'peppermint', 'chocolate', 'milk', 'and', 'eggnog', 'sleigh', 'drive',\n",
    "  'reindeer', 'jump', 'polar', 'kaggle', 'beard', 'elf', 'workshop', 'workshop',\n",
    "  'naughty', 'nice', 'wrapping', 'paper', 'bow', 'ornament', 'nutcracker',\n",
    "  'poinsettia', 'holly', 'mistletoe', 'jingle', 'relax', 'family', 'laugh',\n",
    "  'joy', 'peace', 'sleep', 'dream', 'wish', 'hope', 'believe', 'wonder', 'magi',\n",
    "  'visit', 'with', 'gifts', 'in', 'stocking', 'chimney', 'fireplace',\n",
    "  'fireplace', 'chimney', 'star', 'angel', 'night', 'night', 'walk', 'carol',\n",
    "  'sing', 'holiday', 'decorations', 'that', 'it', 'is', 'the', 'season', 'of',\n",
    "  'cheer', 'and', 'cheer']"
   ]
  },
  {
   "cell_type": "code",
   "execution_count": 3,
   "metadata": {},
   "outputs": [
    {
     "data": {
      "application/vnd.jupyter.widget-view+json": {
       "model_id": "48020e4625524c01844e3edde55734d2",
       "version_major": 2,
       "version_minor": 0
      },
      "text/plain": [
       "Loading checkpoint shards:   0%|          | 0/8 [00:00<?, ?it/s]"
      ]
     },
     "metadata": {},
     "output_type": "display_data"
    }
   ],
   "source": [
    "evaluatr = PerplexityCalculator(\"google/gemma-2-9b\")"
   ]
  },
  {
   "cell_type": "code",
   "execution_count": 4,
   "metadata": {},
   "outputs": [],
   "source": [
    "best_perplexity = evaluatr.get_perplexity(\" \".join(sample), batch_size = 4)\n",
    "evaluatr.clear_gpu_memory()"
   ]
  },
  {
   "cell_type": "code",
   "execution_count": 5,
   "metadata": {},
   "outputs": [
    {
     "name": "stdout",
     "output_type": "stream",
     "text": [
      "8478\n"
     ]
    },
    {
     "data": {
      "application/vnd.jupyter.widget-view+json": {
       "model_id": "40c87c7cd4f24ccf8a89c7b3ffc484ed",
       "version_major": 2,
       "version_minor": 0
      },
      "text/plain": [
       "Loading checkpoint shards:   0%|          | 0/8 [00:00<?, ?it/s]"
      ]
     },
     "metadata": {},
     "output_type": "display_data"
    },
    {
     "name": "stdout",
     "output_type": "stream",
     "text": [
      "new best : [np.str_('not the grinch eat you scrooge and hohoho yuletide greeting have merry unwrap give as we the of to from toy doll ornament snowglobe card game puzzle advent candle wreath cookie bake fruitcake gingerbread candy peppermint chocolate milk and eggnog sleigh drive reindeer jump polar kaggle beard elf workshop workshop naughty nice wrapping paper bow ornament nutcracker poinsettia holly mistletoe jingle relax family laugh joy peace sleep dream wish hope believe wonder magi visit with gifts in stocking chimney fireplace fireplace chimney star angel night night walk carol sing holiday decorations that it is the season of cheer and cheer'), np.float64(61.14702744030778)]\n",
      "8478\n"
     ]
    },
    {
     "data": {
      "application/vnd.jupyter.widget-view+json": {
       "model_id": "ee1cda41b8b64deb84ea4c6cc802e6a5",
       "version_major": 2,
       "version_minor": 0
      },
      "text/plain": [
       "Loading checkpoint shards:   0%|          | 0/8 [00:00<?, ?it/s]"
      ]
     },
     "metadata": {},
     "output_type": "display_data"
    },
    {
     "name": "stdout",
     "output_type": "stream",
     "text": [
      "new best : [np.str_('not the grinch eat you scrooge and hohoho yuletide greeting have merry unwrap give as we the of to from toy doll ornament snowglobe card game puzzle advent candle wreath cookie bake fruitcake gingerbread candy peppermint chocolate milk and eggnog sleigh drive reindeer jump polar kaggle beard elf workshop workshop naughty nice wrapping paper bow ornament nutcracker poinsettia holly mistletoe jingle joy peace family laugh relax sleep dream wish hope believe wonder magi visit with gifts in stocking chimney fireplace fireplace chimney star angel night night walk carol sing holiday decorations that it is the season of cheer and cheer'), np.float64(60.67117749756472)]\n",
      "8478\n"
     ]
    },
    {
     "data": {
      "application/vnd.jupyter.widget-view+json": {
       "model_id": "e314678d301143a0b2d003f94cb964d4",
       "version_major": 2,
       "version_minor": 0
      },
      "text/plain": [
       "Loading checkpoint shards:   0%|          | 0/8 [00:00<?, ?it/s]"
      ]
     },
     "metadata": {},
     "output_type": "display_data"
    },
    {
     "name": "stdout",
     "output_type": "stream",
     "text": [
      "new best : [np.str_('not the grinch eat you scrooge and hohoho yuletide greeting have merry unwrap give as we the of to from toy doll game puzzle card ornament snowglobe advent candle wreath cookie bake fruitcake gingerbread candy peppermint chocolate milk and eggnog sleigh drive reindeer jump polar kaggle beard elf workshop workshop naughty nice wrapping paper bow ornament nutcracker poinsettia holly mistletoe jingle joy peace family laugh relax sleep dream wish hope believe wonder magi visit with gifts in stocking chimney fireplace fireplace chimney star angel night night walk carol sing holiday decorations that it is the season of cheer and cheer'), np.float64(60.434642992688794)]\n",
      "8478\n"
     ]
    },
    {
     "data": {
      "application/vnd.jupyter.widget-view+json": {
       "model_id": "5b8f0bb988bf4fd8806a9e821cbc977b",
       "version_major": 2,
       "version_minor": 0
      },
      "text/plain": [
       "Loading checkpoint shards:   0%|          | 0/8 [00:00<?, ?it/s]"
      ]
     },
     "metadata": {},
     "output_type": "display_data"
    },
    {
     "name": "stdout",
     "output_type": "stream",
     "text": [
      "cannot find new best set in width 5!\n"
     ]
    }
   ],
   "source": [
    "for k in range(50) :\n",
    "    width = 5\n",
    "    all_subset = []\n",
    "\n",
    "    for i in range(len(sample) - width) :\n",
    "        all_subset = all_subset + [\" \".join(sample[:i] + list(set) + sample[width+i:]) for set in itertools.permutations(sample[i:width+i])]\n",
    "        \n",
    "\n",
    "    all_subset = np.unique(all_subset)\n",
    "    print(len(all_subset))\n",
    "\n",
    "    evaluatr = PerplexityCalculator(\"google/gemma-2-9b\")\n",
    "    perplexities = np.array(evaluatr.get_perplexity(all_subset, batch_size = 128))\n",
    "    evaluatr.clear_gpu_memory()\n",
    "        \n",
    "    if perplexities.min() < best_perplexity :\n",
    "        print(f\"new best : {[all_subset[perplexities.argmin()], perplexities.min()]}\")\n",
    "        best_perplexity = perplexities.min()\n",
    "        sample = all_subset[perplexities.argmin()].split()\n",
    "    \n",
    "    else :\n",
    "        print(f\"cannot find new best set in width {width}!\")\n",
    "        break"
   ]
  },
  {
   "cell_type": "code",
   "execution_count": 4,
   "metadata": {},
   "outputs": [],
   "source": [
    "sample = \"not the grinch eat you scrooge and hohoho yuletide greeting have merry unwrap give as we the of to from toy doll game puzzle card ornament snowglobe advent candle wreath cookie bake fruitcake gingerbread candy peppermint chocolate milk and eggnog sleigh drive reindeer jump polar kaggle beard elf workshop workshop naughty nice wrapping paper bow ornament nutcracker poinsettia holly mistletoe jingle joy peace family laugh relax sleep dream wish hope believe wonder magi visit with gifts in stocking chimney fireplace fireplace chimney star angel night night walk carol sing holiday decorations that it is the season of cheer and cheer\".split()"
   ]
  },
  {
   "cell_type": "code",
   "execution_count": 5,
   "metadata": {},
   "outputs": [],
   "source": [
    "best_perplexity = evaluatr.get_perplexity(\" \".join(sample), batch_size = 4)\n",
    "evaluatr.clear_gpu_memory()"
   ]
  },
  {
   "cell_type": "code",
   "execution_count": 6,
   "metadata": {},
   "outputs": [
    {
     "name": "stdout",
     "output_type": "stream",
     "text": [
      "51360\n"
     ]
    },
    {
     "data": {
      "application/vnd.jupyter.widget-view+json": {
       "model_id": "4ad06092d8af4e46991c92d2a7d5a14e",
       "version_major": 2,
       "version_minor": 0
      },
      "text/plain": [
       "Loading checkpoint shards:   0%|          | 0/8 [00:00<?, ?it/s]"
      ]
     },
     "metadata": {},
     "output_type": "display_data"
    },
    {
     "name": "stdout",
     "output_type": "stream",
     "text": [
      "cannot find new best set in width 6!\n"
     ]
    }
   ],
   "source": [
    "width = 6\n",
    "all_subset = []\n",
    "\n",
    "for i in range(len(sample) - width) :\n",
    "    all_subset = all_subset + [\" \".join(sample[:i] + list(set) + sample[width+i:]) for set in itertools.permutations(sample[i:width+i])]\n",
    "    \n",
    "\n",
    "all_subset = np.unique(all_subset)\n",
    "print(len(all_subset))\n",
    "\n",
    "evaluatr = PerplexityCalculator(\"google/gemma-2-9b\")\n",
    "perplexities = np.array(evaluatr.get_perplexity(all_subset, batch_size = 128))\n",
    "evaluatr.clear_gpu_memory()\n",
    "    \n",
    "if perplexities.min() < best_perplexity :\n",
    "    print(f\"new best : {[all_subset[perplexities.argmin()], perplexities.min()]}\")\n",
    "    best_perplexity = perplexities.min()\n",
    "    sample = all_subset[perplexities.argmin()].split()\n",
    "\n",
    "else :\n",
    "    print(f\"cannot find new best set in width {width}!\")"
   ]
  },
  {
   "cell_type": "markdown",
   "metadata": {},
   "source": [
    "### 222"
   ]
  },
  {
   "cell_type": "code",
   "execution_count": 1,
   "metadata": {},
   "outputs": [],
   "source": [
    "import pandas as pd\n",
    "import numpy as np\n",
    "import itertools\n",
    "\n",
    "from algorithm import PerplexityCalculator"
   ]
  },
  {
   "cell_type": "code",
   "execution_count": 9,
   "metadata": {},
   "outputs": [],
   "source": [
    "sample = \"the grinch eat not laugh you scrooge we hohoho yuletide merry greeting cheer unwrap give the and to from toy doll nutcracker game night card puzzle ornament snowglobe advent candle wreath stocking candy fruitcake bake gingerbread cookie peppermint chocolate milk and eggnog sleigh drive reindeer walk polar beard elf workshop workshop naughty and nice wrapping paper poinsettia holly mistletoe jingle jump joy peace family relax wish hope star of wonder magi visit with gifts bow have believe in as chimney fireplace chimney fireplace ornament angel carol sing sleep dream night kaggle holiday decorations of the that it is season cheer\".split()"
   ]
  },
  {
   "cell_type": "code",
   "execution_count": 3,
   "metadata": {},
   "outputs": [
    {
     "data": {
      "application/vnd.jupyter.widget-view+json": {
       "model_id": "8ffc804ceecb4f1087144079f70c1ad6",
       "version_major": 2,
       "version_minor": 0
      },
      "text/plain": [
       "Loading checkpoint shards:   0%|          | 0/8 [00:00<?, ?it/s]"
      ]
     },
     "metadata": {},
     "output_type": "display_data"
    }
   ],
   "source": [
    "evaluatr = PerplexityCalculator(\"google/gemma-2-9b\")"
   ]
  },
  {
   "cell_type": "code",
   "execution_count": 4,
   "metadata": {},
   "outputs": [],
   "source": [
    "best_perplexity = evaluatr.get_perplexity(\" \".join(sample), batch_size = 4)\n",
    "evaluatr.clear_gpu_memory()"
   ]
  },
  {
   "cell_type": "code",
   "execution_count": 20,
   "metadata": {},
   "outputs": [
    {
     "data": {
      "text/plain": [
       "np.float64(80.06289393593435)"
      ]
     },
     "execution_count": 20,
     "metadata": {},
     "output_type": "execute_result"
    }
   ],
   "source": [
    "perplexities.min()"
   ]
  },
  {
   "cell_type": "code",
   "execution_count": 21,
   "metadata": {},
   "outputs": [
    {
     "data": {
      "text/plain": [
       "np.str_('the grinch eat not laugh you scrooge we hohoho yuletide merry greeting cheer unwrap give the and to from toy doll nutcracker game night card puzzle ornament snowglobe advent candle wreath stocking candy fruitcake bake gingerbread cookie peppermint chocolate milk and eggnog sleigh drive reindeer walk polar beard elf workshop workshop naughty and nice wrapping paper poinsettia holly mistletoe jingle jump joy peace family relax have hope star of wonder magi visit with gifts bow wish believe in as chimney fireplace chimney fireplace ornament angel carol sing sleep dream night kaggle holiday decorations of the that it is season cheer')"
      ]
     },
     "execution_count": 21,
     "metadata": {},
     "output_type": "execute_result"
    }
   ],
   "source": [
    "neighborhoods[perplexities.argmin()]"
   ]
  },
  {
   "cell_type": "code",
   "execution_count": 16,
   "metadata": {},
   "outputs": [],
   "source": [
    "neighborhoods = []\n",
    "\n",
    "for set in itertools.combinations([i for i in range(100)], 3) :\n",
    "    for sub_set in itertools.permutations(set) :\n",
    "        neighborhood = sample.copy()\n",
    "        \n",
    "        for i, idx in enumerate(sorted(sub_set)) :\n",
    "            neighborhood[idx] = sample[sub_set[i]]\n",
    "            \n",
    "        neighborhoods.append(neighborhood)\n",
    "neighborhoods = np.unique([\" \".join(neighborhood) for neighborhood in neighborhoods])\n",
    "\n",
    "print(len(neighborhoods))\n",
    "\n",
    "evaluatr = PerplexityCalculator(\"google/gemma-2-9b\")\n",
    "perplexities = np.array(evaluatr.get_perplexity(neighborhoods, batch_size = 128))\n",
    "    \n",
    "if perplexities.min() < best_perplexity :\n",
    "    print(f\"new best : {[neighborhoods[perplexities.argmin()], perplexities.min()]}\")\n",
    "\n",
    "else :\n",
    "    print(\"was not able to find new best set in neighbor size 3!\")"
   ]
  },
  {
   "cell_type": "markdown",
   "metadata": {},
   "source": [
    "## 3333 -> 기존 best set"
   ]
  },
  {
   "cell_type": "code",
   "execution_count": 1,
   "metadata": {},
   "outputs": [],
   "source": [
    "import pandas as pd\n",
    "import numpy as np\n",
    "import itertools\n",
    "\n",
    "from algorithm import PerplexityCalculator"
   ]
  },
  {
   "cell_type": "code",
   "execution_count": 2,
   "metadata": {},
   "outputs": [
    {
     "data": {
      "application/vnd.jupyter.widget-view+json": {
       "model_id": "e484017885334895a8ed3ba342b648fb",
       "version_major": 2,
       "version_minor": 0
      },
      "text/plain": [
       "Loading checkpoint shards:   0%|          | 0/8 [00:00<?, ?it/s]"
      ]
     },
     "metadata": {},
     "output_type": "display_data"
    }
   ],
   "source": [
    "sample = \"from and and as we and have the in is it of not that the to with you advent card angel bake beard believe bow candy candle carol cheer cheer chocolate chimney cookie decorations doll dream drive eat eggnog family fireplace fireplace chimney fruitcake game gifts give gingerbread greeting grinch holiday holly hohoho hope jingle jump joy kaggle laugh magi merry milk mistletoe naughty nice night night elf nutcracker ornament ornament of the wrapping paper peace peppermint polar poinsettia puzzle reindeer relax scrooge season sing sleigh sleep snowglobe star stocking toy unwrap visit walk wish wonder workshop workshop wreath yuletide\".split()\n",
    "\n",
    "evaluatr = PerplexityCalculator(\"google/gemma-2-9b\")"
   ]
  },
  {
   "cell_type": "code",
   "execution_count": 3,
   "metadata": {},
   "outputs": [],
   "source": [
    "best_perplexity = evaluatr.get_perplexity(\" \".join(sample), batch_size = 4)\n",
    "evaluatr.clear_gpu_memory()"
   ]
  },
  {
   "cell_type": "code",
   "execution_count": 4,
   "metadata": {},
   "outputs": [],
   "source": [
    "neighborhoods = []\n",
    "\n",
    "for set in itertools.combinations([i for i in range(100)], 3) :\n",
    "    for sub_set in itertools.permutations(set) :\n",
    "        neighborhood = sample.copy()\n",
    "        \n",
    "        for i, idx in enumerate(sorted(sub_set)) :\n",
    "            neighborhood[idx] = sample[sub_set[i]]\n",
    "            \n",
    "        neighborhoods.append(neighborhood)"
   ]
  },
  {
   "cell_type": "code",
   "execution_count": 5,
   "metadata": {},
   "outputs": [
    {
     "name": "stdout",
     "output_type": "stream",
     "text": [
      "325798\n"
     ]
    },
    {
     "data": {
      "application/vnd.jupyter.widget-view+json": {
       "model_id": "5c5d6d4cc9a945c5b01454761c410ad3",
       "version_major": 2,
       "version_minor": 0
      },
      "text/plain": [
       "Loading checkpoint shards:   0%|          | 0/8 [00:00<?, ?it/s]"
      ]
     },
     "metadata": {},
     "output_type": "display_data"
    },
    {
     "name": "stdout",
     "output_type": "stream",
     "text": [
      "cannot find new best set in neighbor size 3!\n"
     ]
    }
   ],
   "source": [
    "neighborhoods = np.unique([\" \".join(neighborhood) for neighborhood in neighborhoods])\n",
    "\n",
    "print(len(neighborhoods))\n",
    "\n",
    "evaluatr = PerplexityCalculator(\"google/gemma-2-9b\")\n",
    "perplexities = np.array(evaluatr.get_perplexity(neighborhoods, batch_size = 128))\n",
    "    \n",
    "if perplexities.min() < best_perplexity :\n",
    "    print(f\"new best : {[neighborhoods[perplexities.argmin()], perplexities.min()]}\")\n",
    "\n",
    "else :\n",
    "    print(\"cannot find new best set in neighbor size 3!\")"
   ]
  },
  {
   "cell_type": "markdown",
   "metadata": {},
   "source": [
    "## Continue"
   ]
  },
  {
   "cell_type": "code",
   "execution_count": 1,
   "metadata": {},
   "outputs": [],
   "source": [
    "public = [['the','grinch','eat','not','laugh','you','scrooge','hohoho','yuletide',\n",
    "  'greeting','merry','unwrap','give','cheer','we','to','and','the','from',\n",
    "  'ornament','nutcracker','toy','doll','puzzle','snowglobe','game',\n",
    "  'night','card','advent','candle','wreath','stocking','candy',\n",
    "  'fruitcake','gingerbread','cookie','bake','peppermint','chocolate',\n",
    "  'milk','and','eggnog','sleigh','drive','reindeer','walk','polar',\n",
    "  'beard','elf','workshop','workshop','naughty','and','nice','wrapping',\n",
    "  'paper','mistletoe','poinsettia','holly','jingle','jump','joy','peace',\n",
    "  'family','relax','wish','hope','star','of','wonder','magi','visit',\n",
    "  'with','gifts','bow','have','believe','in','as','chimney','fireplace',\n",
    "  'chimney','fireplace','angel','sleep','dream','carol','sing','holiday',\n",
    "  'decorations','ornament','night','kaggle','of','the','that','it','is',\n",
    "  'season','cheer'],\n",
    " ['the','grinch','eat','not','laugh','you','scrooge','hohoho','yuletide',\n",
    "  'greeting','merry','unwrap','give','cheer','as','we','to','and','the',\n",
    "  'from','ornament','nutcracker','toy','doll','puzzle','snowglobe','game',\n",
    "  'night','card','advent','candle','wreath','stocking','candy',\n",
    "  'fruitcake','cookie','bake','peppermint','chocolate','milk','and',\n",
    "  'eggnog','sleigh','drive','reindeer','walk','polar','beard','elf',\n",
    "  'workshop','workshop','gingerbread','naughty','and','nice','wrapping',\n",
    "  'paper','mistletoe','poinsettia','holly','jingle','jump','joy','peace',\n",
    "  'family','relax','wish','hope','star','of','wonder','magi','visit',\n",
    "  'with','gifts','bow','have','believe','in','chimney','fireplace',\n",
    "  'chimney','fireplace','angel','sleep','dream','carol','sing','holiday',\n",
    "  'decorations','ornament','night','kaggle','of','the','that','it','is',\n",
    "  'season','cheer'],\n",
    " ['the','grinch','eat','not','laugh','you','scrooge','hohoho','yuletide',\n",
    "  'greeting','merry','unwrap','give','cheer','we','to','and','the','from',\n",
    "  'ornament','nutcracker','doll','toy','puzzle','snowglobe','game',\n",
    "  'night','card','advent','candle','wreath','stocking','candy',\n",
    "  'fruitcake','cookie','gingerbread','bake','peppermint','chocolate',\n",
    "  'milk','and','eggnog','sleigh','drive','reindeer','visit','polar',\n",
    "  'beard','elf','workshop','workshop','naughty','and','nice','wrapping',\n",
    "  'paper','mistletoe','poinsettia','holly','jingle','jump','joy','peace',\n",
    "  'family','relax','wish','hope','star','of','wonder','magi','walk',\n",
    "  'with','gifts','bow','have','believe','in','as','chimney','fireplace',\n",
    "  'chimney','fireplace','angel','sleep','dream','carol','sing','holiday',\n",
    "  'decorations','ornament','night','kaggle','of','the','that','it','is',\n",
    "  'season','cheer'],\n",
    " ['the','grinch','eat','not','laugh','you','scrooge','hohoho','yuletide',\n",
    "  'greeting','merry','unwrap','give','cheer','we','to','and','the','from',\n",
    "  'ornament','nutcracker','toy','doll','snowglobe','game','night',\n",
    "  'puzzle','card','advent','candle','wreath','stocking','cookie','candy',\n",
    "  'fruitcake','gingerbread','bake','peppermint','chocolate','milk','and',\n",
    "  'eggnog','sleigh','drive','reindeer','walk','polar','beard','elf',\n",
    "  'workshop','workshop','naughty','and','nice','wrapping','paper',\n",
    "  'mistletoe','poinsettia','holly','jingle','jump','joy','peace','family',\n",
    "  'relax','wish','hope','star','of','wonder','magi','visit','with',\n",
    "  'gifts','bow','have','believe','in','as','chimney','fireplace',\n",
    "  'chimney','fireplace','angel','sleep','dream','carol','sing','holiday',\n",
    "  'decorations','ornament','night','kaggle','of','the','that','it','is',\n",
    "  'season','cheer']]"
   ]
  },
  {
   "cell_type": "code",
   "execution_count": 2,
   "metadata": {},
   "outputs": [
    {
     "data": {
      "application/vnd.jupyter.widget-view+json": {
       "model_id": "14c0f476562749f898a6513e942532d0",
       "version_major": 2,
       "version_minor": 0
      },
      "text/plain": [
       "Loading checkpoint shards:   0%|          | 0/8 [00:00<?, ?it/s]"
      ]
     },
     "metadata": {},
     "output_type": "display_data"
    },
    {
     "name": "stdout",
     "output_type": "stream",
     "text": [
      "parents perplexities : [ 927.07201627  891.55644506  792.96671719 1034.22356973  964.002367\n",
      "  870.90356225 1010.26580654  877.73414355  927.07201627  952.77139924\n",
      "  870.90356225  719.18958379   94.33714363   95.44916003   95.82273748\n",
      "   95.82273748]\n"
     ]
    },
    {
     "data": {
      "application/vnd.jupyter.widget-view+json": {
       "model_id": "5707936e3110449fbc7adbe7a8fa4843",
       "version_major": 2,
       "version_minor": 0
      },
      "text/plain": [
       "Loading checkpoint shards:   0%|          | 0/8 [00:00<?, ?it/s]"
      ]
     },
     "metadata": {},
     "output_type": "display_data"
    },
    {
     "name": "stdout",
     "output_type": "stream",
     "text": [
      "best genome : [np.str_('the grinch eat not laugh you scrooge hohoho yuletide greeting merry unwrap give cheer as we to and the from ornament nutcracker toy doll puzzle snowglobe game night card advent candle stocking candy fruitcake cookie gingerbread bake peppermint chocolate milk and eggnog sleigh drive reindeer walk polar beard elf workshop workshop naughty and nice wrapping paper mistletoe poinsettia holly wreath jingle jump joy peace family relax wish hope star of wonder magi visit with gifts bow have believe in chimney fireplace chimney fireplace angel sleep dream carol sing holiday decorations ornament night kaggle of the that it is season cheer'), np.float64(92.51249810131188)]\n",
      "parents perplexities : [ 496.22589177  811.77138098  515.99328406  137.79695347  239.95916187\n",
      "  144.40996734 1185.74316446  881.16949785 1054.62180187  627.28830404\n",
      "  747.83883984  233.48667288   92.5124981    93.23808262   93.23808262\n",
      "   93.96935796]\n",
      "[['the' 'grinch' 'eat' 'not' 'laugh' 'you' 'scrooge' 'hohoho' 'yuletide'\n",
      "  'greeting' 'merry' 'unwrap' 'give' 'cheer' 'as' 'we' 'to' 'and' 'the'\n",
      "  'from' 'ornament' 'nutcracker' 'toy' 'doll' 'puzzle' 'snowglobe' 'game'\n",
      "  'night' 'card' 'advent' 'candle' 'stocking' 'candy' 'fruitcake'\n",
      "  'cookie' 'gingerbread' 'bake' 'peppermint' 'chocolate' 'milk' 'and'\n",
      "  'eggnog' 'sleigh' 'drive' 'reindeer' 'walk' 'polar' 'beard' 'elf'\n",
      "  'workshop' 'workshop' 'naughty' 'and' 'nice' 'wrapping' 'paper'\n",
      "  'mistletoe' 'poinsettia' 'holly' 'wreath' 'jingle' 'jump' 'joy' 'peace'\n",
      "  'family' 'relax' 'wish' 'hope' 'star' 'of' 'wonder' 'magi' 'visit'\n",
      "  'with' 'gifts' 'bow' 'have' 'believe' 'in' 'chimney' 'fireplace'\n",
      "  'chimney' 'fireplace' 'angel' 'sleep' 'dream' 'carol' 'sing' 'holiday'\n",
      "  'decorations' 'ornament' 'night' 'kaggle' 'of' 'the' 'that' 'it' 'is'\n",
      "  'season' 'cheer']\n",
      " ['the' 'grinch' 'eat' 'not' 'laugh' 'you' 'scrooge' 'hohoho' 'yuletide'\n",
      "  'greeting' 'merry' 'unwrap' 'give' 'cheer' 'we' 'to' 'and' 'the' 'from'\n",
      "  'ornament' 'nutcracker' 'toy' 'doll' 'snowglobe' 'game' 'night'\n",
      "  'puzzle' 'card' 'advent' 'candle' 'wreath' 'stocking' 'candy'\n",
      "  'fruitcake' 'cookie' 'gingerbread' 'bake' 'peppermint' 'chocolate'\n",
      "  'milk' 'and' 'eggnog' 'sleigh' 'drive' 'reindeer' 'walk' 'polar'\n",
      "  'beard' 'elf' 'workshop' 'workshop' 'naughty' 'and' 'nice' 'wrapping'\n",
      "  'paper' 'mistletoe' 'poinsettia' 'holly' 'jingle' 'jump' 'joy' 'peace'\n",
      "  'family' 'relax' 'wish' 'hope' 'star' 'of' 'wonder' 'magi' 'visit'\n",
      "  'with' 'gifts' 'bow' 'have' 'believe' 'in' 'as' 'chimney' 'fireplace'\n",
      "  'chimney' 'fireplace' 'angel' 'sleep' 'dream' 'carol' 'sing' 'holiday'\n",
      "  'decorations' 'ornament' 'night' 'kaggle' 'of' 'the' 'that' 'it' 'is'\n",
      "  'season' 'cheer']\n",
      " ['the' 'grinch' 'eat' 'not' 'laugh' 'you' 'scrooge' 'hohoho' 'yuletide'\n",
      "  'greeting' 'merry' 'unwrap' 'give' 'cheer' 'we' 'to' 'and' 'the' 'from'\n",
      "  'ornament' 'nutcracker' 'toy' 'doll' 'snowglobe' 'game' 'night'\n",
      "  'puzzle' 'card' 'advent' 'candle' 'wreath' 'stocking' 'candy'\n",
      "  'fruitcake' 'gingerbread' 'cookie' 'bake' 'peppermint' 'chocolate'\n",
      "  'milk' 'and' 'eggnog' 'sleigh' 'drive' 'reindeer' 'walk' 'polar'\n",
      "  'beard' 'elf' 'workshop' 'workshop' 'naughty' 'and' 'nice' 'wrapping'\n",
      "  'paper' 'mistletoe' 'poinsettia' 'holly' 'jingle' 'jump' 'joy' 'peace'\n",
      "  'family' 'relax' 'wish' 'hope' 'star' 'of' 'wonder' 'magi' 'visit'\n",
      "  'with' 'gifts' 'bow' 'have' 'believe' 'in' 'as' 'chimney' 'fireplace'\n",
      "  'chimney' 'fireplace' 'angel' 'sleep' 'dream' 'carol' 'sing' 'holiday'\n",
      "  'decorations' 'ornament' 'night' 'kaggle' 'of' 'the' 'that' 'it' 'is'\n",
      "  'season' 'cheer']\n",
      " ['the' 'grinch' 'eat' 'not' 'laugh' 'you' 'scrooge' 'hohoho' 'yuletide'\n",
      "  'greeting' 'merry' 'unwrap' 'give' 'cheer' 'as' 'we' 'to' 'and' 'the'\n",
      "  'from' 'ornament' 'nutcracker' 'toy' 'doll' 'puzzle' 'snowglobe' 'game'\n",
      "  'night' 'card' 'advent' 'candle' 'stocking' 'candy' 'fruitcake'\n",
      "  'cookie' 'gingerbread' 'bake' 'peppermint' 'chocolate' 'milk' 'and'\n",
      "  'eggnog' 'sleigh' 'drive' 'reindeer' 'visit' 'polar' 'beard' 'elf'\n",
      "  'workshop' 'workshop' 'naughty' 'and' 'nice' 'wrapping' 'paper'\n",
      "  'mistletoe' 'poinsettia' 'holly' 'wreath' 'jingle' 'jump' 'joy' 'peace'\n",
      "  'family' 'relax' 'wish' 'hope' 'star' 'of' 'wonder' 'magi' 'walk'\n",
      "  'with' 'gifts' 'bow' 'have' 'believe' 'in' 'chimney' 'fireplace'\n",
      "  'chimney' 'fireplace' 'angel' 'sleep' 'dream' 'carol' 'sing' 'holiday'\n",
      "  'decorations' 'ornament' 'night' 'kaggle' 'of' 'the' 'that' 'it' 'is'\n",
      "  'season' 'cheer']]\n"
     ]
    },
    {
     "data": {
      "application/vnd.jupyter.widget-view+json": {
       "model_id": "656c287d9aef4696bc3ce68763676484",
       "version_major": 2,
       "version_minor": 0
      },
      "text/plain": [
       "Loading checkpoint shards:   0%|          | 0/8 [00:00<?, ?it/s]"
      ]
     },
     "metadata": {},
     "output_type": "display_data"
    },
    {
     "ename": "KeyboardInterrupt",
     "evalue": "",
     "output_type": "error",
     "traceback": [
      "\u001b[0;31m---------------------------------------------------------------------------\u001b[0m",
      "\u001b[0;31mKeyboardInterrupt\u001b[0m                         Traceback (most recent call last)",
      "Cell \u001b[0;32mIn[2], line 10\u001b[0m\n\u001b[1;32m      7\u001b[0m verbs \u001b[38;5;241m=\u001b[39m [\u001b[38;5;124m\"\u001b[39m\u001b[38;5;124mwalk\u001b[39m\u001b[38;5;124m\"\u001b[39m, \u001b[38;5;124m\"\u001b[39m\u001b[38;5;124mgive\u001b[39m\u001b[38;5;124m\"\u001b[39m, \u001b[38;5;124m\"\u001b[39m\u001b[38;5;124mjump\u001b[39m\u001b[38;5;124m\"\u001b[39m, \u001b[38;5;124m\"\u001b[39m\u001b[38;5;124mdrive\u001b[39m\u001b[38;5;124m\"\u001b[39m, \u001b[38;5;124m\"\u001b[39m\u001b[38;5;124mbake\u001b[39m\u001b[38;5;124m\"\u001b[39m, \u001b[38;5;124m\"\u001b[39m\u001b[38;5;124msleep\u001b[39m\u001b[38;5;124m\"\u001b[39m, \u001b[38;5;124m\"\u001b[39m\u001b[38;5;124mlaugh\u001b[39m\u001b[38;5;124m\"\u001b[39m, \u001b[38;5;124m\"\u001b[39m\u001b[38;5;124msing\u001b[39m\u001b[38;5;124m\"\u001b[39m, \u001b[38;5;124m\"\u001b[39m\u001b[38;5;124meat\u001b[39m\u001b[38;5;124m\"\u001b[39m, \u001b[38;5;124m\"\u001b[39m\u001b[38;5;124mvisit\u001b[39m\u001b[38;5;124m\"\u001b[39m, \u001b[38;5;124m\"\u001b[39m\u001b[38;5;124mrelax\u001b[39m\u001b[38;5;124m\"\u001b[39m, \u001b[38;5;124m\"\u001b[39m\u001b[38;5;124munwrap\u001b[39m\u001b[38;5;124m\"\u001b[39m, \u001b[38;5;124m\"\u001b[39m\u001b[38;5;124mbelieve\u001b[39m\u001b[38;5;124m\"\u001b[39m, \u001b[38;5;124m\"\u001b[39m\u001b[38;5;124mdream\u001b[39m\u001b[38;5;124m\"\u001b[39m, \u001b[38;5;124m\"\u001b[39m\u001b[38;5;124mhope\u001b[39m\u001b[38;5;124m\"\u001b[39m, \u001b[38;5;124m\"\u001b[39m\u001b[38;5;124mwish\u001b[39m\u001b[38;5;124m\"\u001b[39m, \u001b[38;5;124m\"\u001b[39m\u001b[38;5;124mwrap\u001b[39m\u001b[38;5;124m\"\u001b[39m, \u001b[38;5;124m\"\u001b[39m\u001b[38;5;124mdecorate\u001b[39m\u001b[38;5;124m\"\u001b[39m, \u001b[38;5;124m\"\u001b[39m\u001b[38;5;124mplay\u001b[39m\u001b[38;5;124m\"\u001b[39m, \u001b[38;5;124m\"\u001b[39m\u001b[38;5;124mwonder\u001b[39m\u001b[38;5;124m\"\u001b[39m, \u001b[38;5;124m\"\u001b[39m\u001b[38;5;124mis\u001b[39m\u001b[38;5;124m\"\u001b[39m, \u001b[38;5;124m\"\u001b[39m\u001b[38;5;124mhave\u001b[39m\u001b[38;5;124m\"\u001b[39m]\n\u001b[1;32m      9\u001b[0m optimizr \u001b[38;5;241m=\u001b[39m genetic_neo_pmx(sample, verbs, initial_times \u001b[38;5;241m=\u001b[39m \u001b[38;5;241m10000\u001b[39m, max_stack \u001b[38;5;241m=\u001b[39m \u001b[38;5;241m8\u001b[39m, cross_size \u001b[38;5;241m=\u001b[39m \u001b[38;5;241m16\u001b[39m, mutation_chances \u001b[38;5;241m=\u001b[39m \u001b[38;5;241m1\u001b[39m, dupl \u001b[38;5;241m=\u001b[39m \u001b[38;5;28;01mTrue\u001b[39;00m, crossover_method \u001b[38;5;241m=\u001b[39m \u001b[38;5;124m\"\u001b[39m\u001b[38;5;124mmixture\u001b[39m\u001b[38;5;124m\"\u001b[39m, parents_size \u001b[38;5;241m=\u001b[39m \u001b[38;5;241m16\u001b[39m, elite_size \u001b[38;5;241m=\u001b[39m \u001b[38;5;241m4\u001b[39m, batch_size \u001b[38;5;241m=\u001b[39m \u001b[38;5;241m128\u001b[39m, public_sample \u001b[38;5;241m=\u001b[39m [\u001b[38;5;124m\"\u001b[39m\u001b[38;5;124m \u001b[39m\u001b[38;5;124m\"\u001b[39m\u001b[38;5;241m.\u001b[39mjoin(sample) \u001b[38;5;28;01mfor\u001b[39;00m sample \u001b[38;5;129;01min\u001b[39;00m public])\n\u001b[0;32m---> 10\u001b[0m best_genome \u001b[38;5;241m=\u001b[39m \u001b[43moptimizr\u001b[49m\u001b[38;5;241;43m.\u001b[39;49m\u001b[43mreputation\u001b[49m\u001b[43m(\u001b[49m\u001b[43mrep_times\u001b[49m\u001b[43m \u001b[49m\u001b[38;5;241;43m=\u001b[39;49m\u001b[43m \u001b[49m\u001b[38;5;241;43m100\u001b[39;49m\u001b[43m)\u001b[49m\n",
      "File \u001b[0;32m~/kag_comp/Santa Metric/algorithm/Genetic_neo_PMX.py:360\u001b[0m, in \u001b[0;36mgenetic_neo_pmx.reputation\u001b[0;34m(self, rep_times)\u001b[0m\n\u001b[1;32m    357\u001b[0m \u001b[38;5;28mself\u001b[39m\u001b[38;5;241m.\u001b[39mevaluatr\u001b[38;5;241m.\u001b[39mclear_gpu_memory()\n\u001b[1;32m    358\u001b[0m \u001b[38;5;28mself\u001b[39m\u001b[38;5;241m.\u001b[39mevaluatr \u001b[38;5;241m=\u001b[39m PerplexityCalculator(\u001b[38;5;124m\"\u001b[39m\u001b[38;5;124mgoogle/gemma-2-9b\u001b[39m\u001b[38;5;124m\"\u001b[39m)\n\u001b[0;32m--> 360\u001b[0m perplexities \u001b[38;5;241m=\u001b[39m np\u001b[38;5;241m.\u001b[39marray(\u001b[38;5;28;43mself\u001b[39;49m\u001b[38;5;241;43m.\u001b[39;49m\u001b[43mevaluatr\u001b[49m\u001b[38;5;241;43m.\u001b[39;49m\u001b[43mget_perplexity\u001b[49m\u001b[43m(\u001b[49m\u001b[43mgenome_set\u001b[49m\u001b[43m,\u001b[49m\u001b[43m \u001b[49m\u001b[43mbatch_size\u001b[49m\u001b[43m \u001b[49m\u001b[38;5;241;43m=\u001b[39;49m\u001b[43m \u001b[49m\u001b[38;5;28;43mself\u001b[39;49m\u001b[38;5;241;43m.\u001b[39;49m\u001b[43mbatch_size\u001b[49m\u001b[43m)\u001b[49m)\n\u001b[1;32m    362\u001b[0m \u001b[38;5;66;03m## renewal\u001b[39;00m\n\u001b[1;32m    363\u001b[0m \u001b[38;5;28;01mif\u001b[39;00m perplexities\u001b[38;5;241m.\u001b[39mmin() \u001b[38;5;241m<\u001b[39m best_genome[\u001b[38;5;241m1\u001b[39m] :\n",
      "File \u001b[0;32m~/kag_comp/Santa Metric/algorithm/kaggle_evaluate.py:218\u001b[0m, in \u001b[0;36mPerplexityCalculator.get_perplexity\u001b[0;34m(self, input_texts, batch_size)\u001b[0m\n\u001b[1;32m    215\u001b[0m         valid_length \u001b[38;5;241m=\u001b[39m (shift_labels \u001b[38;5;241m!=\u001b[39m PAD_TOKEN_LABEL_ID)\u001b[38;5;241m.\u001b[39msum(dim\u001b[38;5;241m=\u001b[39m\u001b[38;5;241m-\u001b[39m\u001b[38;5;241m1\u001b[39m)\n\u001b[1;32m    216\u001b[0m         loss \u001b[38;5;241m=\u001b[39m torch\u001b[38;5;241m.\u001b[39msum(loss, \u001b[38;5;241m-\u001b[39m\u001b[38;5;241m1\u001b[39m) \u001b[38;5;241m/\u001b[39m valid_length\n\u001b[0;32m--> 218\u001b[0m         loss_list \u001b[38;5;241m+\u001b[39m\u001b[38;5;241m=\u001b[39m \u001b[43mloss\u001b[49m\u001b[38;5;241;43m.\u001b[39;49m\u001b[43mcpu\u001b[49m\u001b[43m(\u001b[49m\u001b[43m)\u001b[49m\u001b[38;5;241m.\u001b[39mtolist()\n\u001b[1;32m    220\u001b[0m ppl \u001b[38;5;241m=\u001b[39m [exp(i) \u001b[38;5;28;01mfor\u001b[39;00m i \u001b[38;5;129;01min\u001b[39;00m loss_list]\n\u001b[1;32m    222\u001b[0m \u001b[38;5;28;01mreturn\u001b[39;00m ppl[\u001b[38;5;241m0\u001b[39m] \u001b[38;5;28;01mif\u001b[39;00m single_input \u001b[38;5;28;01melse\u001b[39;00m ppl\n",
      "\u001b[0;31mKeyboardInterrupt\u001b[0m: "
     ]
    }
   ],
   "source": [
    "import pandas as pd\n",
    "import pickle\n",
    "\n",
    "from algorithm import genetic_neo_pmx\n",
    "\n",
    "sample = pd.read_csv(\"sample_submission.csv\").text.to_list()[5]\n",
    "verbs = [\"walk\", \"give\", \"jump\", \"drive\", \"bake\", \"sleep\", \"laugh\", \"sing\", \"eat\", \"visit\", \"relax\", \"unwrap\", \"believe\", \"dream\", \"hope\", \"wish\", \"wrap\", \"decorate\", \"play\", \"wonder\", \"is\", \"have\"]\n",
    "\n",
    "optimizr = genetic_neo_pmx(sample, verbs, initial_times = 10000, max_stack = 8, cross_size = 16, mutation_chances = 1, dupl = True, crossover_method = \"mixture\", parents_size = 16, elite_size = 4, batch_size = 128, public_sample = [\" \".join(sample) for sample in public])\n",
    "best_genome = optimizr.reputation(rep_times = 100)"
   ]
  },
  {
   "cell_type": "code",
   "execution_count": null,
   "metadata": {},
   "outputs": [],
   "source": []
  }
 ],
 "metadata": {
  "kernelspec": {
   "display_name": "trch",
   "language": "python",
   "name": "python3"
  },
  "language_info": {
   "codemirror_mode": {
    "name": "ipython",
    "version": 3
   },
   "file_extension": ".py",
   "mimetype": "text/x-python",
   "name": "python",
   "nbconvert_exporter": "python",
   "pygments_lexer": "ipython3",
   "version": "3.12.2"
  }
 },
 "nbformat": 4,
 "nbformat_minor": 2
}
