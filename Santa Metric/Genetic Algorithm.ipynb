{
 "cells": [
  {
   "cell_type": "markdown",
   "metadata": {},
   "source": [
    "첫 샘플의 베스트\n",
    "\n",
    "\"reindeer mistletoe elf gingerbread family advent scrooge chimney fireplace ornament\""
   ]
  },
  {
   "cell_type": "markdown",
   "metadata": {},
   "source": [
    "# Genetic Algorithm"
   ]
  },
  {
   "cell_type": "markdown",
   "metadata": {},
   "source": [
    "## Imports"
   ]
  },
  {
   "cell_type": "code",
   "execution_count": 1,
   "metadata": {},
   "outputs": [],
   "source": [
    "import gc ## for memory\n",
    "import os\n",
    "import copy\n",
    "from math import exp\n",
    "from collections import Counter\n",
    "from typing import List, Optional, Union\n",
    "\n",
    "import numpy as np\n",
    "import itertools\n",
    "import pandas as pd\n",
    "import transformers\n",
    "import torch\n",
    "\n",
    "from kaggle_evaluate import PerplexityCalculator"
   ]
  },
  {
   "cell_type": "code",
   "execution_count": 2,
   "metadata": {},
   "outputs": [],
   "source": [
    "df_sample = pd.read_csv(\"sample_submission.csv\")"
   ]
  },
  {
   "cell_type": "code",
   "execution_count": 3,
   "metadata": {},
   "outputs": [
    {
     "data": {
      "text/plain": [
       "0    10\n",
       "1    20\n",
       "2    20\n",
       "3    29\n",
       "4    50\n",
       "5    89\n",
       "Name: text, dtype: int64"
      ]
     },
     "execution_count": 3,
     "metadata": {},
     "output_type": "execute_result"
    }
   ],
   "source": [
    "df_sample.text.str.split().map(lambda x : len(set(x)))"
   ]
  },
  {
   "cell_type": "markdown",
   "metadata": {},
   "source": [
    "## Setting"
   ]
  },
  {
   "cell_type": "code",
   "execution_count": 4,
   "metadata": {},
   "outputs": [
    {
     "data": {
      "application/vnd.jupyter.widget-view+json": {
       "model_id": "749e59c46978479584e0252bcca89c30",
       "version_major": 2,
       "version_minor": 0
      },
      "text/plain": [
       "Loading checkpoint shards:   0%|          | 0/8 [00:00<?, ?it/s]"
      ]
     },
     "metadata": {},
     "output_type": "display_data"
    }
   ],
   "source": [
    "evaluatr = PerplexityCalculator(\"google/gemma-2-9b\")"
   ]
  },
  {
   "cell_type": "markdown",
   "metadata": {},
   "source": [
    "## Algorithm"
   ]
  },
  {
   "cell_type": "markdown",
   "metadata": {},
   "source": [
    "`-` Target"
   ]
  },
  {
   "cell_type": "code",
   "execution_count": 5,
   "metadata": {},
   "outputs": [
    {
     "data": {
      "text/plain": [
       "['advent chimney elf family fireplace gingerbread mistletoe ornament reindeer scrooge walk give jump drive bake the sleep night laugh and',\n",
       " 'yuletide decorations gifts cheer holiday carol magi nutcracker polar grinch sleigh chimney workshop stocking ornament holly jingle beard naughty nice',\n",
       " 'yuletide decorations gifts cheer holiday carol magi nutcracker polar grinch sleigh chimney workshop stocking ornament holly jingle beard naughty nice sing cheer and of the is eat visit relax unwrap',\n",
       " 'hohoho candle poinsettia snowglobe peppermint eggnog fruitcake chocolate candy puzzle game doll toy workshop wonder believe dream hope peace joy merry season greeting card wrapping paper bow fireplace night cookie milk star wish wreath angel the to of and in that have it not with as you from we kaggle',\n",
       " 'advent chimney elf family fireplace gingerbread mistletoe ornament reindeer scrooge walk give jump drive bake the sleep night laugh and yuletide decorations gifts cheer holiday carol magi nutcracker polar grinch sleigh chimney workshop stocking ornament holly jingle beard naughty nice sing cheer and of the is eat visit relax unwrap hohoho candle poinsettia snowglobe peppermint eggnog fruitcake chocolate candy puzzle game doll toy workshop wonder believe dream hope peace joy merry season greeting card wrapping paper bow fireplace night cookie milk star wish wreath angel the to of and in that have it not with as you from we kaggle']"
      ]
     },
     "execution_count": 5,
     "metadata": {},
     "output_type": "execute_result"
    }
   ],
   "source": [
    "samples = df_sample.text[1:6].to_list()\n",
    "samples"
   ]
  },
  {
   "cell_type": "markdown",
   "metadata": {},
   "source": [
    "`-` Code"
   ]
  },
  {
   "cell_type": "code",
   "execution_count": 6,
   "metadata": {},
   "outputs": [],
   "source": [
    "## initiate\n",
    "initial_times = 1000\n",
    "genomes = [\"\" for _ in range(initial_times)]\n",
    "\n",
    "for i in range(initial_times) :\n",
    "    genomes[i] = np.random.permutation(samples[0].split())\n",
    "    \n",
    "genomes = np.array(genomes)\n",
    "\n",
    "## selection\n",
    "perplexities = np.array(evaluatr.get_perplexity([\" \".join(genome) for genome in genomes], batch_size = 1024))\n",
    "per_sum = sum(1/perplexities)\n",
    "proba = 1/perplexities/per_sum\n",
    "\n",
    "parents_indx = np.random.choice([i for i in range(initial_times)], p = proba, size = 10, replace = False)\n",
    "\n",
    "## crossover\n"
   ]
  },
  {
   "cell_type": "code",
   "execution_count": 7,
   "metadata": {},
   "outputs": [],
   "source": [
    "parents_proba = perplexities[parents_indx]\n",
    "per_sum = sum(parents_proba)\n",
    "proba = parents_proba/per_sum\n",
    "\n",
    "cross_area = [[int(len(s.split())/4), int(len(s.split())/2), len(s.split())] for s in samples]"
   ]
  },
  {
   "cell_type": "markdown",
   "metadata": {},
   "source": [
    "* 해당 영역에 공통으로 포함된 토큰을 배제 + 중복되는 토큰 처리\n",
    "* 해당 영역의 반대쪽 부모에게서만 있는 토큰을 매핑하여 지정 + 중복되는 토큰 처리\n",
    "* 공란에 나머지 토큰들을 순서대로 삽입\n",
    "\n",
    "중복되는 토큰들은 뒤에 숫자를 매겨서(더미 토큰) 유니크하게 만든 다음에 따로 관리하는 게 좋지 않을까? -> 최적화 이슈는 있지만 딱히 상관없고, 구현이 쉬움"
   ]
  },
  {
   "cell_type": "code",
   "execution_count": 131,
   "metadata": {},
   "outputs": [],
   "source": [
    "def crossover(parents_indx : List[int], genomes : List[str], sample_num : int, dupl = False) -> int :\n",
    "    pair_parents = list(itertools.combinations(parents_indx, 2)) ## combination of parents\n",
    "    \n",
    "    for pair in pair_parents :\n",
    "        parents = [genomes[pair[0]], genomes[pair[1]]]\n",
    "        childs = []\n",
    "        \n",
    "        ## dealing with duplication\n",
    "        if dupl :\n",
    "            for i in range(2) :\n",
    "                for t in set(parents[i].split()) :\n",
    "                    times = sum(np.array(parents[i].split()) == t)\n",
    "                    rep = 1\n",
    "                    \n",
    "                    if times > 1 :\n",
    "                        for j, k in enumerate(parents[i].split()) :\n",
    "                            if k == t :\n",
    "                                parents[i][j] = f\"{t}{rep}\"\n",
    "                                rep += 1\n",
    "        \n",
    "        # PMX : i is main / 1-i is sub\n",
    "        for i in range(2) :\n",
    "            for j in range(100) :\n",
    "                if np.random.random() < 0.2 :\n",
    "                    width = np.random.randint(cross_area[sample_num][0], cross_area[sample_num][2])\n",
    "                    \n",
    "                else :\n",
    "                    width = np.random.randint(cross_area[sample_num][0], cross_area[sample_num][1])\n",
    "                    \n",
    "                start = np.random.randint(0, cross_area[sample_num][2]-width)\n",
    "                child = [\" \" for _ in range(cross_area[sample_num][2])]\n",
    "                child[start:start+width] = parents[i][start:start+width]  ## child에 교차영역 복사\n",
    "                \n",
    "                ## mapping\n",
    "                mapping_set = set(parents[1-i][start:start+width]) - set(parents[i][start:start+width])\n",
    "                \n",
    "                for t in mapping_set :\n",
    "                    sub = np.where(np.array(parents[1-i]) == t)\n",
    "                    \n",
    "                    for k in range(cross_area[sample_num][2]) :\n",
    "                        sub = np.where(np.array(parents[1-i]) == parents[i][sub])\n",
    "                        \n",
    "                        if (sub[0] < start) | (sub[0] > start+width) :\n",
    "                            child[int(sub[0])] = t\n",
    "                            break\n",
    "                \n",
    "                ## remain set\n",
    "                current_set = [t for t in child if t != \" \"]\n",
    "                remain_set = [t for t in parents[1-i] if t not in current_set]\n",
    "                \n",
    "                empty_indx = [i for i, t in enumerate(child) if t == \" \"]\n",
    "                \n",
    "                for k, ind in enumerate(empty_indx) :\n",
    "                    child[ind] = remain_set[k]\n",
    "\n",
    "                ## text transformation\n",
    "                if dupl :\n",
    "                    for j, t in enumerate(child) :\n",
    "                        try :\n",
    "                            int(t[-1])\n",
    "                            child[i][j] = t[:-1]\n",
    "                        except :\n",
    "                            pass\n",
    "                \n",
    "                childs.append(child)\n",
    "    \n",
    "    return childs"
   ]
  },
  {
   "cell_type": "code",
   "execution_count": 132,
   "metadata": {},
   "outputs": [
    {
     "name": "stderr",
     "output_type": "stream",
     "text": [
      "/tmp/ipykernel_37794/2479703124.py:44: DeprecationWarning: Conversion of an array with ndim > 0 to a scalar is deprecated, and will error in future. Ensure you extract a single element from your array before performing this operation. (Deprecated NumPy 1.25.)\n",
      "  child[int(sub[0])] = t\n"
     ]
    }
   ],
   "source": [
    "childs = crossover(parents_indx=parents_indx, genomes = genomes, sample_num = 0, dupl = False)"
   ]
  },
  {
   "cell_type": "code",
   "execution_count": 166,
   "metadata": {},
   "outputs": [],
   "source": [
    "mutation_area = [5, 5, 7, 10, 15]"
   ]
  },
  {
   "cell_type": "code",
   "execution_count": 203,
   "metadata": {},
   "outputs": [],
   "source": [
    "def mutation(childs : List[str], sample_num : int) -> List[str] :\n",
    "    childs = np.array(childs)\n",
    "    \n",
    "    for i in range(len(childs)) :\n",
    "        for _ in range(mutation_area[sample_num]) :\n",
    "            dice = np.random.randint(0, 4) ## roll a dice\n",
    "            \n",
    "            ## swap\n",
    "            if dice == 0 :                \n",
    "                swap_area = np.random.choice([i for i in range(cross_area[sample_num][2])], size = 2, replace = False)\n",
    "                childs[i][swap_area[0]], childs[i][swap_area[1]] = childs[i][swap_area[1]], childs[i][swap_area[0]]\n",
    "                \n",
    "            ## move\n",
    "            elif dice == 1 :\n",
    "                moving_indx = np.random.randint(0, cross_area[sample_num][2])\n",
    "                mover = childs[i][moving_indx]\n",
    "                \n",
    "                moving_area = np.random.randint(0, cross_area[sample_num][2]-1)\n",
    "                \n",
    "                ## trick\n",
    "                tmp = list(childs[i])\n",
    "                del tmp[moving_indx]\n",
    "                tmp.insert(moving_area, mover)\n",
    "                \n",
    "                childs[i] = np.array(tmp)\n",
    "                \n",
    "            ## inverse\n",
    "            elif dice == 2 :\n",
    "                width = np.random.randint(3, 6)\n",
    "                start = np.random.randint(0, cross_area[sample_num][2]-width)\n",
    "                childs[i][start:start+width] = childs[i][start:start+width][::-1]\n",
    "                \n",
    "            ## scramble\n",
    "            elif dice == 3 :\n",
    "                swap_size = np.random.randint(3, 6)\n",
    "                swap_area = np.random.choice([i for i in range(cross_area[sample_num][2])], size = swap_size, replace = False)\n",
    "                \n",
    "                childs[i][swap_area] = np.random.permutation(np.array(childs[i])[swap_area])\n",
    "        \n",
    "    return [\" \".join(child) for child in childs]"
   ]
  },
  {
   "cell_type": "code",
   "execution_count": 205,
   "metadata": {},
   "outputs": [],
   "source": [
    "mutation(childs, sample_num = 0)"
   ]
  },
  {
   "cell_type": "markdown",
   "metadata": {},
   "source": [
    "## Submission"
   ]
  },
  {
   "cell_type": "code",
   "execution_count": null,
   "metadata": {},
   "outputs": [],
   "source": [
    "df_submission = pd.DataFrame({\"id\":[0,1,2,3,4,5], \"text\":[\" \".join(w) for w in best_word]})\n",
    "df_submission.iloc[0, 1] = \"reindeer mistletoe elf gingerbread family advent scrooge chimney fireplace ornament\"\n",
    "df_submission.to_csv(\"beam.csv\")\n",
    "\n",
    "os.system(\"kaggle competitions submit -c santa-2024 -f beam.csv -m .\")"
   ]
  }
 ],
 "metadata": {
  "kernelspec": {
   "display_name": "trch",
   "language": "python",
   "name": "python3"
  },
  "language_info": {
   "codemirror_mode": {
    "name": "ipython",
    "version": 3
   },
   "file_extension": ".py",
   "mimetype": "text/x-python",
   "name": "python",
   "nbconvert_exporter": "python",
   "pygments_lexer": "ipython3",
   "version": "3.12.2"
  }
 },
 "nbformat": 4,
 "nbformat_minor": 2
}
