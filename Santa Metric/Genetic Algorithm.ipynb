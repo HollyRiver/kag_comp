{
 "cells": [
  {
   "cell_type": "markdown",
   "metadata": {},
   "source": [
    "첫 샘플의 베스트\n",
    "\n",
    "\"reindeer mistletoe elf gingerbread family advent scrooge chimney fireplace ornament\""
   ]
  },
  {
   "cell_type": "markdown",
   "metadata": {},
   "source": [
    "# Genetic Algorithm"
   ]
  },
  {
   "cell_type": "markdown",
   "metadata": {},
   "source": [
    "## Imports"
   ]
  },
  {
   "cell_type": "code",
   "execution_count": 144,
   "metadata": {},
   "outputs": [],
   "source": [
    "import gc ## for memory\n",
    "import os\n",
    "import copy\n",
    "from math import exp\n",
    "from collections import Counter\n",
    "from typing import List, Optional, Union\n",
    "\n",
    "import numpy as np\n",
    "import itertools\n",
    "import pandas as pd\n",
    "import transformers\n",
    "import torch\n",
    "\n",
    "from kaggle_evaluate import PerplexityCalculator"
   ]
  },
  {
   "cell_type": "code",
   "execution_count": 2,
   "metadata": {},
   "outputs": [],
   "source": [
    "df_sample = pd.read_csv(\"sample_submission.csv\")"
   ]
  },
  {
   "cell_type": "code",
   "execution_count": 3,
   "metadata": {},
   "outputs": [
    {
     "data": {
      "text/plain": [
       "0    10\n",
       "1    20\n",
       "2    20\n",
       "3    29\n",
       "4    50\n",
       "5    89\n",
       "Name: text, dtype: int64"
      ]
     },
     "execution_count": 3,
     "metadata": {},
     "output_type": "execute_result"
    }
   ],
   "source": [
    "df_sample.text.str.split().map(lambda x : len(set(x)))"
   ]
  },
  {
   "cell_type": "markdown",
   "metadata": {},
   "source": [
    "## Setting"
   ]
  },
  {
   "cell_type": "code",
   "execution_count": 4,
   "metadata": {},
   "outputs": [
    {
     "data": {
      "application/vnd.jupyter.widget-view+json": {
       "model_id": "7f7bbe714cc44451bca5c001afa7331a",
       "version_major": 2,
       "version_minor": 0
      },
      "text/plain": [
       "Loading checkpoint shards:   0%|          | 0/8 [00:00<?, ?it/s]"
      ]
     },
     "metadata": {},
     "output_type": "display_data"
    }
   ],
   "source": [
    "evaluatr = PerplexityCalculator(\"google/gemma-2-9b\")"
   ]
  },
  {
   "cell_type": "markdown",
   "metadata": {},
   "source": [
    "## Algorithm"
   ]
  },
  {
   "cell_type": "markdown",
   "metadata": {},
   "source": [
    "`-` Target"
   ]
  },
  {
   "cell_type": "code",
   "execution_count": 18,
   "metadata": {},
   "outputs": [
    {
     "data": {
      "text/plain": [
       "['advent chimney elf family fireplace gingerbread mistletoe ornament reindeer scrooge walk give jump drive bake the sleep night laugh and',\n",
       " 'yuletide decorations gifts cheer holiday carol magi nutcracker polar grinch sleigh chimney workshop stocking ornament holly jingle beard naughty nice',\n",
       " 'yuletide decorations gifts cheer holiday carol magi nutcracker polar grinch sleigh chimney workshop stocking ornament holly jingle beard naughty nice sing cheer and of the is eat visit relax unwrap',\n",
       " 'hohoho candle poinsettia snowglobe peppermint eggnog fruitcake chocolate candy puzzle game doll toy workshop wonder believe dream hope peace joy merry season greeting card wrapping paper bow fireplace night cookie milk star wish wreath angel the to of and in that have it not with as you from we kaggle',\n",
       " 'advent chimney elf family fireplace gingerbread mistletoe ornament reindeer scrooge walk give jump drive bake the sleep night laugh and yuletide decorations gifts cheer holiday carol magi nutcracker polar grinch sleigh chimney workshop stocking ornament holly jingle beard naughty nice sing cheer and of the is eat visit relax unwrap hohoho candle poinsettia snowglobe peppermint eggnog fruitcake chocolate candy puzzle game doll toy workshop wonder believe dream hope peace joy merry season greeting card wrapping paper bow fireplace night cookie milk star wish wreath angel the to of and in that have it not with as you from we kaggle']"
      ]
     },
     "execution_count": 18,
     "metadata": {},
     "output_type": "execute_result"
    }
   ],
   "source": [
    "samples = df_sample.text[1:6].to_list()\n",
    "samples"
   ]
  },
  {
   "cell_type": "markdown",
   "metadata": {},
   "source": [
    "`-` Code"
   ]
  },
  {
   "cell_type": "code",
   "execution_count": 137,
   "metadata": {},
   "outputs": [],
   "source": [
    "## initiate\n",
    "initial_times = 1000\n",
    "genomes = [\"\" for _ in range(initial_times)]\n",
    "\n",
    "for i in range(initial_times) :\n",
    "    genomes[i] = np.random.permutation(samples[0].split())\n",
    "    \n",
    "genomes = np.array(genomes)\n",
    "\n",
    "## selection\n",
    "perplexities = np.array(evaluatr.get_perplexity([\" \".join(genome) for genome in genomes], batch_size = 1024))\n",
    "per_sum = sum(1/perplexities)\n",
    "proba = 1/perplexities/per_sum\n",
    "\n",
    "parents_indx = np.random.choice([i for i in range(initial_times)], p = proba, size = 10, replace = False)\n",
    "\n",
    "## crossover\n"
   ]
  },
  {
   "cell_type": "code",
   "execution_count": 181,
   "metadata": {},
   "outputs": [],
   "source": [
    "parents_proba = perplexities[parents_indx]\n",
    "per_sum = sum(parents_proba)\n",
    "proba = parents_proba/per_sum\n",
    "\n",
    "cross_area = [[int(len(s.split())/4), int(len(s.split())/2), len(s.split())] for s in samples]"
   ]
  },
  {
   "cell_type": "markdown",
   "metadata": {},
   "source": [
    "* 해당 영역에 공통으로 포함된 토큰을 배제 + 중복되는 토큰 처리\n",
    "* 해당 영역의 반대쪽 부모에게서만 있는 토큰을 매핑하여 지정 + 중복되는 토큰 처리\n",
    "* 공란에 나머지 토큰들을 순서대로 삽입\n",
    "\n",
    "중복되는 토큰들은 뒤에 숫자를 매겨서(더미 토큰) 유니크하게 만든 다음에 따로 관리하는 게 좋지 않을까? -> 최적화 이슈는 있지만 딱히 상관없고, 구현이 쉬움"
   ]
  },
  {
   "cell_type": "code",
   "execution_count": 220,
   "metadata": {},
   "outputs": [],
   "source": [
    "for t in set(samples[4].split()) :\n",
    "    times = sum(np.array(samples[4].split()) == t)\n",
    "    rep = 1\n",
    "    \n",
    "    if times > 1 :\n",
    "        for i, k in enumerate(samples[4].split()) :          \n",
    "            if k == t :\n",
    "                tmp[i] = f\"{t}{rep}\"\n",
    "                rep += 1\n",
    "                \n",
    "for i, t in enumerate(tmp) :\n",
    "    try :\n",
    "        int(t[-1])\n",
    "        tmp[i] = t[:-1]\n",
    "    except :\n",
    "        pass"
   ]
  },
  {
   "cell_type": "code",
   "execution_count": 113,
   "metadata": {},
   "outputs": [
    {
     "data": {
      "text/plain": [
       "array(['mistletoe advent ornament family jump elf laugh drive walk give gingerbread bake the scrooge night chimney reindeer and fireplace sleep',\n",
       "       'bake gingerbread mistletoe fireplace ornament reindeer family the and advent scrooge laugh sleep walk chimney drive night elf give jump',\n",
       "       'give laugh elf advent walk reindeer the mistletoe sleep fireplace drive jump chimney bake night gingerbread ornament family and scrooge',\n",
       "       'ornament give reindeer chimney sleep gingerbread jump and scrooge mistletoe advent fireplace family laugh walk bake elf the night drive',\n",
       "       'sleep laugh drive chimney jump night advent family walk ornament give mistletoe the gingerbread scrooge reindeer fireplace elf and bake',\n",
       "       'mistletoe laugh family drive bake sleep fireplace ornament gingerbread chimney advent elf and give reindeer scrooge walk the night jump',\n",
       "       'mistletoe the laugh advent drive bake ornament family walk gingerbread sleep night reindeer fireplace scrooge jump give chimney elf and',\n",
       "       'ornament sleep scrooge night walk bake elf mistletoe fireplace the advent give gingerbread family drive reindeer laugh chimney jump and',\n",
       "       'reindeer ornament sleep family mistletoe jump fireplace drive and gingerbread bake scrooge advent walk the chimney laugh night give elf',\n",
       "       'elf walk ornament give jump fireplace bake drive advent family gingerbread chimney mistletoe laugh the scrooge reindeer and night sleep'],\n",
       "      dtype='<U135')"
      ]
     },
     "execution_count": 113,
     "metadata": {},
     "output_type": "execute_result"
    }
   ],
   "source": [
    "def crossover(parents_index : List[int], dupl = False) -> int :\n",
    "    pair_parents = list(itertools.combinations(parents_indx, 2))\n",
    "    \n",
    "    for pair in pair_parents :\n",
    "        parents = [genomes[pair[0]], genomes[pair[1]]]\n",
    "        childs = []\n",
    "        \n",
    "        if dupl :\n",
    "            for i in range(2) :\n",
    "                for t in set(parents[i].split()) :\n",
    "                    times = sum(np.array(parents[i].split()) == t)\n",
    "                    rep = 1\n",
    "                    \n",
    "                    if times > 1 :\n",
    "                        for j, k in enumerate(parents[i].split()) :\n",
    "                            if k == t :\n",
    "                                parents[i][j] = f\"{t}{rep}\"\n",
    "                                rep += 1\n",
    "        \n",
    "        # PMX\n",
    "        for i in range(2) :\n",
    "            for j in range(100) :\n",
    "                if np.random.random() < 0.2 :\n",
    "                    width = np.random.randint(cross_area[0][0], cross_area[0][2])\n",
    "                    \n",
    "                else :\n",
    "                    width = np.random.randint(cross_area[0][0], cross_area[0][1])\n",
    "                    \n",
    "                start = np.random.randint(0, cross_area[0][2]-width)\n",
    "                child = [\" \" for k in range(cross_area[0][2])]\n",
    "                \n",
    "                parents\n",
    "                \n",
    "                child[start:start+width] = parents[i][start:start+width]\n",
    "        \n",
    "        if dupl :\n",
    "            for i in range(2) :\n",
    "                for j, t in enumerate(parents[i]) :\n",
    "                    try :\n",
    "                        int(t[-1])\n",
    "                        parents[i][j] = t[:-1]\n",
    "                    except :\n",
    "                        pass\n",
    "    \n",
    "    return \" \".join(child)"
   ]
  },
  {
   "cell_type": "markdown",
   "metadata": {},
   "source": [
    "## Submission"
   ]
  },
  {
   "cell_type": "code",
   "execution_count": null,
   "metadata": {},
   "outputs": [],
   "source": [
    "df_submission = pd.DataFrame({\"id\":[0,1,2,3,4,5], \"text\":[\" \".join(w) for w in best_word]})\n",
    "df_submission.iloc[0, 1] = \"reindeer mistletoe elf gingerbread family advent scrooge chimney fireplace ornament\"\n",
    "df_submission.to_csv(\"beam.csv\")\n",
    "\n",
    "os.system(\"kaggle competitions submit -c santa-2024 -f beam.csv -m .\")"
   ]
  }
 ],
 "metadata": {
  "kernelspec": {
   "display_name": "trch",
   "language": "python",
   "name": "python3"
  },
  "language_info": {
   "codemirror_mode": {
    "name": "ipython",
    "version": 3
   },
   "file_extension": ".py",
   "mimetype": "text/x-python",
   "name": "python",
   "nbconvert_exporter": "python",
   "pygments_lexer": "ipython3",
   "version": "3.12.2"
  }
 },
 "nbformat": 4,
 "nbformat_minor": 2
}
